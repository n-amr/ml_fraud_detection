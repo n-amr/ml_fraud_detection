{
 "cells": [
  {
   "cell_type": "code",
   "execution_count": 64,
   "metadata": {
    "scrolled": false
   },
   "outputs": [],
   "source": [
    "import pandas as pd \n",
    "import numpy as np \n",
    "import matplotlib.pyplot as plt \n",
    "import seaborn as sns\n"
   ]
  },
  {
   "cell_type": "markdown",
   "metadata": {},
   "source": [
    "# Introduction\n",
    "    - The goal of this notebook is to test some ML models in order to optimize fraud detection for an ecommerce website\n",
    "    - We will try out different classifiers (logreg, decision tree, random forest, svm) and also try a boosting method with AdaBoost\n",
    "    - The purpose of this exercise is to practice Machine Learning as well as data processing"
   ]
  },
  {
   "cell_type": "markdown",
   "metadata": {},
   "source": [
    "## Data Exploration"
   ]
  },
  {
   "cell_type": "code",
   "execution_count": 65,
   "metadata": {
    "scrolled": false
   },
   "outputs": [],
   "source": [
    "# import data\n",
    "fraud_init = pd.read_csv(\"Fraud_Data.csv\")\n",
    "ip_init = pd.read_csv(\"IpAddress_to_Country.csv\")"
   ]
  },
  {
   "cell_type": "code",
   "execution_count": 66,
   "metadata": {
    "scrolled": false
   },
   "outputs": [
    {
     "name": "stdout",
     "output_type": "stream",
     "text": [
      "(151112, 11)\n"
     ]
    },
    {
     "data": {
      "text/html": [
       "<div>\n",
       "<style scoped>\n",
       "    .dataframe tbody tr th:only-of-type {\n",
       "        vertical-align: middle;\n",
       "    }\n",
       "\n",
       "    .dataframe tbody tr th {\n",
       "        vertical-align: top;\n",
       "    }\n",
       "\n",
       "    .dataframe thead th {\n",
       "        text-align: right;\n",
       "    }\n",
       "</style>\n",
       "<table border=\"1\" class=\"dataframe\">\n",
       "  <thead>\n",
       "    <tr style=\"text-align: right;\">\n",
       "      <th></th>\n",
       "      <th>user_id</th>\n",
       "      <th>signup_time</th>\n",
       "      <th>purchase_time</th>\n",
       "      <th>purchase_value</th>\n",
       "      <th>device_id</th>\n",
       "      <th>source</th>\n",
       "      <th>browser</th>\n",
       "      <th>sex</th>\n",
       "      <th>age</th>\n",
       "      <th>ip_address</th>\n",
       "      <th>class</th>\n",
       "    </tr>\n",
       "  </thead>\n",
       "  <tbody>\n",
       "    <tr>\n",
       "      <th>0</th>\n",
       "      <td>22058</td>\n",
       "      <td>2015-02-24 22:55:49</td>\n",
       "      <td>2015-04-18 02:47:11</td>\n",
       "      <td>34</td>\n",
       "      <td>QVPSPJUOCKZAR</td>\n",
       "      <td>SEO</td>\n",
       "      <td>Chrome</td>\n",
       "      <td>M</td>\n",
       "      <td>39</td>\n",
       "      <td>7.327584e+08</td>\n",
       "      <td>0</td>\n",
       "    </tr>\n",
       "    <tr>\n",
       "      <th>1</th>\n",
       "      <td>333320</td>\n",
       "      <td>2015-06-07 20:39:50</td>\n",
       "      <td>2015-06-08 01:38:54</td>\n",
       "      <td>16</td>\n",
       "      <td>EOGFQPIZPYXFZ</td>\n",
       "      <td>Ads</td>\n",
       "      <td>Chrome</td>\n",
       "      <td>F</td>\n",
       "      <td>53</td>\n",
       "      <td>3.503114e+08</td>\n",
       "      <td>0</td>\n",
       "    </tr>\n",
       "    <tr>\n",
       "      <th>2</th>\n",
       "      <td>1359</td>\n",
       "      <td>2015-01-01 18:52:44</td>\n",
       "      <td>2015-01-01 18:52:45</td>\n",
       "      <td>15</td>\n",
       "      <td>YSSKYOSJHPPLJ</td>\n",
       "      <td>SEO</td>\n",
       "      <td>Opera</td>\n",
       "      <td>M</td>\n",
       "      <td>53</td>\n",
       "      <td>2.621474e+09</td>\n",
       "      <td>1</td>\n",
       "    </tr>\n",
       "    <tr>\n",
       "      <th>3</th>\n",
       "      <td>150084</td>\n",
       "      <td>2015-04-28 21:13:25</td>\n",
       "      <td>2015-05-04 13:54:50</td>\n",
       "      <td>44</td>\n",
       "      <td>ATGTXKYKUDUQN</td>\n",
       "      <td>SEO</td>\n",
       "      <td>Safari</td>\n",
       "      <td>M</td>\n",
       "      <td>41</td>\n",
       "      <td>3.840542e+09</td>\n",
       "      <td>0</td>\n",
       "    </tr>\n",
       "    <tr>\n",
       "      <th>4</th>\n",
       "      <td>221365</td>\n",
       "      <td>2015-07-21 07:09:52</td>\n",
       "      <td>2015-09-09 18:40:53</td>\n",
       "      <td>39</td>\n",
       "      <td>NAUITBZFJKHWW</td>\n",
       "      <td>Ads</td>\n",
       "      <td>Safari</td>\n",
       "      <td>M</td>\n",
       "      <td>45</td>\n",
       "      <td>4.155831e+08</td>\n",
       "      <td>0</td>\n",
       "    </tr>\n",
       "  </tbody>\n",
       "</table>\n",
       "</div>"
      ],
      "text/plain": [
       "   user_id          signup_time        purchase_time  purchase_value  \\\n",
       "0    22058  2015-02-24 22:55:49  2015-04-18 02:47:11              34   \n",
       "1   333320  2015-06-07 20:39:50  2015-06-08 01:38:54              16   \n",
       "2     1359  2015-01-01 18:52:44  2015-01-01 18:52:45              15   \n",
       "3   150084  2015-04-28 21:13:25  2015-05-04 13:54:50              44   \n",
       "4   221365  2015-07-21 07:09:52  2015-09-09 18:40:53              39   \n",
       "\n",
       "       device_id source browser sex  age    ip_address  class  \n",
       "0  QVPSPJUOCKZAR    SEO  Chrome   M   39  7.327584e+08      0  \n",
       "1  EOGFQPIZPYXFZ    Ads  Chrome   F   53  3.503114e+08      0  \n",
       "2  YSSKYOSJHPPLJ    SEO   Opera   M   53  2.621474e+09      1  \n",
       "3  ATGTXKYKUDUQN    SEO  Safari   M   41  3.840542e+09      0  \n",
       "4  NAUITBZFJKHWW    Ads  Safari   M   45  4.155831e+08      0  "
      ]
     },
     "execution_count": 66,
     "metadata": {},
     "output_type": "execute_result"
    }
   ],
   "source": [
    "print(fraud_init.shape)\n",
    "fraud_init.head()\n"
   ]
  },
  {
   "cell_type": "code",
   "execution_count": 67,
   "metadata": {
    "scrolled": false
   },
   "outputs": [
    {
     "data": {
      "text/html": [
       "<div>\n",
       "<style scoped>\n",
       "    .dataframe tbody tr th:only-of-type {\n",
       "        vertical-align: middle;\n",
       "    }\n",
       "\n",
       "    .dataframe tbody tr th {\n",
       "        vertical-align: top;\n",
       "    }\n",
       "\n",
       "    .dataframe thead th {\n",
       "        text-align: right;\n",
       "    }\n",
       "</style>\n",
       "<table border=\"1\" class=\"dataframe\">\n",
       "  <thead>\n",
       "    <tr style=\"text-align: right;\">\n",
       "      <th></th>\n",
       "      <th>user_id</th>\n",
       "      <th>signup_time</th>\n",
       "      <th>purchase_time</th>\n",
       "      <th>purchase_value</th>\n",
       "      <th>device_id</th>\n",
       "      <th>source</th>\n",
       "      <th>browser</th>\n",
       "      <th>sex</th>\n",
       "      <th>age</th>\n",
       "      <th>ip_address</th>\n",
       "      <th>class</th>\n",
       "    </tr>\n",
       "  </thead>\n",
       "  <tbody>\n",
       "    <tr>\n",
       "      <th>count</th>\n",
       "      <td>151112.000000</td>\n",
       "      <td>151112</td>\n",
       "      <td>151112</td>\n",
       "      <td>151112.000000</td>\n",
       "      <td>151112</td>\n",
       "      <td>151112</td>\n",
       "      <td>151112</td>\n",
       "      <td>151112</td>\n",
       "      <td>151112.000000</td>\n",
       "      <td>1.511120e+05</td>\n",
       "      <td>151112.000000</td>\n",
       "    </tr>\n",
       "    <tr>\n",
       "      <th>unique</th>\n",
       "      <td>NaN</td>\n",
       "      <td>151112</td>\n",
       "      <td>150679</td>\n",
       "      <td>NaN</td>\n",
       "      <td>137956</td>\n",
       "      <td>3</td>\n",
       "      <td>5</td>\n",
       "      <td>2</td>\n",
       "      <td>NaN</td>\n",
       "      <td>NaN</td>\n",
       "      <td>NaN</td>\n",
       "    </tr>\n",
       "    <tr>\n",
       "      <th>top</th>\n",
       "      <td>NaN</td>\n",
       "      <td>2015-02-12 04:18:34</td>\n",
       "      <td>2015-06-08 09:42:04</td>\n",
       "      <td>NaN</td>\n",
       "      <td>NGQCKIADMZORL</td>\n",
       "      <td>SEO</td>\n",
       "      <td>Chrome</td>\n",
       "      <td>M</td>\n",
       "      <td>NaN</td>\n",
       "      <td>NaN</td>\n",
       "      <td>NaN</td>\n",
       "    </tr>\n",
       "    <tr>\n",
       "      <th>freq</th>\n",
       "      <td>NaN</td>\n",
       "      <td>1</td>\n",
       "      <td>3</td>\n",
       "      <td>NaN</td>\n",
       "      <td>20</td>\n",
       "      <td>60615</td>\n",
       "      <td>61432</td>\n",
       "      <td>88293</td>\n",
       "      <td>NaN</td>\n",
       "      <td>NaN</td>\n",
       "      <td>NaN</td>\n",
       "    </tr>\n",
       "    <tr>\n",
       "      <th>mean</th>\n",
       "      <td>200171.040970</td>\n",
       "      <td>NaN</td>\n",
       "      <td>NaN</td>\n",
       "      <td>36.935372</td>\n",
       "      <td>NaN</td>\n",
       "      <td>NaN</td>\n",
       "      <td>NaN</td>\n",
       "      <td>NaN</td>\n",
       "      <td>33.140704</td>\n",
       "      <td>2.152145e+09</td>\n",
       "      <td>0.093646</td>\n",
       "    </tr>\n",
       "    <tr>\n",
       "      <th>std</th>\n",
       "      <td>115369.285024</td>\n",
       "      <td>NaN</td>\n",
       "      <td>NaN</td>\n",
       "      <td>18.322762</td>\n",
       "      <td>NaN</td>\n",
       "      <td>NaN</td>\n",
       "      <td>NaN</td>\n",
       "      <td>NaN</td>\n",
       "      <td>8.617733</td>\n",
       "      <td>1.248497e+09</td>\n",
       "      <td>0.291336</td>\n",
       "    </tr>\n",
       "    <tr>\n",
       "      <th>min</th>\n",
       "      <td>2.000000</td>\n",
       "      <td>NaN</td>\n",
       "      <td>NaN</td>\n",
       "      <td>9.000000</td>\n",
       "      <td>NaN</td>\n",
       "      <td>NaN</td>\n",
       "      <td>NaN</td>\n",
       "      <td>NaN</td>\n",
       "      <td>18.000000</td>\n",
       "      <td>5.209350e+04</td>\n",
       "      <td>0.000000</td>\n",
       "    </tr>\n",
       "    <tr>\n",
       "      <th>25%</th>\n",
       "      <td>100642.500000</td>\n",
       "      <td>NaN</td>\n",
       "      <td>NaN</td>\n",
       "      <td>22.000000</td>\n",
       "      <td>NaN</td>\n",
       "      <td>NaN</td>\n",
       "      <td>NaN</td>\n",
       "      <td>NaN</td>\n",
       "      <td>27.000000</td>\n",
       "      <td>1.085934e+09</td>\n",
       "      <td>0.000000</td>\n",
       "    </tr>\n",
       "    <tr>\n",
       "      <th>50%</th>\n",
       "      <td>199958.000000</td>\n",
       "      <td>NaN</td>\n",
       "      <td>NaN</td>\n",
       "      <td>35.000000</td>\n",
       "      <td>NaN</td>\n",
       "      <td>NaN</td>\n",
       "      <td>NaN</td>\n",
       "      <td>NaN</td>\n",
       "      <td>33.000000</td>\n",
       "      <td>2.154770e+09</td>\n",
       "      <td>0.000000</td>\n",
       "    </tr>\n",
       "    <tr>\n",
       "      <th>75%</th>\n",
       "      <td>300054.000000</td>\n",
       "      <td>NaN</td>\n",
       "      <td>NaN</td>\n",
       "      <td>49.000000</td>\n",
       "      <td>NaN</td>\n",
       "      <td>NaN</td>\n",
       "      <td>NaN</td>\n",
       "      <td>NaN</td>\n",
       "      <td>39.000000</td>\n",
       "      <td>3.243258e+09</td>\n",
       "      <td>0.000000</td>\n",
       "    </tr>\n",
       "    <tr>\n",
       "      <th>max</th>\n",
       "      <td>400000.000000</td>\n",
       "      <td>NaN</td>\n",
       "      <td>NaN</td>\n",
       "      <td>154.000000</td>\n",
       "      <td>NaN</td>\n",
       "      <td>NaN</td>\n",
       "      <td>NaN</td>\n",
       "      <td>NaN</td>\n",
       "      <td>76.000000</td>\n",
       "      <td>4.294850e+09</td>\n",
       "      <td>1.000000</td>\n",
       "    </tr>\n",
       "  </tbody>\n",
       "</table>\n",
       "</div>"
      ],
      "text/plain": [
       "              user_id          signup_time        purchase_time  \\\n",
       "count   151112.000000               151112               151112   \n",
       "unique            NaN               151112               150679   \n",
       "top               NaN  2015-02-12 04:18:34  2015-06-08 09:42:04   \n",
       "freq              NaN                    1                    3   \n",
       "mean    200171.040970                  NaN                  NaN   \n",
       "std     115369.285024                  NaN                  NaN   \n",
       "min          2.000000                  NaN                  NaN   \n",
       "25%     100642.500000                  NaN                  NaN   \n",
       "50%     199958.000000                  NaN                  NaN   \n",
       "75%     300054.000000                  NaN                  NaN   \n",
       "max     400000.000000                  NaN                  NaN   \n",
       "\n",
       "        purchase_value      device_id  source browser     sex            age  \\\n",
       "count    151112.000000         151112  151112  151112  151112  151112.000000   \n",
       "unique             NaN         137956       3       5       2            NaN   \n",
       "top                NaN  NGQCKIADMZORL     SEO  Chrome       M            NaN   \n",
       "freq               NaN             20   60615   61432   88293            NaN   \n",
       "mean         36.935372            NaN     NaN     NaN     NaN      33.140704   \n",
       "std          18.322762            NaN     NaN     NaN     NaN       8.617733   \n",
       "min           9.000000            NaN     NaN     NaN     NaN      18.000000   \n",
       "25%          22.000000            NaN     NaN     NaN     NaN      27.000000   \n",
       "50%          35.000000            NaN     NaN     NaN     NaN      33.000000   \n",
       "75%          49.000000            NaN     NaN     NaN     NaN      39.000000   \n",
       "max         154.000000            NaN     NaN     NaN     NaN      76.000000   \n",
       "\n",
       "          ip_address          class  \n",
       "count   1.511120e+05  151112.000000  \n",
       "unique           NaN            NaN  \n",
       "top              NaN            NaN  \n",
       "freq             NaN            NaN  \n",
       "mean    2.152145e+09       0.093646  \n",
       "std     1.248497e+09       0.291336  \n",
       "min     5.209350e+04       0.000000  \n",
       "25%     1.085934e+09       0.000000  \n",
       "50%     2.154770e+09       0.000000  \n",
       "75%     3.243258e+09       0.000000  \n",
       "max     4.294850e+09       1.000000  "
      ]
     },
     "execution_count": 67,
     "metadata": {},
     "output_type": "execute_result"
    }
   ],
   "source": [
    "fraud_init.describe(include=\"all\")"
   ]
  },
  {
   "cell_type": "code",
   "execution_count": 68,
   "metadata": {
    "scrolled": false
   },
   "outputs": [
    {
     "data": {
      "text/html": [
       "<div>\n",
       "<style scoped>\n",
       "    .dataframe tbody tr th:only-of-type {\n",
       "        vertical-align: middle;\n",
       "    }\n",
       "\n",
       "    .dataframe tbody tr th {\n",
       "        vertical-align: top;\n",
       "    }\n",
       "\n",
       "    .dataframe thead th {\n",
       "        text-align: right;\n",
       "    }\n",
       "</style>\n",
       "<table border=\"1\" class=\"dataframe\">\n",
       "  <thead>\n",
       "    <tr style=\"text-align: right;\">\n",
       "      <th></th>\n",
       "      <th>user_id</th>\n",
       "      <th>purchase_value</th>\n",
       "      <th>age</th>\n",
       "      <th>ip_address</th>\n",
       "      <th>class</th>\n",
       "    </tr>\n",
       "  </thead>\n",
       "  <tbody>\n",
       "    <tr>\n",
       "      <th>user_id</th>\n",
       "      <td>1.000000</td>\n",
       "      <td>0.002617</td>\n",
       "      <td>0.000611</td>\n",
       "      <td>-0.003144</td>\n",
       "      <td>0.001945</td>\n",
       "    </tr>\n",
       "    <tr>\n",
       "      <th>purchase_value</th>\n",
       "      <td>0.002617</td>\n",
       "      <td>1.000000</td>\n",
       "      <td>0.002370</td>\n",
       "      <td>-0.000328</td>\n",
       "      <td>0.001011</td>\n",
       "    </tr>\n",
       "    <tr>\n",
       "      <th>age</th>\n",
       "      <td>0.000611</td>\n",
       "      <td>0.002370</td>\n",
       "      <td>1.000000</td>\n",
       "      <td>0.001140</td>\n",
       "      <td>0.006624</td>\n",
       "    </tr>\n",
       "    <tr>\n",
       "      <th>ip_address</th>\n",
       "      <td>-0.003144</td>\n",
       "      <td>-0.000328</td>\n",
       "      <td>0.001140</td>\n",
       "      <td>1.000000</td>\n",
       "      <td>-0.005208</td>\n",
       "    </tr>\n",
       "    <tr>\n",
       "      <th>class</th>\n",
       "      <td>0.001945</td>\n",
       "      <td>0.001011</td>\n",
       "      <td>0.006624</td>\n",
       "      <td>-0.005208</td>\n",
       "      <td>1.000000</td>\n",
       "    </tr>\n",
       "  </tbody>\n",
       "</table>\n",
       "</div>"
      ],
      "text/plain": [
       "                 user_id  purchase_value       age  ip_address     class\n",
       "user_id         1.000000        0.002617  0.000611   -0.003144  0.001945\n",
       "purchase_value  0.002617        1.000000  0.002370   -0.000328  0.001011\n",
       "age             0.000611        0.002370  1.000000    0.001140  0.006624\n",
       "ip_address     -0.003144       -0.000328  0.001140    1.000000 -0.005208\n",
       "class           0.001945        0.001011  0.006624   -0.005208  1.000000"
      ]
     },
     "execution_count": 68,
     "metadata": {},
     "output_type": "execute_result"
    }
   ],
   "source": [
    "fraud_init.corr()"
   ]
  },
  {
   "cell_type": "code",
   "execution_count": 69,
   "metadata": {
    "scrolled": false
   },
   "outputs": [
    {
     "name": "stdout",
     "output_type": "stream",
     "text": [
      "(138846, 3)\n"
     ]
    },
    {
     "data": {
      "text/html": [
       "<div>\n",
       "<style scoped>\n",
       "    .dataframe tbody tr th:only-of-type {\n",
       "        vertical-align: middle;\n",
       "    }\n",
       "\n",
       "    .dataframe tbody tr th {\n",
       "        vertical-align: top;\n",
       "    }\n",
       "\n",
       "    .dataframe thead th {\n",
       "        text-align: right;\n",
       "    }\n",
       "</style>\n",
       "<table border=\"1\" class=\"dataframe\">\n",
       "  <thead>\n",
       "    <tr style=\"text-align: right;\">\n",
       "      <th></th>\n",
       "      <th>lower_bound_ip_address</th>\n",
       "      <th>upper_bound_ip_address</th>\n",
       "      <th>country</th>\n",
       "    </tr>\n",
       "  </thead>\n",
       "  <tbody>\n",
       "    <tr>\n",
       "      <th>0</th>\n",
       "      <td>16777216.0</td>\n",
       "      <td>16777471</td>\n",
       "      <td>Australia</td>\n",
       "    </tr>\n",
       "    <tr>\n",
       "      <th>1</th>\n",
       "      <td>16777472.0</td>\n",
       "      <td>16777727</td>\n",
       "      <td>China</td>\n",
       "    </tr>\n",
       "    <tr>\n",
       "      <th>2</th>\n",
       "      <td>16777728.0</td>\n",
       "      <td>16778239</td>\n",
       "      <td>China</td>\n",
       "    </tr>\n",
       "    <tr>\n",
       "      <th>3</th>\n",
       "      <td>16778240.0</td>\n",
       "      <td>16779263</td>\n",
       "      <td>Australia</td>\n",
       "    </tr>\n",
       "    <tr>\n",
       "      <th>4</th>\n",
       "      <td>16779264.0</td>\n",
       "      <td>16781311</td>\n",
       "      <td>China</td>\n",
       "    </tr>\n",
       "  </tbody>\n",
       "</table>\n",
       "</div>"
      ],
      "text/plain": [
       "   lower_bound_ip_address  upper_bound_ip_address    country\n",
       "0              16777216.0                16777471  Australia\n",
       "1              16777472.0                16777727      China\n",
       "2              16777728.0                16778239      China\n",
       "3              16778240.0                16779263  Australia\n",
       "4              16779264.0                16781311      China"
      ]
     },
     "execution_count": 69,
     "metadata": {},
     "output_type": "execute_result"
    }
   ],
   "source": [
    "print(ip_init.shape)\n",
    "ip_init.head()"
   ]
  },
  {
   "cell_type": "code",
   "execution_count": 70,
   "metadata": {
    "scrolled": false
   },
   "outputs": [],
   "source": [
    "def transform_ip(ip_ad) :\n",
    "    try :\n",
    "        return ip_init.country[(ip_init.lower_bound_ip_address < ip_ad) &\\\n",
    "                                  (ip_init.upper_bound_ip_address > ip_ad)].iloc[0]\n",
    "    except IndexError :\n",
    "        return \"Unknown_Country\"  \n",
    "fraud_init[\"country_name\"] = fraud_init[\"ip_address\"].apply(transform_ip)"
   ]
  },
  {
   "cell_type": "code",
   "execution_count": 7,
   "metadata": {
    "scrolled": false
   },
   "outputs": [
    {
     "data": {
      "text/html": [
       "<div>\n",
       "<style scoped>\n",
       "    .dataframe tbody tr th:only-of-type {\n",
       "        vertical-align: middle;\n",
       "    }\n",
       "\n",
       "    .dataframe tbody tr th {\n",
       "        vertical-align: top;\n",
       "    }\n",
       "\n",
       "    .dataframe thead th {\n",
       "        text-align: right;\n",
       "    }\n",
       "</style>\n",
       "<table border=\"1\" class=\"dataframe\">\n",
       "  <thead>\n",
       "    <tr style=\"text-align: right;\">\n",
       "      <th></th>\n",
       "      <th>user_id</th>\n",
       "      <th>signup_time</th>\n",
       "      <th>purchase_time</th>\n",
       "      <th>purchase_value</th>\n",
       "      <th>device_id</th>\n",
       "      <th>source</th>\n",
       "      <th>browser</th>\n",
       "      <th>sex</th>\n",
       "      <th>age</th>\n",
       "      <th>ip_address</th>\n",
       "      <th>class</th>\n",
       "      <th>country_name</th>\n",
       "    </tr>\n",
       "  </thead>\n",
       "  <tbody>\n",
       "    <tr>\n",
       "      <th>0</th>\n",
       "      <td>22058</td>\n",
       "      <td>2015-02-24 22:55:49</td>\n",
       "      <td>2015-04-18 02:47:11</td>\n",
       "      <td>34</td>\n",
       "      <td>QVPSPJUOCKZAR</td>\n",
       "      <td>SEO</td>\n",
       "      <td>Chrome</td>\n",
       "      <td>M</td>\n",
       "      <td>39</td>\n",
       "      <td>7.327584e+08</td>\n",
       "      <td>0</td>\n",
       "      <td>Japan</td>\n",
       "    </tr>\n",
       "    <tr>\n",
       "      <th>1</th>\n",
       "      <td>333320</td>\n",
       "      <td>2015-06-07 20:39:50</td>\n",
       "      <td>2015-06-08 01:38:54</td>\n",
       "      <td>16</td>\n",
       "      <td>EOGFQPIZPYXFZ</td>\n",
       "      <td>Ads</td>\n",
       "      <td>Chrome</td>\n",
       "      <td>F</td>\n",
       "      <td>53</td>\n",
       "      <td>3.503114e+08</td>\n",
       "      <td>0</td>\n",
       "      <td>United States</td>\n",
       "    </tr>\n",
       "    <tr>\n",
       "      <th>2</th>\n",
       "      <td>1359</td>\n",
       "      <td>2015-01-01 18:52:44</td>\n",
       "      <td>2015-01-01 18:52:45</td>\n",
       "      <td>15</td>\n",
       "      <td>YSSKYOSJHPPLJ</td>\n",
       "      <td>SEO</td>\n",
       "      <td>Opera</td>\n",
       "      <td>M</td>\n",
       "      <td>53</td>\n",
       "      <td>2.621474e+09</td>\n",
       "      <td>1</td>\n",
       "      <td>United States</td>\n",
       "    </tr>\n",
       "    <tr>\n",
       "      <th>3</th>\n",
       "      <td>150084</td>\n",
       "      <td>2015-04-28 21:13:25</td>\n",
       "      <td>2015-05-04 13:54:50</td>\n",
       "      <td>44</td>\n",
       "      <td>ATGTXKYKUDUQN</td>\n",
       "      <td>SEO</td>\n",
       "      <td>Safari</td>\n",
       "      <td>M</td>\n",
       "      <td>41</td>\n",
       "      <td>3.840542e+09</td>\n",
       "      <td>0</td>\n",
       "      <td>Unknown_Country</td>\n",
       "    </tr>\n",
       "    <tr>\n",
       "      <th>4</th>\n",
       "      <td>221365</td>\n",
       "      <td>2015-07-21 07:09:52</td>\n",
       "      <td>2015-09-09 18:40:53</td>\n",
       "      <td>39</td>\n",
       "      <td>NAUITBZFJKHWW</td>\n",
       "      <td>Ads</td>\n",
       "      <td>Safari</td>\n",
       "      <td>M</td>\n",
       "      <td>45</td>\n",
       "      <td>4.155831e+08</td>\n",
       "      <td>0</td>\n",
       "      <td>United States</td>\n",
       "    </tr>\n",
       "  </tbody>\n",
       "</table>\n",
       "</div>"
      ],
      "text/plain": [
       "   user_id          signup_time        purchase_time  purchase_value  \\\n",
       "0    22058  2015-02-24 22:55:49  2015-04-18 02:47:11              34   \n",
       "1   333320  2015-06-07 20:39:50  2015-06-08 01:38:54              16   \n",
       "2     1359  2015-01-01 18:52:44  2015-01-01 18:52:45              15   \n",
       "3   150084  2015-04-28 21:13:25  2015-05-04 13:54:50              44   \n",
       "4   221365  2015-07-21 07:09:52  2015-09-09 18:40:53              39   \n",
       "\n",
       "       device_id source browser sex  age    ip_address  class     country_name  \n",
       "0  QVPSPJUOCKZAR    SEO  Chrome   M   39  7.327584e+08      0            Japan  \n",
       "1  EOGFQPIZPYXFZ    Ads  Chrome   F   53  3.503114e+08      0    United States  \n",
       "2  YSSKYOSJHPPLJ    SEO   Opera   M   53  2.621474e+09      1    United States  \n",
       "3  ATGTXKYKUDUQN    SEO  Safari   M   41  3.840542e+09      0  Unknown_Country  \n",
       "4  NAUITBZFJKHWW    Ads  Safari   M   45  4.155831e+08      0    United States  "
      ]
     },
     "execution_count": 7,
     "metadata": {},
     "output_type": "execute_result"
    }
   ],
   "source": [
    "fraud_init.head()"
   ]
  },
  {
   "cell_type": "code",
   "execution_count": 8,
   "metadata": {
    "scrolled": true
   },
   "outputs": [
    {
     "data": {
      "text/html": [
       "<div>\n",
       "<style scoped>\n",
       "    .dataframe tbody tr th:only-of-type {\n",
       "        vertical-align: middle;\n",
       "    }\n",
       "\n",
       "    .dataframe tbody tr th {\n",
       "        vertical-align: top;\n",
       "    }\n",
       "\n",
       "    .dataframe thead th {\n",
       "        text-align: right;\n",
       "    }\n",
       "</style>\n",
       "<table border=\"1\" class=\"dataframe\">\n",
       "  <thead>\n",
       "    <tr style=\"text-align: right;\">\n",
       "      <th></th>\n",
       "      <th>user_id</th>\n",
       "      <th>signup_time</th>\n",
       "      <th>purchase_time</th>\n",
       "      <th>purchase_value</th>\n",
       "      <th>device_id</th>\n",
       "      <th>source</th>\n",
       "      <th>browser</th>\n",
       "      <th>sex</th>\n",
       "      <th>age</th>\n",
       "      <th>ip_address</th>\n",
       "      <th>class</th>\n",
       "      <th>country_name</th>\n",
       "    </tr>\n",
       "  </thead>\n",
       "  <tbody>\n",
       "    <tr>\n",
       "      <th>count</th>\n",
       "      <td>151112.000000</td>\n",
       "      <td>151112</td>\n",
       "      <td>151112</td>\n",
       "      <td>151112.000000</td>\n",
       "      <td>151112</td>\n",
       "      <td>151112</td>\n",
       "      <td>151112</td>\n",
       "      <td>151112</td>\n",
       "      <td>151112.000000</td>\n",
       "      <td>1.511120e+05</td>\n",
       "      <td>151112.000000</td>\n",
       "      <td>151112</td>\n",
       "    </tr>\n",
       "    <tr>\n",
       "      <th>unique</th>\n",
       "      <td>NaN</td>\n",
       "      <td>151112</td>\n",
       "      <td>150679</td>\n",
       "      <td>NaN</td>\n",
       "      <td>137956</td>\n",
       "      <td>3</td>\n",
       "      <td>5</td>\n",
       "      <td>2</td>\n",
       "      <td>NaN</td>\n",
       "      <td>NaN</td>\n",
       "      <td>NaN</td>\n",
       "      <td>182</td>\n",
       "    </tr>\n",
       "    <tr>\n",
       "      <th>top</th>\n",
       "      <td>NaN</td>\n",
       "      <td>2015-02-12 04:18:34</td>\n",
       "      <td>2015-06-08 09:42:04</td>\n",
       "      <td>NaN</td>\n",
       "      <td>NGQCKIADMZORL</td>\n",
       "      <td>SEO</td>\n",
       "      <td>Chrome</td>\n",
       "      <td>M</td>\n",
       "      <td>NaN</td>\n",
       "      <td>NaN</td>\n",
       "      <td>NaN</td>\n",
       "      <td>United States</td>\n",
       "    </tr>\n",
       "    <tr>\n",
       "      <th>freq</th>\n",
       "      <td>NaN</td>\n",
       "      <td>1</td>\n",
       "      <td>3</td>\n",
       "      <td>NaN</td>\n",
       "      <td>20</td>\n",
       "      <td>60615</td>\n",
       "      <td>61432</td>\n",
       "      <td>88293</td>\n",
       "      <td>NaN</td>\n",
       "      <td>NaN</td>\n",
       "      <td>NaN</td>\n",
       "      <td>58049</td>\n",
       "    </tr>\n",
       "    <tr>\n",
       "      <th>mean</th>\n",
       "      <td>200171.040970</td>\n",
       "      <td>NaN</td>\n",
       "      <td>NaN</td>\n",
       "      <td>36.935372</td>\n",
       "      <td>NaN</td>\n",
       "      <td>NaN</td>\n",
       "      <td>NaN</td>\n",
       "      <td>NaN</td>\n",
       "      <td>33.140704</td>\n",
       "      <td>2.152145e+09</td>\n",
       "      <td>0.093646</td>\n",
       "      <td>NaN</td>\n",
       "    </tr>\n",
       "    <tr>\n",
       "      <th>std</th>\n",
       "      <td>115369.285024</td>\n",
       "      <td>NaN</td>\n",
       "      <td>NaN</td>\n",
       "      <td>18.322762</td>\n",
       "      <td>NaN</td>\n",
       "      <td>NaN</td>\n",
       "      <td>NaN</td>\n",
       "      <td>NaN</td>\n",
       "      <td>8.617733</td>\n",
       "      <td>1.248497e+09</td>\n",
       "      <td>0.291336</td>\n",
       "      <td>NaN</td>\n",
       "    </tr>\n",
       "    <tr>\n",
       "      <th>min</th>\n",
       "      <td>2.000000</td>\n",
       "      <td>NaN</td>\n",
       "      <td>NaN</td>\n",
       "      <td>9.000000</td>\n",
       "      <td>NaN</td>\n",
       "      <td>NaN</td>\n",
       "      <td>NaN</td>\n",
       "      <td>NaN</td>\n",
       "      <td>18.000000</td>\n",
       "      <td>5.209350e+04</td>\n",
       "      <td>0.000000</td>\n",
       "      <td>NaN</td>\n",
       "    </tr>\n",
       "    <tr>\n",
       "      <th>25%</th>\n",
       "      <td>100642.500000</td>\n",
       "      <td>NaN</td>\n",
       "      <td>NaN</td>\n",
       "      <td>22.000000</td>\n",
       "      <td>NaN</td>\n",
       "      <td>NaN</td>\n",
       "      <td>NaN</td>\n",
       "      <td>NaN</td>\n",
       "      <td>27.000000</td>\n",
       "      <td>1.085934e+09</td>\n",
       "      <td>0.000000</td>\n",
       "      <td>NaN</td>\n",
       "    </tr>\n",
       "    <tr>\n",
       "      <th>50%</th>\n",
       "      <td>199958.000000</td>\n",
       "      <td>NaN</td>\n",
       "      <td>NaN</td>\n",
       "      <td>35.000000</td>\n",
       "      <td>NaN</td>\n",
       "      <td>NaN</td>\n",
       "      <td>NaN</td>\n",
       "      <td>NaN</td>\n",
       "      <td>33.000000</td>\n",
       "      <td>2.154770e+09</td>\n",
       "      <td>0.000000</td>\n",
       "      <td>NaN</td>\n",
       "    </tr>\n",
       "    <tr>\n",
       "      <th>75%</th>\n",
       "      <td>300054.000000</td>\n",
       "      <td>NaN</td>\n",
       "      <td>NaN</td>\n",
       "      <td>49.000000</td>\n",
       "      <td>NaN</td>\n",
       "      <td>NaN</td>\n",
       "      <td>NaN</td>\n",
       "      <td>NaN</td>\n",
       "      <td>39.000000</td>\n",
       "      <td>3.243258e+09</td>\n",
       "      <td>0.000000</td>\n",
       "      <td>NaN</td>\n",
       "    </tr>\n",
       "    <tr>\n",
       "      <th>max</th>\n",
       "      <td>400000.000000</td>\n",
       "      <td>NaN</td>\n",
       "      <td>NaN</td>\n",
       "      <td>154.000000</td>\n",
       "      <td>NaN</td>\n",
       "      <td>NaN</td>\n",
       "      <td>NaN</td>\n",
       "      <td>NaN</td>\n",
       "      <td>76.000000</td>\n",
       "      <td>4.294850e+09</td>\n",
       "      <td>1.000000</td>\n",
       "      <td>NaN</td>\n",
       "    </tr>\n",
       "  </tbody>\n",
       "</table>\n",
       "</div>"
      ],
      "text/plain": [
       "              user_id          signup_time        purchase_time  \\\n",
       "count   151112.000000               151112               151112   \n",
       "unique            NaN               151112               150679   \n",
       "top               NaN  2015-02-12 04:18:34  2015-06-08 09:42:04   \n",
       "freq              NaN                    1                    3   \n",
       "mean    200171.040970                  NaN                  NaN   \n",
       "std     115369.285024                  NaN                  NaN   \n",
       "min          2.000000                  NaN                  NaN   \n",
       "25%     100642.500000                  NaN                  NaN   \n",
       "50%     199958.000000                  NaN                  NaN   \n",
       "75%     300054.000000                  NaN                  NaN   \n",
       "max     400000.000000                  NaN                  NaN   \n",
       "\n",
       "        purchase_value      device_id  source browser     sex            age  \\\n",
       "count    151112.000000         151112  151112  151112  151112  151112.000000   \n",
       "unique             NaN         137956       3       5       2            NaN   \n",
       "top                NaN  NGQCKIADMZORL     SEO  Chrome       M            NaN   \n",
       "freq               NaN             20   60615   61432   88293            NaN   \n",
       "mean         36.935372            NaN     NaN     NaN     NaN      33.140704   \n",
       "std          18.322762            NaN     NaN     NaN     NaN       8.617733   \n",
       "min           9.000000            NaN     NaN     NaN     NaN      18.000000   \n",
       "25%          22.000000            NaN     NaN     NaN     NaN      27.000000   \n",
       "50%          35.000000            NaN     NaN     NaN     NaN      33.000000   \n",
       "75%          49.000000            NaN     NaN     NaN     NaN      39.000000   \n",
       "max         154.000000            NaN     NaN     NaN     NaN      76.000000   \n",
       "\n",
       "          ip_address          class   country_name  \n",
       "count   1.511120e+05  151112.000000         151112  \n",
       "unique           NaN            NaN            182  \n",
       "top              NaN            NaN  United States  \n",
       "freq             NaN            NaN          58049  \n",
       "mean    2.152145e+09       0.093646            NaN  \n",
       "std     1.248497e+09       0.291336            NaN  \n",
       "min     5.209350e+04       0.000000            NaN  \n",
       "25%     1.085934e+09       0.000000            NaN  \n",
       "50%     2.154770e+09       0.000000            NaN  \n",
       "75%     3.243258e+09       0.000000            NaN  \n",
       "max     4.294850e+09       1.000000            NaN  "
      ]
     },
     "execution_count": 8,
     "metadata": {},
     "output_type": "execute_result"
    }
   ],
   "source": [
    "fraud_init.describe(include=\"all\")"
   ]
  },
  {
   "cell_type": "code",
   "execution_count": 10,
   "metadata": {
    "scrolled": false
   },
   "outputs": [],
   "source": [
    "# function that easily returns table of count with percentage\n",
    "def show_unique_count(df_name, column_name, digits=2):\n",
    "    \n",
    "    count = df_name[column_name].value_counts(dropna=False)\n",
    "    percentage = (df_name[column_name].value_counts \\\n",
    "                      (dropna=False, normalize=True) \\\n",
    "                      *100).round(digits)\n",
    "    table = pd.concat([count,percentage],\\\n",
    "                    axis=1,\\\n",
    "                    keys=['counts', '%'])\n",
    "    return(table)"
   ]
  },
  {
   "cell_type": "code",
   "execution_count": 76,
   "metadata": {
    "scrolled": false
   },
   "outputs": [
    {
     "data": {
      "text/html": [
       "<div>\n",
       "<style scoped>\n",
       "    .dataframe tbody tr th:only-of-type {\n",
       "        vertical-align: middle;\n",
       "    }\n",
       "\n",
       "    .dataframe tbody tr th {\n",
       "        vertical-align: top;\n",
       "    }\n",
       "\n",
       "    .dataframe thead th {\n",
       "        text-align: right;\n",
       "    }\n",
       "</style>\n",
       "<table border=\"1\" class=\"dataframe\">\n",
       "  <thead>\n",
       "    <tr style=\"text-align: right;\">\n",
       "      <th></th>\n",
       "      <th>counts</th>\n",
       "      <th>%</th>\n",
       "    </tr>\n",
       "  </thead>\n",
       "  <tbody>\n",
       "    <tr>\n",
       "      <th>United States</th>\n",
       "      <td>58049</td>\n",
       "      <td>38.41</td>\n",
       "    </tr>\n",
       "    <tr>\n",
       "      <th>Unknown_Country</th>\n",
       "      <td>21966</td>\n",
       "      <td>14.54</td>\n",
       "    </tr>\n",
       "    <tr>\n",
       "      <th>China</th>\n",
       "      <td>12038</td>\n",
       "      <td>7.97</td>\n",
       "    </tr>\n",
       "    <tr>\n",
       "      <th>Japan</th>\n",
       "      <td>7306</td>\n",
       "      <td>4.83</td>\n",
       "    </tr>\n",
       "    <tr>\n",
       "      <th>United Kingdom</th>\n",
       "      <td>4490</td>\n",
       "      <td>2.97</td>\n",
       "    </tr>\n",
       "    <tr>\n",
       "      <th>...</th>\n",
       "      <td>...</td>\n",
       "      <td>...</td>\n",
       "    </tr>\n",
       "    <tr>\n",
       "      <th>South Sudan</th>\n",
       "      <td>1</td>\n",
       "      <td>0.00</td>\n",
       "    </tr>\n",
       "    <tr>\n",
       "      <th>Bonaire; Sint Eustatius; Saba</th>\n",
       "      <td>1</td>\n",
       "      <td>0.00</td>\n",
       "    </tr>\n",
       "    <tr>\n",
       "      <th>British Indian Ocean Territory</th>\n",
       "      <td>1</td>\n",
       "      <td>0.00</td>\n",
       "    </tr>\n",
       "    <tr>\n",
       "      <th>Tajikistan</th>\n",
       "      <td>1</td>\n",
       "      <td>0.00</td>\n",
       "    </tr>\n",
       "    <tr>\n",
       "      <th>Burundi</th>\n",
       "      <td>1</td>\n",
       "      <td>0.00</td>\n",
       "    </tr>\n",
       "  </tbody>\n",
       "</table>\n",
       "<p>182 rows × 2 columns</p>\n",
       "</div>"
      ],
      "text/plain": [
       "                                counts      %\n",
       "United States                    58049  38.41\n",
       "Unknown_Country                  21966  14.54\n",
       "China                            12038   7.97\n",
       "Japan                             7306   4.83\n",
       "United Kingdom                    4490   2.97\n",
       "...                                ...    ...\n",
       "South Sudan                          1   0.00\n",
       "Bonaire; Sint Eustatius; Saba        1   0.00\n",
       "British Indian Ocean Territory       1   0.00\n",
       "Tajikistan                           1   0.00\n",
       "Burundi                              1   0.00\n",
       "\n",
       "[182 rows x 2 columns]"
      ]
     },
     "execution_count": 76,
     "metadata": {},
     "output_type": "execute_result"
    }
   ],
   "source": [
    "show_unique_count(fraud_init, \"country_name\")\n",
    "### lot's of uknown countries --> will see if they have an effect on conversion "
   ]
  },
  {
   "cell_type": "markdown",
   "metadata": {},
   "source": [
    "## Data Transformation"
   ]
  },
  {
   "cell_type": "code",
   "execution_count": 72,
   "metadata": {
    "scrolled": false
   },
   "outputs": [],
   "source": [
    "# dataframe to work on from now on \n",
    "fraud = fraud_init.copy()"
   ]
  },
  {
   "cell_type": "code",
   "execution_count": 73,
   "metadata": {
    "scrolled": true
   },
   "outputs": [
    {
     "data": {
      "text/html": [
       "<div>\n",
       "<style scoped>\n",
       "    .dataframe tbody tr th:only-of-type {\n",
       "        vertical-align: middle;\n",
       "    }\n",
       "\n",
       "    .dataframe tbody tr th {\n",
       "        vertical-align: top;\n",
       "    }\n",
       "\n",
       "    .dataframe thead th {\n",
       "        text-align: right;\n",
       "    }\n",
       "</style>\n",
       "<table border=\"1\" class=\"dataframe\">\n",
       "  <thead>\n",
       "    <tr style=\"text-align: right;\">\n",
       "      <th></th>\n",
       "      <th>user_id</th>\n",
       "      <th>purchase_value</th>\n",
       "      <th>age</th>\n",
       "      <th>ip_address</th>\n",
       "      <th>class</th>\n",
       "    </tr>\n",
       "  </thead>\n",
       "  <tbody>\n",
       "    <tr>\n",
       "      <th>count</th>\n",
       "      <td>151112.000000</td>\n",
       "      <td>151112.000000</td>\n",
       "      <td>151112.000000</td>\n",
       "      <td>1.511120e+05</td>\n",
       "      <td>151112.000000</td>\n",
       "    </tr>\n",
       "    <tr>\n",
       "      <th>mean</th>\n",
       "      <td>200171.040970</td>\n",
       "      <td>36.935372</td>\n",
       "      <td>33.140704</td>\n",
       "      <td>2.152145e+09</td>\n",
       "      <td>0.093646</td>\n",
       "    </tr>\n",
       "    <tr>\n",
       "      <th>std</th>\n",
       "      <td>115369.285024</td>\n",
       "      <td>18.322762</td>\n",
       "      <td>8.617733</td>\n",
       "      <td>1.248497e+09</td>\n",
       "      <td>0.291336</td>\n",
       "    </tr>\n",
       "    <tr>\n",
       "      <th>min</th>\n",
       "      <td>2.000000</td>\n",
       "      <td>9.000000</td>\n",
       "      <td>18.000000</td>\n",
       "      <td>5.209350e+04</td>\n",
       "      <td>0.000000</td>\n",
       "    </tr>\n",
       "    <tr>\n",
       "      <th>25%</th>\n",
       "      <td>100642.500000</td>\n",
       "      <td>22.000000</td>\n",
       "      <td>27.000000</td>\n",
       "      <td>1.085934e+09</td>\n",
       "      <td>0.000000</td>\n",
       "    </tr>\n",
       "    <tr>\n",
       "      <th>50%</th>\n",
       "      <td>199958.000000</td>\n",
       "      <td>35.000000</td>\n",
       "      <td>33.000000</td>\n",
       "      <td>2.154770e+09</td>\n",
       "      <td>0.000000</td>\n",
       "    </tr>\n",
       "    <tr>\n",
       "      <th>75%</th>\n",
       "      <td>300054.000000</td>\n",
       "      <td>49.000000</td>\n",
       "      <td>39.000000</td>\n",
       "      <td>3.243258e+09</td>\n",
       "      <td>0.000000</td>\n",
       "    </tr>\n",
       "    <tr>\n",
       "      <th>max</th>\n",
       "      <td>400000.000000</td>\n",
       "      <td>154.000000</td>\n",
       "      <td>76.000000</td>\n",
       "      <td>4.294850e+09</td>\n",
       "      <td>1.000000</td>\n",
       "    </tr>\n",
       "  </tbody>\n",
       "</table>\n",
       "</div>"
      ],
      "text/plain": [
       "             user_id  purchase_value            age    ip_address  \\\n",
       "count  151112.000000   151112.000000  151112.000000  1.511120e+05   \n",
       "mean   200171.040970       36.935372      33.140704  2.152145e+09   \n",
       "std    115369.285024       18.322762       8.617733  1.248497e+09   \n",
       "min         2.000000        9.000000      18.000000  5.209350e+04   \n",
       "25%    100642.500000       22.000000      27.000000  1.085934e+09   \n",
       "50%    199958.000000       35.000000      33.000000  2.154770e+09   \n",
       "75%    300054.000000       49.000000      39.000000  3.243258e+09   \n",
       "max    400000.000000      154.000000      76.000000  4.294850e+09   \n",
       "\n",
       "               class  \n",
       "count  151112.000000  \n",
       "mean        0.093646  \n",
       "std         0.291336  \n",
       "min         0.000000  \n",
       "25%         0.000000  \n",
       "50%         0.000000  \n",
       "75%         0.000000  \n",
       "max         1.000000  "
      ]
     },
     "execution_count": 73,
     "metadata": {},
     "output_type": "execute_result"
    }
   ],
   "source": [
    "fraud.describe()"
   ]
  },
  {
   "cell_type": "code",
   "execution_count": 77,
   "metadata": {
    "scrolled": false
   },
   "outputs": [],
   "source": [
    "# dropping duplicates\n",
    "fraud = fraud.drop_duplicates()"
   ]
  },
  {
   "cell_type": "code",
   "execution_count": 78,
   "metadata": {
    "scrolled": false
   },
   "outputs": [
    {
     "data": {
      "text/html": [
       "<div>\n",
       "<style scoped>\n",
       "    .dataframe tbody tr th:only-of-type {\n",
       "        vertical-align: middle;\n",
       "    }\n",
       "\n",
       "    .dataframe tbody tr th {\n",
       "        vertical-align: top;\n",
       "    }\n",
       "\n",
       "    .dataframe thead th {\n",
       "        text-align: right;\n",
       "    }\n",
       "</style>\n",
       "<table border=\"1\" class=\"dataframe\">\n",
       "  <thead>\n",
       "    <tr style=\"text-align: right;\">\n",
       "      <th></th>\n",
       "      <th>user_id</th>\n",
       "      <th>purchase_value</th>\n",
       "      <th>age</th>\n",
       "      <th>ip_address</th>\n",
       "      <th>class</th>\n",
       "    </tr>\n",
       "  </thead>\n",
       "  <tbody>\n",
       "    <tr>\n",
       "      <th>count</th>\n",
       "      <td>151112.000000</td>\n",
       "      <td>151112.000000</td>\n",
       "      <td>151112.000000</td>\n",
       "      <td>1.511120e+05</td>\n",
       "      <td>151112.000000</td>\n",
       "    </tr>\n",
       "    <tr>\n",
       "      <th>mean</th>\n",
       "      <td>200171.040970</td>\n",
       "      <td>36.935372</td>\n",
       "      <td>33.140704</td>\n",
       "      <td>2.152145e+09</td>\n",
       "      <td>0.093646</td>\n",
       "    </tr>\n",
       "    <tr>\n",
       "      <th>std</th>\n",
       "      <td>115369.285024</td>\n",
       "      <td>18.322762</td>\n",
       "      <td>8.617733</td>\n",
       "      <td>1.248497e+09</td>\n",
       "      <td>0.291336</td>\n",
       "    </tr>\n",
       "    <tr>\n",
       "      <th>min</th>\n",
       "      <td>2.000000</td>\n",
       "      <td>9.000000</td>\n",
       "      <td>18.000000</td>\n",
       "      <td>5.209350e+04</td>\n",
       "      <td>0.000000</td>\n",
       "    </tr>\n",
       "    <tr>\n",
       "      <th>25%</th>\n",
       "      <td>100642.500000</td>\n",
       "      <td>22.000000</td>\n",
       "      <td>27.000000</td>\n",
       "      <td>1.085934e+09</td>\n",
       "      <td>0.000000</td>\n",
       "    </tr>\n",
       "    <tr>\n",
       "      <th>50%</th>\n",
       "      <td>199958.000000</td>\n",
       "      <td>35.000000</td>\n",
       "      <td>33.000000</td>\n",
       "      <td>2.154770e+09</td>\n",
       "      <td>0.000000</td>\n",
       "    </tr>\n",
       "    <tr>\n",
       "      <th>75%</th>\n",
       "      <td>300054.000000</td>\n",
       "      <td>49.000000</td>\n",
       "      <td>39.000000</td>\n",
       "      <td>3.243258e+09</td>\n",
       "      <td>0.000000</td>\n",
       "    </tr>\n",
       "    <tr>\n",
       "      <th>max</th>\n",
       "      <td>400000.000000</td>\n",
       "      <td>154.000000</td>\n",
       "      <td>76.000000</td>\n",
       "      <td>4.294850e+09</td>\n",
       "      <td>1.000000</td>\n",
       "    </tr>\n",
       "  </tbody>\n",
       "</table>\n",
       "</div>"
      ],
      "text/plain": [
       "             user_id  purchase_value            age    ip_address  \\\n",
       "count  151112.000000   151112.000000  151112.000000  1.511120e+05   \n",
       "mean   200171.040970       36.935372      33.140704  2.152145e+09   \n",
       "std    115369.285024       18.322762       8.617733  1.248497e+09   \n",
       "min         2.000000        9.000000      18.000000  5.209350e+04   \n",
       "25%    100642.500000       22.000000      27.000000  1.085934e+09   \n",
       "50%    199958.000000       35.000000      33.000000  2.154770e+09   \n",
       "75%    300054.000000       49.000000      39.000000  3.243258e+09   \n",
       "max    400000.000000      154.000000      76.000000  4.294850e+09   \n",
       "\n",
       "               class  \n",
       "count  151112.000000  \n",
       "mean        0.093646  \n",
       "std         0.291336  \n",
       "min         0.000000  \n",
       "25%         0.000000  \n",
       "50%         0.000000  \n",
       "75%         0.000000  \n",
       "max         1.000000  "
      ]
     },
     "execution_count": 78,
     "metadata": {},
     "output_type": "execute_result"
    }
   ],
   "source": [
    "fraud.describe() ## we see there were no duplicates"
   ]
  },
  {
   "cell_type": "code",
   "execution_count": 16,
   "metadata": {
    "scrolled": false
   },
   "outputs": [
    {
     "data": {
      "text/html": [
       "<div>\n",
       "<style scoped>\n",
       "    .dataframe tbody tr th:only-of-type {\n",
       "        vertical-align: middle;\n",
       "    }\n",
       "\n",
       "    .dataframe tbody tr th {\n",
       "        vertical-align: top;\n",
       "    }\n",
       "\n",
       "    .dataframe thead th {\n",
       "        text-align: right;\n",
       "    }\n",
       "</style>\n",
       "<table border=\"1\" class=\"dataframe\">\n",
       "  <thead>\n",
       "    <tr style=\"text-align: right;\">\n",
       "      <th></th>\n",
       "      <th>counts</th>\n",
       "      <th>%</th>\n",
       "    </tr>\n",
       "  </thead>\n",
       "  <tbody>\n",
       "    <tr>\n",
       "      <th>United States</th>\n",
       "      <td>58049</td>\n",
       "      <td>38.41</td>\n",
       "    </tr>\n",
       "    <tr>\n",
       "      <th>Unknown_Country</th>\n",
       "      <td>21966</td>\n",
       "      <td>14.54</td>\n",
       "    </tr>\n",
       "    <tr>\n",
       "      <th>China</th>\n",
       "      <td>12038</td>\n",
       "      <td>7.97</td>\n",
       "    </tr>\n",
       "    <tr>\n",
       "      <th>Japan</th>\n",
       "      <td>7306</td>\n",
       "      <td>4.83</td>\n",
       "    </tr>\n",
       "    <tr>\n",
       "      <th>United Kingdom</th>\n",
       "      <td>4490</td>\n",
       "      <td>2.97</td>\n",
       "    </tr>\n",
       "    <tr>\n",
       "      <th>...</th>\n",
       "      <td>...</td>\n",
       "      <td>...</td>\n",
       "    </tr>\n",
       "    <tr>\n",
       "      <th>South Sudan</th>\n",
       "      <td>1</td>\n",
       "      <td>0.00</td>\n",
       "    </tr>\n",
       "    <tr>\n",
       "      <th>Bonaire; Sint Eustatius; Saba</th>\n",
       "      <td>1</td>\n",
       "      <td>0.00</td>\n",
       "    </tr>\n",
       "    <tr>\n",
       "      <th>British Indian Ocean Territory</th>\n",
       "      <td>1</td>\n",
       "      <td>0.00</td>\n",
       "    </tr>\n",
       "    <tr>\n",
       "      <th>Tajikistan</th>\n",
       "      <td>1</td>\n",
       "      <td>0.00</td>\n",
       "    </tr>\n",
       "    <tr>\n",
       "      <th>Burundi</th>\n",
       "      <td>1</td>\n",
       "      <td>0.00</td>\n",
       "    </tr>\n",
       "  </tbody>\n",
       "</table>\n",
       "<p>182 rows × 2 columns</p>\n",
       "</div>"
      ],
      "text/plain": [
       "                                counts      %\n",
       "United States                    58049  38.41\n",
       "Unknown_Country                  21966  14.54\n",
       "China                            12038   7.97\n",
       "Japan                             7306   4.83\n",
       "United Kingdom                    4490   2.97\n",
       "...                                ...    ...\n",
       "South Sudan                          1   0.00\n",
       "Bonaire; Sint Eustatius; Saba        1   0.00\n",
       "British Indian Ocean Territory       1   0.00\n",
       "Tajikistan                           1   0.00\n",
       "Burundi                              1   0.00\n",
       "\n",
       "[182 rows x 2 columns]"
      ]
     },
     "execution_count": 16,
     "metadata": {},
     "output_type": "execute_result"
    }
   ],
   "source": [
    "# show unique count for country_name\n",
    "show_unique_count(fraud, \"country_name\")"
   ]
  },
  {
   "cell_type": "code",
   "execution_count": 79,
   "metadata": {
    "scrolled": false
   },
   "outputs": [],
   "source": [
    "## putting countries with under 20 occurences into \"other\"\n",
    "count_country = fraud[\"country_name\"].value_counts(dropna=False)\n",
    "fraud[\"country_name\"] = np.where(fraud[\"country_name\"].\n",
    "                                 isin(count_country.index[count_country >=20]),\\\n",
    "                                 fraud[\"country_name\"], 'Other')"
   ]
  },
  {
   "cell_type": "code",
   "execution_count": 80,
   "metadata": {
    "scrolled": false
   },
   "outputs": [
    {
     "data": {
      "text/plain": [
       "Guatemala              20\n",
       "Iraq                   20\n",
       "Trinidad and Tobago    22\n",
       "Malta                  22\n",
       "Namibia                23\n",
       "Name: country_name, dtype: int64"
      ]
     },
     "execution_count": 80,
     "metadata": {},
     "output_type": "execute_result"
    }
   ],
   "source": [
    "# checking it worked well\n",
    "fraud[\"country_name\"].value_counts(ascending = True).head()"
   ]
  },
  {
   "cell_type": "code",
   "execution_count": 81,
   "metadata": {
    "scrolled": false
   },
   "outputs": [
    {
     "data": {
      "text/plain": [
       "<matplotlib.axes._subplots.AxesSubplot at 0x7f905fcef190>"
      ]
     },
     "execution_count": 81,
     "metadata": {},
     "output_type": "execute_result"
    },
    {
     "data": {
      "image/png": "[encoded data removed]",
      "text/plain": [
       "<Figure size 432x288 with 1 Axes>"
      ]
     },
     "metadata": {
      "needs_background": "light"
     },
     "output_type": "display_data"
    }
   ],
   "source": [
    "# checking the class category \n",
    "palette = ['navy', 'teal', 'lightskyblue', \"lightblue\"]\n",
    "\n",
    "sns.countplot(fraud[\"class\"], order = fraud[\"class\"].value_counts().index, palette =palette )"
   ]
  },
  {
   "cell_type": "markdown",
   "metadata": {},
   "source": [
    "#### safe to assume that 0 correspoonds to no_fraud and 1 to fraud\n",
    "#### let's plot percentage of fraud"
   ]
  },
  {
   "cell_type": "code",
   "execution_count": 22,
   "metadata": {
    "scrolled": false
   },
   "outputs": [
    {
     "data": {
      "text/html": [
       "<div>\n",
       "<style scoped>\n",
       "    .dataframe tbody tr th:only-of-type {\n",
       "        vertical-align: middle;\n",
       "    }\n",
       "\n",
       "    .dataframe tbody tr th {\n",
       "        vertical-align: top;\n",
       "    }\n",
       "\n",
       "    .dataframe thead th {\n",
       "        text-align: right;\n",
       "    }\n",
       "</style>\n",
       "<table border=\"1\" class=\"dataframe\">\n",
       "  <thead>\n",
       "    <tr style=\"text-align: right;\">\n",
       "      <th></th>\n",
       "      <th>counts</th>\n",
       "      <th>%</th>\n",
       "    </tr>\n",
       "  </thead>\n",
       "  <tbody>\n",
       "    <tr>\n",
       "      <th>0</th>\n",
       "      <td>136961</td>\n",
       "      <td>90.64</td>\n",
       "    </tr>\n",
       "    <tr>\n",
       "      <th>1</th>\n",
       "      <td>14151</td>\n",
       "      <td>9.36</td>\n",
       "    </tr>\n",
       "  </tbody>\n",
       "</table>\n",
       "</div>"
      ],
      "text/plain": [
       "   counts      %\n",
       "0  136961  90.64\n",
       "1   14151   9.36"
      ]
     },
     "execution_count": 22,
     "metadata": {},
     "output_type": "execute_result"
    }
   ],
   "source": [
    "show_unique_count(fraud, \"class\")"
   ]
  },
  {
   "cell_type": "code",
   "execution_count": 92,
   "metadata": {
    "scrolled": true
   },
   "outputs": [
    {
     "data": {
      "text/html": [
       "<div>\n",
       "<style scoped>\n",
       "    .dataframe tbody tr th:only-of-type {\n",
       "        vertical-align: middle;\n",
       "    }\n",
       "\n",
       "    .dataframe tbody tr th {\n",
       "        vertical-align: top;\n",
       "    }\n",
       "\n",
       "    .dataframe thead th {\n",
       "        text-align: right;\n",
       "    }\n",
       "</style>\n",
       "<table border=\"1\" class=\"dataframe\">\n",
       "  <thead>\n",
       "    <tr style=\"text-align: right;\">\n",
       "      <th>class</th>\n",
       "      <th>0</th>\n",
       "      <th>1</th>\n",
       "    </tr>\n",
       "    <tr>\n",
       "      <th>country_name</th>\n",
       "      <th></th>\n",
       "      <th></th>\n",
       "    </tr>\n",
       "  </thead>\n",
       "  <tbody>\n",
       "    <tr>\n",
       "      <th>Algeria</th>\n",
       "      <td>89.3</td>\n",
       "      <td>10.7</td>\n",
       "    </tr>\n",
       "    <tr>\n",
       "      <th>Angola</th>\n",
       "      <td>95.8</td>\n",
       "      <td>4.2</td>\n",
       "    </tr>\n",
       "    <tr>\n",
       "      <th>Argentina</th>\n",
       "      <td>90.0</td>\n",
       "      <td>10.0</td>\n",
       "    </tr>\n",
       "    <tr>\n",
       "      <th>Australia</th>\n",
       "      <td>91.1</td>\n",
       "      <td>8.9</td>\n",
       "    </tr>\n",
       "    <tr>\n",
       "      <th>Austria</th>\n",
       "      <td>92.4</td>\n",
       "      <td>7.6</td>\n",
       "    </tr>\n",
       "    <tr>\n",
       "      <th>Azerbaijan</th>\n",
       "      <td>91.3</td>\n",
       "      <td>8.7</td>\n",
       "    </tr>\n",
       "    <tr>\n",
       "      <th>Bangladesh</th>\n",
       "      <td>91.9</td>\n",
       "      <td>8.1</td>\n",
       "    </tr>\n",
       "    <tr>\n",
       "      <th>Belarus</th>\n",
       "      <td>97.2</td>\n",
       "      <td>2.8</td>\n",
       "    </tr>\n",
       "    <tr>\n",
       "      <th>Belgium</th>\n",
       "      <td>86.3</td>\n",
       "      <td>13.7</td>\n",
       "    </tr>\n",
       "    <tr>\n",
       "      <th>Bolivia</th>\n",
       "      <td>75.5</td>\n",
       "      <td>24.5</td>\n",
       "    </tr>\n",
       "    <tr>\n",
       "      <th>Bosnia and Herzegowina</th>\n",
       "      <td>96.7</td>\n",
       "      <td>3.3</td>\n",
       "    </tr>\n",
       "    <tr>\n",
       "      <th>Brazil</th>\n",
       "      <td>90.9</td>\n",
       "      <td>9.1</td>\n",
       "    </tr>\n",
       "    <tr>\n",
       "      <th>Bulgaria</th>\n",
       "      <td>98.8</td>\n",
       "      <td>1.2</td>\n",
       "    </tr>\n",
       "    <tr>\n",
       "      <th>Canada</th>\n",
       "      <td>88.3</td>\n",
       "      <td>11.7</td>\n",
       "    </tr>\n",
       "    <tr>\n",
       "      <th>Chile</th>\n",
       "      <td>84.7</td>\n",
       "      <td>15.3</td>\n",
       "    </tr>\n",
       "    <tr>\n",
       "      <th>China</th>\n",
       "      <td>91.3</td>\n",
       "      <td>8.7</td>\n",
       "    </tr>\n",
       "    <tr>\n",
       "      <th>Colombia</th>\n",
       "      <td>94.0</td>\n",
       "      <td>6.0</td>\n",
       "    </tr>\n",
       "    <tr>\n",
       "      <th>Costa Rica</th>\n",
       "      <td>86.7</td>\n",
       "      <td>13.3</td>\n",
       "    </tr>\n",
       "    <tr>\n",
       "      <th>Croatia (LOCAL Name: Hrvatska)</th>\n",
       "      <td>91.1</td>\n",
       "      <td>8.9</td>\n",
       "    </tr>\n",
       "    <tr>\n",
       "      <th>Cyprus</th>\n",
       "      <td>95.3</td>\n",
       "      <td>4.7</td>\n",
       "    </tr>\n",
       "    <tr>\n",
       "      <th>Czech Republic</th>\n",
       "      <td>90.3</td>\n",
       "      <td>9.7</td>\n",
       "    </tr>\n",
       "    <tr>\n",
       "      <th>Denmark</th>\n",
       "      <td>84.1</td>\n",
       "      <td>15.9</td>\n",
       "    </tr>\n",
       "    <tr>\n",
       "      <th>Dominican Republic</th>\n",
       "      <td>96.1</td>\n",
       "      <td>3.9</td>\n",
       "    </tr>\n",
       "    <tr>\n",
       "      <th>Ecuador</th>\n",
       "      <td>73.6</td>\n",
       "      <td>26.4</td>\n",
       "    </tr>\n",
       "    <tr>\n",
       "      <th>Egypt</th>\n",
       "      <td>86.6</td>\n",
       "      <td>13.4</td>\n",
       "    </tr>\n",
       "    <tr>\n",
       "      <th>El Salvador</th>\n",
       "      <td>92.0</td>\n",
       "      <td>8.0</td>\n",
       "    </tr>\n",
       "    <tr>\n",
       "      <th>Estonia</th>\n",
       "      <td>97.6</td>\n",
       "      <td>2.4</td>\n",
       "    </tr>\n",
       "    <tr>\n",
       "      <th>European Union</th>\n",
       "      <td>94.1</td>\n",
       "      <td>5.9</td>\n",
       "    </tr>\n",
       "    <tr>\n",
       "      <th>Finland</th>\n",
       "      <td>90.4</td>\n",
       "      <td>9.6</td>\n",
       "    </tr>\n",
       "    <tr>\n",
       "      <th>France</th>\n",
       "      <td>90.5</td>\n",
       "      <td>9.5</td>\n",
       "    </tr>\n",
       "    <tr>\n",
       "      <th>Georgia</th>\n",
       "      <td>93.8</td>\n",
       "      <td>6.2</td>\n",
       "    </tr>\n",
       "    <tr>\n",
       "      <th>Germany</th>\n",
       "      <td>92.8</td>\n",
       "      <td>7.2</td>\n",
       "    </tr>\n",
       "    <tr>\n",
       "      <th>Greece</th>\n",
       "      <td>85.7</td>\n",
       "      <td>14.3</td>\n",
       "    </tr>\n",
       "    <tr>\n",
       "      <th>Guatemala</th>\n",
       "      <td>95.0</td>\n",
       "      <td>5.0</td>\n",
       "    </tr>\n",
       "    <tr>\n",
       "      <th>Hong Kong</th>\n",
       "      <td>87.0</td>\n",
       "      <td>13.0</td>\n",
       "    </tr>\n",
       "    <tr>\n",
       "      <th>Hungary</th>\n",
       "      <td>91.0</td>\n",
       "      <td>9.0</td>\n",
       "    </tr>\n",
       "    <tr>\n",
       "      <th>India</th>\n",
       "      <td>88.5</td>\n",
       "      <td>11.5</td>\n",
       "    </tr>\n",
       "    <tr>\n",
       "      <th>Indonesia</th>\n",
       "      <td>91.2</td>\n",
       "      <td>8.8</td>\n",
       "    </tr>\n",
       "    <tr>\n",
       "      <th>Iran (ISLAMIC Republic Of)</th>\n",
       "      <td>89.2</td>\n",
       "      <td>10.8</td>\n",
       "    </tr>\n",
       "    <tr>\n",
       "      <th>Iraq</th>\n",
       "      <td>100.0</td>\n",
       "      <td>NaN</td>\n",
       "    </tr>\n",
       "    <tr>\n",
       "      <th>Ireland</th>\n",
       "      <td>77.1</td>\n",
       "      <td>22.9</td>\n",
       "    </tr>\n",
       "    <tr>\n",
       "      <th>Israel</th>\n",
       "      <td>95.6</td>\n",
       "      <td>4.4</td>\n",
       "    </tr>\n",
       "    <tr>\n",
       "      <th>Italy</th>\n",
       "      <td>91.5</td>\n",
       "      <td>8.5</td>\n",
       "    </tr>\n",
       "    <tr>\n",
       "      <th>Japan</th>\n",
       "      <td>90.2</td>\n",
       "      <td>9.8</td>\n",
       "    </tr>\n",
       "    <tr>\n",
       "      <th>Jordan</th>\n",
       "      <td>100.0</td>\n",
       "      <td>NaN</td>\n",
       "    </tr>\n",
       "    <tr>\n",
       "      <th>Kazakhstan</th>\n",
       "      <td>93.5</td>\n",
       "      <td>6.5</td>\n",
       "    </tr>\n",
       "    <tr>\n",
       "      <th>Kenya</th>\n",
       "      <td>92.5</td>\n",
       "      <td>7.5</td>\n",
       "    </tr>\n",
       "    <tr>\n",
       "      <th>Korea Republic of</th>\n",
       "      <td>90.9</td>\n",
       "      <td>9.1</td>\n",
       "    </tr>\n",
       "    <tr>\n",
       "      <th>Kuwait</th>\n",
       "      <td>76.7</td>\n",
       "      <td>23.3</td>\n",
       "    </tr>\n",
       "    <tr>\n",
       "      <th>Latvia</th>\n",
       "      <td>90.6</td>\n",
       "      <td>9.4</td>\n",
       "    </tr>\n",
       "    <tr>\n",
       "      <th>Lebanon</th>\n",
       "      <td>89.3</td>\n",
       "      <td>10.7</td>\n",
       "    </tr>\n",
       "    <tr>\n",
       "      <th>Lithuania</th>\n",
       "      <td>81.1</td>\n",
       "      <td>18.9</td>\n",
       "    </tr>\n",
       "    <tr>\n",
       "      <th>Luxembourg</th>\n",
       "      <td>61.1</td>\n",
       "      <td>38.9</td>\n",
       "    </tr>\n",
       "    <tr>\n",
       "      <th>Macedonia</th>\n",
       "      <td>95.8</td>\n",
       "      <td>4.2</td>\n",
       "    </tr>\n",
       "    <tr>\n",
       "      <th>Malaysia</th>\n",
       "      <td>94.8</td>\n",
       "      <td>5.2</td>\n",
       "    </tr>\n",
       "    <tr>\n",
       "      <th>Malta</th>\n",
       "      <td>81.8</td>\n",
       "      <td>18.2</td>\n",
       "    </tr>\n",
       "    <tr>\n",
       "      <th>Mexico</th>\n",
       "      <td>87.2</td>\n",
       "      <td>12.8</td>\n",
       "    </tr>\n",
       "    <tr>\n",
       "      <th>Moldova Republic of</th>\n",
       "      <td>94.6</td>\n",
       "      <td>5.4</td>\n",
       "    </tr>\n",
       "    <tr>\n",
       "      <th>Morocco</th>\n",
       "      <td>96.8</td>\n",
       "      <td>3.2</td>\n",
       "    </tr>\n",
       "    <tr>\n",
       "      <th>Namibia</th>\n",
       "      <td>56.5</td>\n",
       "      <td>43.5</td>\n",
       "    </tr>\n",
       "    <tr>\n",
       "      <th>Netherlands</th>\n",
       "      <td>92.7</td>\n",
       "      <td>7.3</td>\n",
       "    </tr>\n",
       "    <tr>\n",
       "      <th>New Zealand</th>\n",
       "      <td>77.7</td>\n",
       "      <td>22.3</td>\n",
       "    </tr>\n",
       "    <tr>\n",
       "      <th>Nigeria</th>\n",
       "      <td>95.5</td>\n",
       "      <td>4.5</td>\n",
       "    </tr>\n",
       "    <tr>\n",
       "      <th>Norway</th>\n",
       "      <td>87.0</td>\n",
       "      <td>13.0</td>\n",
       "    </tr>\n",
       "    <tr>\n",
       "      <th>Oman</th>\n",
       "      <td>100.0</td>\n",
       "      <td>NaN</td>\n",
       "    </tr>\n",
       "    <tr>\n",
       "      <th>Other</th>\n",
       "      <td>96.5</td>\n",
       "      <td>3.5</td>\n",
       "    </tr>\n",
       "    <tr>\n",
       "      <th>Pakistan</th>\n",
       "      <td>95.7</td>\n",
       "      <td>4.3</td>\n",
       "    </tr>\n",
       "    <tr>\n",
       "      <th>Panama</th>\n",
       "      <td>95.2</td>\n",
       "      <td>4.8</td>\n",
       "    </tr>\n",
       "    <tr>\n",
       "      <th>Paraguay</th>\n",
       "      <td>91.4</td>\n",
       "      <td>8.6</td>\n",
       "    </tr>\n",
       "    <tr>\n",
       "      <th>Peru</th>\n",
       "      <td>73.9</td>\n",
       "      <td>26.1</td>\n",
       "    </tr>\n",
       "    <tr>\n",
       "      <th>Philippines</th>\n",
       "      <td>94.4</td>\n",
       "      <td>5.6</td>\n",
       "    </tr>\n",
       "    <tr>\n",
       "      <th>Poland</th>\n",
       "      <td>94.7</td>\n",
       "      <td>5.3</td>\n",
       "    </tr>\n",
       "    <tr>\n",
       "      <th>Portugal</th>\n",
       "      <td>95.6</td>\n",
       "      <td>4.4</td>\n",
       "    </tr>\n",
       "    <tr>\n",
       "      <th>Puerto Rico</th>\n",
       "      <td>100.0</td>\n",
       "      <td>NaN</td>\n",
       "    </tr>\n",
       "    <tr>\n",
       "      <th>Qatar</th>\n",
       "      <td>100.0</td>\n",
       "      <td>NaN</td>\n",
       "    </tr>\n",
       "    <tr>\n",
       "      <th>Romania</th>\n",
       "      <td>94.9</td>\n",
       "      <td>5.1</td>\n",
       "    </tr>\n",
       "    <tr>\n",
       "      <th>Russian Federation</th>\n",
       "      <td>91.7</td>\n",
       "      <td>8.3</td>\n",
       "    </tr>\n",
       "    <tr>\n",
       "      <th>Saudi Arabia</th>\n",
       "      <td>81.1</td>\n",
       "      <td>18.9</td>\n",
       "    </tr>\n",
       "    <tr>\n",
       "      <th>Serbia</th>\n",
       "      <td>98.6</td>\n",
       "      <td>1.4</td>\n",
       "    </tr>\n",
       "    <tr>\n",
       "      <th>Seychelles</th>\n",
       "      <td>87.4</td>\n",
       "      <td>12.6</td>\n",
       "    </tr>\n",
       "    <tr>\n",
       "      <th>Singapore</th>\n",
       "      <td>93.3</td>\n",
       "      <td>6.7</td>\n",
       "    </tr>\n",
       "    <tr>\n",
       "      <th>Slovakia (SLOVAK Republic)</th>\n",
       "      <td>95.3</td>\n",
       "      <td>4.7</td>\n",
       "    </tr>\n",
       "    <tr>\n",
       "      <th>Slovenia</th>\n",
       "      <td>97.7</td>\n",
       "      <td>2.3</td>\n",
       "    </tr>\n",
       "    <tr>\n",
       "      <th>South Africa</th>\n",
       "      <td>91.2</td>\n",
       "      <td>8.8</td>\n",
       "    </tr>\n",
       "    <tr>\n",
       "      <th>Spain</th>\n",
       "      <td>92.9</td>\n",
       "      <td>7.1</td>\n",
       "    </tr>\n",
       "    <tr>\n",
       "      <th>Sri Lanka</th>\n",
       "      <td>58.1</td>\n",
       "      <td>41.9</td>\n",
       "    </tr>\n",
       "    <tr>\n",
       "      <th>Sudan</th>\n",
       "      <td>92.0</td>\n",
       "      <td>8.0</td>\n",
       "    </tr>\n",
       "    <tr>\n",
       "      <th>Sweden</th>\n",
       "      <td>88.0</td>\n",
       "      <td>12.0</td>\n",
       "    </tr>\n",
       "    <tr>\n",
       "      <th>Switzerland</th>\n",
       "      <td>91.2</td>\n",
       "      <td>8.8</td>\n",
       "    </tr>\n",
       "    <tr>\n",
       "      <th>Syrian Arab Republic</th>\n",
       "      <td>100.0</td>\n",
       "      <td>NaN</td>\n",
       "    </tr>\n",
       "    <tr>\n",
       "      <th>Taiwan; Republic of China (ROC)</th>\n",
       "      <td>92.0</td>\n",
       "      <td>8.0</td>\n",
       "    </tr>\n",
       "    <tr>\n",
       "      <th>Thailand</th>\n",
       "      <td>93.5</td>\n",
       "      <td>6.5</td>\n",
       "    </tr>\n",
       "    <tr>\n",
       "      <th>Trinidad and Tobago</th>\n",
       "      <td>90.9</td>\n",
       "      <td>9.1</td>\n",
       "    </tr>\n",
       "    <tr>\n",
       "      <th>Tunisia</th>\n",
       "      <td>73.7</td>\n",
       "      <td>26.3</td>\n",
       "    </tr>\n",
       "    <tr>\n",
       "      <th>Turkey</th>\n",
       "      <td>92.6</td>\n",
       "      <td>7.4</td>\n",
       "    </tr>\n",
       "    <tr>\n",
       "      <th>Ukraine</th>\n",
       "      <td>88.3</td>\n",
       "      <td>11.7</td>\n",
       "    </tr>\n",
       "    <tr>\n",
       "      <th>United Arab Emirates</th>\n",
       "      <td>86.0</td>\n",
       "      <td>14.0</td>\n",
       "    </tr>\n",
       "    <tr>\n",
       "      <th>United Kingdom</th>\n",
       "      <td>89.4</td>\n",
       "      <td>10.6</td>\n",
       "    </tr>\n",
       "    <tr>\n",
       "      <th>United States</th>\n",
       "      <td>90.4</td>\n",
       "      <td>9.6</td>\n",
       "    </tr>\n",
       "    <tr>\n",
       "      <th>Unknown_Country</th>\n",
       "      <td>91.4</td>\n",
       "      <td>8.6</td>\n",
       "    </tr>\n",
       "    <tr>\n",
       "      <th>Uruguay</th>\n",
       "      <td>93.8</td>\n",
       "      <td>6.2</td>\n",
       "    </tr>\n",
       "    <tr>\n",
       "      <th>Venezuela</th>\n",
       "      <td>86.9</td>\n",
       "      <td>13.1</td>\n",
       "    </tr>\n",
       "    <tr>\n",
       "      <th>Viet Nam</th>\n",
       "      <td>93.3</td>\n",
       "      <td>6.7</td>\n",
       "    </tr>\n",
       "  </tbody>\n",
       "</table>\n",
       "</div>"
      ],
      "text/plain": [
       "class                                0     1\n",
       "country_name                                \n",
       "Algeria                           89.3  10.7\n",
       "Angola                            95.8   4.2\n",
       "Argentina                         90.0  10.0\n",
       "Australia                         91.1   8.9\n",
       "Austria                           92.4   7.6\n",
       "Azerbaijan                        91.3   8.7\n",
       "Bangladesh                        91.9   8.1\n",
       "Belarus                           97.2   2.8\n",
       "Belgium                           86.3  13.7\n",
       "Bolivia                           75.5  24.5\n",
       "Bosnia and Herzegowina            96.7   3.3\n",
       "Brazil                            90.9   9.1\n",
       "Bulgaria                          98.8   1.2\n",
       "Canada                            88.3  11.7\n",
       "Chile                             84.7  15.3\n",
       "China                             91.3   8.7\n",
       "Colombia                          94.0   6.0\n",
       "Costa Rica                        86.7  13.3\n",
       "Croatia (LOCAL Name: Hrvatska)    91.1   8.9\n",
       "Cyprus                            95.3   4.7\n",
       "Czech Republic                    90.3   9.7\n",
       "Denmark                           84.1  15.9\n",
       "Dominican Republic                96.1   3.9\n",
       "Ecuador                           73.6  26.4\n",
       "Egypt                             86.6  13.4\n",
       "El Salvador                       92.0   8.0\n",
       "Estonia                           97.6   2.4\n",
       "European Union                    94.1   5.9\n",
       "Finland                           90.4   9.6\n",
       "France                            90.5   9.5\n",
       "Georgia                           93.8   6.2\n",
       "Germany                           92.8   7.2\n",
       "Greece                            85.7  14.3\n",
       "Guatemala                         95.0   5.0\n",
       "Hong Kong                         87.0  13.0\n",
       "Hungary                           91.0   9.0\n",
       "India                             88.5  11.5\n",
       "Indonesia                         91.2   8.8\n",
       "Iran (ISLAMIC Republic Of)        89.2  10.8\n",
       "Iraq                             100.0   NaN\n",
       "Ireland                           77.1  22.9\n",
       "Israel                            95.6   4.4\n",
       "Italy                             91.5   8.5\n",
       "Japan                             90.2   9.8\n",
       "Jordan                           100.0   NaN\n",
       "Kazakhstan                        93.5   6.5\n",
       "Kenya                             92.5   7.5\n",
       "Korea Republic of                 90.9   9.1\n",
       "Kuwait                            76.7  23.3\n",
       "Latvia                            90.6   9.4\n",
       "Lebanon                           89.3  10.7\n",
       "Lithuania                         81.1  18.9\n",
       "Luxembourg                        61.1  38.9\n",
       "Macedonia                         95.8   4.2\n",
       "Malaysia                          94.8   5.2\n",
       "Malta                             81.8  18.2\n",
       "Mexico                            87.2  12.8\n",
       "Moldova Republic of               94.6   5.4\n",
       "Morocco                           96.8   3.2\n",
       "Namibia                           56.5  43.5\n",
       "Netherlands                       92.7   7.3\n",
       "New Zealand                       77.7  22.3\n",
       "Nigeria                           95.5   4.5\n",
       "Norway                            87.0  13.0\n",
       "Oman                             100.0   NaN\n",
       "Other                             96.5   3.5\n",
       "Pakistan                          95.7   4.3\n",
       "Panama                            95.2   4.8\n",
       "Paraguay                          91.4   8.6\n",
       "Peru                              73.9  26.1\n",
       "Philippines                       94.4   5.6\n",
       "Poland                            94.7   5.3\n",
       "Portugal                          95.6   4.4\n",
       "Puerto Rico                      100.0   NaN\n",
       "Qatar                            100.0   NaN\n",
       "Romania                           94.9   5.1\n",
       "Russian Federation                91.7   8.3\n",
       "Saudi Arabia                      81.1  18.9\n",
       "Serbia                            98.6   1.4\n",
       "Seychelles                        87.4  12.6\n",
       "Singapore                         93.3   6.7\n",
       "Slovakia (SLOVAK Republic)        95.3   4.7\n",
       "Slovenia                          97.7   2.3\n",
       "South Africa                      91.2   8.8\n",
       "Spain                             92.9   7.1\n",
       "Sri Lanka                         58.1  41.9\n",
       "Sudan                             92.0   8.0\n",
       "Sweden                            88.0  12.0\n",
       "Switzerland                       91.2   8.8\n",
       "Syrian Arab Republic             100.0   NaN\n",
       "Taiwan; Republic of China (ROC)   92.0   8.0\n",
       "Thailand                          93.5   6.5\n",
       "Trinidad and Tobago               90.9   9.1\n",
       "Tunisia                           73.7  26.3\n",
       "Turkey                            92.6   7.4\n",
       "Ukraine                           88.3  11.7\n",
       "United Arab Emirates              86.0  14.0\n",
       "United Kingdom                    89.4  10.6\n",
       "United States                     90.4   9.6\n",
       "Unknown_Country                   91.4   8.6\n",
       "Uruguay                           93.8   6.2\n",
       "Venezuela                         86.9  13.1\n",
       "Viet Nam                          93.3   6.7"
      ]
     },
     "execution_count": 92,
     "metadata": {},
     "output_type": "execute_result"
    }
   ],
   "source": [
    "# check distribution of fraud in \"uknown countries\"\n",
    "pd.options.display.max_rows = 999\n",
    "(fraud.groupby([\"country_name\"])[\"class\"].\\\n",
    "value_counts(normalize=True)*100).round(1).unstack([\"class\"]) #let's prepare a df to plot what we need"
   ]
  },
  {
   "cell_type": "markdown",
   "metadata": {},
   "source": [
    "#### Unknown countries have a about 8.6% of fraud, which does not diverge too much from the mean avg, for the purpose of this exercise we can drop the column later on"
   ]
  },
  {
   "cell_type": "code",
   "execution_count": 24,
   "metadata": {
    "scrolled": false
   },
   "outputs": [
    {
     "data": {
      "text/html": [
       "<div>\n",
       "<style scoped>\n",
       "    .dataframe tbody tr th:only-of-type {\n",
       "        vertical-align: middle;\n",
       "    }\n",
       "\n",
       "    .dataframe tbody tr th {\n",
       "        vertical-align: top;\n",
       "    }\n",
       "\n",
       "    .dataframe thead th {\n",
       "        text-align: right;\n",
       "    }\n",
       "</style>\n",
       "<table border=\"1\" class=\"dataframe\">\n",
       "  <thead>\n",
       "    <tr style=\"text-align: right;\">\n",
       "      <th></th>\n",
       "      <th>counts</th>\n",
       "      <th>%</th>\n",
       "    </tr>\n",
       "  </thead>\n",
       "  <tbody>\n",
       "    <tr>\n",
       "      <th>NGQCKIADMZORL</th>\n",
       "      <td>20</td>\n",
       "      <td>0.01</td>\n",
       "    </tr>\n",
       "    <tr>\n",
       "      <th>ZUSVMDEZRBDTX</th>\n",
       "      <td>20</td>\n",
       "      <td>0.01</td>\n",
       "    </tr>\n",
       "    <tr>\n",
       "      <th>CQTUVBYIWWWBC</th>\n",
       "      <td>20</td>\n",
       "      <td>0.01</td>\n",
       "    </tr>\n",
       "    <tr>\n",
       "      <th>KIPFSCNUGOLDP</th>\n",
       "      <td>20</td>\n",
       "      <td>0.01</td>\n",
       "    </tr>\n",
       "    <tr>\n",
       "      <th>ITUMJCKWEYNDD</th>\n",
       "      <td>20</td>\n",
       "      <td>0.01</td>\n",
       "    </tr>\n",
       "    <tr>\n",
       "      <th>...</th>\n",
       "      <td>...</td>\n",
       "      <td>...</td>\n",
       "    </tr>\n",
       "    <tr>\n",
       "      <th>MLMAILITCBCOY</th>\n",
       "      <td>15</td>\n",
       "      <td>0.01</td>\n",
       "    </tr>\n",
       "    <tr>\n",
       "      <th>GZMOUDIAZTTUO</th>\n",
       "      <td>15</td>\n",
       "      <td>0.01</td>\n",
       "    </tr>\n",
       "    <tr>\n",
       "      <th>TZZDLDMKAXGXV</th>\n",
       "      <td>15</td>\n",
       "      <td>0.01</td>\n",
       "    </tr>\n",
       "    <tr>\n",
       "      <th>VLNELJEFKHYNR</th>\n",
       "      <td>15</td>\n",
       "      <td>0.01</td>\n",
       "    </tr>\n",
       "    <tr>\n",
       "      <th>BALITCTPUJLHB</th>\n",
       "      <td>15</td>\n",
       "      <td>0.01</td>\n",
       "    </tr>\n",
       "  </tbody>\n",
       "</table>\n",
       "<p>100 rows × 2 columns</p>\n",
       "</div>"
      ],
      "text/plain": [
       "               counts     %\n",
       "NGQCKIADMZORL      20  0.01\n",
       "ZUSVMDEZRBDTX      20  0.01\n",
       "CQTUVBYIWWWBC      20  0.01\n",
       "KIPFSCNUGOLDP      20  0.01\n",
       "ITUMJCKWEYNDD      20  0.01\n",
       "...               ...   ...\n",
       "MLMAILITCBCOY      15  0.01\n",
       "GZMOUDIAZTTUO      15  0.01\n",
       "TZZDLDMKAXGXV      15  0.01\n",
       "VLNELJEFKHYNR      15  0.01\n",
       "BALITCTPUJLHB      15  0.01\n",
       "\n",
       "[100 rows x 2 columns]"
      ]
     },
     "execution_count": 24,
     "metadata": {},
     "output_type": "execute_result"
    }
   ],
   "source": [
    "## let's look at device ID, some seem to appear more than once\n",
    "id_count = show_unique_count(fraud, \"device_id\").head(100)\n",
    "id_count"
   ]
  },
  {
   "cell_type": "code",
   "execution_count": 112,
   "metadata": {
    "scrolled": false
   },
   "outputs": [],
   "source": [
    "# create a row called device_id_count\n",
    "fraud['device_id_count'] = fraud.groupby('device_id')['device_id'].transform('count')"
   ]
  },
  {
   "cell_type": "code",
   "execution_count": 26,
   "metadata": {
    "scrolled": false
   },
   "outputs": [
    {
     "data": {
      "text/html": [
       "<div>\n",
       "<style scoped>\n",
       "    .dataframe tbody tr th:only-of-type {\n",
       "        vertical-align: middle;\n",
       "    }\n",
       "\n",
       "    .dataframe tbody tr th {\n",
       "        vertical-align: top;\n",
       "    }\n",
       "\n",
       "    .dataframe thead th {\n",
       "        text-align: right;\n",
       "    }\n",
       "</style>\n",
       "<table border=\"1\" class=\"dataframe\">\n",
       "  <thead>\n",
       "    <tr style=\"text-align: right;\">\n",
       "      <th></th>\n",
       "      <th>user_id</th>\n",
       "      <th>signup_time</th>\n",
       "      <th>purchase_time</th>\n",
       "      <th>purchase_value</th>\n",
       "      <th>device_id</th>\n",
       "      <th>source</th>\n",
       "      <th>browser</th>\n",
       "      <th>sex</th>\n",
       "      <th>age</th>\n",
       "      <th>ip_address</th>\n",
       "      <th>class</th>\n",
       "      <th>country_name</th>\n",
       "      <th>device_id_count</th>\n",
       "    </tr>\n",
       "  </thead>\n",
       "  <tbody>\n",
       "    <tr>\n",
       "      <th>0</th>\n",
       "      <td>22058</td>\n",
       "      <td>2015-02-24 22:55:49</td>\n",
       "      <td>2015-04-18 02:47:11</td>\n",
       "      <td>34</td>\n",
       "      <td>QVPSPJUOCKZAR</td>\n",
       "      <td>SEO</td>\n",
       "      <td>Chrome</td>\n",
       "      <td>M</td>\n",
       "      <td>39</td>\n",
       "      <td>7.327584e+08</td>\n",
       "      <td>0</td>\n",
       "      <td>Japan</td>\n",
       "      <td>1</td>\n",
       "    </tr>\n",
       "    <tr>\n",
       "      <th>1</th>\n",
       "      <td>333320</td>\n",
       "      <td>2015-06-07 20:39:50</td>\n",
       "      <td>2015-06-08 01:38:54</td>\n",
       "      <td>16</td>\n",
       "      <td>EOGFQPIZPYXFZ</td>\n",
       "      <td>Ads</td>\n",
       "      <td>Chrome</td>\n",
       "      <td>F</td>\n",
       "      <td>53</td>\n",
       "      <td>3.503114e+08</td>\n",
       "      <td>0</td>\n",
       "      <td>United States</td>\n",
       "      <td>1</td>\n",
       "    </tr>\n",
       "    <tr>\n",
       "      <th>2</th>\n",
       "      <td>1359</td>\n",
       "      <td>2015-01-01 18:52:44</td>\n",
       "      <td>2015-01-01 18:52:45</td>\n",
       "      <td>15</td>\n",
       "      <td>YSSKYOSJHPPLJ</td>\n",
       "      <td>SEO</td>\n",
       "      <td>Opera</td>\n",
       "      <td>M</td>\n",
       "      <td>53</td>\n",
       "      <td>2.621474e+09</td>\n",
       "      <td>1</td>\n",
       "      <td>United States</td>\n",
       "      <td>12</td>\n",
       "    </tr>\n",
       "    <tr>\n",
       "      <th>3</th>\n",
       "      <td>150084</td>\n",
       "      <td>2015-04-28 21:13:25</td>\n",
       "      <td>2015-05-04 13:54:50</td>\n",
       "      <td>44</td>\n",
       "      <td>ATGTXKYKUDUQN</td>\n",
       "      <td>SEO</td>\n",
       "      <td>Safari</td>\n",
       "      <td>M</td>\n",
       "      <td>41</td>\n",
       "      <td>3.840542e+09</td>\n",
       "      <td>0</td>\n",
       "      <td>Unknown_Country</td>\n",
       "      <td>1</td>\n",
       "    </tr>\n",
       "    <tr>\n",
       "      <th>4</th>\n",
       "      <td>221365</td>\n",
       "      <td>2015-07-21 07:09:52</td>\n",
       "      <td>2015-09-09 18:40:53</td>\n",
       "      <td>39</td>\n",
       "      <td>NAUITBZFJKHWW</td>\n",
       "      <td>Ads</td>\n",
       "      <td>Safari</td>\n",
       "      <td>M</td>\n",
       "      <td>45</td>\n",
       "      <td>4.155831e+08</td>\n",
       "      <td>0</td>\n",
       "      <td>United States</td>\n",
       "      <td>1</td>\n",
       "    </tr>\n",
       "  </tbody>\n",
       "</table>\n",
       "</div>"
      ],
      "text/plain": [
       "   user_id          signup_time        purchase_time  purchase_value  \\\n",
       "0    22058  2015-02-24 22:55:49  2015-04-18 02:47:11              34   \n",
       "1   333320  2015-06-07 20:39:50  2015-06-08 01:38:54              16   \n",
       "2     1359  2015-01-01 18:52:44  2015-01-01 18:52:45              15   \n",
       "3   150084  2015-04-28 21:13:25  2015-05-04 13:54:50              44   \n",
       "4   221365  2015-07-21 07:09:52  2015-09-09 18:40:53              39   \n",
       "\n",
       "       device_id source browser sex  age    ip_address  class  \\\n",
       "0  QVPSPJUOCKZAR    SEO  Chrome   M   39  7.327584e+08      0   \n",
       "1  EOGFQPIZPYXFZ    Ads  Chrome   F   53  3.503114e+08      0   \n",
       "2  YSSKYOSJHPPLJ    SEO   Opera   M   53  2.621474e+09      1   \n",
       "3  ATGTXKYKUDUQN    SEO  Safari   M   41  3.840542e+09      0   \n",
       "4  NAUITBZFJKHWW    Ads  Safari   M   45  4.155831e+08      0   \n",
       "\n",
       "      country_name  device_id_count  \n",
       "0            Japan                1  \n",
       "1    United States                1  \n",
       "2    United States               12  \n",
       "3  Unknown_Country                1  \n",
       "4    United States                1  "
      ]
     },
     "execution_count": 26,
     "metadata": {},
     "output_type": "execute_result"
    }
   ],
   "source": [
    "#checking\n",
    "fraud.head()"
   ]
  },
  {
   "cell_type": "code",
   "execution_count": 114,
   "metadata": {
    "scrolled": false
   },
   "outputs": [
    {
     "name": "stderr",
     "output_type": "stream",
     "text": [
      "/Users/personal/opt/anaconda3/lib/python3.8/site-packages/seaborn/distributions.py:369: UserWarning: Default bandwidth for data is 0; skipping density estimation.\n",
      "  warnings.warn(msg, UserWarning)\n"
     ]
    },
    {
     "data": {
      "image/png": "[encoded data removed]",
      "text/plain": [
       "<Figure size 720x288 with 2 Axes>"
      ]
     },
     "metadata": {
      "needs_background": "light"
     },
     "output_type": "display_data"
    }
   ],
   "source": [
    "## let's see if there is a diff of distribution in age according class\n",
    "\n",
    "fig, (ax1, ax2) = plt.subplots(1,2,figsize=(10, 4))  # 2 row, 2 columns\n",
    "\n",
    "ax1.set_title('Device ID count distribution no fraud')\n",
    "ax2.set_title('Device ID count distribution fraud')\n",
    "\n",
    "sns.distplot(fraud[fraud[\"class\"] ==0]['device_id_count'], color = \"blue\", bins=15, ax=ax1)\n",
    "sns.distplot(fraud[fraud[\"class\"] ==1]['device_id_count'], color = \"red\", bins=15, ax=ax2)\n",
    "      \n",
    "plt.tight_layout()\n",
    "plt.show()"
   ]
  },
  {
   "cell_type": "markdown",
   "metadata": {},
   "source": [
    "### How do we treat signup_time and purchase_time? \n",
    "- signup time --> let's keep time only, under the assumption that some sign up times might be more suspicious than others. We can transform it to a timestamp to use it in the model\n",
    "- purchase time --> let's replace it by the time difference between sign up and purchase"
   ]
  },
  {
   "cell_type": "code",
   "execution_count": 93,
   "metadata": {
    "scrolled": false
   },
   "outputs": [],
   "source": [
    "import datetime as dt"
   ]
  },
  {
   "cell_type": "code",
   "execution_count": 94,
   "metadata": {
    "scrolled": false
   },
   "outputs": [],
   "source": [
    "fraud[\"signup_time\"] = pd.to_datetime(fraud['signup_time'])"
   ]
  },
  {
   "cell_type": "code",
   "execution_count": 95,
   "metadata": {
    "scrolled": false
   },
   "outputs": [],
   "source": [
    "fraud[\"purchase_time\"] = pd.to_datetime(fraud['purchase_time'])"
   ]
  },
  {
   "cell_type": "code",
   "execution_count": 96,
   "metadata": {
    "scrolled": false
   },
   "outputs": [],
   "source": [
    "fraud[\"time_delta\"] = (fraud['purchase_time'] - fraud['signup_time']).dt.seconds\n",
    "\n"
   ]
  },
  {
   "cell_type": "code",
   "execution_count": 97,
   "metadata": {
    "scrolled": false
   },
   "outputs": [],
   "source": [
    "# creating a signup column with integers to process it\n",
    "fraud['signup_time_abs'] = fraud['signup_time'].dt.hour.astype(float)\n"
   ]
  },
  {
   "cell_type": "code",
   "execution_count": 108,
   "metadata": {
    "scrolled": false
   },
   "outputs": [
    {
     "data": {
      "image/png": "[encoded data removed]",
      "text/plain": [
       "<Figure size 720x288 with 2 Axes>"
      ]
     },
     "metadata": {
      "needs_background": "light"
     },
     "output_type": "display_data"
    }
   ],
   "source": [
    "## let's see if there is a diff of distribution in age according class\n",
    "\n",
    "fig, (ax1, ax2) = plt.subplots(1,2,figsize=(10, 4))  # 2 row, 2 columns\n",
    "\n",
    "ax1.set_title('Time Delta Distribution No Fraud')\n",
    "ax2.set_title('Time Delta Distribution Fraud')\n",
    "\n",
    "sns.distplot(fraud[fraud[\"class\"] ==0]['time_delta'], color = \"blue\", bins=15, ax=ax1)\n",
    "sns.distplot(fraud[fraud[\"class\"] ==1]['time_delta'], color = \"red\", bins=15, ax=ax2)\n",
    "      \n",
    "plt.tight_layout()\n",
    "plt.show()"
   ]
  },
  {
   "cell_type": "markdown",
   "metadata": {},
   "source": [
    "### It seems quite evident here that frauds tend to have lower delta between sign up and purchase than no fraud"
   ]
  },
  {
   "cell_type": "code",
   "execution_count": 110,
   "metadata": {
    "scrolled": false
   },
   "outputs": [
    {
     "data": {
      "image/png": "[encoded data removed]",
      "text/plain": [
       "<Figure size 720x288 with 2 Axes>"
      ]
     },
     "metadata": {
      "needs_background": "light"
     },
     "output_type": "display_data"
    }
   ],
   "source": [
    "## let's see if there is a diff of distribution in age according class\n",
    "\n",
    "fig, (ax1, ax2) = plt.subplots(1,2,figsize=(10, 4))  # 2 row, 2 columns\n",
    "\n",
    "ax1.set_title('Sign Up Time Distribution No Fraud')\n",
    "ax2.set_title('Sign Up Time Distribution Fraud')\n",
    "\n",
    "sns.distplot(fraud[fraud[\"class\"] ==0]['signup_time_abs'], color = \"blue\", bins=15, ax=ax1)\n",
    "sns.distplot(fraud[fraud[\"class\"] ==1]['signup_time_abs'], color = \"red\", bins=15, ax=ax2)\n",
    "      \n",
    "plt.tight_layout()\n",
    "plt.show()"
   ]
  },
  {
   "cell_type": "markdown",
   "metadata": {},
   "source": [
    "### Does not seem to be any obvious difference in between signup time with fraud and without"
   ]
  },
  {
   "cell_type": "code",
   "execution_count": 98,
   "metadata": {
    "scrolled": true
   },
   "outputs": [
    {
     "data": {
      "text/html": [
       "<div>\n",
       "<style scoped>\n",
       "    .dataframe tbody tr th:only-of-type {\n",
       "        vertical-align: middle;\n",
       "    }\n",
       "\n",
       "    .dataframe tbody tr th {\n",
       "        vertical-align: top;\n",
       "    }\n",
       "\n",
       "    .dataframe thead th {\n",
       "        text-align: right;\n",
       "    }\n",
       "</style>\n",
       "<table border=\"1\" class=\"dataframe\">\n",
       "  <thead>\n",
       "    <tr style=\"text-align: right;\">\n",
       "      <th></th>\n",
       "      <th>user_id</th>\n",
       "      <th>signup_time</th>\n",
       "      <th>purchase_time</th>\n",
       "      <th>purchase_value</th>\n",
       "      <th>device_id</th>\n",
       "      <th>source</th>\n",
       "      <th>browser</th>\n",
       "      <th>sex</th>\n",
       "      <th>age</th>\n",
       "      <th>ip_address</th>\n",
       "      <th>class</th>\n",
       "      <th>country_name</th>\n",
       "      <th>time_delta</th>\n",
       "      <th>signup_time_abs</th>\n",
       "    </tr>\n",
       "  </thead>\n",
       "  <tbody>\n",
       "    <tr>\n",
       "      <th>0</th>\n",
       "      <td>22058</td>\n",
       "      <td>2015-02-24 22:55:49</td>\n",
       "      <td>2015-04-18 02:47:11</td>\n",
       "      <td>34</td>\n",
       "      <td>QVPSPJUOCKZAR</td>\n",
       "      <td>SEO</td>\n",
       "      <td>Chrome</td>\n",
       "      <td>M</td>\n",
       "      <td>39</td>\n",
       "      <td>7.327584e+08</td>\n",
       "      <td>0</td>\n",
       "      <td>Japan</td>\n",
       "      <td>13882</td>\n",
       "      <td>22.0</td>\n",
       "    </tr>\n",
       "    <tr>\n",
       "      <th>1</th>\n",
       "      <td>333320</td>\n",
       "      <td>2015-06-07 20:39:50</td>\n",
       "      <td>2015-06-08 01:38:54</td>\n",
       "      <td>16</td>\n",
       "      <td>EOGFQPIZPYXFZ</td>\n",
       "      <td>Ads</td>\n",
       "      <td>Chrome</td>\n",
       "      <td>F</td>\n",
       "      <td>53</td>\n",
       "      <td>3.503114e+08</td>\n",
       "      <td>0</td>\n",
       "      <td>United States</td>\n",
       "      <td>17944</td>\n",
       "      <td>20.0</td>\n",
       "    </tr>\n",
       "    <tr>\n",
       "      <th>2</th>\n",
       "      <td>1359</td>\n",
       "      <td>2015-01-01 18:52:44</td>\n",
       "      <td>2015-01-01 18:52:45</td>\n",
       "      <td>15</td>\n",
       "      <td>YSSKYOSJHPPLJ</td>\n",
       "      <td>SEO</td>\n",
       "      <td>Opera</td>\n",
       "      <td>M</td>\n",
       "      <td>53</td>\n",
       "      <td>2.621474e+09</td>\n",
       "      <td>1</td>\n",
       "      <td>United States</td>\n",
       "      <td>1</td>\n",
       "      <td>18.0</td>\n",
       "    </tr>\n",
       "    <tr>\n",
       "      <th>3</th>\n",
       "      <td>150084</td>\n",
       "      <td>2015-04-28 21:13:25</td>\n",
       "      <td>2015-05-04 13:54:50</td>\n",
       "      <td>44</td>\n",
       "      <td>ATGTXKYKUDUQN</td>\n",
       "      <td>SEO</td>\n",
       "      <td>Safari</td>\n",
       "      <td>M</td>\n",
       "      <td>41</td>\n",
       "      <td>3.840542e+09</td>\n",
       "      <td>0</td>\n",
       "      <td>Unknown_Country</td>\n",
       "      <td>60085</td>\n",
       "      <td>21.0</td>\n",
       "    </tr>\n",
       "    <tr>\n",
       "      <th>4</th>\n",
       "      <td>221365</td>\n",
       "      <td>2015-07-21 07:09:52</td>\n",
       "      <td>2015-09-09 18:40:53</td>\n",
       "      <td>39</td>\n",
       "      <td>NAUITBZFJKHWW</td>\n",
       "      <td>Ads</td>\n",
       "      <td>Safari</td>\n",
       "      <td>M</td>\n",
       "      <td>45</td>\n",
       "      <td>4.155831e+08</td>\n",
       "      <td>0</td>\n",
       "      <td>United States</td>\n",
       "      <td>41461</td>\n",
       "      <td>7.0</td>\n",
       "    </tr>\n",
       "    <tr>\n",
       "      <th>...</th>\n",
       "      <td>...</td>\n",
       "      <td>...</td>\n",
       "      <td>...</td>\n",
       "      <td>...</td>\n",
       "      <td>...</td>\n",
       "      <td>...</td>\n",
       "      <td>...</td>\n",
       "      <td>...</td>\n",
       "      <td>...</td>\n",
       "      <td>...</td>\n",
       "      <td>...</td>\n",
       "      <td>...</td>\n",
       "      <td>...</td>\n",
       "      <td>...</td>\n",
       "    </tr>\n",
       "    <tr>\n",
       "      <th>151107</th>\n",
       "      <td>345170</td>\n",
       "      <td>2015-01-27 03:03:34</td>\n",
       "      <td>2015-03-29 00:30:47</td>\n",
       "      <td>43</td>\n",
       "      <td>XPSKTWGPWINLR</td>\n",
       "      <td>SEO</td>\n",
       "      <td>Chrome</td>\n",
       "      <td>M</td>\n",
       "      <td>28</td>\n",
       "      <td>3.451155e+09</td>\n",
       "      <td>1</td>\n",
       "      <td>United States</td>\n",
       "      <td>77233</td>\n",
       "      <td>3.0</td>\n",
       "    </tr>\n",
       "    <tr>\n",
       "      <th>151108</th>\n",
       "      <td>274471</td>\n",
       "      <td>2015-05-15 17:43:29</td>\n",
       "      <td>2015-05-26 12:24:39</td>\n",
       "      <td>35</td>\n",
       "      <td>LYSFABUCPCGBA</td>\n",
       "      <td>SEO</td>\n",
       "      <td>Safari</td>\n",
       "      <td>M</td>\n",
       "      <td>32</td>\n",
       "      <td>2.439047e+09</td>\n",
       "      <td>0</td>\n",
       "      <td>Netherlands</td>\n",
       "      <td>67270</td>\n",
       "      <td>17.0</td>\n",
       "    </tr>\n",
       "    <tr>\n",
       "      <th>151109</th>\n",
       "      <td>368416</td>\n",
       "      <td>2015-03-03 23:07:31</td>\n",
       "      <td>2015-05-20 07:07:47</td>\n",
       "      <td>40</td>\n",
       "      <td>MEQHCSJUBRBFE</td>\n",
       "      <td>SEO</td>\n",
       "      <td>IE</td>\n",
       "      <td>F</td>\n",
       "      <td>26</td>\n",
       "      <td>2.748471e+09</td>\n",
       "      <td>0</td>\n",
       "      <td>Japan</td>\n",
       "      <td>28816</td>\n",
       "      <td>23.0</td>\n",
       "    </tr>\n",
       "    <tr>\n",
       "      <th>151110</th>\n",
       "      <td>207709</td>\n",
       "      <td>2015-07-09 20:06:07</td>\n",
       "      <td>2015-09-07 09:34:46</td>\n",
       "      <td>46</td>\n",
       "      <td>CMCXFGRHYSTVJ</td>\n",
       "      <td>SEO</td>\n",
       "      <td>Chrome</td>\n",
       "      <td>M</td>\n",
       "      <td>37</td>\n",
       "      <td>3.601175e+09</td>\n",
       "      <td>0</td>\n",
       "      <td>United States</td>\n",
       "      <td>48519</td>\n",
       "      <td>20.0</td>\n",
       "    </tr>\n",
       "    <tr>\n",
       "      <th>151111</th>\n",
       "      <td>138208</td>\n",
       "      <td>2015-06-10 07:02:20</td>\n",
       "      <td>2015-07-21 02:03:53</td>\n",
       "      <td>20</td>\n",
       "      <td>ZINIADFCLHYPG</td>\n",
       "      <td>Direct</td>\n",
       "      <td>IE</td>\n",
       "      <td>M</td>\n",
       "      <td>38</td>\n",
       "      <td>4.103825e+09</td>\n",
       "      <td>0</td>\n",
       "      <td>Unknown_Country</td>\n",
       "      <td>68493</td>\n",
       "      <td>7.0</td>\n",
       "    </tr>\n",
       "  </tbody>\n",
       "</table>\n",
       "<p>151112 rows × 14 columns</p>\n",
       "</div>"
      ],
      "text/plain": [
       "        user_id         signup_time       purchase_time  purchase_value  \\\n",
       "0         22058 2015-02-24 22:55:49 2015-04-18 02:47:11              34   \n",
       "1        333320 2015-06-07 20:39:50 2015-06-08 01:38:54              16   \n",
       "2          1359 2015-01-01 18:52:44 2015-01-01 18:52:45              15   \n",
       "3        150084 2015-04-28 21:13:25 2015-05-04 13:54:50              44   \n",
       "4        221365 2015-07-21 07:09:52 2015-09-09 18:40:53              39   \n",
       "...         ...                 ...                 ...             ...   \n",
       "151107   345170 2015-01-27 03:03:34 2015-03-29 00:30:47              43   \n",
       "151108   274471 2015-05-15 17:43:29 2015-05-26 12:24:39              35   \n",
       "151109   368416 2015-03-03 23:07:31 2015-05-20 07:07:47              40   \n",
       "151110   207709 2015-07-09 20:06:07 2015-09-07 09:34:46              46   \n",
       "151111   138208 2015-06-10 07:02:20 2015-07-21 02:03:53              20   \n",
       "\n",
       "            device_id  source browser sex  age    ip_address  class  \\\n",
       "0       QVPSPJUOCKZAR     SEO  Chrome   M   39  7.327584e+08      0   \n",
       "1       EOGFQPIZPYXFZ     Ads  Chrome   F   53  3.503114e+08      0   \n",
       "2       YSSKYOSJHPPLJ     SEO   Opera   M   53  2.621474e+09      1   \n",
       "3       ATGTXKYKUDUQN     SEO  Safari   M   41  3.840542e+09      0   \n",
       "4       NAUITBZFJKHWW     Ads  Safari   M   45  4.155831e+08      0   \n",
       "...               ...     ...     ...  ..  ...           ...    ...   \n",
       "151107  XPSKTWGPWINLR     SEO  Chrome   M   28  3.451155e+09      1   \n",
       "151108  LYSFABUCPCGBA     SEO  Safari   M   32  2.439047e+09      0   \n",
       "151109  MEQHCSJUBRBFE     SEO      IE   F   26  2.748471e+09      0   \n",
       "151110  CMCXFGRHYSTVJ     SEO  Chrome   M   37  3.601175e+09      0   \n",
       "151111  ZINIADFCLHYPG  Direct      IE   M   38  4.103825e+09      0   \n",
       "\n",
       "           country_name  time_delta  signup_time_abs  \n",
       "0                 Japan       13882             22.0  \n",
       "1         United States       17944             20.0  \n",
       "2         United States           1             18.0  \n",
       "3       Unknown_Country       60085             21.0  \n",
       "4         United States       41461              7.0  \n",
       "...                 ...         ...              ...  \n",
       "151107    United States       77233              3.0  \n",
       "151108      Netherlands       67270             17.0  \n",
       "151109            Japan       28816             23.0  \n",
       "151110    United States       48519             20.0  \n",
       "151111  Unknown_Country       68493              7.0  \n",
       "\n",
       "[151112 rows x 14 columns]"
      ]
     },
     "execution_count": 98,
     "metadata": {},
     "output_type": "execute_result"
    }
   ],
   "source": [
    "fraud"
   ]
  },
  {
   "cell_type": "markdown",
   "metadata": {},
   "source": [
    "### Let's take a look at age "
   ]
  },
  {
   "cell_type": "code",
   "execution_count": 99,
   "metadata": {
    "scrolled": false
   },
   "outputs": [
    {
     "data": {
      "text/plain": [
       "<matplotlib.axes._subplots.AxesSubplot at 0x7f9060962af0>"
      ]
     },
     "execution_count": 99,
     "metadata": {},
     "output_type": "execute_result"
    },
    {
     "data": {
      "image/png": "[encoded data removed]",
      "text/plain": [
       "<Figure size 432x288 with 1 Axes>"
      ]
     },
     "metadata": {
      "needs_background": "light"
     },
     "output_type": "display_data"
    }
   ],
   "source": [
    "## let's plot age to see if there are any outliers\n",
    "\n",
    "sns.distplot(fraud['age'], color = \"navy\", bins=15)"
   ]
  },
  {
   "cell_type": "markdown",
   "metadata": {},
   "source": [
    "### Distribution is less normalized when there is fraud, however we can take out outliers, especially under 60s\n",
    "- let's take out those under 3 stds"
   ]
  },
  {
   "cell_type": "code",
   "execution_count": 105,
   "metadata": {
    "scrolled": false
   },
   "outputs": [
    {
     "data": {
      "image/png": "[encoded data removed]",
      "text/plain": [
       "<Figure size 720x288 with 2 Axes>"
      ]
     },
     "metadata": {
      "needs_background": "light"
     },
     "output_type": "display_data"
    }
   ],
   "source": [
    "fig, (ax1, ax2) = plt.subplots(1,2,figsize=(10, 4))  # 2 row, 2 columns\n",
    "\n",
    "ax1.set_title('age distribution no fraud')\n",
    "ax2.set_title('age distribution fraud')\n",
    "\n",
    "sns.distplot(fraud[fraud[\"class\"] ==0]['age'], color = \"blue\", bins=15, ax=ax1)\n",
    "sns.distplot(fraud[fraud[\"class\"] ==1]['age'], color = \"red\", bins=15, ax=ax2)\n",
    "      \n",
    "plt.tight_layout()\n",
    "plt.show()"
   ]
  },
  {
   "cell_type": "code",
   "execution_count": 115,
   "metadata": {
    "scrolled": false
   },
   "outputs": [],
   "source": [
    "fraud_clean = fraud[(fraud[\"age\"].abs()-fraud[\"age\"].mean()) <= (3*fraud[\"age\"].std())]\n"
   ]
  },
  {
   "cell_type": "code",
   "execution_count": 116,
   "metadata": {
    "scrolled": false
   },
   "outputs": [
    {
     "data": {
      "text/plain": [
       "<matplotlib.axes._subplots.AxesSubplot at 0x7f906378f400>"
      ]
     },
     "execution_count": 116,
     "metadata": {},
     "output_type": "execute_result"
    },
    {
     "data": {
      "image/png": "[encoded data removed]",
      "text/plain": [
       "<Figure size 432x288 with 1 Axes>"
      ]
     },
     "metadata": {
      "needs_background": "light"
     },
     "output_type": "display_data"
    }
   ],
   "source": [
    "sns.distplot(fraud_clean['age'], color = \"navy\", bins=15)"
   ]
  },
  {
   "cell_type": "code",
   "execution_count": 117,
   "metadata": {
    "scrolled": false
   },
   "outputs": [
    {
     "data": {
      "text/html": [
       "<div>\n",
       "<style scoped>\n",
       "    .dataframe tbody tr th:only-of-type {\n",
       "        vertical-align: middle;\n",
       "    }\n",
       "\n",
       "    .dataframe tbody tr th {\n",
       "        vertical-align: top;\n",
       "    }\n",
       "\n",
       "    .dataframe thead th {\n",
       "        text-align: right;\n",
       "    }\n",
       "</style>\n",
       "<table border=\"1\" class=\"dataframe\">\n",
       "  <thead>\n",
       "    <tr style=\"text-align: right;\">\n",
       "      <th></th>\n",
       "      <th>user_id</th>\n",
       "      <th>signup_time</th>\n",
       "      <th>purchase_time</th>\n",
       "      <th>purchase_value</th>\n",
       "      <th>device_id</th>\n",
       "      <th>source</th>\n",
       "      <th>browser</th>\n",
       "      <th>sex</th>\n",
       "      <th>age</th>\n",
       "      <th>ip_address</th>\n",
       "      <th>class</th>\n",
       "      <th>country_name</th>\n",
       "      <th>time_delta</th>\n",
       "      <th>signup_time_abs</th>\n",
       "      <th>device_id_count</th>\n",
       "    </tr>\n",
       "  </thead>\n",
       "  <tbody>\n",
       "    <tr>\n",
       "      <th>count</th>\n",
       "      <td>150559.000000</td>\n",
       "      <td>150559</td>\n",
       "      <td>150559</td>\n",
       "      <td>150559.000000</td>\n",
       "      <td>150559</td>\n",
       "      <td>150559</td>\n",
       "      <td>150559</td>\n",
       "      <td>150559</td>\n",
       "      <td>150559.000000</td>\n",
       "      <td>1.505590e+05</td>\n",
       "      <td>150559.000000</td>\n",
       "      <td>150559</td>\n",
       "      <td>150559.000000</td>\n",
       "      <td>150559.000000</td>\n",
       "      <td>150559.000000</td>\n",
       "    </tr>\n",
       "    <tr>\n",
       "      <th>unique</th>\n",
       "      <td>NaN</td>\n",
       "      <td>150559</td>\n",
       "      <td>150132</td>\n",
       "      <td>NaN</td>\n",
       "      <td>137470</td>\n",
       "      <td>3</td>\n",
       "      <td>5</td>\n",
       "      <td>2</td>\n",
       "      <td>NaN</td>\n",
       "      <td>NaN</td>\n",
       "      <td>NaN</td>\n",
       "      <td>103</td>\n",
       "      <td>NaN</td>\n",
       "      <td>NaN</td>\n",
       "      <td>NaN</td>\n",
       "    </tr>\n",
       "    <tr>\n",
       "      <th>top</th>\n",
       "      <td>NaN</td>\n",
       "      <td>2015-06-30 03:58:38</td>\n",
       "      <td>2015-09-10 09:04:53</td>\n",
       "      <td>NaN</td>\n",
       "      <td>KIPFSCNUGOLDP</td>\n",
       "      <td>SEO</td>\n",
       "      <td>Chrome</td>\n",
       "      <td>M</td>\n",
       "      <td>NaN</td>\n",
       "      <td>NaN</td>\n",
       "      <td>NaN</td>\n",
       "      <td>United States</td>\n",
       "      <td>NaN</td>\n",
       "      <td>NaN</td>\n",
       "      <td>NaN</td>\n",
       "    </tr>\n",
       "    <tr>\n",
       "      <th>freq</th>\n",
       "      <td>NaN</td>\n",
       "      <td>1</td>\n",
       "      <td>3</td>\n",
       "      <td>NaN</td>\n",
       "      <td>20</td>\n",
       "      <td>60400</td>\n",
       "      <td>61223</td>\n",
       "      <td>87967</td>\n",
       "      <td>NaN</td>\n",
       "      <td>NaN</td>\n",
       "      <td>NaN</td>\n",
       "      <td>57836</td>\n",
       "      <td>NaN</td>\n",
       "      <td>NaN</td>\n",
       "      <td>NaN</td>\n",
       "    </tr>\n",
       "    <tr>\n",
       "      <th>first</th>\n",
       "      <td>NaN</td>\n",
       "      <td>2015-01-01 00:00:42</td>\n",
       "      <td>2015-01-01 00:00:44</td>\n",
       "      <td>NaN</td>\n",
       "      <td>NaN</td>\n",
       "      <td>NaN</td>\n",
       "      <td>NaN</td>\n",
       "      <td>NaN</td>\n",
       "      <td>NaN</td>\n",
       "      <td>NaN</td>\n",
       "      <td>NaN</td>\n",
       "      <td>NaN</td>\n",
       "      <td>NaN</td>\n",
       "      <td>NaN</td>\n",
       "      <td>NaN</td>\n",
       "    </tr>\n",
       "    <tr>\n",
       "      <th>last</th>\n",
       "      <td>NaN</td>\n",
       "      <td>2015-08-18 04:40:29</td>\n",
       "      <td>2015-12-16 02:56:05</td>\n",
       "      <td>NaN</td>\n",
       "      <td>NaN</td>\n",
       "      <td>NaN</td>\n",
       "      <td>NaN</td>\n",
       "      <td>NaN</td>\n",
       "      <td>NaN</td>\n",
       "      <td>NaN</td>\n",
       "      <td>NaN</td>\n",
       "      <td>NaN</td>\n",
       "      <td>NaN</td>\n",
       "      <td>NaN</td>\n",
       "      <td>NaN</td>\n",
       "    </tr>\n",
       "    <tr>\n",
       "      <th>mean</th>\n",
       "      <td>200184.206305</td>\n",
       "      <td>NaN</td>\n",
       "      <td>NaN</td>\n",
       "      <td>36.935201</td>\n",
       "      <td>NaN</td>\n",
       "      <td>NaN</td>\n",
       "      <td>NaN</td>\n",
       "      <td>NaN</td>\n",
       "      <td>33.036756</td>\n",
       "      <td>2.152262e+09</td>\n",
       "      <td>0.093664</td>\n",
       "      <td>NaN</td>\n",
       "      <td>40940.477972</td>\n",
       "      <td>11.490519</td>\n",
       "      <td>1.684635</td>\n",
       "    </tr>\n",
       "    <tr>\n",
       "      <th>std</th>\n",
       "      <td>115370.362863</td>\n",
       "      <td>NaN</td>\n",
       "      <td>NaN</td>\n",
       "      <td>18.321234</td>\n",
       "      <td>NaN</td>\n",
       "      <td>NaN</td>\n",
       "      <td>NaN</td>\n",
       "      <td>NaN</td>\n",
       "      <td>8.459321</td>\n",
       "      <td>1.248566e+09</td>\n",
       "      <td>0.291362</td>\n",
       "      <td>NaN</td>\n",
       "      <td>26049.968544</td>\n",
       "      <td>6.917197</td>\n",
       "      <td>2.617998</td>\n",
       "    </tr>\n",
       "    <tr>\n",
       "      <th>min</th>\n",
       "      <td>2.000000</td>\n",
       "      <td>NaN</td>\n",
       "      <td>NaN</td>\n",
       "      <td>9.000000</td>\n",
       "      <td>NaN</td>\n",
       "      <td>NaN</td>\n",
       "      <td>NaN</td>\n",
       "      <td>NaN</td>\n",
       "      <td>18.000000</td>\n",
       "      <td>5.209350e+04</td>\n",
       "      <td>0.000000</td>\n",
       "      <td>NaN</td>\n",
       "      <td>1.000000</td>\n",
       "      <td>0.000000</td>\n",
       "      <td>1.000000</td>\n",
       "    </tr>\n",
       "    <tr>\n",
       "      <th>25%</th>\n",
       "      <td>100662.500000</td>\n",
       "      <td>NaN</td>\n",
       "      <td>NaN</td>\n",
       "      <td>22.000000</td>\n",
       "      <td>NaN</td>\n",
       "      <td>NaN</td>\n",
       "      <td>NaN</td>\n",
       "      <td>NaN</td>\n",
       "      <td>27.000000</td>\n",
       "      <td>1.085948e+09</td>\n",
       "      <td>0.000000</td>\n",
       "      <td>NaN</td>\n",
       "      <td>18099.000000</td>\n",
       "      <td>5.000000</td>\n",
       "      <td>1.000000</td>\n",
       "    </tr>\n",
       "    <tr>\n",
       "      <th>50%</th>\n",
       "      <td>199987.000000</td>\n",
       "      <td>NaN</td>\n",
       "      <td>NaN</td>\n",
       "      <td>35.000000</td>\n",
       "      <td>NaN</td>\n",
       "      <td>NaN</td>\n",
       "      <td>NaN</td>\n",
       "      <td>NaN</td>\n",
       "      <td>33.000000</td>\n",
       "      <td>2.154931e+09</td>\n",
       "      <td>0.000000</td>\n",
       "      <td>NaN</td>\n",
       "      <td>40871.000000</td>\n",
       "      <td>12.000000</td>\n",
       "      <td>1.000000</td>\n",
       "    </tr>\n",
       "    <tr>\n",
       "      <th>75%</th>\n",
       "      <td>300100.000000</td>\n",
       "      <td>NaN</td>\n",
       "      <td>NaN</td>\n",
       "      <td>49.000000</td>\n",
       "      <td>NaN</td>\n",
       "      <td>NaN</td>\n",
       "      <td>NaN</td>\n",
       "      <td>NaN</td>\n",
       "      <td>39.000000</td>\n",
       "      <td>3.243308e+09</td>\n",
       "      <td>0.000000</td>\n",
       "      <td>NaN</td>\n",
       "      <td>63499.000000</td>\n",
       "      <td>17.000000</td>\n",
       "      <td>1.000000</td>\n",
       "    </tr>\n",
       "    <tr>\n",
       "      <th>max</th>\n",
       "      <td>400000.000000</td>\n",
       "      <td>NaN</td>\n",
       "      <td>NaN</td>\n",
       "      <td>154.000000</td>\n",
       "      <td>NaN</td>\n",
       "      <td>NaN</td>\n",
       "      <td>NaN</td>\n",
       "      <td>NaN</td>\n",
       "      <td>58.000000</td>\n",
       "      <td>4.294850e+09</td>\n",
       "      <td>1.000000</td>\n",
       "      <td>NaN</td>\n",
       "      <td>86399.000000</td>\n",
       "      <td>23.000000</td>\n",
       "      <td>20.000000</td>\n",
       "    </tr>\n",
       "  </tbody>\n",
       "</table>\n",
       "</div>"
      ],
      "text/plain": [
       "              user_id          signup_time        purchase_time  \\\n",
       "count   150559.000000               150559               150559   \n",
       "unique            NaN               150559               150132   \n",
       "top               NaN  2015-06-30 03:58:38  2015-09-10 09:04:53   \n",
       "freq              NaN                    1                    3   \n",
       "first             NaN  2015-01-01 00:00:42  2015-01-01 00:00:44   \n",
       "last              NaN  2015-08-18 04:40:29  2015-12-16 02:56:05   \n",
       "mean    200184.206305                  NaN                  NaN   \n",
       "std     115370.362863                  NaN                  NaN   \n",
       "min          2.000000                  NaN                  NaN   \n",
       "25%     100662.500000                  NaN                  NaN   \n",
       "50%     199987.000000                  NaN                  NaN   \n",
       "75%     300100.000000                  NaN                  NaN   \n",
       "max     400000.000000                  NaN                  NaN   \n",
       "\n",
       "        purchase_value      device_id  source browser     sex            age  \\\n",
       "count    150559.000000         150559  150559  150559  150559  150559.000000   \n",
       "unique             NaN         137470       3       5       2            NaN   \n",
       "top                NaN  KIPFSCNUGOLDP     SEO  Chrome       M            NaN   \n",
       "freq               NaN             20   60400   61223   87967            NaN   \n",
       "first              NaN            NaN     NaN     NaN     NaN            NaN   \n",
       "last               NaN            NaN     NaN     NaN     NaN            NaN   \n",
       "mean         36.935201            NaN     NaN     NaN     NaN      33.036756   \n",
       "std          18.321234            NaN     NaN     NaN     NaN       8.459321   \n",
       "min           9.000000            NaN     NaN     NaN     NaN      18.000000   \n",
       "25%          22.000000            NaN     NaN     NaN     NaN      27.000000   \n",
       "50%          35.000000            NaN     NaN     NaN     NaN      33.000000   \n",
       "75%          49.000000            NaN     NaN     NaN     NaN      39.000000   \n",
       "max         154.000000            NaN     NaN     NaN     NaN      58.000000   \n",
       "\n",
       "          ip_address          class   country_name     time_delta  \\\n",
       "count   1.505590e+05  150559.000000         150559  150559.000000   \n",
       "unique           NaN            NaN            103            NaN   \n",
       "top              NaN            NaN  United States            NaN   \n",
       "freq             NaN            NaN          57836            NaN   \n",
       "first            NaN            NaN            NaN            NaN   \n",
       "last             NaN            NaN            NaN            NaN   \n",
       "mean    2.152262e+09       0.093664            NaN   40940.477972   \n",
       "std     1.248566e+09       0.291362            NaN   26049.968544   \n",
       "min     5.209350e+04       0.000000            NaN       1.000000   \n",
       "25%     1.085948e+09       0.000000            NaN   18099.000000   \n",
       "50%     2.154931e+09       0.000000            NaN   40871.000000   \n",
       "75%     3.243308e+09       0.000000            NaN   63499.000000   \n",
       "max     4.294850e+09       1.000000            NaN   86399.000000   \n",
       "\n",
       "        signup_time_abs  device_id_count  \n",
       "count     150559.000000    150559.000000  \n",
       "unique              NaN              NaN  \n",
       "top                 NaN              NaN  \n",
       "freq                NaN              NaN  \n",
       "first               NaN              NaN  \n",
       "last                NaN              NaN  \n",
       "mean          11.490519         1.684635  \n",
       "std            6.917197         2.617998  \n",
       "min            0.000000         1.000000  \n",
       "25%            5.000000         1.000000  \n",
       "50%           12.000000         1.000000  \n",
       "75%           17.000000         1.000000  \n",
       "max           23.000000        20.000000  "
      ]
     },
     "execution_count": 117,
     "metadata": {},
     "output_type": "execute_result"
    }
   ],
   "source": [
    "fraud_clean.describe(include=\"all\")"
   ]
  },
  {
   "cell_type": "code",
   "execution_count": 118,
   "metadata": {
    "scrolled": false
   },
   "outputs": [],
   "source": [
    "# dropping useless columns \n",
    "useless= [\"purchase_time\", \"ip_address\", \"user_id\", \"device_id\", \"signup_time\"]\n",
    "fraud_clean = fraud_clean.drop(columns = useless)"
   ]
  },
  {
   "cell_type": "code",
   "execution_count": 119,
   "metadata": {
    "scrolled": false
   },
   "outputs": [],
   "source": [
    "# dropping unknown countries\n",
    "fraud_clean = fraud_clean[fraud_clean[\"country_name\"] !=\"Unknown_Country\"]"
   ]
  },
  {
   "cell_type": "code",
   "execution_count": 120,
   "metadata": {
    "scrolled": false
   },
   "outputs": [
    {
     "data": {
      "text/html": [
       "<div>\n",
       "<style scoped>\n",
       "    .dataframe tbody tr th:only-of-type {\n",
       "        vertical-align: middle;\n",
       "    }\n",
       "\n",
       "    .dataframe tbody tr th {\n",
       "        vertical-align: top;\n",
       "    }\n",
       "\n",
       "    .dataframe thead th {\n",
       "        text-align: right;\n",
       "    }\n",
       "</style>\n",
       "<table border=\"1\" class=\"dataframe\">\n",
       "  <thead>\n",
       "    <tr style=\"text-align: right;\">\n",
       "      <th></th>\n",
       "      <th>purchase_value</th>\n",
       "      <th>source</th>\n",
       "      <th>browser</th>\n",
       "      <th>sex</th>\n",
       "      <th>age</th>\n",
       "      <th>class</th>\n",
       "      <th>country_name</th>\n",
       "      <th>time_delta</th>\n",
       "      <th>signup_time_abs</th>\n",
       "      <th>device_id_count</th>\n",
       "    </tr>\n",
       "  </thead>\n",
       "  <tbody>\n",
       "    <tr>\n",
       "      <th>count</th>\n",
       "      <td>128670.000000</td>\n",
       "      <td>128670</td>\n",
       "      <td>128670</td>\n",
       "      <td>128670</td>\n",
       "      <td>128670.000000</td>\n",
       "      <td>128670.000000</td>\n",
       "      <td>128670</td>\n",
       "      <td>128670.000000</td>\n",
       "      <td>128670.000000</td>\n",
       "      <td>128670.000000</td>\n",
       "    </tr>\n",
       "    <tr>\n",
       "      <th>unique</th>\n",
       "      <td>NaN</td>\n",
       "      <td>3</td>\n",
       "      <td>5</td>\n",
       "      <td>2</td>\n",
       "      <td>NaN</td>\n",
       "      <td>NaN</td>\n",
       "      <td>102</td>\n",
       "      <td>NaN</td>\n",
       "      <td>NaN</td>\n",
       "      <td>NaN</td>\n",
       "    </tr>\n",
       "    <tr>\n",
       "      <th>top</th>\n",
       "      <td>NaN</td>\n",
       "      <td>SEO</td>\n",
       "      <td>Chrome</td>\n",
       "      <td>M</td>\n",
       "      <td>NaN</td>\n",
       "      <td>NaN</td>\n",
       "      <td>United States</td>\n",
       "      <td>NaN</td>\n",
       "      <td>NaN</td>\n",
       "      <td>NaN</td>\n",
       "    </tr>\n",
       "    <tr>\n",
       "      <th>freq</th>\n",
       "      <td>NaN</td>\n",
       "      <td>51778</td>\n",
       "      <td>52380</td>\n",
       "      <td>75164</td>\n",
       "      <td>NaN</td>\n",
       "      <td>NaN</td>\n",
       "      <td>57836</td>\n",
       "      <td>NaN</td>\n",
       "      <td>NaN</td>\n",
       "      <td>NaN</td>\n",
       "    </tr>\n",
       "    <tr>\n",
       "      <th>mean</th>\n",
       "      <td>36.932440</td>\n",
       "      <td>NaN</td>\n",
       "      <td>NaN</td>\n",
       "      <td>NaN</td>\n",
       "      <td>33.023751</td>\n",
       "      <td>0.094972</td>\n",
       "      <td>NaN</td>\n",
       "      <td>40873.792477</td>\n",
       "      <td>11.493215</td>\n",
       "      <td>1.701251</td>\n",
       "    </tr>\n",
       "    <tr>\n",
       "      <th>std</th>\n",
       "      <td>18.316886</td>\n",
       "      <td>NaN</td>\n",
       "      <td>NaN</td>\n",
       "      <td>NaN</td>\n",
       "      <td>8.455853</td>\n",
       "      <td>0.293177</td>\n",
       "      <td>NaN</td>\n",
       "      <td>26077.686100</td>\n",
       "      <td>6.910413</td>\n",
       "      <td>2.656169</td>\n",
       "    </tr>\n",
       "    <tr>\n",
       "      <th>min</th>\n",
       "      <td>9.000000</td>\n",
       "      <td>NaN</td>\n",
       "      <td>NaN</td>\n",
       "      <td>NaN</td>\n",
       "      <td>18.000000</td>\n",
       "      <td>0.000000</td>\n",
       "      <td>NaN</td>\n",
       "      <td>1.000000</td>\n",
       "      <td>0.000000</td>\n",
       "      <td>1.000000</td>\n",
       "    </tr>\n",
       "    <tr>\n",
       "      <th>25%</th>\n",
       "      <td>22.000000</td>\n",
       "      <td>NaN</td>\n",
       "      <td>NaN</td>\n",
       "      <td>NaN</td>\n",
       "      <td>27.000000</td>\n",
       "      <td>0.000000</td>\n",
       "      <td>NaN</td>\n",
       "      <td>17976.000000</td>\n",
       "      <td>6.000000</td>\n",
       "      <td>1.000000</td>\n",
       "    </tr>\n",
       "    <tr>\n",
       "      <th>50%</th>\n",
       "      <td>35.000000</td>\n",
       "      <td>NaN</td>\n",
       "      <td>NaN</td>\n",
       "      <td>NaN</td>\n",
       "      <td>32.000000</td>\n",
       "      <td>0.000000</td>\n",
       "      <td>NaN</td>\n",
       "      <td>40792.500000</td>\n",
       "      <td>12.000000</td>\n",
       "      <td>1.000000</td>\n",
       "    </tr>\n",
       "    <tr>\n",
       "      <th>75%</th>\n",
       "      <td>49.000000</td>\n",
       "      <td>NaN</td>\n",
       "      <td>NaN</td>\n",
       "      <td>NaN</td>\n",
       "      <td>39.000000</td>\n",
       "      <td>0.000000</td>\n",
       "      <td>NaN</td>\n",
       "      <td>63463.750000</td>\n",
       "      <td>17.000000</td>\n",
       "      <td>1.000000</td>\n",
       "    </tr>\n",
       "    <tr>\n",
       "      <th>max</th>\n",
       "      <td>154.000000</td>\n",
       "      <td>NaN</td>\n",
       "      <td>NaN</td>\n",
       "      <td>NaN</td>\n",
       "      <td>58.000000</td>\n",
       "      <td>1.000000</td>\n",
       "      <td>NaN</td>\n",
       "      <td>86399.000000</td>\n",
       "      <td>23.000000</td>\n",
       "      <td>20.000000</td>\n",
       "    </tr>\n",
       "  </tbody>\n",
       "</table>\n",
       "</div>"
      ],
      "text/plain": [
       "        purchase_value  source browser     sex            age          class  \\\n",
       "count    128670.000000  128670  128670  128670  128670.000000  128670.000000   \n",
       "unique             NaN       3       5       2            NaN            NaN   \n",
       "top                NaN     SEO  Chrome       M            NaN            NaN   \n",
       "freq               NaN   51778   52380   75164            NaN            NaN   \n",
       "mean         36.932440     NaN     NaN     NaN      33.023751       0.094972   \n",
       "std          18.316886     NaN     NaN     NaN       8.455853       0.293177   \n",
       "min           9.000000     NaN     NaN     NaN      18.000000       0.000000   \n",
       "25%          22.000000     NaN     NaN     NaN      27.000000       0.000000   \n",
       "50%          35.000000     NaN     NaN     NaN      32.000000       0.000000   \n",
       "75%          49.000000     NaN     NaN     NaN      39.000000       0.000000   \n",
       "max         154.000000     NaN     NaN     NaN      58.000000       1.000000   \n",
       "\n",
       "         country_name     time_delta  signup_time_abs  device_id_count  \n",
       "count          128670  128670.000000    128670.000000    128670.000000  \n",
       "unique            102            NaN              NaN              NaN  \n",
       "top     United States            NaN              NaN              NaN  \n",
       "freq            57836            NaN              NaN              NaN  \n",
       "mean              NaN   40873.792477        11.493215         1.701251  \n",
       "std               NaN   26077.686100         6.910413         2.656169  \n",
       "min               NaN       1.000000         0.000000         1.000000  \n",
       "25%               NaN   17976.000000         6.000000         1.000000  \n",
       "50%               NaN   40792.500000        12.000000         1.000000  \n",
       "75%               NaN   63463.750000        17.000000         1.000000  \n",
       "max               NaN   86399.000000        23.000000        20.000000  "
      ]
     },
     "execution_count": 120,
     "metadata": {},
     "output_type": "execute_result"
    }
   ],
   "source": [
    "fraud_clean.describe(include=\"all\")"
   ]
  },
  {
   "cell_type": "code",
   "execution_count": 121,
   "metadata": {
    "scrolled": false
   },
   "outputs": [
    {
     "data": {
      "text/html": [
       "<div>\n",
       "<style scoped>\n",
       "    .dataframe tbody tr th:only-of-type {\n",
       "        vertical-align: middle;\n",
       "    }\n",
       "\n",
       "    .dataframe tbody tr th {\n",
       "        vertical-align: top;\n",
       "    }\n",
       "\n",
       "    .dataframe thead th {\n",
       "        text-align: right;\n",
       "    }\n",
       "</style>\n",
       "<table border=\"1\" class=\"dataframe\">\n",
       "  <thead>\n",
       "    <tr style=\"text-align: right;\">\n",
       "      <th></th>\n",
       "      <th>purchase_value</th>\n",
       "      <th>source</th>\n",
       "      <th>browser</th>\n",
       "      <th>sex</th>\n",
       "      <th>age</th>\n",
       "      <th>class</th>\n",
       "      <th>country_name</th>\n",
       "      <th>time_delta</th>\n",
       "      <th>signup_time_abs</th>\n",
       "      <th>device_id_count</th>\n",
       "    </tr>\n",
       "  </thead>\n",
       "  <tbody>\n",
       "    <tr>\n",
       "      <th>0</th>\n",
       "      <td>34</td>\n",
       "      <td>SEO</td>\n",
       "      <td>Chrome</td>\n",
       "      <td>M</td>\n",
       "      <td>39</td>\n",
       "      <td>0</td>\n",
       "      <td>Japan</td>\n",
       "      <td>13882</td>\n",
       "      <td>22.0</td>\n",
       "      <td>1</td>\n",
       "    </tr>\n",
       "    <tr>\n",
       "      <th>1</th>\n",
       "      <td>16</td>\n",
       "      <td>Ads</td>\n",
       "      <td>Chrome</td>\n",
       "      <td>F</td>\n",
       "      <td>53</td>\n",
       "      <td>0</td>\n",
       "      <td>United States</td>\n",
       "      <td>17944</td>\n",
       "      <td>20.0</td>\n",
       "      <td>1</td>\n",
       "    </tr>\n",
       "    <tr>\n",
       "      <th>2</th>\n",
       "      <td>15</td>\n",
       "      <td>SEO</td>\n",
       "      <td>Opera</td>\n",
       "      <td>M</td>\n",
       "      <td>53</td>\n",
       "      <td>1</td>\n",
       "      <td>United States</td>\n",
       "      <td>1</td>\n",
       "      <td>18.0</td>\n",
       "      <td>12</td>\n",
       "    </tr>\n",
       "    <tr>\n",
       "      <th>4</th>\n",
       "      <td>39</td>\n",
       "      <td>Ads</td>\n",
       "      <td>Safari</td>\n",
       "      <td>M</td>\n",
       "      <td>45</td>\n",
       "      <td>0</td>\n",
       "      <td>United States</td>\n",
       "      <td>41461</td>\n",
       "      <td>7.0</td>\n",
       "      <td>1</td>\n",
       "    </tr>\n",
       "    <tr>\n",
       "      <th>5</th>\n",
       "      <td>42</td>\n",
       "      <td>Ads</td>\n",
       "      <td>Chrome</td>\n",
       "      <td>M</td>\n",
       "      <td>18</td>\n",
       "      <td>0</td>\n",
       "      <td>Canada</td>\n",
       "      <td>7331</td>\n",
       "      <td>6.0</td>\n",
       "      <td>1</td>\n",
       "    </tr>\n",
       "  </tbody>\n",
       "</table>\n",
       "</div>"
      ],
      "text/plain": [
       "   purchase_value source browser sex  age  class   country_name  time_delta  \\\n",
       "0              34    SEO  Chrome   M   39      0          Japan       13882   \n",
       "1              16    Ads  Chrome   F   53      0  United States       17944   \n",
       "2              15    SEO   Opera   M   53      1  United States           1   \n",
       "4              39    Ads  Safari   M   45      0  United States       41461   \n",
       "5              42    Ads  Chrome   M   18      0         Canada        7331   \n",
       "\n",
       "   signup_time_abs  device_id_count  \n",
       "0             22.0                1  \n",
       "1             20.0                1  \n",
       "2             18.0               12  \n",
       "4              7.0                1  \n",
       "5              6.0                1  "
      ]
     },
     "execution_count": 121,
     "metadata": {},
     "output_type": "execute_result"
    }
   ],
   "source": [
    "fraud_clean.head()"
   ]
  },
  {
   "cell_type": "markdown",
   "metadata": {},
   "source": [
    "### Preprocessing for Model "
   ]
  },
  {
   "cell_type": "code",
   "execution_count": 122,
   "metadata": {
    "scrolled": false
   },
   "outputs": [],
   "source": [
    "from sklearn.model_selection import train_test_split\n",
    "from sklearn.pipeline import Pipeline\n",
    "from sklearn.impute import SimpleImputer\n",
    "from sklearn.preprocessing import  OneHotEncoder, StandardScaler, LabelEncoder\n",
    "from sklearn.compose import ColumnTransformer\n"
   ]
  },
  {
   "cell_type": "code",
   "execution_count": 123,
   "metadata": {
    "scrolled": false
   },
   "outputs": [
    {
     "data": {
      "text/html": [
       "<div>\n",
       "<style scoped>\n",
       "    .dataframe tbody tr th:only-of-type {\n",
       "        vertical-align: middle;\n",
       "    }\n",
       "\n",
       "    .dataframe tbody tr th {\n",
       "        vertical-align: top;\n",
       "    }\n",
       "\n",
       "    .dataframe thead th {\n",
       "        text-align: right;\n",
       "    }\n",
       "</style>\n",
       "<table border=\"1\" class=\"dataframe\">\n",
       "  <thead>\n",
       "    <tr style=\"text-align: right;\">\n",
       "      <th></th>\n",
       "      <th>purchase_value</th>\n",
       "      <th>source</th>\n",
       "      <th>browser</th>\n",
       "      <th>sex</th>\n",
       "      <th>age</th>\n",
       "      <th>country_name</th>\n",
       "      <th>time_delta</th>\n",
       "      <th>signup_time_abs</th>\n",
       "      <th>device_id_count</th>\n",
       "    </tr>\n",
       "  </thead>\n",
       "  <tbody>\n",
       "    <tr>\n",
       "      <th>0</th>\n",
       "      <td>34</td>\n",
       "      <td>SEO</td>\n",
       "      <td>Chrome</td>\n",
       "      <td>M</td>\n",
       "      <td>39</td>\n",
       "      <td>Japan</td>\n",
       "      <td>13882</td>\n",
       "      <td>22.0</td>\n",
       "      <td>1</td>\n",
       "    </tr>\n",
       "    <tr>\n",
       "      <th>1</th>\n",
       "      <td>16</td>\n",
       "      <td>Ads</td>\n",
       "      <td>Chrome</td>\n",
       "      <td>F</td>\n",
       "      <td>53</td>\n",
       "      <td>United States</td>\n",
       "      <td>17944</td>\n",
       "      <td>20.0</td>\n",
       "      <td>1</td>\n",
       "    </tr>\n",
       "    <tr>\n",
       "      <th>2</th>\n",
       "      <td>15</td>\n",
       "      <td>SEO</td>\n",
       "      <td>Opera</td>\n",
       "      <td>M</td>\n",
       "      <td>53</td>\n",
       "      <td>United States</td>\n",
       "      <td>1</td>\n",
       "      <td>18.0</td>\n",
       "      <td>12</td>\n",
       "    </tr>\n",
       "    <tr>\n",
       "      <th>4</th>\n",
       "      <td>39</td>\n",
       "      <td>Ads</td>\n",
       "      <td>Safari</td>\n",
       "      <td>M</td>\n",
       "      <td>45</td>\n",
       "      <td>United States</td>\n",
       "      <td>41461</td>\n",
       "      <td>7.0</td>\n",
       "      <td>1</td>\n",
       "    </tr>\n",
       "    <tr>\n",
       "      <th>5</th>\n",
       "      <td>42</td>\n",
       "      <td>Ads</td>\n",
       "      <td>Chrome</td>\n",
       "      <td>M</td>\n",
       "      <td>18</td>\n",
       "      <td>Canada</td>\n",
       "      <td>7331</td>\n",
       "      <td>6.0</td>\n",
       "      <td>1</td>\n",
       "    </tr>\n",
       "  </tbody>\n",
       "</table>\n",
       "</div>"
      ],
      "text/plain": [
       "   purchase_value source browser sex  age   country_name  time_delta  \\\n",
       "0              34    SEO  Chrome   M   39          Japan       13882   \n",
       "1              16    Ads  Chrome   F   53  United States       17944   \n",
       "2              15    SEO   Opera   M   53  United States           1   \n",
       "4              39    Ads  Safari   M   45  United States       41461   \n",
       "5              42    Ads  Chrome   M   18         Canada        7331   \n",
       "\n",
       "   signup_time_abs  device_id_count  \n",
       "0             22.0                1  \n",
       "1             20.0                1  \n",
       "2             18.0               12  \n",
       "4              7.0                1  \n",
       "5              6.0                1  "
      ]
     },
     "execution_count": 123,
     "metadata": {},
     "output_type": "execute_result"
    }
   ],
   "source": [
    "## X variables\n",
    "X = fraud_clean.drop(columns=\"class\")\n",
    "X.head()"
   ]
  },
  {
   "cell_type": "code",
   "execution_count": 124,
   "metadata": {
    "scrolled": false
   },
   "outputs": [
    {
     "data": {
      "text/plain": [
       "0    0\n",
       "1    0\n",
       "2    1\n",
       "4    0\n",
       "5    0\n",
       "Name: class, dtype: int64"
      ]
     },
     "execution_count": 124,
     "metadata": {},
     "output_type": "execute_result"
    }
   ],
   "source": [
    "y = fraud_clean[\"class\"]\n",
    "y.head()"
   ]
  },
  {
   "cell_type": "code",
   "execution_count": 125,
   "metadata": {
    "scrolled": false
   },
   "outputs": [],
   "source": [
    "from sklearn.model_selection import train_test_split\n",
    "X_train, X_test, y_train, y_test = train_test_split(X,y,\n",
    "                                                    test_size = 0.2,\n",
    "                                                    stratify = y , ## Statify splitting when you're training a classification model !\n",
    "                                                    random_state = 0)"
   ]
  },
  {
   "cell_type": "code",
   "execution_count": 126,
   "metadata": {
    "scrolled": false
   },
   "outputs": [],
   "source": [
    "# Create pipeline for numeric features\n",
    "numeric_features = [0,4,6,7,8] # Positions of numeric columns in X_train/X_test\n",
    "numeric_transformer = Pipeline(steps=[\n",
    "    ('scaler', StandardScaler())\n",
    "])"
   ]
  },
  {
   "cell_type": "code",
   "execution_count": 127,
   "metadata": {
    "scrolled": false
   },
   "outputs": [],
   "source": [
    "# Create pipeline for categorical features\n",
    "categorical_features = [1, 2,3,5] # Positions of categorical columns in X_train/X_test\n",
    "categorical_transformer = Pipeline(\n",
    "    steps=[\n",
    "    ('encoder', OneHotEncoder(drop='first')) # first column will be dropped to avoid creating correlations between features\n",
    "    ])"
   ]
  },
  {
   "cell_type": "code",
   "execution_count": 128,
   "metadata": {
    "scrolled": false
   },
   "outputs": [],
   "source": [
    "preprocessor = ColumnTransformer(\n",
    "    transformers=[\n",
    "        ('num', numeric_transformer, numeric_features),\n",
    "        ('cat', categorical_transformer, categorical_features)\n",
    "    ])"
   ]
  },
  {
   "cell_type": "code",
   "execution_count": 129,
   "metadata": {
    "scrolled": false
   },
   "outputs": [],
   "source": [
    "# Preprocessings on train set\n",
    "\n",
    "X_train = preprocessor.fit_transform(X_train)\n",
    "\n",
    "# Preprocessings on test set\n",
    "X_test = preprocessor.transform(X_test) "
   ]
  },
  {
   "cell_type": "markdown",
   "metadata": {},
   "source": [
    "# Baseline Model - LOGREG"
   ]
  },
  {
   "cell_type": "code",
   "execution_count": 130,
   "metadata": {
    "scrolled": false
   },
   "outputs": [
    {
     "name": "stderr",
     "output_type": "stream",
     "text": [
      "/Users/personal/opt/anaconda3/lib/python3.8/site-packages/sklearn/linear_model/_logistic.py:762: ConvergenceWarning: lbfgs failed to converge (status=1):\n",
      "STOP: TOTAL NO. of ITERATIONS REACHED LIMIT.\n",
      "\n",
      "Increase the number of iterations (max_iter) or scale the data as shown in:\n",
      "    https://scikit-learn.org/stable/modules/preprocessing.html\n",
      "Please also refer to the documentation for alternative solver options:\n",
      "    https://scikit-learn.org/stable/modules/linear_model.html#logistic-regression\n",
      "  n_iter_i = _check_optimize_result(\n"
     ]
    },
    {
     "data": {
      "text/plain": [
       "LogisticRegression()"
      ]
     },
     "execution_count": 130,
     "metadata": {},
     "output_type": "execute_result"
    }
   ],
   "source": [
    "from sklearn.linear_model import LogisticRegression\n",
    "lr_clf = LogisticRegression()\n",
    "lr_clf.fit(X_train, y_train)"
   ]
  },
  {
   "cell_type": "code",
   "execution_count": 131,
   "metadata": {
    "scrolled": false
   },
   "outputs": [],
   "source": [
    "### def function that prints scores\n",
    "\n",
    "def print_scores(model_name, X_train = X_train, X_test = X_test, y_test = y_test, y_train = y_train): \n",
    "    \n",
    "    from sklearn.metrics import accuracy_score,recall_score,precision_score,f1_score\n",
    "    \n",
    "    print(\"scores for default model on test set\")\n",
    "    print(\"\")\n",
    "    print('Accuracy Score : {}'.format(str(accuracy_score(y_test,model_name.predict(X_test)))))\n",
    "    print('Precision Score : {}'.format(str(precision_score(y_test,model_name.predict(X_test)))))\n",
    "    print('Recall Score : {}' .format(str(recall_score(y_test,model_name.predict(X_test)))))\n",
    "    print('F1 Score : {}'.format(str(f1_score(y_test,model_name.predict(X_test)))))\n",
    "    \n",
    "    print(\"\")\n",
    "    print(\"\")\n",
    "    print(\"scores for default model on train set\")\n",
    "    print(\"\")\n",
    "    print('Accuracy Score : {}'.format(str(accuracy_score(y_train,model_name.predict(X_train)))))\n",
    "    print('Precision Score : {}'.format(str(precision_score(y_train,model_name.predict(X_train)))))\n",
    "    print('Recall Score : {}' .format(str(recall_score(y_train,model_name.predict(X_train)))))\n",
    "    print('F1 Score : {}'.format(str(f1_score(y_train,model_name.predict(X_train)))))"
   ]
  },
  {
   "cell_type": "code",
   "execution_count": 132,
   "metadata": {
    "scrolled": false
   },
   "outputs": [
    {
     "name": "stdout",
     "output_type": "stream",
     "text": [
      "scores for default model on test set\n",
      "\n",
      "Accuracy Score : 0.9513872697598508\n",
      "Precision Score : 0.9094028826355525\n",
      "Recall Score : 0.5421440261865794\n",
      "F1 Score : 0.6793129966675212\n",
      "\n",
      "\n",
      "scores for default model on train set\n",
      "\n",
      "Accuracy Score : 0.9506198025957877\n",
      "Precision Score : 0.9139177985535368\n",
      "Recall Score : 0.5299713584288053\n",
      "F1 Score : 0.6708967303334412\n"
     ]
    }
   ],
   "source": [
    "print_scores(lr_clf)"
   ]
  },
  {
   "cell_type": "code",
   "execution_count": 134,
   "metadata": {
    "collapsed": true
   },
   "outputs": [
    {
     "name": "stderr",
     "output_type": "stream",
     "text": [
      "/Users/personal/opt/anaconda3/lib/python3.8/site-packages/sklearn/linear_model/_logistic.py:762: ConvergenceWarning: lbfgs failed to converge (status=1):\n",
      "STOP: TOTAL NO. of ITERATIONS REACHED LIMIT.\n",
      "\n",
      "Increase the number of iterations (max_iter) or scale the data as shown in:\n",
      "    https://scikit-learn.org/stable/modules/preprocessing.html\n",
      "Please also refer to the documentation for alternative solver options:\n",
      "    https://scikit-learn.org/stable/modules/linear_model.html#logistic-regression\n",
      "  n_iter_i = _check_optimize_result(\n",
      "/Users/personal/opt/anaconda3/lib/python3.8/site-packages/sklearn/linear_model/_logistic.py:762: ConvergenceWarning: lbfgs failed to converge (status=1):\n",
      "STOP: TOTAL NO. of ITERATIONS REACHED LIMIT.\n",
      "\n",
      "Increase the number of iterations (max_iter) or scale the data as shown in:\n",
      "    https://scikit-learn.org/stable/modules/preprocessing.html\n",
      "Please also refer to the documentation for alternative solver options:\n",
      "    https://scikit-learn.org/stable/modules/linear_model.html#logistic-regression\n",
      "  n_iter_i = _check_optimize_result(\n",
      "/Users/personal/opt/anaconda3/lib/python3.8/site-packages/sklearn/linear_model/_logistic.py:762: ConvergenceWarning: lbfgs failed to converge (status=1):\n",
      "STOP: TOTAL NO. of ITERATIONS REACHED LIMIT.\n",
      "\n",
      "Increase the number of iterations (max_iter) or scale the data as shown in:\n",
      "    https://scikit-learn.org/stable/modules/preprocessing.html\n",
      "Please also refer to the documentation for alternative solver options:\n",
      "    https://scikit-learn.org/stable/modules/linear_model.html#logistic-regression\n",
      "  n_iter_i = _check_optimize_result(\n",
      "/Users/personal/opt/anaconda3/lib/python3.8/site-packages/sklearn/linear_model/_logistic.py:762: ConvergenceWarning: lbfgs failed to converge (status=1):\n",
      "STOP: TOTAL NO. of ITERATIONS REACHED LIMIT.\n",
      "\n",
      "Increase the number of iterations (max_iter) or scale the data as shown in:\n",
      "    https://scikit-learn.org/stable/modules/preprocessing.html\n",
      "Please also refer to the documentation for alternative solver options:\n",
      "    https://scikit-learn.org/stable/modules/linear_model.html#logistic-regression\n",
      "  n_iter_i = _check_optimize_result(\n",
      "/Users/personal/opt/anaconda3/lib/python3.8/site-packages/sklearn/linear_model/_logistic.py:762: ConvergenceWarning: lbfgs failed to converge (status=1):\n",
      "STOP: TOTAL NO. of ITERATIONS REACHED LIMIT.\n",
      "\n",
      "Increase the number of iterations (max_iter) or scale the data as shown in:\n",
      "    https://scikit-learn.org/stable/modules/preprocessing.html\n",
      "Please also refer to the documentation for alternative solver options:\n",
      "    https://scikit-learn.org/stable/modules/linear_model.html#logistic-regression\n",
      "  n_iter_i = _check_optimize_result(\n",
      "/Users/personal/opt/anaconda3/lib/python3.8/site-packages/sklearn/linear_model/_logistic.py:762: ConvergenceWarning: lbfgs failed to converge (status=1):\n",
      "STOP: TOTAL NO. of ITERATIONS REACHED LIMIT.\n",
      "\n",
      "Increase the number of iterations (max_iter) or scale the data as shown in:\n",
      "    https://scikit-learn.org/stable/modules/preprocessing.html\n",
      "Please also refer to the documentation for alternative solver options:\n",
      "    https://scikit-learn.org/stable/modules/linear_model.html#logistic-regression\n",
      "  n_iter_i = _check_optimize_result(\n",
      "/Users/personal/opt/anaconda3/lib/python3.8/site-packages/sklearn/linear_model/_logistic.py:762: ConvergenceWarning: lbfgs failed to converge (status=1):\n",
      "STOP: TOTAL NO. of ITERATIONS REACHED LIMIT.\n",
      "\n",
      "Increase the number of iterations (max_iter) or scale the data as shown in:\n",
      "    https://scikit-learn.org/stable/modules/preprocessing.html\n",
      "Please also refer to the documentation for alternative solver options:\n",
      "    https://scikit-learn.org/stable/modules/linear_model.html#logistic-regression\n",
      "  n_iter_i = _check_optimize_result(\n",
      "/Users/personal/opt/anaconda3/lib/python3.8/site-packages/sklearn/linear_model/_logistic.py:762: ConvergenceWarning: lbfgs failed to converge (status=1):\n",
      "STOP: TOTAL NO. of ITERATIONS REACHED LIMIT.\n",
      "\n",
      "Increase the number of iterations (max_iter) or scale the data as shown in:\n",
      "    https://scikit-learn.org/stable/modules/preprocessing.html\n",
      "Please also refer to the documentation for alternative solver options:\n",
      "    https://scikit-learn.org/stable/modules/linear_model.html#logistic-regression\n",
      "  n_iter_i = _check_optimize_result(\n",
      "/Users/personal/opt/anaconda3/lib/python3.8/site-packages/sklearn/linear_model/_logistic.py:762: ConvergenceWarning: lbfgs failed to converge (status=1):\n",
      "STOP: TOTAL NO. of ITERATIONS REACHED LIMIT.\n",
      "\n",
      "Increase the number of iterations (max_iter) or scale the data as shown in:\n",
      "    https://scikit-learn.org/stable/modules/preprocessing.html\n",
      "Please also refer to the documentation for alternative solver options:\n",
      "    https://scikit-learn.org/stable/modules/linear_model.html#logistic-regression\n",
      "  n_iter_i = _check_optimize_result(\n",
      "/Users/personal/opt/anaconda3/lib/python3.8/site-packages/sklearn/linear_model/_logistic.py:762: ConvergenceWarning: lbfgs failed to converge (status=1):\n",
      "STOP: TOTAL NO. of ITERATIONS REACHED LIMIT.\n",
      "\n",
      "Increase the number of iterations (max_iter) or scale the data as shown in:\n",
      "    https://scikit-learn.org/stable/modules/preprocessing.html\n",
      "Please also refer to the documentation for alternative solver options:\n",
      "    https://scikit-learn.org/stable/modules/linear_model.html#logistic-regression\n",
      "  n_iter_i = _check_optimize_result(\n"
     ]
    }
   ],
   "source": [
    "## cross val score\n",
    "from sklearn.model_selection import cross_val_score\n",
    "cv_score= cross_val_score(lr_clf, X_train, y_train, cv=10, scoring= \"f1\")\n",
    "\n"
   ]
  },
  {
   "cell_type": "code",
   "execution_count": 135,
   "metadata": {
    "scrolled": false
   },
   "outputs": [
    {
     "name": "stdout",
     "output_type": "stream",
     "text": [
      "[0.66926576 0.67658473 0.66535433 0.66666667 0.66449935 0.65889968\n",
      " 0.6756931  0.67101828 0.66623377 0.68789809]\n",
      "\n",
      "0.670211374873337\n",
      "0.007730414899224172\n"
     ]
    }
   ],
   "source": [
    "print(cv_score)\n",
    "print(\"\")\n",
    "print(cv_score.mean())\n",
    "print(cv_score.std())"
   ]
  },
  {
   "cell_type": "code",
   "execution_count": 136,
   "metadata": {
    "scrolled": false
   },
   "outputs": [],
   "source": [
    "# def function that shows confusion matrix\n",
    "def show_confusion_matrix(model_name,X_train = X_train , X_test = X_test, y_test = y_test , y_train = y_train ):\n",
    "    import matplotlib.pyplot as plt \n",
    "    from sklearn.metrics import confusion_matrix\n",
    "\n",
    "    fig, (ax1, ax2) = plt.subplots(1,2,figsize=(10, 4))  \n",
    "\n",
    "    ax1.set_title('Confusion Matrix of the test set')\n",
    "    ax1.set_xlabel(\"Predicted Values\")\n",
    "    ax1.set_ylabel(\"Actual Values\")\n",
    "    \n",
    "    ax2.set_title('Confusion Matrix of the train set')\n",
    "    ax2.set_xlabel(\"Predicted Values\")\n",
    "    ax2.set_ylabel(\"Actual Values\")\n",
    "    \n",
    "    cfm_test = confusion_matrix(y_test,model_name.predict(X_test))\n",
    "    cfm_train = confusion_matrix(y_train,model_name.predict(X_train))\n",
    "    sns.heatmap(cfm_test, annot=True, fmt=\"g\", cmap=\"seismic\", ax=ax1, )\n",
    "    sns.heatmap(cfm_train, annot=True, fmt=\"g\", cmap=\"seismic\", ax=ax2)\n",
    "    \n",
    "    \n",
    "    plt.tight_layout(), plt.show()"
   ]
  },
  {
   "cell_type": "code",
   "execution_count": 137,
   "metadata": {
    "scrolled": false
   },
   "outputs": [
    {
     "data": {
      "image/png": "[encoded data removed]",
      "text/plain": [
       "<Figure size 720x288 with 4 Axes>"
      ]
     },
     "metadata": {
      "needs_background": "light"
     },
     "output_type": "display_data"
    }
   ],
   "source": [
    "show_confusion_matrix(lr_clf)"
   ]
  },
  {
   "cell_type": "markdown",
   "metadata": {},
   "source": [
    "#  Randomized Gridsearch CV on LOGREG\n",
    "- For time processing reason, we're not doing a random serach rather than a full gridsearch"
   ]
  },
  {
   "cell_type": "code",
   "execution_count": 139,
   "metadata": {
    "collapsed": true
   },
   "outputs": [
    {
     "name": "stdout",
     "output_type": "stream",
     "text": [
      "Fitting 4 folds for each of 120 candidates, totalling 480 fits\n",
      "[CV] solver=saga, penalty=l2, class_weight={1: 0.67, 0: 0.33}, C=10000.0 \n"
     ]
    },
    {
     "name": "stderr",
     "output_type": "stream",
     "text": [
      "[Parallel(n_jobs=1)]: Using backend SequentialBackend with 1 concurrent workers.\n",
      "/Users/personal/opt/anaconda3/lib/python3.8/site-packages/sklearn/linear_model/_sag.py:329: ConvergenceWarning: The max_iter was reached which means the coef_ did not converge\n",
      "  warnings.warn(\"The max_iter was reached which means \"\n",
      "[Parallel(n_jobs=1)]: Done   1 out of   1 | elapsed:    5.0s remaining:    0.0s\n"
     ]
    },
    {
     "name": "stdout",
     "output_type": "stream",
     "text": [
      "[CV]  solver=saga, penalty=l2, class_weight={1: 0.67, 0: 0.33}, C=10000.0, total=   5.0s\n",
      "[CV] solver=saga, penalty=l2, class_weight={1: 0.67, 0: 0.33}, C=10000.0 \n"
     ]
    },
    {
     "name": "stderr",
     "output_type": "stream",
     "text": [
      "/Users/personal/opt/anaconda3/lib/python3.8/site-packages/sklearn/linear_model/_sag.py:329: ConvergenceWarning: The max_iter was reached which means the coef_ did not converge\n",
      "  warnings.warn(\"The max_iter was reached which means \"\n"
     ]
    },
    {
     "name": "stdout",
     "output_type": "stream",
     "text": [
      "[CV]  solver=saga, penalty=l2, class_weight={1: 0.67, 0: 0.33}, C=10000.0, total=   4.9s\n",
      "[CV] solver=saga, penalty=l2, class_weight={1: 0.67, 0: 0.33}, C=10000.0 \n"
     ]
    },
    {
     "name": "stderr",
     "output_type": "stream",
     "text": [
      "/Users/personal/opt/anaconda3/lib/python3.8/site-packages/sklearn/linear_model/_sag.py:329: ConvergenceWarning: The max_iter was reached which means the coef_ did not converge\n",
      "  warnings.warn(\"The max_iter was reached which means \"\n"
     ]
    },
    {
     "name": "stdout",
     "output_type": "stream",
     "text": [
      "[CV]  solver=saga, penalty=l2, class_weight={1: 0.67, 0: 0.33}, C=10000.0, total=   5.3s\n",
      "[CV] solver=saga, penalty=l2, class_weight={1: 0.67, 0: 0.33}, C=10000.0 \n"
     ]
    },
    {
     "name": "stderr",
     "output_type": "stream",
     "text": [
      "/Users/personal/opt/anaconda3/lib/python3.8/site-packages/sklearn/linear_model/_sag.py:329: ConvergenceWarning: The max_iter was reached which means the coef_ did not converge\n",
      "  warnings.warn(\"The max_iter was reached which means \"\n"
     ]
    },
    {
     "name": "stdout",
     "output_type": "stream",
     "text": [
      "[CV]  solver=saga, penalty=l2, class_weight={1: 0.67, 0: 0.33}, C=10000.0, total=   4.8s\n",
      "[CV] solver=lbfgs, penalty=l2, class_weight=None, C=0.0006951927961775605 \n",
      "[CV]  solver=lbfgs, penalty=l2, class_weight=None, C=0.0006951927961775605, total=   0.2s\n",
      "[CV] solver=lbfgs, penalty=l2, class_weight=None, C=0.0006951927961775605 \n",
      "[CV]  solver=lbfgs, penalty=l2, class_weight=None, C=0.0006951927961775605, total=   0.2s\n",
      "[CV] solver=lbfgs, penalty=l2, class_weight=None, C=0.0006951927961775605 \n",
      "[CV]  solver=lbfgs, penalty=l2, class_weight=None, C=0.0006951927961775605, total=   0.1s\n",
      "[CV] solver=lbfgs, penalty=l2, class_weight=None, C=0.0006951927961775605 \n",
      "[CV]  solver=lbfgs, penalty=l2, class_weight=None, C=0.0006951927961775605, total=   0.2s\n",
      "[CV] solver=saga, penalty=elasticnet, class_weight=None, C=0.23357214690901212 \n",
      "[CV]  solver=saga, penalty=elasticnet, class_weight=None, C=0.23357214690901212, total=   0.0s\n",
      "[CV] solver=saga, penalty=elasticnet, class_weight=None, C=0.23357214690901212 \n",
      "[CV]  solver=saga, penalty=elasticnet, class_weight=None, C=0.23357214690901212, total=   0.0s\n",
      "[CV] solver=saga, penalty=elasticnet, class_weight=None, C=0.23357214690901212 \n",
      "[CV]  solver=saga, penalty=elasticnet, class_weight=None, C=0.23357214690901212, total=   0.0s\n",
      "[CV] solver=saga, penalty=elasticnet, class_weight=None, C=0.23357214690901212 \n",
      "[CV]  solver=saga, penalty=elasticnet, class_weight=None, C=0.23357214690901212, total=   0.0s\n",
      "[CV] solver=lbfgs, penalty=elasticnet, class_weight={1: 0.67, 0: 0.33}, C=4.281332398719396 \n",
      "[CV]  solver=lbfgs, penalty=elasticnet, class_weight={1: 0.67, 0: 0.33}, C=4.281332398719396, total=   0.0s\n",
      "[CV] solver=lbfgs, penalty=elasticnet, class_weight={1: 0.67, 0: 0.33}, C=4.281332398719396 \n",
      "[CV]  solver=lbfgs, penalty=elasticnet, class_weight={1: 0.67, 0: 0.33}, C=4.281332398719396, total=   0.0s\n",
      "[CV] solver=lbfgs, penalty=elasticnet, class_weight={1: 0.67, 0: 0.33}, C=4.281332398719396 \n",
      "[CV]  solver=lbfgs, penalty=elasticnet, class_weight={1: 0.67, 0: 0.33}, C=4.281332398719396, total=   0.0s\n",
      "[CV] solver=lbfgs, penalty=elasticnet, class_weight={1: 0.67, 0: 0.33}, C=4.281332398719396 \n",
      "[CV]  solver=lbfgs, penalty=elasticnet, class_weight={1: 0.67, 0: 0.33}, C=4.281332398719396, total=   0.0s\n",
      "[CV] solver=saga, penalty=elasticnet, class_weight={1: 0.8, 0: 0.2}, C=0.012742749857031334 \n",
      "[CV]  solver=saga, penalty=elasticnet, class_weight={1: 0.8, 0: 0.2}, C=0.012742749857031334, total=   0.0s\n",
      "[CV] solver=saga, penalty=elasticnet, class_weight={1: 0.8, 0: 0.2}, C=0.012742749857031334 \n",
      "[CV]  solver=saga, penalty=elasticnet, class_weight={1: 0.8, 0: 0.2}, C=0.012742749857031334, total=   0.0s\n",
      "[CV] solver=saga, penalty=elasticnet, class_weight={1: 0.8, 0: 0.2}, C=0.012742749857031334 \n",
      "[CV]  solver=saga, penalty=elasticnet, class_weight={1: 0.8, 0: 0.2}, C=0.012742749857031334, total=   0.0s\n",
      "[CV] solver=saga, penalty=elasticnet, class_weight={1: 0.8, 0: 0.2}, C=0.012742749857031334 \n",
      "[CV]  solver=saga, penalty=elasticnet, class_weight={1: 0.8, 0: 0.2}, C=0.012742749857031334, total=   0.0s\n",
      "[CV] solver=newton-cg, penalty=l1, class_weight=None, C=78.47599703514607 \n",
      "[CV]  solver=newton-cg, penalty=l1, class_weight=None, C=78.47599703514607, total=   0.0s\n",
      "[CV] solver=newton-cg, penalty=l1, class_weight=None, C=78.47599703514607 \n",
      "[CV]  solver=newton-cg, penalty=l1, class_weight=None, C=78.47599703514607, total=   0.0s\n",
      "[CV] solver=newton-cg, penalty=l1, class_weight=None, C=78.47599703514607 \n",
      "[CV]  solver=newton-cg, penalty=l1, class_weight=None, C=78.47599703514607, total=   0.0s\n",
      "[CV] solver=newton-cg, penalty=l1, class_weight=None, C=78.47599703514607 \n",
      "[CV]  solver=newton-cg, penalty=l1, class_weight=None, C=78.47599703514607, total=   0.0s\n",
      "[CV] solver=newton-cg, penalty=l1, class_weight=None, C=0.0001 .......\n",
      "[CV]  solver=newton-cg, penalty=l1, class_weight=None, C=0.0001, total=   0.0s\n",
      "[CV] solver=newton-cg, penalty=l1, class_weight=None, C=0.0001 .......\n",
      "[CV]  solver=newton-cg, penalty=l1, class_weight=None, C=0.0001, total=   0.0s\n",
      "[CV] solver=newton-cg, penalty=l1, class_weight=None, C=0.0001 .......\n",
      "[CV]  solver=newton-cg, penalty=l1, class_weight=None, C=0.0001, total=   0.0s\n",
      "[CV] solver=newton-cg, penalty=l1, class_weight=None, C=0.0001 .......\n"
     ]
    },
    {
     "name": "stderr",
     "output_type": "stream",
     "text": [
      "/Users/personal/opt/anaconda3/lib/python3.8/site-packages/sklearn/model_selection/_validation.py:548: FitFailedWarning: Estimator fit failed. The score on this train-test partition for these parameters will be set to nan. Details: \n",
      "Traceback (most recent call last):\n",
      "  File \"/Users/personal/opt/anaconda3/lib/python3.8/site-packages/sklearn/model_selection/_validation.py\", line 531, in _fit_and_score\n",
      "    estimator.fit(X_train, y_train, **fit_params)\n",
      "  File \"/Users/personal/opt/anaconda3/lib/python3.8/site-packages/sklearn/linear_model/_logistic.py\", line 1312, in fit\n",
      "    raise ValueError(\"l1_ratio must be between 0 and 1;\"\n",
      "ValueError: l1_ratio must be between 0 and 1; got (l1_ratio=None)\n",
      "\n",
      "  warnings.warn(\"Estimator fit failed. The score on this train-test\"\n",
      "/Users/personal/opt/anaconda3/lib/python3.8/site-packages/sklearn/model_selection/_validation.py:548: FitFailedWarning: Estimator fit failed. The score on this train-test partition for these parameters will be set to nan. Details: \n",
      "Traceback (most recent call last):\n",
      "  File \"/Users/personal/opt/anaconda3/lib/python3.8/site-packages/sklearn/model_selection/_validation.py\", line 531, in _fit_and_score\n",
      "    estimator.fit(X_train, y_train, **fit_params)\n",
      "  File \"/Users/personal/opt/anaconda3/lib/python3.8/site-packages/sklearn/linear_model/_logistic.py\", line 1304, in fit\n",
      "    solver = _check_solver(self.solver, self.penalty, self.dual)\n",
      "  File \"/Users/personal/opt/anaconda3/lib/python3.8/site-packages/sklearn/linear_model/_logistic.py\", line 442, in _check_solver\n",
      "    raise ValueError(\"Solver %s supports only 'l2' or 'none' penalties, \"\n",
      "ValueError: Solver lbfgs supports only 'l2' or 'none' penalties, got elasticnet penalty.\n",
      "\n",
      "  warnings.warn(\"Estimator fit failed. The score on this train-test\"\n",
      "/Users/personal/opt/anaconda3/lib/python3.8/site-packages/sklearn/model_selection/_validation.py:548: FitFailedWarning: Estimator fit failed. The score on this train-test partition for these parameters will be set to nan. Details: \n",
      "Traceback (most recent call last):\n",
      "  File \"/Users/personal/opt/anaconda3/lib/python3.8/site-packages/sklearn/model_selection/_validation.py\", line 531, in _fit_and_score\n",
      "    estimator.fit(X_train, y_train, **fit_params)\n",
      "  File \"/Users/personal/opt/anaconda3/lib/python3.8/site-packages/sklearn/linear_model/_logistic.py\", line 1304, in fit\n",
      "    solver = _check_solver(self.solver, self.penalty, self.dual)\n",
      "  File \"/Users/personal/opt/anaconda3/lib/python3.8/site-packages/sklearn/linear_model/_logistic.py\", line 442, in _check_solver\n",
      "    raise ValueError(\"Solver %s supports only 'l2' or 'none' penalties, \"\n",
      "ValueError: Solver newton-cg supports only 'l2' or 'none' penalties, got l1 penalty.\n",
      "\n",
      "  warnings.warn(\"Estimator fit failed. The score on this train-test\"\n"
     ]
    },
    {
     "name": "stdout",
     "output_type": "stream",
     "text": [
      "[CV]  solver=newton-cg, penalty=l1, class_weight=None, C=0.0001, total=   0.0s\n",
      "[CV] solver=sag, penalty=l2, class_weight={1: 0.67, 0: 0.33}, C=10000.0 \n"
     ]
    },
    {
     "name": "stderr",
     "output_type": "stream",
     "text": [
      "/Users/personal/opt/anaconda3/lib/python3.8/site-packages/sklearn/linear_model/_sag.py:329: ConvergenceWarning: The max_iter was reached which means the coef_ did not converge\n",
      "  warnings.warn(\"The max_iter was reached which means \"\n"
     ]
    },
    {
     "name": "stdout",
     "output_type": "stream",
     "text": [
      "[CV]  solver=sag, penalty=l2, class_weight={1: 0.67, 0: 0.33}, C=10000.0, total=  10.0s\n",
      "[CV] solver=sag, penalty=l2, class_weight={1: 0.67, 0: 0.33}, C=10000.0 \n"
     ]
    },
    {
     "name": "stderr",
     "output_type": "stream",
     "text": [
      "/Users/personal/opt/anaconda3/lib/python3.8/site-packages/sklearn/linear_model/_sag.py:329: ConvergenceWarning: The max_iter was reached which means the coef_ did not converge\n",
      "  warnings.warn(\"The max_iter was reached which means \"\n"
     ]
    },
    {
     "name": "stdout",
     "output_type": "stream",
     "text": [
      "[CV]  solver=sag, penalty=l2, class_weight={1: 0.67, 0: 0.33}, C=10000.0, total=   5.4s\n",
      "[CV] solver=sag, penalty=l2, class_weight={1: 0.67, 0: 0.33}, C=10000.0 \n"
     ]
    },
    {
     "name": "stderr",
     "output_type": "stream",
     "text": [
      "/Users/personal/opt/anaconda3/lib/python3.8/site-packages/sklearn/linear_model/_sag.py:329: ConvergenceWarning: The max_iter was reached which means the coef_ did not converge\n",
      "  warnings.warn(\"The max_iter was reached which means \"\n"
     ]
    },
    {
     "name": "stdout",
     "output_type": "stream",
     "text": [
      "[CV]  solver=sag, penalty=l2, class_weight={1: 0.67, 0: 0.33}, C=10000.0, total=   5.5s\n",
      "[CV] solver=sag, penalty=l2, class_weight={1: 0.67, 0: 0.33}, C=10000.0 \n"
     ]
    },
    {
     "name": "stderr",
     "output_type": "stream",
     "text": [
      "/Users/personal/opt/anaconda3/lib/python3.8/site-packages/sklearn/linear_model/_sag.py:329: ConvergenceWarning: The max_iter was reached which means the coef_ did not converge\n",
      "  warnings.warn(\"The max_iter was reached which means \"\n",
      "/Users/personal/opt/anaconda3/lib/python3.8/site-packages/sklearn/model_selection/_validation.py:548: FitFailedWarning: Estimator fit failed. The score on this train-test partition for these parameters will be set to nan. Details: \n",
      "Traceback (most recent call last):\n",
      "  File \"/Users/personal/opt/anaconda3/lib/python3.8/site-packages/sklearn/model_selection/_validation.py\", line 531, in _fit_and_score\n",
      "    estimator.fit(X_train, y_train, **fit_params)\n",
      "  File \"/Users/personal/opt/anaconda3/lib/python3.8/site-packages/sklearn/linear_model/_logistic.py\", line 1304, in fit\n",
      "    solver = _check_solver(self.solver, self.penalty, self.dual)\n",
      "  File \"/Users/personal/opt/anaconda3/lib/python3.8/site-packages/sklearn/linear_model/_logistic.py\", line 442, in _check_solver\n",
      "    raise ValueError(\"Solver %s supports only 'l2' or 'none' penalties, \"\n",
      "ValueError: Solver sag supports only 'l2' or 'none' penalties, got elasticnet penalty.\n",
      "\n",
      "  warnings.warn(\"Estimator fit failed. The score on this train-test\"\n",
      "/Users/personal/opt/anaconda3/lib/python3.8/site-packages/sklearn/model_selection/_validation.py:548: FitFailedWarning: Estimator fit failed. The score on this train-test partition for these parameters will be set to nan. Details: \n",
      "Traceback (most recent call last):\n",
      "  File \"/Users/personal/opt/anaconda3/lib/python3.8/site-packages/sklearn/model_selection/_validation.py\", line 531, in _fit_and_score\n",
      "    estimator.fit(X_train, y_train, **fit_params)\n",
      "  File \"/Users/personal/opt/anaconda3/lib/python3.8/site-packages/sklearn/linear_model/_logistic.py\", line 1304, in fit\n",
      "    solver = _check_solver(self.solver, self.penalty, self.dual)\n",
      "  File \"/Users/personal/opt/anaconda3/lib/python3.8/site-packages/sklearn/linear_model/_logistic.py\", line 442, in _check_solver\n",
      "    raise ValueError(\"Solver %s supports only 'l2' or 'none' penalties, \"\n",
      "ValueError: Solver lbfgs supports only 'l2' or 'none' penalties, got elasticnet penalty.\n",
      "\n",
      "  warnings.warn(\"Estimator fit failed. The score on this train-test\"\n"
     ]
    },
    {
     "name": "stdout",
     "output_type": "stream",
     "text": [
      "[CV]  solver=sag, penalty=l2, class_weight={1: 0.67, 0: 0.33}, C=10000.0, total=   4.7s\n",
      "[CV] solver=sag, penalty=elasticnet, class_weight={1: 0.67, 0: 0.33}, C=3792.690190732246 \n",
      "[CV]  solver=sag, penalty=elasticnet, class_weight={1: 0.67, 0: 0.33}, C=3792.690190732246, total=   0.0s\n",
      "[CV] solver=sag, penalty=elasticnet, class_weight={1: 0.67, 0: 0.33}, C=3792.690190732246 \n",
      "[CV]  solver=sag, penalty=elasticnet, class_weight={1: 0.67, 0: 0.33}, C=3792.690190732246, total=   0.0s\n",
      "[CV] solver=sag, penalty=elasticnet, class_weight={1: 0.67, 0: 0.33}, C=3792.690190732246 \n",
      "[CV]  solver=sag, penalty=elasticnet, class_weight={1: 0.67, 0: 0.33}, C=3792.690190732246, total=   0.0s\n",
      "[CV] solver=sag, penalty=elasticnet, class_weight={1: 0.67, 0: 0.33}, C=3792.690190732246 \n",
      "[CV]  solver=sag, penalty=elasticnet, class_weight={1: 0.67, 0: 0.33}, C=3792.690190732246, total=   0.0s\n",
      "[CV] solver=lbfgs, penalty=elasticnet, class_weight=balanced, C=0.615848211066026 \n",
      "[CV]  solver=lbfgs, penalty=elasticnet, class_weight=balanced, C=0.615848211066026, total=   0.0s\n",
      "[CV] solver=lbfgs, penalty=elasticnet, class_weight=balanced, C=0.615848211066026 \n",
      "[CV]  solver=lbfgs, penalty=elasticnet, class_weight=balanced, C=0.615848211066026, total=   0.0s\n",
      "[CV] solver=lbfgs, penalty=elasticnet, class_weight=balanced, C=0.615848211066026 \n",
      "[CV]  solver=lbfgs, penalty=elasticnet, class_weight=balanced, C=0.615848211066026, total=   0.0s\n",
      "[CV] solver=lbfgs, penalty=elasticnet, class_weight=balanced, C=0.615848211066026 \n",
      "[CV]  solver=lbfgs, penalty=elasticnet, class_weight=balanced, C=0.615848211066026, total=   0.0s\n",
      "[CV] solver=lbfgs, penalty=l2, class_weight=balanced, C=0.004832930238571752 \n",
      "[CV]  solver=lbfgs, penalty=l2, class_weight=balanced, C=0.004832930238571752, total=   0.3s\n",
      "[CV] solver=lbfgs, penalty=l2, class_weight=balanced, C=0.004832930238571752 \n",
      "[CV]  solver=lbfgs, penalty=l2, class_weight=balanced, C=0.004832930238571752, total=   0.6s\n",
      "[CV] solver=lbfgs, penalty=l2, class_weight=balanced, C=0.004832930238571752 \n",
      "[CV]  solver=lbfgs, penalty=l2, class_weight=balanced, C=0.004832930238571752, total=   0.6s\n",
      "[CV] solver=lbfgs, penalty=l2, class_weight=balanced, C=0.004832930238571752 \n",
      "[CV]  solver=lbfgs, penalty=l2, class_weight=balanced, C=0.004832930238571752, total=   0.5s\n",
      "[CV] solver=sag, penalty=elasticnet, class_weight={1: 0.8, 0: 0.2}, C=0.23357214690901212 \n",
      "[CV]  solver=sag, penalty=elasticnet, class_weight={1: 0.8, 0: 0.2}, C=0.23357214690901212, total=   0.0s\n",
      "[CV] solver=sag, penalty=elasticnet, class_weight={1: 0.8, 0: 0.2}, C=0.23357214690901212 \n",
      "[CV]  solver=sag, penalty=elasticnet, class_weight={1: 0.8, 0: 0.2}, C=0.23357214690901212, total=   0.0s\n",
      "[CV] solver=sag, penalty=elasticnet, class_weight={1: 0.8, 0: 0.2}, C=0.23357214690901212 \n",
      "[CV]  solver=sag, penalty=elasticnet, class_weight={1: 0.8, 0: 0.2}, C=0.23357214690901212, total=   0.0s\n",
      "[CV] solver=sag, penalty=elasticnet, class_weight={1: 0.8, 0: 0.2}, C=0.23357214690901212 \n",
      "[CV]  solver=sag, penalty=elasticnet, class_weight={1: 0.8, 0: 0.2}, C=0.23357214690901212, total=   0.0s\n",
      "[CV] solver=lbfgs, penalty=elasticnet, class_weight={1: 0.75, 0: 0.25}, C=0.08858667904100823 \n",
      "[CV]  solver=lbfgs, penalty=elasticnet, class_weight={1: 0.75, 0: 0.25}, C=0.08858667904100823, total=   0.0s\n",
      "[CV] solver=lbfgs, penalty=elasticnet, class_weight={1: 0.75, 0: 0.25}, C=0.08858667904100823 \n",
      "[CV]  solver=lbfgs, penalty=elasticnet, class_weight={1: 0.75, 0: 0.25}, C=0.08858667904100823, total=   0.0s\n",
      "[CV] solver=lbfgs, penalty=elasticnet, class_weight={1: 0.75, 0: 0.25}, C=0.08858667904100823 \n",
      "[CV]  solver=lbfgs, penalty=elasticnet, class_weight={1: 0.75, 0: 0.25}, C=0.08858667904100823, total=   0.0s\n",
      "[CV] solver=lbfgs, penalty=elasticnet, class_weight={1: 0.75, 0: 0.25}, C=0.08858667904100823 \n",
      "[CV]  solver=lbfgs, penalty=elasticnet, class_weight={1: 0.75, 0: 0.25}, C=0.08858667904100823, total=   0.0s\n",
      "[CV] solver=lbfgs, penalty=l1, class_weight={1: 0.75, 0: 0.25}, C=0.00026366508987303583 \n",
      "[CV]  solver=lbfgs, penalty=l1, class_weight={1: 0.75, 0: 0.25}, C=0.00026366508987303583, total=   0.0s\n",
      "[CV] solver=lbfgs, penalty=l1, class_weight={1: 0.75, 0: 0.25}, C=0.00026366508987303583 \n",
      "[CV]  solver=lbfgs, penalty=l1, class_weight={1: 0.75, 0: 0.25}, C=0.00026366508987303583, total=   0.0s\n",
      "[CV] solver=lbfgs, penalty=l1, class_weight={1: 0.75, 0: 0.25}, C=0.00026366508987303583 \n",
      "[CV]  solver=lbfgs, penalty=l1, class_weight={1: 0.75, 0: 0.25}, C=0.00026366508987303583, total=   0.0s\n",
      "[CV] solver=lbfgs, penalty=l1, class_weight={1: 0.75, 0: 0.25}, C=0.00026366508987303583 \n",
      "[CV]  solver=lbfgs, penalty=l1, class_weight={1: 0.75, 0: 0.25}, C=0.00026366508987303583, total=   0.0s\n",
      "[CV] solver=newton-cg, penalty=elasticnet, class_weight={1: 0.8, 0: 0.2}, C=0.23357214690901212 \n",
      "[CV]  solver=newton-cg, penalty=elasticnet, class_weight={1: 0.8, 0: 0.2}, C=0.23357214690901212, total=   0.0s\n",
      "[CV] solver=newton-cg, penalty=elasticnet, class_weight={1: 0.8, 0: 0.2}, C=0.23357214690901212 \n",
      "[CV]  solver=newton-cg, penalty=elasticnet, class_weight={1: 0.8, 0: 0.2}, C=0.23357214690901212, total=   0.0s\n",
      "[CV] solver=newton-cg, penalty=elasticnet, class_weight={1: 0.8, 0: 0.2}, C=0.23357214690901212 \n",
      "[CV]  solver=newton-cg, penalty=elasticnet, class_weight={1: 0.8, 0: 0.2}, C=0.23357214690901212, total=   0.0s\n",
      "[CV] solver=newton-cg, penalty=elasticnet, class_weight={1: 0.8, 0: 0.2}, C=0.23357214690901212 \n",
      "[CV]  solver=newton-cg, penalty=elasticnet, class_weight={1: 0.8, 0: 0.2}, C=0.23357214690901212, total=   0.0s\n",
      "[CV] solver=lbfgs, penalty=l2, class_weight=None, C=1.623776739188721 \n"
     ]
    },
    {
     "name": "stderr",
     "output_type": "stream",
     "text": [
      "/Users/personal/opt/anaconda3/lib/python3.8/site-packages/sklearn/model_selection/_validation.py:548: FitFailedWarning: Estimator fit failed. The score on this train-test partition for these parameters will be set to nan. Details: \n",
      "Traceback (most recent call last):\n",
      "  File \"/Users/personal/opt/anaconda3/lib/python3.8/site-packages/sklearn/model_selection/_validation.py\", line 531, in _fit_and_score\n",
      "    estimator.fit(X_train, y_train, **fit_params)\n",
      "  File \"/Users/personal/opt/anaconda3/lib/python3.8/site-packages/sklearn/linear_model/_logistic.py\", line 1304, in fit\n",
      "    solver = _check_solver(self.solver, self.penalty, self.dual)\n",
      "  File \"/Users/personal/opt/anaconda3/lib/python3.8/site-packages/sklearn/linear_model/_logistic.py\", line 442, in _check_solver\n",
      "    raise ValueError(\"Solver %s supports only 'l2' or 'none' penalties, \"\n",
      "ValueError: Solver sag supports only 'l2' or 'none' penalties, got elasticnet penalty.\n",
      "\n",
      "  warnings.warn(\"Estimator fit failed. The score on this train-test\"\n",
      "/Users/personal/opt/anaconda3/lib/python3.8/site-packages/sklearn/model_selection/_validation.py:548: FitFailedWarning: Estimator fit failed. The score on this train-test partition for these parameters will be set to nan. Details: \n",
      "Traceback (most recent call last):\n",
      "  File \"/Users/personal/opt/anaconda3/lib/python3.8/site-packages/sklearn/model_selection/_validation.py\", line 531, in _fit_and_score\n",
      "    estimator.fit(X_train, y_train, **fit_params)\n",
      "  File \"/Users/personal/opt/anaconda3/lib/python3.8/site-packages/sklearn/linear_model/_logistic.py\", line 1304, in fit\n",
      "    solver = _check_solver(self.solver, self.penalty, self.dual)\n",
      "  File \"/Users/personal/opt/anaconda3/lib/python3.8/site-packages/sklearn/linear_model/_logistic.py\", line 442, in _check_solver\n",
      "    raise ValueError(\"Solver %s supports only 'l2' or 'none' penalties, \"\n",
      "ValueError: Solver lbfgs supports only 'l2' or 'none' penalties, got elasticnet penalty.\n",
      "\n",
      "  warnings.warn(\"Estimator fit failed. The score on this train-test\"\n",
      "/Users/personal/opt/anaconda3/lib/python3.8/site-packages/sklearn/model_selection/_validation.py:548: FitFailedWarning: Estimator fit failed. The score on this train-test partition for these parameters will be set to nan. Details: \n",
      "Traceback (most recent call last):\n",
      "  File \"/Users/personal/opt/anaconda3/lib/python3.8/site-packages/sklearn/model_selection/_validation.py\", line 531, in _fit_and_score\n",
      "    estimator.fit(X_train, y_train, **fit_params)\n",
      "  File \"/Users/personal/opt/anaconda3/lib/python3.8/site-packages/sklearn/linear_model/_logistic.py\", line 1304, in fit\n",
      "    solver = _check_solver(self.solver, self.penalty, self.dual)\n",
      "  File \"/Users/personal/opt/anaconda3/lib/python3.8/site-packages/sklearn/linear_model/_logistic.py\", line 442, in _check_solver\n",
      "    raise ValueError(\"Solver %s supports only 'l2' or 'none' penalties, \"\n",
      "ValueError: Solver lbfgs supports only 'l2' or 'none' penalties, got l1 penalty.\n",
      "\n",
      "  warnings.warn(\"Estimator fit failed. The score on this train-test\"\n",
      "/Users/personal/opt/anaconda3/lib/python3.8/site-packages/sklearn/model_selection/_validation.py:548: FitFailedWarning: Estimator fit failed. The score on this train-test partition for these parameters will be set to nan. Details: \n",
      "Traceback (most recent call last):\n",
      "  File \"/Users/personal/opt/anaconda3/lib/python3.8/site-packages/sklearn/model_selection/_validation.py\", line 531, in _fit_and_score\n",
      "    estimator.fit(X_train, y_train, **fit_params)\n",
      "  File \"/Users/personal/opt/anaconda3/lib/python3.8/site-packages/sklearn/linear_model/_logistic.py\", line 1304, in fit\n",
      "    solver = _check_solver(self.solver, self.penalty, self.dual)\n",
      "  File \"/Users/personal/opt/anaconda3/lib/python3.8/site-packages/sklearn/linear_model/_logistic.py\", line 442, in _check_solver\n",
      "    raise ValueError(\"Solver %s supports only 'l2' or 'none' penalties, \"\n",
      "ValueError: Solver newton-cg supports only 'l2' or 'none' penalties, got elasticnet penalty.\n",
      "\n",
      "  warnings.warn(\"Estimator fit failed. The score on this train-test\"\n",
      "/Users/personal/opt/anaconda3/lib/python3.8/site-packages/sklearn/linear_model/_logistic.py:762: ConvergenceWarning: lbfgs failed to converge (status=1):\n",
      "STOP: TOTAL NO. of ITERATIONS REACHED LIMIT.\n",
      "\n",
      "Increase the number of iterations (max_iter) or scale the data as shown in:\n",
      "    https://scikit-learn.org/stable/modules/preprocessing.html\n",
      "Please also refer to the documentation for alternative solver options:\n",
      "    https://scikit-learn.org/stable/modules/linear_model.html#logistic-regression\n",
      "  n_iter_i = _check_optimize_result(\n"
     ]
    },
    {
     "name": "stdout",
     "output_type": "stream",
     "text": [
      "[CV]  solver=lbfgs, penalty=l2, class_weight=None, C=1.623776739188721, total=   1.0s\n",
      "[CV] solver=lbfgs, penalty=l2, class_weight=None, C=1.623776739188721 \n"
     ]
    },
    {
     "name": "stderr",
     "output_type": "stream",
     "text": [
      "/Users/personal/opt/anaconda3/lib/python3.8/site-packages/sklearn/linear_model/_logistic.py:762: ConvergenceWarning: lbfgs failed to converge (status=1):\n",
      "STOP: TOTAL NO. of ITERATIONS REACHED LIMIT.\n",
      "\n",
      "Increase the number of iterations (max_iter) or scale the data as shown in:\n",
      "    https://scikit-learn.org/stable/modules/preprocessing.html\n",
      "Please also refer to the documentation for alternative solver options:\n",
      "    https://scikit-learn.org/stable/modules/linear_model.html#logistic-regression\n",
      "  n_iter_i = _check_optimize_result(\n"
     ]
    },
    {
     "name": "stdout",
     "output_type": "stream",
     "text": [
      "[CV]  solver=lbfgs, penalty=l2, class_weight=None, C=1.623776739188721, total=   0.9s\n",
      "[CV] solver=lbfgs, penalty=l2, class_weight=None, C=1.623776739188721 \n"
     ]
    },
    {
     "name": "stderr",
     "output_type": "stream",
     "text": [
      "/Users/personal/opt/anaconda3/lib/python3.8/site-packages/sklearn/linear_model/_logistic.py:762: ConvergenceWarning: lbfgs failed to converge (status=1):\n",
      "STOP: TOTAL NO. of ITERATIONS REACHED LIMIT.\n",
      "\n",
      "Increase the number of iterations (max_iter) or scale the data as shown in:\n",
      "    https://scikit-learn.org/stable/modules/preprocessing.html\n",
      "Please also refer to the documentation for alternative solver options:\n",
      "    https://scikit-learn.org/stable/modules/linear_model.html#logistic-regression\n",
      "  n_iter_i = _check_optimize_result(\n"
     ]
    },
    {
     "name": "stdout",
     "output_type": "stream",
     "text": [
      "[CV]  solver=lbfgs, penalty=l2, class_weight=None, C=1.623776739188721, total=   0.9s\n",
      "[CV] solver=lbfgs, penalty=l2, class_weight=None, C=1.623776739188721 \n"
     ]
    },
    {
     "name": "stderr",
     "output_type": "stream",
     "text": [
      "/Users/personal/opt/anaconda3/lib/python3.8/site-packages/sklearn/linear_model/_logistic.py:762: ConvergenceWarning: lbfgs failed to converge (status=1):\n",
      "STOP: TOTAL NO. of ITERATIONS REACHED LIMIT.\n",
      "\n",
      "Increase the number of iterations (max_iter) or scale the data as shown in:\n",
      "    https://scikit-learn.org/stable/modules/preprocessing.html\n",
      "Please also refer to the documentation for alternative solver options:\n",
      "    https://scikit-learn.org/stable/modules/linear_model.html#logistic-regression\n",
      "  n_iter_i = _check_optimize_result(\n"
     ]
    },
    {
     "name": "stdout",
     "output_type": "stream",
     "text": [
      "[CV]  solver=lbfgs, penalty=l2, class_weight=None, C=1.623776739188721, total=   0.9s\n",
      "[CV] solver=saga, penalty=l1, class_weight={1: 0.8, 0: 0.2}, C=0.615848211066026 \n"
     ]
    },
    {
     "name": "stderr",
     "output_type": "stream",
     "text": [
      "/Users/personal/opt/anaconda3/lib/python3.8/site-packages/sklearn/linear_model/_sag.py:329: ConvergenceWarning: The max_iter was reached which means the coef_ did not converge\n",
      "  warnings.warn(\"The max_iter was reached which means \"\n"
     ]
    },
    {
     "name": "stdout",
     "output_type": "stream",
     "text": [
      "[CV]  solver=saga, penalty=l1, class_weight={1: 0.8, 0: 0.2}, C=0.615848211066026, total=   7.9s\n",
      "[CV] solver=saga, penalty=l1, class_weight={1: 0.8, 0: 0.2}, C=0.615848211066026 \n"
     ]
    },
    {
     "name": "stderr",
     "output_type": "stream",
     "text": [
      "/Users/personal/opt/anaconda3/lib/python3.8/site-packages/sklearn/linear_model/_sag.py:329: ConvergenceWarning: The max_iter was reached which means the coef_ did not converge\n",
      "  warnings.warn(\"The max_iter was reached which means \"\n"
     ]
    },
    {
     "name": "stdout",
     "output_type": "stream",
     "text": [
      "[CV]  solver=saga, penalty=l1, class_weight={1: 0.8, 0: 0.2}, C=0.615848211066026, total=   6.1s\n",
      "[CV] solver=saga, penalty=l1, class_weight={1: 0.8, 0: 0.2}, C=0.615848211066026 \n"
     ]
    },
    {
     "name": "stderr",
     "output_type": "stream",
     "text": [
      "/Users/personal/opt/anaconda3/lib/python3.8/site-packages/sklearn/linear_model/_sag.py:329: ConvergenceWarning: The max_iter was reached which means the coef_ did not converge\n",
      "  warnings.warn(\"The max_iter was reached which means \"\n"
     ]
    },
    {
     "name": "stdout",
     "output_type": "stream",
     "text": [
      "[CV]  solver=saga, penalty=l1, class_weight={1: 0.8, 0: 0.2}, C=0.615848211066026, total=   4.8s\n",
      "[CV] solver=saga, penalty=l1, class_weight={1: 0.8, 0: 0.2}, C=0.615848211066026 \n",
      "[CV]  solver=saga, penalty=l1, class_weight={1: 0.8, 0: 0.2}, C=0.615848211066026, total=   4.5s\n",
      "[CV] solver=newton-cg, penalty=l2, class_weight=None, C=78.47599703514607 \n",
      "[CV]  solver=newton-cg, penalty=l2, class_weight=None, C=78.47599703514607, total=   2.5s\n",
      "[CV] solver=newton-cg, penalty=l2, class_weight=None, C=78.47599703514607 \n",
      "[CV]  solver=newton-cg, penalty=l2, class_weight=None, C=78.47599703514607, total=   2.1s\n",
      "[CV] solver=newton-cg, penalty=l2, class_weight=None, C=78.47599703514607 \n",
      "[CV]  solver=newton-cg, penalty=l2, class_weight=None, C=78.47599703514607, total=   2.4s\n",
      "[CV] solver=newton-cg, penalty=l2, class_weight=None, C=78.47599703514607 \n",
      "[CV]  solver=newton-cg, penalty=l2, class_weight=None, C=78.47599703514607, total=   2.6s\n",
      "[CV] solver=sag, penalty=l2, class_weight={1: 0.67, 0: 0.33}, C=545.5594781168514 \n"
     ]
    },
    {
     "name": "stderr",
     "output_type": "stream",
     "text": [
      "/Users/personal/opt/anaconda3/lib/python3.8/site-packages/sklearn/linear_model/_sag.py:329: ConvergenceWarning: The max_iter was reached which means the coef_ did not converge\n",
      "  warnings.warn(\"The max_iter was reached which means \"\n"
     ]
    },
    {
     "name": "stdout",
     "output_type": "stream",
     "text": [
      "[CV]  solver=sag, penalty=l2, class_weight={1: 0.67, 0: 0.33}, C=545.5594781168514, total=   3.9s\n",
      "[CV] solver=sag, penalty=l2, class_weight={1: 0.67, 0: 0.33}, C=545.5594781168514 \n"
     ]
    },
    {
     "name": "stderr",
     "output_type": "stream",
     "text": [
      "/Users/personal/opt/anaconda3/lib/python3.8/site-packages/sklearn/linear_model/_sag.py:329: ConvergenceWarning: The max_iter was reached which means the coef_ did not converge\n",
      "  warnings.warn(\"The max_iter was reached which means \"\n"
     ]
    },
    {
     "name": "stdout",
     "output_type": "stream",
     "text": [
      "[CV]  solver=sag, penalty=l2, class_weight={1: 0.67, 0: 0.33}, C=545.5594781168514, total=   3.9s\n",
      "[CV] solver=sag, penalty=l2, class_weight={1: 0.67, 0: 0.33}, C=545.5594781168514 \n"
     ]
    },
    {
     "name": "stderr",
     "output_type": "stream",
     "text": [
      "/Users/personal/opt/anaconda3/lib/python3.8/site-packages/sklearn/linear_model/_sag.py:329: ConvergenceWarning: The max_iter was reached which means the coef_ did not converge\n",
      "  warnings.warn(\"The max_iter was reached which means \"\n"
     ]
    },
    {
     "name": "stdout",
     "output_type": "stream",
     "text": [
      "[CV]  solver=sag, penalty=l2, class_weight={1: 0.67, 0: 0.33}, C=545.5594781168514, total=   3.9s\n",
      "[CV] solver=sag, penalty=l2, class_weight={1: 0.67, 0: 0.33}, C=545.5594781168514 \n"
     ]
    },
    {
     "name": "stderr",
     "output_type": "stream",
     "text": [
      "/Users/personal/opt/anaconda3/lib/python3.8/site-packages/sklearn/linear_model/_sag.py:329: ConvergenceWarning: The max_iter was reached which means the coef_ did not converge\n",
      "  warnings.warn(\"The max_iter was reached which means \"\n"
     ]
    },
    {
     "name": "stdout",
     "output_type": "stream",
     "text": [
      "[CV]  solver=sag, penalty=l2, class_weight={1: 0.67, 0: 0.33}, C=545.5594781168514, total=   3.9s\n",
      "[CV] solver=newton-cg, penalty=l2, class_weight={1: 0.67, 0: 0.33}, C=0.23357214690901212 \n",
      "[CV]  solver=newton-cg, penalty=l2, class_weight={1: 0.67, 0: 0.33}, C=0.23357214690901212, total=   0.9s\n",
      "[CV] solver=newton-cg, penalty=l2, class_weight={1: 0.67, 0: 0.33}, C=0.23357214690901212 \n",
      "[CV]  solver=newton-cg, penalty=l2, class_weight={1: 0.67, 0: 0.33}, C=0.23357214690901212, total=   0.9s\n",
      "[CV] solver=newton-cg, penalty=l2, class_weight={1: 0.67, 0: 0.33}, C=0.23357214690901212 \n",
      "[CV]  solver=newton-cg, penalty=l2, class_weight={1: 0.67, 0: 0.33}, C=0.23357214690901212, total=   0.9s\n",
      "[CV] solver=newton-cg, penalty=l2, class_weight={1: 0.67, 0: 0.33}, C=0.23357214690901212 \n",
      "[CV]  solver=newton-cg, penalty=l2, class_weight={1: 0.67, 0: 0.33}, C=0.23357214690901212, total=   0.9s\n",
      "[CV] solver=lbfgs, penalty=l1, class_weight={1: 0.8, 0: 0.2}, C=0.00026366508987303583 \n",
      "[CV]  solver=lbfgs, penalty=l1, class_weight={1: 0.8, 0: 0.2}, C=0.00026366508987303583, total=   0.0s\n",
      "[CV] solver=lbfgs, penalty=l1, class_weight={1: 0.8, 0: 0.2}, C=0.00026366508987303583 \n",
      "[CV]  solver=lbfgs, penalty=l1, class_weight={1: 0.8, 0: 0.2}, C=0.00026366508987303583, total=   0.0s\n",
      "[CV] solver=lbfgs, penalty=l1, class_weight={1: 0.8, 0: 0.2}, C=0.00026366508987303583 \n",
      "[CV]  solver=lbfgs, penalty=l1, class_weight={1: 0.8, 0: 0.2}, C=0.00026366508987303583, total=   0.0s\n",
      "[CV] solver=lbfgs, penalty=l1, class_weight={1: 0.8, 0: 0.2}, C=0.00026366508987303583 \n",
      "[CV]  solver=lbfgs, penalty=l1, class_weight={1: 0.8, 0: 0.2}, C=0.00026366508987303583, total=   0.0s\n",
      "[CV] solver=lbfgs, penalty=l1, class_weight={1: 0.75, 0: 0.25}, C=0.0006951927961775605 \n",
      "[CV]  solver=lbfgs, penalty=l1, class_weight={1: 0.75, 0: 0.25}, C=0.0006951927961775605, total=   0.0s\n",
      "[CV] solver=lbfgs, penalty=l1, class_weight={1: 0.75, 0: 0.25}, C=0.0006951927961775605 \n",
      "[CV]  solver=lbfgs, penalty=l1, class_weight={1: 0.75, 0: 0.25}, C=0.0006951927961775605, total=   0.0s\n",
      "[CV] solver=lbfgs, penalty=l1, class_weight={1: 0.75, 0: 0.25}, C=0.0006951927961775605 \n",
      "[CV]  solver=lbfgs, penalty=l1, class_weight={1: 0.75, 0: 0.25}, C=0.0006951927961775605, total=   0.0s\n",
      "[CV] solver=lbfgs, penalty=l1, class_weight={1: 0.75, 0: 0.25}, C=0.0006951927961775605 \n",
      "[CV]  solver=lbfgs, penalty=l1, class_weight={1: 0.75, 0: 0.25}, C=0.0006951927961775605, total=   0.0s\n",
      "[CV] solver=newton-cg, penalty=l1, class_weight=balanced, C=545.5594781168514 \n",
      "[CV]  solver=newton-cg, penalty=l1, class_weight=balanced, C=545.5594781168514, total=   0.0s\n",
      "[CV] solver=newton-cg, penalty=l1, class_weight=balanced, C=545.5594781168514 \n",
      "[CV]  solver=newton-cg, penalty=l1, class_weight=balanced, C=545.5594781168514, total=   0.0s\n",
      "[CV] solver=newton-cg, penalty=l1, class_weight=balanced, C=545.5594781168514 \n",
      "[CV]  solver=newton-cg, penalty=l1, class_weight=balanced, C=545.5594781168514, total=   0.0s\n",
      "[CV] solver=newton-cg, penalty=l1, class_weight=balanced, C=545.5594781168514 \n",
      "[CV]  solver=newton-cg, penalty=l1, class_weight=balanced, C=545.5594781168514, total=   0.0s\n",
      "[CV] solver=lbfgs, penalty=l2, class_weight={1: 0.67, 0: 0.33}, C=0.0006951927961775605 \n"
     ]
    },
    {
     "name": "stderr",
     "output_type": "stream",
     "text": [
      "/Users/personal/opt/anaconda3/lib/python3.8/site-packages/sklearn/model_selection/_validation.py:548: FitFailedWarning: Estimator fit failed. The score on this train-test partition for these parameters will be set to nan. Details: \n",
      "Traceback (most recent call last):\n",
      "  File \"/Users/personal/opt/anaconda3/lib/python3.8/site-packages/sklearn/model_selection/_validation.py\", line 531, in _fit_and_score\n",
      "    estimator.fit(X_train, y_train, **fit_params)\n",
      "  File \"/Users/personal/opt/anaconda3/lib/python3.8/site-packages/sklearn/linear_model/_logistic.py\", line 1304, in fit\n",
      "    solver = _check_solver(self.solver, self.penalty, self.dual)\n",
      "  File \"/Users/personal/opt/anaconda3/lib/python3.8/site-packages/sklearn/linear_model/_logistic.py\", line 442, in _check_solver\n",
      "    raise ValueError(\"Solver %s supports only 'l2' or 'none' penalties, \"\n",
      "ValueError: Solver lbfgs supports only 'l2' or 'none' penalties, got l1 penalty.\n",
      "\n",
      "  warnings.warn(\"Estimator fit failed. The score on this train-test\"\n",
      "/Users/personal/opt/anaconda3/lib/python3.8/site-packages/sklearn/model_selection/_validation.py:548: FitFailedWarning: Estimator fit failed. The score on this train-test partition for these parameters will be set to nan. Details: \n",
      "Traceback (most recent call last):\n",
      "  File \"/Users/personal/opt/anaconda3/lib/python3.8/site-packages/sklearn/model_selection/_validation.py\", line 531, in _fit_and_score\n",
      "    estimator.fit(X_train, y_train, **fit_params)\n",
      "  File \"/Users/personal/opt/anaconda3/lib/python3.8/site-packages/sklearn/linear_model/_logistic.py\", line 1304, in fit\n",
      "    solver = _check_solver(self.solver, self.penalty, self.dual)\n",
      "  File \"/Users/personal/opt/anaconda3/lib/python3.8/site-packages/sklearn/linear_model/_logistic.py\", line 442, in _check_solver\n",
      "    raise ValueError(\"Solver %s supports only 'l2' or 'none' penalties, \"\n",
      "ValueError: Solver newton-cg supports only 'l2' or 'none' penalties, got l1 penalty.\n",
      "\n",
      "  warnings.warn(\"Estimator fit failed. The score on this train-test\"\n"
     ]
    },
    {
     "name": "stdout",
     "output_type": "stream",
     "text": [
      "[CV]  solver=lbfgs, penalty=l2, class_weight={1: 0.67, 0: 0.33}, C=0.0006951927961775605, total=   0.1s\n",
      "[CV] solver=lbfgs, penalty=l2, class_weight={1: 0.67, 0: 0.33}, C=0.0006951927961775605 \n",
      "[CV]  solver=lbfgs, penalty=l2, class_weight={1: 0.67, 0: 0.33}, C=0.0006951927961775605, total=   0.1s\n",
      "[CV] solver=lbfgs, penalty=l2, class_weight={1: 0.67, 0: 0.33}, C=0.0006951927961775605 \n",
      "[CV]  solver=lbfgs, penalty=l2, class_weight={1: 0.67, 0: 0.33}, C=0.0006951927961775605, total=   0.1s\n",
      "[CV] solver=lbfgs, penalty=l2, class_weight={1: 0.67, 0: 0.33}, C=0.0006951927961775605 \n",
      "[CV]  solver=lbfgs, penalty=l2, class_weight={1: 0.67, 0: 0.33}, C=0.0006951927961775605, total=   0.1s\n",
      "[CV] solver=saga, penalty=elasticnet, class_weight={1: 0.67, 0: 0.33}, C=0.08858667904100823 \n",
      "[CV]  solver=saga, penalty=elasticnet, class_weight={1: 0.67, 0: 0.33}, C=0.08858667904100823, total=   0.0s\n",
      "[CV] solver=saga, penalty=elasticnet, class_weight={1: 0.67, 0: 0.33}, C=0.08858667904100823 \n",
      "[CV]  solver=saga, penalty=elasticnet, class_weight={1: 0.67, 0: 0.33}, C=0.08858667904100823, total=   0.0s\n",
      "[CV] solver=saga, penalty=elasticnet, class_weight={1: 0.67, 0: 0.33}, C=0.08858667904100823 \n",
      "[CV]  solver=saga, penalty=elasticnet, class_weight={1: 0.67, 0: 0.33}, C=0.08858667904100823, total=   0.0s\n",
      "[CV] solver=saga, penalty=elasticnet, class_weight={1: 0.67, 0: 0.33}, C=0.08858667904100823 \n",
      "[CV]  solver=saga, penalty=elasticnet, class_weight={1: 0.67, 0: 0.33}, C=0.08858667904100823, total=   0.0s\n",
      "[CV] solver=sag, penalty=l1, class_weight=None, C=0.0018329807108324356 \n",
      "[CV]  solver=sag, penalty=l1, class_weight=None, C=0.0018329807108324356, total=   0.0s\n",
      "[CV] solver=sag, penalty=l1, class_weight=None, C=0.0018329807108324356 \n",
      "[CV]  solver=sag, penalty=l1, class_weight=None, C=0.0018329807108324356, total=   0.0s\n",
      "[CV] solver=sag, penalty=l1, class_weight=None, C=0.0018329807108324356 \n",
      "[CV]  solver=sag, penalty=l1, class_weight=None, C=0.0018329807108324356, total=   0.0s\n",
      "[CV] solver=sag, penalty=l1, class_weight=None, C=0.0018329807108324356 \n",
      "[CV]  solver=sag, penalty=l1, class_weight=None, C=0.0018329807108324356, total=   0.0s\n",
      "[CV] solver=lbfgs, penalty=l1, class_weight={1: 0.8, 0: 0.2}, C=1438.44988828766 \n"
     ]
    },
    {
     "name": "stderr",
     "output_type": "stream",
     "text": [
      "/Users/personal/opt/anaconda3/lib/python3.8/site-packages/sklearn/model_selection/_validation.py:548: FitFailedWarning: Estimator fit failed. The score on this train-test partition for these parameters will be set to nan. Details: \n",
      "Traceback (most recent call last):\n",
      "  File \"/Users/personal/opt/anaconda3/lib/python3.8/site-packages/sklearn/model_selection/_validation.py\", line 531, in _fit_and_score\n",
      "    estimator.fit(X_train, y_train, **fit_params)\n",
      "  File \"/Users/personal/opt/anaconda3/lib/python3.8/site-packages/sklearn/linear_model/_logistic.py\", line 1312, in fit\n",
      "    raise ValueError(\"l1_ratio must be between 0 and 1;\"\n",
      "ValueError: l1_ratio must be between 0 and 1; got (l1_ratio=None)\n",
      "\n",
      "  warnings.warn(\"Estimator fit failed. The score on this train-test\"\n",
      "/Users/personal/opt/anaconda3/lib/python3.8/site-packages/sklearn/model_selection/_validation.py:548: FitFailedWarning: Estimator fit failed. The score on this train-test partition for these parameters will be set to nan. Details: \n",
      "Traceback (most recent call last):\n",
      "  File \"/Users/personal/opt/anaconda3/lib/python3.8/site-packages/sklearn/model_selection/_validation.py\", line 531, in _fit_and_score\n",
      "    estimator.fit(X_train, y_train, **fit_params)\n",
      "  File \"/Users/personal/opt/anaconda3/lib/python3.8/site-packages/sklearn/linear_model/_logistic.py\", line 1304, in fit\n",
      "    solver = _check_solver(self.solver, self.penalty, self.dual)\n",
      "  File \"/Users/personal/opt/anaconda3/lib/python3.8/site-packages/sklearn/linear_model/_logistic.py\", line 442, in _check_solver\n",
      "    raise ValueError(\"Solver %s supports only 'l2' or 'none' penalties, \"\n",
      "ValueError: Solver sag supports only 'l2' or 'none' penalties, got l1 penalty.\n",
      "\n",
      "  warnings.warn(\"Estimator fit failed. The score on this train-test\"\n",
      "/Users/personal/opt/anaconda3/lib/python3.8/site-packages/sklearn/model_selection/_validation.py:548: FitFailedWarning: Estimator fit failed. The score on this train-test partition for these parameters will be set to nan. Details: \n",
      "Traceback (most recent call last):\n",
      "  File \"/Users/personal/opt/anaconda3/lib/python3.8/site-packages/sklearn/model_selection/_validation.py\", line 531, in _fit_and_score\n",
      "    estimator.fit(X_train, y_train, **fit_params)\n",
      "  File \"/Users/personal/opt/anaconda3/lib/python3.8/site-packages/sklearn/linear_model/_logistic.py\", line 1304, in fit\n",
      "    solver = _check_solver(self.solver, self.penalty, self.dual)\n",
      "  File \"/Users/personal/opt/anaconda3/lib/python3.8/site-packages/sklearn/linear_model/_logistic.py\", line 442, in _check_solver\n",
      "    raise ValueError(\"Solver %s supports only 'l2' or 'none' penalties, \"\n",
      "ValueError: Solver lbfgs supports only 'l2' or 'none' penalties, got l1 penalty.\n",
      "\n",
      "  warnings.warn(\"Estimator fit failed. The score on this train-test\"\n",
      "/Users/personal/opt/anaconda3/lib/python3.8/site-packages/sklearn/model_selection/_validation.py:548: FitFailedWarning: Estimator fit failed. The score on this train-test partition for these parameters will be set to nan. Details: \n",
      "Traceback (most recent call last):\n",
      "  File \"/Users/personal/opt/anaconda3/lib/python3.8/site-packages/sklearn/model_selection/_validation.py\", line 531, in _fit_and_score\n",
      "    estimator.fit(X_train, y_train, **fit_params)\n",
      "  File \"/Users/personal/opt/anaconda3/lib/python3.8/site-packages/sklearn/linear_model/_logistic.py\", line 1304, in fit\n",
      "    solver = _check_solver(self.solver, self.penalty, self.dual)\n",
      "  File \"/Users/personal/opt/anaconda3/lib/python3.8/site-packages/sklearn/linear_model/_logistic.py\", line 442, in _check_solver\n",
      "    raise ValueError(\"Solver %s supports only 'l2' or 'none' penalties, \"\n",
      "ValueError: Solver sag supports only 'l2' or 'none' penalties, got elasticnet penalty.\n",
      "\n",
      "  warnings.warn(\"Estimator fit failed. The score on this train-test\"\n",
      "/Users/personal/opt/anaconda3/lib/python3.8/site-packages/sklearn/model_selection/_validation.py:548: FitFailedWarning: Estimator fit failed. The score on this train-test partition for these parameters will be set to nan. Details: \n",
      "Traceback (most recent call last):\n",
      "  File \"/Users/personal/opt/anaconda3/lib/python3.8/site-packages/sklearn/model_selection/_validation.py\", line 531, in _fit_and_score\n",
      "    estimator.fit(X_train, y_train, **fit_params)\n",
      "  File \"/Users/personal/opt/anaconda3/lib/python3.8/site-packages/sklearn/linear_model/_logistic.py\", line 1304, in fit\n",
      "    solver = _check_solver(self.solver, self.penalty, self.dual)\n",
      "  File \"/Users/personal/opt/anaconda3/lib/python3.8/site-packages/sklearn/linear_model/_logistic.py\", line 442, in _check_solver\n",
      "    raise ValueError(\"Solver %s supports only 'l2' or 'none' penalties, \"\n",
      "ValueError: Solver newton-cg supports only 'l2' or 'none' penalties, got l1 penalty.\n",
      "\n",
      "  warnings.warn(\"Estimator fit failed. The score on this train-test\"\n"
     ]
    },
    {
     "name": "stdout",
     "output_type": "stream",
     "text": [
      "[CV]  solver=lbfgs, penalty=l1, class_weight={1: 0.8, 0: 0.2}, C=1438.44988828766, total=   0.0s\n",
      "[CV] solver=lbfgs, penalty=l1, class_weight={1: 0.8, 0: 0.2}, C=1438.44988828766 \n",
      "[CV]  solver=lbfgs, penalty=l1, class_weight={1: 0.8, 0: 0.2}, C=1438.44988828766, total=   0.0s\n",
      "[CV] solver=lbfgs, penalty=l1, class_weight={1: 0.8, 0: 0.2}, C=1438.44988828766 \n",
      "[CV]  solver=lbfgs, penalty=l1, class_weight={1: 0.8, 0: 0.2}, C=1438.44988828766, total=   0.0s\n",
      "[CV] solver=lbfgs, penalty=l1, class_weight={1: 0.8, 0: 0.2}, C=1438.44988828766 \n",
      "[CV]  solver=lbfgs, penalty=l1, class_weight={1: 0.8, 0: 0.2}, C=1438.44988828766, total=   0.0s\n",
      "[CV] solver=sag, penalty=elasticnet, class_weight=balanced, C=206.913808111479 \n",
      "[CV]  solver=sag, penalty=elasticnet, class_weight=balanced, C=206.913808111479, total=   0.0s\n",
      "[CV] solver=sag, penalty=elasticnet, class_weight=balanced, C=206.913808111479 \n",
      "[CV]  solver=sag, penalty=elasticnet, class_weight=balanced, C=206.913808111479, total=   0.0s\n",
      "[CV] solver=sag, penalty=elasticnet, class_weight=balanced, C=206.913808111479 \n",
      "[CV]  solver=sag, penalty=elasticnet, class_weight=balanced, C=206.913808111479, total=   0.0s\n",
      "[CV] solver=sag, penalty=elasticnet, class_weight=balanced, C=206.913808111479 \n",
      "[CV]  solver=sag, penalty=elasticnet, class_weight=balanced, C=206.913808111479, total=   0.0s\n",
      "[CV] solver=sag, penalty=l1, class_weight={1: 0.75, 0: 0.25}, C=0.0018329807108324356 \n",
      "[CV]  solver=sag, penalty=l1, class_weight={1: 0.75, 0: 0.25}, C=0.0018329807108324356, total=   0.0s\n",
      "[CV] solver=sag, penalty=l1, class_weight={1: 0.75, 0: 0.25}, C=0.0018329807108324356 \n",
      "[CV]  solver=sag, penalty=l1, class_weight={1: 0.75, 0: 0.25}, C=0.0018329807108324356, total=   0.0s\n",
      "[CV] solver=sag, penalty=l1, class_weight={1: 0.75, 0: 0.25}, C=0.0018329807108324356 \n",
      "[CV]  solver=sag, penalty=l1, class_weight={1: 0.75, 0: 0.25}, C=0.0018329807108324356, total=   0.0s\n",
      "[CV] solver=sag, penalty=l1, class_weight={1: 0.75, 0: 0.25}, C=0.0018329807108324356 \n",
      "[CV]  solver=sag, penalty=l1, class_weight={1: 0.75, 0: 0.25}, C=0.0018329807108324356, total=   0.0s\n",
      "[CV] solver=newton-cg, penalty=l1, class_weight={1: 0.75, 0: 0.25}, C=0.08858667904100823 \n",
      "[CV]  solver=newton-cg, penalty=l1, class_weight={1: 0.75, 0: 0.25}, C=0.08858667904100823, total=   0.0s\n",
      "[CV] solver=newton-cg, penalty=l1, class_weight={1: 0.75, 0: 0.25}, C=0.08858667904100823 \n",
      "[CV]  solver=newton-cg, penalty=l1, class_weight={1: 0.75, 0: 0.25}, C=0.08858667904100823, total=   0.0s\n",
      "[CV] solver=newton-cg, penalty=l1, class_weight={1: 0.75, 0: 0.25}, C=0.08858667904100823 \n",
      "[CV]  solver=newton-cg, penalty=l1, class_weight={1: 0.75, 0: 0.25}, C=0.08858667904100823, total=   0.0s\n",
      "[CV] solver=newton-cg, penalty=l1, class_weight={1: 0.75, 0: 0.25}, C=0.08858667904100823 \n",
      "[CV]  solver=newton-cg, penalty=l1, class_weight={1: 0.75, 0: 0.25}, C=0.08858667904100823, total=   0.0s\n",
      "[CV] solver=lbfgs, penalty=l2, class_weight={1: 0.67, 0: 0.33}, C=0.012742749857031334 \n",
      "[CV]  solver=lbfgs, penalty=l2, class_weight={1: 0.67, 0: 0.33}, C=0.012742749857031334, total=   0.3s\n",
      "[CV] solver=lbfgs, penalty=l2, class_weight={1: 0.67, 0: 0.33}, C=0.012742749857031334 \n",
      "[CV]  solver=lbfgs, penalty=l2, class_weight={1: 0.67, 0: 0.33}, C=0.012742749857031334, total=   0.2s\n",
      "[CV] solver=lbfgs, penalty=l2, class_weight={1: 0.67, 0: 0.33}, C=0.012742749857031334 \n",
      "[CV]  solver=lbfgs, penalty=l2, class_weight={1: 0.67, 0: 0.33}, C=0.012742749857031334, total=   0.3s\n",
      "[CV] solver=lbfgs, penalty=l2, class_weight={1: 0.67, 0: 0.33}, C=0.012742749857031334 \n",
      "[CV]  solver=lbfgs, penalty=l2, class_weight={1: 0.67, 0: 0.33}, C=0.012742749857031334, total=   0.3s\n",
      "[CV] solver=saga, penalty=l2, class_weight={1: 0.67, 0: 0.33}, C=29.763514416313132 \n"
     ]
    },
    {
     "name": "stderr",
     "output_type": "stream",
     "text": [
      "/Users/personal/opt/anaconda3/lib/python3.8/site-packages/sklearn/linear_model/_sag.py:329: ConvergenceWarning: The max_iter was reached which means the coef_ did not converge\n",
      "  warnings.warn(\"The max_iter was reached which means \"\n"
     ]
    },
    {
     "name": "stdout",
     "output_type": "stream",
     "text": [
      "[CV]  solver=saga, penalty=l2, class_weight={1: 0.67, 0: 0.33}, C=29.763514416313132, total=   4.0s\n",
      "[CV] solver=saga, penalty=l2, class_weight={1: 0.67, 0: 0.33}, C=29.763514416313132 \n"
     ]
    },
    {
     "name": "stderr",
     "output_type": "stream",
     "text": [
      "/Users/personal/opt/anaconda3/lib/python3.8/site-packages/sklearn/linear_model/_sag.py:329: ConvergenceWarning: The max_iter was reached which means the coef_ did not converge\n",
      "  warnings.warn(\"The max_iter was reached which means \"\n"
     ]
    },
    {
     "name": "stdout",
     "output_type": "stream",
     "text": [
      "[CV]  solver=saga, penalty=l2, class_weight={1: 0.67, 0: 0.33}, C=29.763514416313132, total=   4.0s\n",
      "[CV] solver=saga, penalty=l2, class_weight={1: 0.67, 0: 0.33}, C=29.763514416313132 \n"
     ]
    },
    {
     "name": "stderr",
     "output_type": "stream",
     "text": [
      "/Users/personal/opt/anaconda3/lib/python3.8/site-packages/sklearn/linear_model/_sag.py:329: ConvergenceWarning: The max_iter was reached which means the coef_ did not converge\n",
      "  warnings.warn(\"The max_iter was reached which means \"\n"
     ]
    },
    {
     "name": "stdout",
     "output_type": "stream",
     "text": [
      "[CV]  solver=saga, penalty=l2, class_weight={1: 0.67, 0: 0.33}, C=29.763514416313132, total=   4.1s\n",
      "[CV] solver=saga, penalty=l2, class_weight={1: 0.67, 0: 0.33}, C=29.763514416313132 \n"
     ]
    },
    {
     "name": "stderr",
     "output_type": "stream",
     "text": [
      "/Users/personal/opt/anaconda3/lib/python3.8/site-packages/sklearn/linear_model/_sag.py:329: ConvergenceWarning: The max_iter was reached which means the coef_ did not converge\n",
      "  warnings.warn(\"The max_iter was reached which means \"\n",
      "/Users/personal/opt/anaconda3/lib/python3.8/site-packages/sklearn/model_selection/_validation.py:548: FitFailedWarning: Estimator fit failed. The score on this train-test partition for these parameters will be set to nan. Details: \n",
      "Traceback (most recent call last):\n",
      "  File \"/Users/personal/opt/anaconda3/lib/python3.8/site-packages/sklearn/model_selection/_validation.py\", line 531, in _fit_and_score\n",
      "    estimator.fit(X_train, y_train, **fit_params)\n",
      "  File \"/Users/personal/opt/anaconda3/lib/python3.8/site-packages/sklearn/linear_model/_logistic.py\", line 1304, in fit\n",
      "    solver = _check_solver(self.solver, self.penalty, self.dual)\n",
      "  File \"/Users/personal/opt/anaconda3/lib/python3.8/site-packages/sklearn/linear_model/_logistic.py\", line 442, in _check_solver\n",
      "    raise ValueError(\"Solver %s supports only 'l2' or 'none' penalties, \"\n",
      "ValueError: Solver newton-cg supports only 'l2' or 'none' penalties, got l1 penalty.\n",
      "\n",
      "  warnings.warn(\"Estimator fit failed. The score on this train-test\"\n"
     ]
    },
    {
     "name": "stdout",
     "output_type": "stream",
     "text": [
      "[CV]  solver=saga, penalty=l2, class_weight={1: 0.67, 0: 0.33}, C=29.763514416313132, total=   4.0s\n",
      "[CV] solver=newton-cg, penalty=l1, class_weight={1: 0.8, 0: 0.2}, C=10000.0 \n",
      "[CV]  solver=newton-cg, penalty=l1, class_weight={1: 0.8, 0: 0.2}, C=10000.0, total=   0.0s\n",
      "[CV] solver=newton-cg, penalty=l1, class_weight={1: 0.8, 0: 0.2}, C=10000.0 \n",
      "[CV]  solver=newton-cg, penalty=l1, class_weight={1: 0.8, 0: 0.2}, C=10000.0, total=   0.0s\n",
      "[CV] solver=newton-cg, penalty=l1, class_weight={1: 0.8, 0: 0.2}, C=10000.0 \n",
      "[CV]  solver=newton-cg, penalty=l1, class_weight={1: 0.8, 0: 0.2}, C=10000.0, total=   0.0s\n",
      "[CV] solver=newton-cg, penalty=l1, class_weight={1: 0.8, 0: 0.2}, C=10000.0 \n",
      "[CV]  solver=newton-cg, penalty=l1, class_weight={1: 0.8, 0: 0.2}, C=10000.0, total=   0.0s\n",
      "[CV] solver=sag, penalty=l2, class_weight={1: 0.67, 0: 0.33}, C=0.23357214690901212 \n",
      "[CV]  solver=sag, penalty=l2, class_weight={1: 0.67, 0: 0.33}, C=0.23357214690901212, total=   3.3s\n",
      "[CV] solver=sag, penalty=l2, class_weight={1: 0.67, 0: 0.33}, C=0.23357214690901212 \n",
      "[CV]  solver=sag, penalty=l2, class_weight={1: 0.67, 0: 0.33}, C=0.23357214690901212, total=   3.1s\n",
      "[CV] solver=sag, penalty=l2, class_weight={1: 0.67, 0: 0.33}, C=0.23357214690901212 \n",
      "[CV]  solver=sag, penalty=l2, class_weight={1: 0.67, 0: 0.33}, C=0.23357214690901212, total=   3.3s\n",
      "[CV] solver=sag, penalty=l2, class_weight={1: 0.67, 0: 0.33}, C=0.23357214690901212 \n",
      "[CV]  solver=sag, penalty=l2, class_weight={1: 0.67, 0: 0.33}, C=0.23357214690901212, total=   3.4s\n",
      "[CV] solver=saga, penalty=l1, class_weight=balanced, C=545.5594781168514 \n"
     ]
    },
    {
     "name": "stderr",
     "output_type": "stream",
     "text": [
      "/Users/personal/opt/anaconda3/lib/python3.8/site-packages/sklearn/linear_model/_sag.py:329: ConvergenceWarning: The max_iter was reached which means the coef_ did not converge\n",
      "  warnings.warn(\"The max_iter was reached which means \"\n"
     ]
    },
    {
     "name": "stdout",
     "output_type": "stream",
     "text": [
      "[CV]  solver=saga, penalty=l1, class_weight=balanced, C=545.5594781168514, total=  10.2s\n",
      "[CV] solver=saga, penalty=l1, class_weight=balanced, C=545.5594781168514 \n"
     ]
    },
    {
     "name": "stderr",
     "output_type": "stream",
     "text": [
      "/Users/personal/opt/anaconda3/lib/python3.8/site-packages/sklearn/linear_model/_sag.py:329: ConvergenceWarning: The max_iter was reached which means the coef_ did not converge\n",
      "  warnings.warn(\"The max_iter was reached which means \"\n"
     ]
    },
    {
     "name": "stdout",
     "output_type": "stream",
     "text": [
      "[CV]  solver=saga, penalty=l1, class_weight=balanced, C=545.5594781168514, total=  10.1s\n",
      "[CV] solver=saga, penalty=l1, class_weight=balanced, C=545.5594781168514 \n"
     ]
    },
    {
     "name": "stderr",
     "output_type": "stream",
     "text": [
      "/Users/personal/opt/anaconda3/lib/python3.8/site-packages/sklearn/linear_model/_sag.py:329: ConvergenceWarning: The max_iter was reached which means the coef_ did not converge\n",
      "  warnings.warn(\"The max_iter was reached which means \"\n"
     ]
    },
    {
     "name": "stdout",
     "output_type": "stream",
     "text": [
      "[CV]  solver=saga, penalty=l1, class_weight=balanced, C=545.5594781168514, total=  10.2s\n",
      "[CV] solver=saga, penalty=l1, class_weight=balanced, C=545.5594781168514 \n"
     ]
    },
    {
     "name": "stderr",
     "output_type": "stream",
     "text": [
      "/Users/personal/opt/anaconda3/lib/python3.8/site-packages/sklearn/linear_model/_sag.py:329: ConvergenceWarning: The max_iter was reached which means the coef_ did not converge\n",
      "  warnings.warn(\"The max_iter was reached which means \"\n",
      "/Users/personal/opt/anaconda3/lib/python3.8/site-packages/sklearn/model_selection/_validation.py:548: FitFailedWarning: Estimator fit failed. The score on this train-test partition for these parameters will be set to nan. Details: \n",
      "Traceback (most recent call last):\n",
      "  File \"/Users/personal/opt/anaconda3/lib/python3.8/site-packages/sklearn/model_selection/_validation.py\", line 531, in _fit_and_score\n",
      "    estimator.fit(X_train, y_train, **fit_params)\n",
      "  File \"/Users/personal/opt/anaconda3/lib/python3.8/site-packages/sklearn/linear_model/_logistic.py\", line 1304, in fit\n",
      "    solver = _check_solver(self.solver, self.penalty, self.dual)\n",
      "  File \"/Users/personal/opt/anaconda3/lib/python3.8/site-packages/sklearn/linear_model/_logistic.py\", line 442, in _check_solver\n",
      "    raise ValueError(\"Solver %s supports only 'l2' or 'none' penalties, \"\n",
      "ValueError: Solver lbfgs supports only 'l2' or 'none' penalties, got elasticnet penalty.\n",
      "\n",
      "  warnings.warn(\"Estimator fit failed. The score on this train-test\"\n"
     ]
    },
    {
     "name": "stdout",
     "output_type": "stream",
     "text": [
      "[CV]  solver=saga, penalty=l1, class_weight=balanced, C=545.5594781168514, total=  10.1s\n",
      "[CV] solver=lbfgs, penalty=elasticnet, class_weight=None, C=0.615848211066026 \n",
      "[CV]  solver=lbfgs, penalty=elasticnet, class_weight=None, C=0.615848211066026, total=   0.0s\n",
      "[CV] solver=lbfgs, penalty=elasticnet, class_weight=None, C=0.615848211066026 \n",
      "[CV]  solver=lbfgs, penalty=elasticnet, class_weight=None, C=0.615848211066026, total=   0.0s\n",
      "[CV] solver=lbfgs, penalty=elasticnet, class_weight=None, C=0.615848211066026 \n",
      "[CV]  solver=lbfgs, penalty=elasticnet, class_weight=None, C=0.615848211066026, total=   0.0s\n",
      "[CV] solver=lbfgs, penalty=elasticnet, class_weight=None, C=0.615848211066026 \n",
      "[CV]  solver=lbfgs, penalty=elasticnet, class_weight=None, C=0.615848211066026, total=   0.0s\n",
      "[CV] solver=newton-cg, penalty=l2, class_weight=balanced, C=29.763514416313132 \n",
      "[CV]  solver=newton-cg, penalty=l2, class_weight=balanced, C=29.763514416313132, total=   2.7s\n",
      "[CV] solver=newton-cg, penalty=l2, class_weight=balanced, C=29.763514416313132 \n",
      "[CV]  solver=newton-cg, penalty=l2, class_weight=balanced, C=29.763514416313132, total=   3.5s\n",
      "[CV] solver=newton-cg, penalty=l2, class_weight=balanced, C=29.763514416313132 \n",
      "[CV]  solver=newton-cg, penalty=l2, class_weight=balanced, C=29.763514416313132, total=   3.2s\n",
      "[CV] solver=newton-cg, penalty=l2, class_weight=balanced, C=29.763514416313132 \n",
      "[CV]  solver=newton-cg, penalty=l2, class_weight=balanced, C=29.763514416313132, total=   3.0s\n",
      "[CV] solver=newton-cg, penalty=elasticnet, class_weight=balanced, C=0.012742749857031334 \n",
      "[CV]  solver=newton-cg, penalty=elasticnet, class_weight=balanced, C=0.012742749857031334, total=   0.0s\n",
      "[CV] solver=newton-cg, penalty=elasticnet, class_weight=balanced, C=0.012742749857031334 \n",
      "[CV]  solver=newton-cg, penalty=elasticnet, class_weight=balanced, C=0.012742749857031334, total=   0.0s\n",
      "[CV] solver=newton-cg, penalty=elasticnet, class_weight=balanced, C=0.012742749857031334 \n",
      "[CV]  solver=newton-cg, penalty=elasticnet, class_weight=balanced, C=0.012742749857031334, total=   0.0s\n",
      "[CV] solver=newton-cg, penalty=elasticnet, class_weight=balanced, C=0.012742749857031334 \n",
      "[CV]  solver=newton-cg, penalty=elasticnet, class_weight=balanced, C=0.012742749857031334, total=   0.0s\n",
      "[CV] solver=newton-cg, penalty=l1, class_weight={1: 0.75, 0: 0.25}, C=11.288378916846883 \n",
      "[CV]  solver=newton-cg, penalty=l1, class_weight={1: 0.75, 0: 0.25}, C=11.288378916846883, total=   0.0s\n",
      "[CV] solver=newton-cg, penalty=l1, class_weight={1: 0.75, 0: 0.25}, C=11.288378916846883 \n",
      "[CV]  solver=newton-cg, penalty=l1, class_weight={1: 0.75, 0: 0.25}, C=11.288378916846883, total=   0.0s\n",
      "[CV] solver=newton-cg, penalty=l1, class_weight={1: 0.75, 0: 0.25}, C=11.288378916846883 \n",
      "[CV]  solver=newton-cg, penalty=l1, class_weight={1: 0.75, 0: 0.25}, C=11.288378916846883, total=   0.0s\n",
      "[CV] solver=newton-cg, penalty=l1, class_weight={1: 0.75, 0: 0.25}, C=11.288378916846883 \n",
      "[CV]  solver=newton-cg, penalty=l1, class_weight={1: 0.75, 0: 0.25}, C=11.288378916846883, total=   0.0s\n",
      "[CV] solver=saga, penalty=l1, class_weight={1: 0.8, 0: 0.2}, C=0.012742749857031334 \n"
     ]
    },
    {
     "name": "stderr",
     "output_type": "stream",
     "text": [
      "/Users/personal/opt/anaconda3/lib/python3.8/site-packages/sklearn/model_selection/_validation.py:548: FitFailedWarning: Estimator fit failed. The score on this train-test partition for these parameters will be set to nan. Details: \n",
      "Traceback (most recent call last):\n",
      "  File \"/Users/personal/opt/anaconda3/lib/python3.8/site-packages/sklearn/model_selection/_validation.py\", line 531, in _fit_and_score\n",
      "    estimator.fit(X_train, y_train, **fit_params)\n",
      "  File \"/Users/personal/opt/anaconda3/lib/python3.8/site-packages/sklearn/linear_model/_logistic.py\", line 1304, in fit\n",
      "    solver = _check_solver(self.solver, self.penalty, self.dual)\n",
      "  File \"/Users/personal/opt/anaconda3/lib/python3.8/site-packages/sklearn/linear_model/_logistic.py\", line 442, in _check_solver\n",
      "    raise ValueError(\"Solver %s supports only 'l2' or 'none' penalties, \"\n",
      "ValueError: Solver newton-cg supports only 'l2' or 'none' penalties, got elasticnet penalty.\n",
      "\n",
      "  warnings.warn(\"Estimator fit failed. The score on this train-test\"\n",
      "/Users/personal/opt/anaconda3/lib/python3.8/site-packages/sklearn/model_selection/_validation.py:548: FitFailedWarning: Estimator fit failed. The score on this train-test partition for these parameters will be set to nan. Details: \n",
      "Traceback (most recent call last):\n",
      "  File \"/Users/personal/opt/anaconda3/lib/python3.8/site-packages/sklearn/model_selection/_validation.py\", line 531, in _fit_and_score\n",
      "    estimator.fit(X_train, y_train, **fit_params)\n",
      "  File \"/Users/personal/opt/anaconda3/lib/python3.8/site-packages/sklearn/linear_model/_logistic.py\", line 1304, in fit\n",
      "    solver = _check_solver(self.solver, self.penalty, self.dual)\n",
      "  File \"/Users/personal/opt/anaconda3/lib/python3.8/site-packages/sklearn/linear_model/_logistic.py\", line 442, in _check_solver\n",
      "    raise ValueError(\"Solver %s supports only 'l2' or 'none' penalties, \"\n",
      "ValueError: Solver newton-cg supports only 'l2' or 'none' penalties, got l1 penalty.\n",
      "\n",
      "  warnings.warn(\"Estimator fit failed. The score on this train-test\"\n"
     ]
    },
    {
     "name": "stdout",
     "output_type": "stream",
     "text": [
      "[CV]  solver=saga, penalty=l1, class_weight={1: 0.8, 0: 0.2}, C=0.012742749857031334, total=   1.0s\n",
      "[CV] solver=saga, penalty=l1, class_weight={1: 0.8, 0: 0.2}, C=0.012742749857031334 \n",
      "[CV]  solver=saga, penalty=l1, class_weight={1: 0.8, 0: 0.2}, C=0.012742749857031334, total=   0.6s\n",
      "[CV] solver=saga, penalty=l1, class_weight={1: 0.8, 0: 0.2}, C=0.012742749857031334 \n",
      "[CV]  solver=saga, penalty=l1, class_weight={1: 0.8, 0: 0.2}, C=0.012742749857031334, total=   0.5s\n",
      "[CV] solver=saga, penalty=l1, class_weight={1: 0.8, 0: 0.2}, C=0.012742749857031334 \n",
      "[CV]  solver=saga, penalty=l1, class_weight={1: 0.8, 0: 0.2}, C=0.012742749857031334, total=   0.5s\n",
      "[CV] solver=newton-cg, penalty=elasticnet, class_weight=balanced, C=1.623776739188721 \n",
      "[CV]  solver=newton-cg, penalty=elasticnet, class_weight=balanced, C=1.623776739188721, total=   0.0s\n",
      "[CV] solver=newton-cg, penalty=elasticnet, class_weight=balanced, C=1.623776739188721 \n",
      "[CV]  solver=newton-cg, penalty=elasticnet, class_weight=balanced, C=1.623776739188721, total=   0.0s\n",
      "[CV] solver=newton-cg, penalty=elasticnet, class_weight=balanced, C=1.623776739188721 \n",
      "[CV]  solver=newton-cg, penalty=elasticnet, class_weight=balanced, C=1.623776739188721, total=   0.0s\n",
      "[CV] solver=newton-cg, penalty=elasticnet, class_weight=balanced, C=1.623776739188721 \n",
      "[CV]  solver=newton-cg, penalty=elasticnet, class_weight=balanced, C=1.623776739188721, total=   0.0s\n",
      "[CV] solver=saga, penalty=elasticnet, class_weight={1: 0.75, 0: 0.25}, C=206.913808111479 \n",
      "[CV]  solver=saga, penalty=elasticnet, class_weight={1: 0.75, 0: 0.25}, C=206.913808111479, total=   0.0s\n",
      "[CV] solver=saga, penalty=elasticnet, class_weight={1: 0.75, 0: 0.25}, C=206.913808111479 \n",
      "[CV]  solver=saga, penalty=elasticnet, class_weight={1: 0.75, 0: 0.25}, C=206.913808111479, total=   0.0s\n",
      "[CV] solver=saga, penalty=elasticnet, class_weight={1: 0.75, 0: 0.25}, C=206.913808111479 \n",
      "[CV]  solver=saga, penalty=elasticnet, class_weight={1: 0.75, 0: 0.25}, C=206.913808111479, total=   0.0s\n",
      "[CV] solver=saga, penalty=elasticnet, class_weight={1: 0.75, 0: 0.25}, C=206.913808111479 \n",
      "[CV]  solver=saga, penalty=elasticnet, class_weight={1: 0.75, 0: 0.25}, C=206.913808111479, total=   0.0s\n",
      "[CV] solver=newton-cg, penalty=l1, class_weight=balanced, C=4.281332398719396 \n",
      "[CV]  solver=newton-cg, penalty=l1, class_weight=balanced, C=4.281332398719396, total=   0.0s\n",
      "[CV] solver=newton-cg, penalty=l1, class_weight=balanced, C=4.281332398719396 \n",
      "[CV]  solver=newton-cg, penalty=l1, class_weight=balanced, C=4.281332398719396, total=   0.0s\n",
      "[CV] solver=newton-cg, penalty=l1, class_weight=balanced, C=4.281332398719396 \n",
      "[CV]  solver=newton-cg, penalty=l1, class_weight=balanced, C=4.281332398719396, total=   0.0s\n",
      "[CV] solver=newton-cg, penalty=l1, class_weight=balanced, C=4.281332398719396 \n",
      "[CV]  solver=newton-cg, penalty=l1, class_weight=balanced, C=4.281332398719396, total=   0.0s\n",
      "[CV] solver=saga, penalty=l1, class_weight={1: 0.75, 0: 0.25}, C=78.47599703514607 \n"
     ]
    },
    {
     "name": "stderr",
     "output_type": "stream",
     "text": [
      "/Users/personal/opt/anaconda3/lib/python3.8/site-packages/sklearn/model_selection/_validation.py:548: FitFailedWarning: Estimator fit failed. The score on this train-test partition for these parameters will be set to nan. Details: \n",
      "Traceback (most recent call last):\n",
      "  File \"/Users/personal/opt/anaconda3/lib/python3.8/site-packages/sklearn/model_selection/_validation.py\", line 531, in _fit_and_score\n",
      "    estimator.fit(X_train, y_train, **fit_params)\n",
      "  File \"/Users/personal/opt/anaconda3/lib/python3.8/site-packages/sklearn/linear_model/_logistic.py\", line 1304, in fit\n",
      "    solver = _check_solver(self.solver, self.penalty, self.dual)\n",
      "  File \"/Users/personal/opt/anaconda3/lib/python3.8/site-packages/sklearn/linear_model/_logistic.py\", line 442, in _check_solver\n",
      "    raise ValueError(\"Solver %s supports only 'l2' or 'none' penalties, \"\n",
      "ValueError: Solver newton-cg supports only 'l2' or 'none' penalties, got elasticnet penalty.\n",
      "\n",
      "  warnings.warn(\"Estimator fit failed. The score on this train-test\"\n",
      "/Users/personal/opt/anaconda3/lib/python3.8/site-packages/sklearn/model_selection/_validation.py:548: FitFailedWarning: Estimator fit failed. The score on this train-test partition for these parameters will be set to nan. Details: \n",
      "Traceback (most recent call last):\n",
      "  File \"/Users/personal/opt/anaconda3/lib/python3.8/site-packages/sklearn/model_selection/_validation.py\", line 531, in _fit_and_score\n",
      "    estimator.fit(X_train, y_train, **fit_params)\n",
      "  File \"/Users/personal/opt/anaconda3/lib/python3.8/site-packages/sklearn/linear_model/_logistic.py\", line 1312, in fit\n",
      "    raise ValueError(\"l1_ratio must be between 0 and 1;\"\n",
      "ValueError: l1_ratio must be between 0 and 1; got (l1_ratio=None)\n",
      "\n",
      "  warnings.warn(\"Estimator fit failed. The score on this train-test\"\n",
      "/Users/personal/opt/anaconda3/lib/python3.8/site-packages/sklearn/model_selection/_validation.py:548: FitFailedWarning: Estimator fit failed. The score on this train-test partition for these parameters will be set to nan. Details: \n",
      "Traceback (most recent call last):\n",
      "  File \"/Users/personal/opt/anaconda3/lib/python3.8/site-packages/sklearn/model_selection/_validation.py\", line 531, in _fit_and_score\n",
      "    estimator.fit(X_train, y_train, **fit_params)\n",
      "  File \"/Users/personal/opt/anaconda3/lib/python3.8/site-packages/sklearn/linear_model/_logistic.py\", line 1304, in fit\n",
      "    solver = _check_solver(self.solver, self.penalty, self.dual)\n",
      "  File \"/Users/personal/opt/anaconda3/lib/python3.8/site-packages/sklearn/linear_model/_logistic.py\", line 442, in _check_solver\n",
      "    raise ValueError(\"Solver %s supports only 'l2' or 'none' penalties, \"\n",
      "ValueError: Solver newton-cg supports only 'l2' or 'none' penalties, got l1 penalty.\n",
      "\n",
      "  warnings.warn(\"Estimator fit failed. The score on this train-test\"\n",
      "/Users/personal/opt/anaconda3/lib/python3.8/site-packages/sklearn/linear_model/_sag.py:329: ConvergenceWarning: The max_iter was reached which means the coef_ did not converge\n",
      "  warnings.warn(\"The max_iter was reached which means \"\n"
     ]
    },
    {
     "name": "stdout",
     "output_type": "stream",
     "text": [
      "[CV]  solver=saga, penalty=l1, class_weight={1: 0.75, 0: 0.25}, C=78.47599703514607, total=  10.0s\n",
      "[CV] solver=saga, penalty=l1, class_weight={1: 0.75, 0: 0.25}, C=78.47599703514607 \n"
     ]
    },
    {
     "name": "stderr",
     "output_type": "stream",
     "text": [
      "/Users/personal/opt/anaconda3/lib/python3.8/site-packages/sklearn/linear_model/_sag.py:329: ConvergenceWarning: The max_iter was reached which means the coef_ did not converge\n",
      "  warnings.warn(\"The max_iter was reached which means \"\n"
     ]
    },
    {
     "name": "stdout",
     "output_type": "stream",
     "text": [
      "[CV]  solver=saga, penalty=l1, class_weight={1: 0.75, 0: 0.25}, C=78.47599703514607, total=  10.0s\n",
      "[CV] solver=saga, penalty=l1, class_weight={1: 0.75, 0: 0.25}, C=78.47599703514607 \n"
     ]
    },
    {
     "name": "stderr",
     "output_type": "stream",
     "text": [
      "/Users/personal/opt/anaconda3/lib/python3.8/site-packages/sklearn/linear_model/_sag.py:329: ConvergenceWarning: The max_iter was reached which means the coef_ did not converge\n",
      "  warnings.warn(\"The max_iter was reached which means \"\n"
     ]
    },
    {
     "name": "stdout",
     "output_type": "stream",
     "text": [
      "[CV]  solver=saga, penalty=l1, class_weight={1: 0.75, 0: 0.25}, C=78.47599703514607, total=  10.0s\n",
      "[CV] solver=saga, penalty=l1, class_weight={1: 0.75, 0: 0.25}, C=78.47599703514607 \n"
     ]
    },
    {
     "name": "stderr",
     "output_type": "stream",
     "text": [
      "/Users/personal/opt/anaconda3/lib/python3.8/site-packages/sklearn/linear_model/_sag.py:329: ConvergenceWarning: The max_iter was reached which means the coef_ did not converge\n",
      "  warnings.warn(\"The max_iter was reached which means \"\n",
      "/Users/personal/opt/anaconda3/lib/python3.8/site-packages/sklearn/model_selection/_validation.py:548: FitFailedWarning: Estimator fit failed. The score on this train-test partition for these parameters will be set to nan. Details: \n",
      "Traceback (most recent call last):\n",
      "  File \"/Users/personal/opt/anaconda3/lib/python3.8/site-packages/sklearn/model_selection/_validation.py\", line 531, in _fit_and_score\n",
      "    estimator.fit(X_train, y_train, **fit_params)\n",
      "  File \"/Users/personal/opt/anaconda3/lib/python3.8/site-packages/sklearn/linear_model/_logistic.py\", line 1304, in fit\n",
      "    solver = _check_solver(self.solver, self.penalty, self.dual)\n",
      "  File \"/Users/personal/opt/anaconda3/lib/python3.8/site-packages/sklearn/linear_model/_logistic.py\", line 442, in _check_solver\n",
      "    raise ValueError(\"Solver %s supports only 'l2' or 'none' penalties, \"\n",
      "ValueError: Solver sag supports only 'l2' or 'none' penalties, got elasticnet penalty.\n",
      "\n",
      "  warnings.warn(\"Estimator fit failed. The score on this train-test\"\n",
      "/Users/personal/opt/anaconda3/lib/python3.8/site-packages/sklearn/model_selection/_validation.py:548: FitFailedWarning: Estimator fit failed. The score on this train-test partition for these parameters will be set to nan. Details: \n",
      "Traceback (most recent call last):\n",
      "  File \"/Users/personal/opt/anaconda3/lib/python3.8/site-packages/sklearn/model_selection/_validation.py\", line 531, in _fit_and_score\n",
      "    estimator.fit(X_train, y_train, **fit_params)\n",
      "  File \"/Users/personal/opt/anaconda3/lib/python3.8/site-packages/sklearn/linear_model/_logistic.py\", line 1304, in fit\n",
      "    solver = _check_solver(self.solver, self.penalty, self.dual)\n",
      "  File \"/Users/personal/opt/anaconda3/lib/python3.8/site-packages/sklearn/linear_model/_logistic.py\", line 442, in _check_solver\n",
      "    raise ValueError(\"Solver %s supports only 'l2' or 'none' penalties, \"\n",
      "ValueError: Solver lbfgs supports only 'l2' or 'none' penalties, got l1 penalty.\n",
      "\n",
      "  warnings.warn(\"Estimator fit failed. The score on this train-test\"\n"
     ]
    },
    {
     "name": "stdout",
     "output_type": "stream",
     "text": [
      "[CV]  solver=saga, penalty=l1, class_weight={1: 0.75, 0: 0.25}, C=78.47599703514607, total=   9.9s\n",
      "[CV] solver=sag, penalty=elasticnet, class_weight={1: 0.75, 0: 0.25}, C=0.0018329807108324356 \n",
      "[CV]  solver=sag, penalty=elasticnet, class_weight={1: 0.75, 0: 0.25}, C=0.0018329807108324356, total=   0.0s\n",
      "[CV] solver=sag, penalty=elasticnet, class_weight={1: 0.75, 0: 0.25}, C=0.0018329807108324356 \n",
      "[CV]  solver=sag, penalty=elasticnet, class_weight={1: 0.75, 0: 0.25}, C=0.0018329807108324356, total=   0.0s\n",
      "[CV] solver=sag, penalty=elasticnet, class_weight={1: 0.75, 0: 0.25}, C=0.0018329807108324356 \n",
      "[CV]  solver=sag, penalty=elasticnet, class_weight={1: 0.75, 0: 0.25}, C=0.0018329807108324356, total=   0.0s\n",
      "[CV] solver=sag, penalty=elasticnet, class_weight={1: 0.75, 0: 0.25}, C=0.0018329807108324356 \n",
      "[CV]  solver=sag, penalty=elasticnet, class_weight={1: 0.75, 0: 0.25}, C=0.0018329807108324356, total=   0.0s\n",
      "[CV] solver=lbfgs, penalty=l1, class_weight=None, C=0.615848211066026 \n",
      "[CV]  solver=lbfgs, penalty=l1, class_weight=None, C=0.615848211066026, total=   0.0s\n",
      "[CV] solver=lbfgs, penalty=l1, class_weight=None, C=0.615848211066026 \n",
      "[CV]  solver=lbfgs, penalty=l1, class_weight=None, C=0.615848211066026, total=   0.0s\n",
      "[CV] solver=lbfgs, penalty=l1, class_weight=None, C=0.615848211066026 \n",
      "[CV]  solver=lbfgs, penalty=l1, class_weight=None, C=0.615848211066026, total=   0.0s\n",
      "[CV] solver=lbfgs, penalty=l1, class_weight=None, C=0.615848211066026 \n",
      "[CV]  solver=lbfgs, penalty=l1, class_weight=None, C=0.615848211066026, total=   0.0s\n",
      "[CV] solver=saga, penalty=l1, class_weight={1: 0.67, 0: 0.33}, C=3792.690190732246 \n"
     ]
    },
    {
     "name": "stderr",
     "output_type": "stream",
     "text": [
      "/Users/personal/opt/anaconda3/lib/python3.8/site-packages/sklearn/linear_model/_sag.py:329: ConvergenceWarning: The max_iter was reached which means the coef_ did not converge\n",
      "  warnings.warn(\"The max_iter was reached which means \"\n"
     ]
    },
    {
     "name": "stdout",
     "output_type": "stream",
     "text": [
      "[CV]  solver=saga, penalty=l1, class_weight={1: 0.67, 0: 0.33}, C=3792.690190732246, total=  10.3s\n",
      "[CV] solver=saga, penalty=l1, class_weight={1: 0.67, 0: 0.33}, C=3792.690190732246 \n"
     ]
    },
    {
     "name": "stderr",
     "output_type": "stream",
     "text": [
      "/Users/personal/opt/anaconda3/lib/python3.8/site-packages/sklearn/linear_model/_sag.py:329: ConvergenceWarning: The max_iter was reached which means the coef_ did not converge\n",
      "  warnings.warn(\"The max_iter was reached which means \"\n"
     ]
    },
    {
     "name": "stdout",
     "output_type": "stream",
     "text": [
      "[CV]  solver=saga, penalty=l1, class_weight={1: 0.67, 0: 0.33}, C=3792.690190732246, total=  11.0s\n",
      "[CV] solver=saga, penalty=l1, class_weight={1: 0.67, 0: 0.33}, C=3792.690190732246 \n"
     ]
    },
    {
     "name": "stderr",
     "output_type": "stream",
     "text": [
      "/Users/personal/opt/anaconda3/lib/python3.8/site-packages/sklearn/linear_model/_sag.py:329: ConvergenceWarning: The max_iter was reached which means the coef_ did not converge\n",
      "  warnings.warn(\"The max_iter was reached which means \"\n"
     ]
    },
    {
     "name": "stdout",
     "output_type": "stream",
     "text": [
      "[CV]  solver=saga, penalty=l1, class_weight={1: 0.67, 0: 0.33}, C=3792.690190732246, total=  12.5s\n",
      "[CV] solver=saga, penalty=l1, class_weight={1: 0.67, 0: 0.33}, C=3792.690190732246 \n"
     ]
    },
    {
     "name": "stderr",
     "output_type": "stream",
     "text": [
      "/Users/personal/opt/anaconda3/lib/python3.8/site-packages/sklearn/linear_model/_sag.py:329: ConvergenceWarning: The max_iter was reached which means the coef_ did not converge\n",
      "  warnings.warn(\"The max_iter was reached which means \"\n",
      "/Users/personal/opt/anaconda3/lib/python3.8/site-packages/sklearn/model_selection/_validation.py:548: FitFailedWarning: Estimator fit failed. The score on this train-test partition for these parameters will be set to nan. Details: \n",
      "Traceback (most recent call last):\n",
      "  File \"/Users/personal/opt/anaconda3/lib/python3.8/site-packages/sklearn/model_selection/_validation.py\", line 531, in _fit_and_score\n",
      "    estimator.fit(X_train, y_train, **fit_params)\n",
      "  File \"/Users/personal/opt/anaconda3/lib/python3.8/site-packages/sklearn/linear_model/_logistic.py\", line 1304, in fit\n",
      "    solver = _check_solver(self.solver, self.penalty, self.dual)\n",
      "  File \"/Users/personal/opt/anaconda3/lib/python3.8/site-packages/sklearn/linear_model/_logistic.py\", line 442, in _check_solver\n",
      "    raise ValueError(\"Solver %s supports only 'l2' or 'none' penalties, \"\n",
      "ValueError: Solver sag supports only 'l2' or 'none' penalties, got elasticnet penalty.\n",
      "\n",
      "  warnings.warn(\"Estimator fit failed. The score on this train-test\"\n",
      "/Users/personal/opt/anaconda3/lib/python3.8/site-packages/sklearn/model_selection/_validation.py:548: FitFailedWarning: Estimator fit failed. The score on this train-test partition for these parameters will be set to nan. Details: \n",
      "Traceback (most recent call last):\n",
      "  File \"/Users/personal/opt/anaconda3/lib/python3.8/site-packages/sklearn/model_selection/_validation.py\", line 531, in _fit_and_score\n",
      "    estimator.fit(X_train, y_train, **fit_params)\n",
      "  File \"/Users/personal/opt/anaconda3/lib/python3.8/site-packages/sklearn/linear_model/_logistic.py\", line 1304, in fit\n",
      "    solver = _check_solver(self.solver, self.penalty, self.dual)\n",
      "  File \"/Users/personal/opt/anaconda3/lib/python3.8/site-packages/sklearn/linear_model/_logistic.py\", line 442, in _check_solver\n",
      "    raise ValueError(\"Solver %s supports only 'l2' or 'none' penalties, \"\n",
      "ValueError: Solver sag supports only 'l2' or 'none' penalties, got l1 penalty.\n",
      "\n",
      "  warnings.warn(\"Estimator fit failed. The score on this train-test\"\n"
     ]
    },
    {
     "name": "stdout",
     "output_type": "stream",
     "text": [
      "[CV]  solver=saga, penalty=l1, class_weight={1: 0.67, 0: 0.33}, C=3792.690190732246, total=  11.9s\n",
      "[CV] solver=sag, penalty=elasticnet, class_weight={1: 0.8, 0: 0.2}, C=0.615848211066026 \n",
      "[CV]  solver=sag, penalty=elasticnet, class_weight={1: 0.8, 0: 0.2}, C=0.615848211066026, total=   0.0s\n",
      "[CV] solver=sag, penalty=elasticnet, class_weight={1: 0.8, 0: 0.2}, C=0.615848211066026 \n",
      "[CV]  solver=sag, penalty=elasticnet, class_weight={1: 0.8, 0: 0.2}, C=0.615848211066026, total=   0.0s\n",
      "[CV] solver=sag, penalty=elasticnet, class_weight={1: 0.8, 0: 0.2}, C=0.615848211066026 \n",
      "[CV]  solver=sag, penalty=elasticnet, class_weight={1: 0.8, 0: 0.2}, C=0.615848211066026, total=   0.0s\n",
      "[CV] solver=sag, penalty=elasticnet, class_weight={1: 0.8, 0: 0.2}, C=0.615848211066026 \n",
      "[CV]  solver=sag, penalty=elasticnet, class_weight={1: 0.8, 0: 0.2}, C=0.615848211066026, total=   0.0s\n",
      "[CV] solver=sag, penalty=l1, class_weight={1: 0.75, 0: 0.25}, C=10000.0 \n",
      "[CV]  solver=sag, penalty=l1, class_weight={1: 0.75, 0: 0.25}, C=10000.0, total=   0.0s\n",
      "[CV] solver=sag, penalty=l1, class_weight={1: 0.75, 0: 0.25}, C=10000.0 \n",
      "[CV]  solver=sag, penalty=l1, class_weight={1: 0.75, 0: 0.25}, C=10000.0, total=   0.0s\n",
      "[CV] solver=sag, penalty=l1, class_weight={1: 0.75, 0: 0.25}, C=10000.0 \n",
      "[CV]  solver=sag, penalty=l1, class_weight={1: 0.75, 0: 0.25}, C=10000.0, total=   0.0s\n",
      "[CV] solver=sag, penalty=l1, class_weight={1: 0.75, 0: 0.25}, C=10000.0 \n",
      "[CV]  solver=sag, penalty=l1, class_weight={1: 0.75, 0: 0.25}, C=10000.0, total=   0.0s\n",
      "[CV] solver=sag, penalty=l2, class_weight={1: 0.75, 0: 0.25}, C=11.288378916846883 \n"
     ]
    },
    {
     "name": "stderr",
     "output_type": "stream",
     "text": [
      "/Users/personal/opt/anaconda3/lib/python3.8/site-packages/sklearn/linear_model/_sag.py:329: ConvergenceWarning: The max_iter was reached which means the coef_ did not converge\n",
      "  warnings.warn(\"The max_iter was reached which means \"\n"
     ]
    },
    {
     "name": "stdout",
     "output_type": "stream",
     "text": [
      "[CV]  solver=sag, penalty=l2, class_weight={1: 0.75, 0: 0.25}, C=11.288378916846883, total=   4.7s\n",
      "[CV] solver=sag, penalty=l2, class_weight={1: 0.75, 0: 0.25}, C=11.288378916846883 \n"
     ]
    },
    {
     "name": "stderr",
     "output_type": "stream",
     "text": [
      "/Users/personal/opt/anaconda3/lib/python3.8/site-packages/sklearn/linear_model/_sag.py:329: ConvergenceWarning: The max_iter was reached which means the coef_ did not converge\n",
      "  warnings.warn(\"The max_iter was reached which means \"\n"
     ]
    },
    {
     "name": "stdout",
     "output_type": "stream",
     "text": [
      "[CV]  solver=sag, penalty=l2, class_weight={1: 0.75, 0: 0.25}, C=11.288378916846883, total=   4.7s\n",
      "[CV] solver=sag, penalty=l2, class_weight={1: 0.75, 0: 0.25}, C=11.288378916846883 \n"
     ]
    },
    {
     "name": "stderr",
     "output_type": "stream",
     "text": [
      "/Users/personal/opt/anaconda3/lib/python3.8/site-packages/sklearn/linear_model/_sag.py:329: ConvergenceWarning: The max_iter was reached which means the coef_ did not converge\n",
      "  warnings.warn(\"The max_iter was reached which means \"\n"
     ]
    },
    {
     "name": "stdout",
     "output_type": "stream",
     "text": [
      "[CV]  solver=sag, penalty=l2, class_weight={1: 0.75, 0: 0.25}, C=11.288378916846883, total=   4.6s\n",
      "[CV] solver=sag, penalty=l2, class_weight={1: 0.75, 0: 0.25}, C=11.288378916846883 \n"
     ]
    },
    {
     "name": "stderr",
     "output_type": "stream",
     "text": [
      "/Users/personal/opt/anaconda3/lib/python3.8/site-packages/sklearn/linear_model/_sag.py:329: ConvergenceWarning: The max_iter was reached which means the coef_ did not converge\n",
      "  warnings.warn(\"The max_iter was reached which means \"\n",
      "/Users/personal/opt/anaconda3/lib/python3.8/site-packages/sklearn/model_selection/_validation.py:548: FitFailedWarning: Estimator fit failed. The score on this train-test partition for these parameters will be set to nan. Details: \n",
      "Traceback (most recent call last):\n",
      "  File \"/Users/personal/opt/anaconda3/lib/python3.8/site-packages/sklearn/model_selection/_validation.py\", line 531, in _fit_and_score\n",
      "    estimator.fit(X_train, y_train, **fit_params)\n",
      "  File \"/Users/personal/opt/anaconda3/lib/python3.8/site-packages/sklearn/linear_model/_logistic.py\", line 1304, in fit\n",
      "    solver = _check_solver(self.solver, self.penalty, self.dual)\n",
      "  File \"/Users/personal/opt/anaconda3/lib/python3.8/site-packages/sklearn/linear_model/_logistic.py\", line 442, in _check_solver\n",
      "    raise ValueError(\"Solver %s supports only 'l2' or 'none' penalties, \"\n",
      "ValueError: Solver sag supports only 'l2' or 'none' penalties, got l1 penalty.\n",
      "\n",
      "  warnings.warn(\"Estimator fit failed. The score on this train-test\"\n"
     ]
    },
    {
     "name": "stdout",
     "output_type": "stream",
     "text": [
      "[CV]  solver=sag, penalty=l2, class_weight={1: 0.75, 0: 0.25}, C=11.288378916846883, total=   4.5s\n",
      "[CV] solver=sag, penalty=l1, class_weight={1: 0.67, 0: 0.33}, C=4.281332398719396 \n",
      "[CV]  solver=sag, penalty=l1, class_weight={1: 0.67, 0: 0.33}, C=4.281332398719396, total=   0.0s\n",
      "[CV] solver=sag, penalty=l1, class_weight={1: 0.67, 0: 0.33}, C=4.281332398719396 \n",
      "[CV]  solver=sag, penalty=l1, class_weight={1: 0.67, 0: 0.33}, C=4.281332398719396, total=   0.0s\n",
      "[CV] solver=sag, penalty=l1, class_weight={1: 0.67, 0: 0.33}, C=4.281332398719396 \n",
      "[CV]  solver=sag, penalty=l1, class_weight={1: 0.67, 0: 0.33}, C=4.281332398719396, total=   0.0s\n",
      "[CV] solver=sag, penalty=l1, class_weight={1: 0.67, 0: 0.33}, C=4.281332398719396 \n",
      "[CV]  solver=sag, penalty=l1, class_weight={1: 0.67, 0: 0.33}, C=4.281332398719396, total=   0.0s\n",
      "[CV] solver=sag, penalty=l2, class_weight={1: 0.75, 0: 0.25}, C=3792.690190732246 \n"
     ]
    },
    {
     "name": "stderr",
     "output_type": "stream",
     "text": [
      "/Users/personal/opt/anaconda3/lib/python3.8/site-packages/sklearn/linear_model/_sag.py:329: ConvergenceWarning: The max_iter was reached which means the coef_ did not converge\n",
      "  warnings.warn(\"The max_iter was reached which means \"\n"
     ]
    },
    {
     "name": "stdout",
     "output_type": "stream",
     "text": [
      "[CV]  solver=sag, penalty=l2, class_weight={1: 0.75, 0: 0.25}, C=3792.690190732246, total=   4.5s\n",
      "[CV] solver=sag, penalty=l2, class_weight={1: 0.75, 0: 0.25}, C=3792.690190732246 \n"
     ]
    },
    {
     "name": "stderr",
     "output_type": "stream",
     "text": [
      "/Users/personal/opt/anaconda3/lib/python3.8/site-packages/sklearn/linear_model/_sag.py:329: ConvergenceWarning: The max_iter was reached which means the coef_ did not converge\n",
      "  warnings.warn(\"The max_iter was reached which means \"\n"
     ]
    },
    {
     "name": "stdout",
     "output_type": "stream",
     "text": [
      "[CV]  solver=sag, penalty=l2, class_weight={1: 0.75, 0: 0.25}, C=3792.690190732246, total=   4.6s\n",
      "[CV] solver=sag, penalty=l2, class_weight={1: 0.75, 0: 0.25}, C=3792.690190732246 \n"
     ]
    },
    {
     "name": "stderr",
     "output_type": "stream",
     "text": [
      "/Users/personal/opt/anaconda3/lib/python3.8/site-packages/sklearn/linear_model/_sag.py:329: ConvergenceWarning: The max_iter was reached which means the coef_ did not converge\n",
      "  warnings.warn(\"The max_iter was reached which means \"\n"
     ]
    },
    {
     "name": "stdout",
     "output_type": "stream",
     "text": [
      "[CV]  solver=sag, penalty=l2, class_weight={1: 0.75, 0: 0.25}, C=3792.690190732246, total=   4.6s\n",
      "[CV] solver=sag, penalty=l2, class_weight={1: 0.75, 0: 0.25}, C=3792.690190732246 \n"
     ]
    },
    {
     "name": "stderr",
     "output_type": "stream",
     "text": [
      "/Users/personal/opt/anaconda3/lib/python3.8/site-packages/sklearn/linear_model/_sag.py:329: ConvergenceWarning: The max_iter was reached which means the coef_ did not converge\n",
      "  warnings.warn(\"The max_iter was reached which means \"\n"
     ]
    },
    {
     "name": "stdout",
     "output_type": "stream",
     "text": [
      "[CV]  solver=sag, penalty=l2, class_weight={1: 0.75, 0: 0.25}, C=3792.690190732246, total=   4.5s\n",
      "[CV] solver=sag, penalty=l2, class_weight={1: 0.67, 0: 0.33}, C=206.913808111479 \n"
     ]
    },
    {
     "name": "stderr",
     "output_type": "stream",
     "text": [
      "/Users/personal/opt/anaconda3/lib/python3.8/site-packages/sklearn/linear_model/_sag.py:329: ConvergenceWarning: The max_iter was reached which means the coef_ did not converge\n",
      "  warnings.warn(\"The max_iter was reached which means \"\n"
     ]
    },
    {
     "name": "stdout",
     "output_type": "stream",
     "text": [
      "[CV]  solver=sag, penalty=l2, class_weight={1: 0.67, 0: 0.33}, C=206.913808111479, total=   4.6s\n",
      "[CV] solver=sag, penalty=l2, class_weight={1: 0.67, 0: 0.33}, C=206.913808111479 \n"
     ]
    },
    {
     "name": "stderr",
     "output_type": "stream",
     "text": [
      "/Users/personal/opt/anaconda3/lib/python3.8/site-packages/sklearn/linear_model/_sag.py:329: ConvergenceWarning: The max_iter was reached which means the coef_ did not converge\n",
      "  warnings.warn(\"The max_iter was reached which means \"\n"
     ]
    },
    {
     "name": "stdout",
     "output_type": "stream",
     "text": [
      "[CV]  solver=sag, penalty=l2, class_weight={1: 0.67, 0: 0.33}, C=206.913808111479, total=   4.6s\n",
      "[CV] solver=sag, penalty=l2, class_weight={1: 0.67, 0: 0.33}, C=206.913808111479 \n"
     ]
    },
    {
     "name": "stderr",
     "output_type": "stream",
     "text": [
      "/Users/personal/opt/anaconda3/lib/python3.8/site-packages/sklearn/linear_model/_sag.py:329: ConvergenceWarning: The max_iter was reached which means the coef_ did not converge\n",
      "  warnings.warn(\"The max_iter was reached which means \"\n"
     ]
    },
    {
     "name": "stdout",
     "output_type": "stream",
     "text": [
      "[CV]  solver=sag, penalty=l2, class_weight={1: 0.67, 0: 0.33}, C=206.913808111479, total=   4.7s\n",
      "[CV] solver=sag, penalty=l2, class_weight={1: 0.67, 0: 0.33}, C=206.913808111479 \n"
     ]
    },
    {
     "name": "stderr",
     "output_type": "stream",
     "text": [
      "/Users/personal/opt/anaconda3/lib/python3.8/site-packages/sklearn/linear_model/_sag.py:329: ConvergenceWarning: The max_iter was reached which means the coef_ did not converge\n",
      "  warnings.warn(\"The max_iter was reached which means \"\n",
      "/Users/personal/opt/anaconda3/lib/python3.8/site-packages/sklearn/model_selection/_validation.py:548: FitFailedWarning: Estimator fit failed. The score on this train-test partition for these parameters will be set to nan. Details: \n",
      "Traceback (most recent call last):\n",
      "  File \"/Users/personal/opt/anaconda3/lib/python3.8/site-packages/sklearn/model_selection/_validation.py\", line 531, in _fit_and_score\n",
      "    estimator.fit(X_train, y_train, **fit_params)\n",
      "  File \"/Users/personal/opt/anaconda3/lib/python3.8/site-packages/sklearn/linear_model/_logistic.py\", line 1304, in fit\n",
      "    solver = _check_solver(self.solver, self.penalty, self.dual)\n",
      "  File \"/Users/personal/opt/anaconda3/lib/python3.8/site-packages/sklearn/linear_model/_logistic.py\", line 442, in _check_solver\n",
      "    raise ValueError(\"Solver %s supports only 'l2' or 'none' penalties, \"\n",
      "ValueError: Solver lbfgs supports only 'l2' or 'none' penalties, got l1 penalty.\n",
      "\n",
      "  warnings.warn(\"Estimator fit failed. The score on this train-test\"\n"
     ]
    },
    {
     "name": "stdout",
     "output_type": "stream",
     "text": [
      "[CV]  solver=sag, penalty=l2, class_weight={1: 0.67, 0: 0.33}, C=206.913808111479, total=   4.8s\n",
      "[CV] solver=lbfgs, penalty=l1, class_weight={1: 0.75, 0: 0.25}, C=545.5594781168514 \n",
      "[CV]  solver=lbfgs, penalty=l1, class_weight={1: 0.75, 0: 0.25}, C=545.5594781168514, total=   0.0s\n",
      "[CV] solver=lbfgs, penalty=l1, class_weight={1: 0.75, 0: 0.25}, C=545.5594781168514 \n",
      "[CV]  solver=lbfgs, penalty=l1, class_weight={1: 0.75, 0: 0.25}, C=545.5594781168514, total=   0.0s\n",
      "[CV] solver=lbfgs, penalty=l1, class_weight={1: 0.75, 0: 0.25}, C=545.5594781168514 \n",
      "[CV]  solver=lbfgs, penalty=l1, class_weight={1: 0.75, 0: 0.25}, C=545.5594781168514, total=   0.0s\n",
      "[CV] solver=lbfgs, penalty=l1, class_weight={1: 0.75, 0: 0.25}, C=545.5594781168514 \n",
      "[CV]  solver=lbfgs, penalty=l1, class_weight={1: 0.75, 0: 0.25}, C=545.5594781168514, total=   0.0s\n",
      "[CV] solver=newton-cg, penalty=l2, class_weight=balanced, C=11.288378916846883 \n",
      "[CV]  solver=newton-cg, penalty=l2, class_weight=balanced, C=11.288378916846883, total=   2.8s\n",
      "[CV] solver=newton-cg, penalty=l2, class_weight=balanced, C=11.288378916846883 \n",
      "[CV]  solver=newton-cg, penalty=l2, class_weight=balanced, C=11.288378916846883, total=   2.9s\n",
      "[CV] solver=newton-cg, penalty=l2, class_weight=balanced, C=11.288378916846883 \n",
      "[CV]  solver=newton-cg, penalty=l2, class_weight=balanced, C=11.288378916846883, total=   3.0s\n",
      "[CV] solver=newton-cg, penalty=l2, class_weight=balanced, C=11.288378916846883 \n",
      "[CV]  solver=newton-cg, penalty=l2, class_weight=balanced, C=11.288378916846883, total=   3.2s\n",
      "[CV] solver=newton-cg, penalty=l2, class_weight=None, C=0.08858667904100823 \n",
      "[CV]  solver=newton-cg, penalty=l2, class_weight=None, C=0.08858667904100823, total=   1.1s\n",
      "[CV] solver=newton-cg, penalty=l2, class_weight=None, C=0.08858667904100823 \n",
      "[CV]  solver=newton-cg, penalty=l2, class_weight=None, C=0.08858667904100823, total=   1.0s\n",
      "[CV] solver=newton-cg, penalty=l2, class_weight=None, C=0.08858667904100823 \n",
      "[CV]  solver=newton-cg, penalty=l2, class_weight=None, C=0.08858667904100823, total=   1.0s\n",
      "[CV] solver=newton-cg, penalty=l2, class_weight=None, C=0.08858667904100823 \n",
      "[CV]  solver=newton-cg, penalty=l2, class_weight=None, C=0.08858667904100823, total=   1.1s\n",
      "[CV] solver=sag, penalty=l1, class_weight={1: 0.67, 0: 0.33}, C=0.03359818286283781 \n",
      "[CV]  solver=sag, penalty=l1, class_weight={1: 0.67, 0: 0.33}, C=0.03359818286283781, total=   0.0s\n",
      "[CV] solver=sag, penalty=l1, class_weight={1: 0.67, 0: 0.33}, C=0.03359818286283781 \n",
      "[CV]  solver=sag, penalty=l1, class_weight={1: 0.67, 0: 0.33}, C=0.03359818286283781, total=   0.0s\n",
      "[CV] solver=sag, penalty=l1, class_weight={1: 0.67, 0: 0.33}, C=0.03359818286283781 \n",
      "[CV]  solver=sag, penalty=l1, class_weight={1: 0.67, 0: 0.33}, C=0.03359818286283781, total=   0.0s\n",
      "[CV] solver=sag, penalty=l1, class_weight={1: 0.67, 0: 0.33}, C=0.03359818286283781 \n",
      "[CV]  solver=sag, penalty=l1, class_weight={1: 0.67, 0: 0.33}, C=0.03359818286283781, total=   0.0s\n",
      "[CV] solver=lbfgs, penalty=l2, class_weight=None, C=0.004832930238571752 \n"
     ]
    },
    {
     "name": "stderr",
     "output_type": "stream",
     "text": [
      "/Users/personal/opt/anaconda3/lib/python3.8/site-packages/sklearn/model_selection/_validation.py:548: FitFailedWarning: Estimator fit failed. The score on this train-test partition for these parameters will be set to nan. Details: \n",
      "Traceback (most recent call last):\n",
      "  File \"/Users/personal/opt/anaconda3/lib/python3.8/site-packages/sklearn/model_selection/_validation.py\", line 531, in _fit_and_score\n",
      "    estimator.fit(X_train, y_train, **fit_params)\n",
      "  File \"/Users/personal/opt/anaconda3/lib/python3.8/site-packages/sklearn/linear_model/_logistic.py\", line 1304, in fit\n",
      "    solver = _check_solver(self.solver, self.penalty, self.dual)\n",
      "  File \"/Users/personal/opt/anaconda3/lib/python3.8/site-packages/sklearn/linear_model/_logistic.py\", line 442, in _check_solver\n",
      "    raise ValueError(\"Solver %s supports only 'l2' or 'none' penalties, \"\n",
      "ValueError: Solver sag supports only 'l2' or 'none' penalties, got l1 penalty.\n",
      "\n",
      "  warnings.warn(\"Estimator fit failed. The score on this train-test\"\n"
     ]
    },
    {
     "name": "stdout",
     "output_type": "stream",
     "text": [
      "[CV]  solver=lbfgs, penalty=l2, class_weight=None, C=0.004832930238571752, total=   0.3s\n",
      "[CV] solver=lbfgs, penalty=l2, class_weight=None, C=0.004832930238571752 \n",
      "[CV]  solver=lbfgs, penalty=l2, class_weight=None, C=0.004832930238571752, total=   0.2s\n",
      "[CV] solver=lbfgs, penalty=l2, class_weight=None, C=0.004832930238571752 \n",
      "[CV]  solver=lbfgs, penalty=l2, class_weight=None, C=0.004832930238571752, total=   0.3s\n",
      "[CV] solver=lbfgs, penalty=l2, class_weight=None, C=0.004832930238571752 \n",
      "[CV]  solver=lbfgs, penalty=l2, class_weight=None, C=0.004832930238571752, total=   0.2s\n",
      "[CV] solver=saga, penalty=elasticnet, class_weight={1: 0.75, 0: 0.25}, C=0.0018329807108324356 \n",
      "[CV]  solver=saga, penalty=elasticnet, class_weight={1: 0.75, 0: 0.25}, C=0.0018329807108324356, total=   0.0s\n",
      "[CV] solver=saga, penalty=elasticnet, class_weight={1: 0.75, 0: 0.25}, C=0.0018329807108324356 \n",
      "[CV]  solver=saga, penalty=elasticnet, class_weight={1: 0.75, 0: 0.25}, C=0.0018329807108324356, total=   0.0s\n",
      "[CV] solver=saga, penalty=elasticnet, class_weight={1: 0.75, 0: 0.25}, C=0.0018329807108324356 \n",
      "[CV]  solver=saga, penalty=elasticnet, class_weight={1: 0.75, 0: 0.25}, C=0.0018329807108324356, total=   0.0s\n",
      "[CV] solver=saga, penalty=elasticnet, class_weight={1: 0.75, 0: 0.25}, C=0.0018329807108324356 \n",
      "[CV]  solver=saga, penalty=elasticnet, class_weight={1: 0.75, 0: 0.25}, C=0.0018329807108324356, total=   0.0s\n",
      "[CV] solver=sag, penalty=l1, class_weight=balanced, C=3792.690190732246 \n",
      "[CV]  solver=sag, penalty=l1, class_weight=balanced, C=3792.690190732246, total=   0.0s\n",
      "[CV] solver=sag, penalty=l1, class_weight=balanced, C=3792.690190732246 \n",
      "[CV]  solver=sag, penalty=l1, class_weight=balanced, C=3792.690190732246, total=   0.0s\n",
      "[CV] solver=sag, penalty=l1, class_weight=balanced, C=3792.690190732246 \n",
      "[CV]  solver=sag, penalty=l1, class_weight=balanced, C=3792.690190732246, total=   0.0s\n",
      "[CV] solver=sag, penalty=l1, class_weight=balanced, C=3792.690190732246 \n",
      "[CV]  solver=sag, penalty=l1, class_weight=balanced, C=3792.690190732246, total=   0.0s\n",
      "[CV] solver=lbfgs, penalty=l2, class_weight={1: 0.8, 0: 0.2}, C=1438.44988828766 \n"
     ]
    },
    {
     "name": "stderr",
     "output_type": "stream",
     "text": [
      "/Users/personal/opt/anaconda3/lib/python3.8/site-packages/sklearn/model_selection/_validation.py:548: FitFailedWarning: Estimator fit failed. The score on this train-test partition for these parameters will be set to nan. Details: \n",
      "Traceback (most recent call last):\n",
      "  File \"/Users/personal/opt/anaconda3/lib/python3.8/site-packages/sklearn/model_selection/_validation.py\", line 531, in _fit_and_score\n",
      "    estimator.fit(X_train, y_train, **fit_params)\n",
      "  File \"/Users/personal/opt/anaconda3/lib/python3.8/site-packages/sklearn/linear_model/_logistic.py\", line 1312, in fit\n",
      "    raise ValueError(\"l1_ratio must be between 0 and 1;\"\n",
      "ValueError: l1_ratio must be between 0 and 1; got (l1_ratio=None)\n",
      "\n",
      "  warnings.warn(\"Estimator fit failed. The score on this train-test\"\n",
      "/Users/personal/opt/anaconda3/lib/python3.8/site-packages/sklearn/model_selection/_validation.py:548: FitFailedWarning: Estimator fit failed. The score on this train-test partition for these parameters will be set to nan. Details: \n",
      "Traceback (most recent call last):\n",
      "  File \"/Users/personal/opt/anaconda3/lib/python3.8/site-packages/sklearn/model_selection/_validation.py\", line 531, in _fit_and_score\n",
      "    estimator.fit(X_train, y_train, **fit_params)\n",
      "  File \"/Users/personal/opt/anaconda3/lib/python3.8/site-packages/sklearn/linear_model/_logistic.py\", line 1304, in fit\n",
      "    solver = _check_solver(self.solver, self.penalty, self.dual)\n",
      "  File \"/Users/personal/opt/anaconda3/lib/python3.8/site-packages/sklearn/linear_model/_logistic.py\", line 442, in _check_solver\n",
      "    raise ValueError(\"Solver %s supports only 'l2' or 'none' penalties, \"\n",
      "ValueError: Solver sag supports only 'l2' or 'none' penalties, got l1 penalty.\n",
      "\n",
      "  warnings.warn(\"Estimator fit failed. The score on this train-test\"\n",
      "/Users/personal/opt/anaconda3/lib/python3.8/site-packages/sklearn/linear_model/_logistic.py:762: ConvergenceWarning: lbfgs failed to converge (status=1):\n",
      "STOP: TOTAL NO. of ITERATIONS REACHED LIMIT.\n",
      "\n",
      "Increase the number of iterations (max_iter) or scale the data as shown in:\n",
      "    https://scikit-learn.org/stable/modules/preprocessing.html\n",
      "Please also refer to the documentation for alternative solver options:\n",
      "    https://scikit-learn.org/stable/modules/linear_model.html#logistic-regression\n",
      "  n_iter_i = _check_optimize_result(\n"
     ]
    },
    {
     "name": "stdout",
     "output_type": "stream",
     "text": [
      "[CV]  solver=lbfgs, penalty=l2, class_weight={1: 0.8, 0: 0.2}, C=1438.44988828766, total=   0.9s\n",
      "[CV] solver=lbfgs, penalty=l2, class_weight={1: 0.8, 0: 0.2}, C=1438.44988828766 \n"
     ]
    },
    {
     "name": "stderr",
     "output_type": "stream",
     "text": [
      "/Users/personal/opt/anaconda3/lib/python3.8/site-packages/sklearn/linear_model/_logistic.py:762: ConvergenceWarning: lbfgs failed to converge (status=1):\n",
      "STOP: TOTAL NO. of ITERATIONS REACHED LIMIT.\n",
      "\n",
      "Increase the number of iterations (max_iter) or scale the data as shown in:\n",
      "    https://scikit-learn.org/stable/modules/preprocessing.html\n",
      "Please also refer to the documentation for alternative solver options:\n",
      "    https://scikit-learn.org/stable/modules/linear_model.html#logistic-regression\n",
      "  n_iter_i = _check_optimize_result(\n"
     ]
    },
    {
     "name": "stdout",
     "output_type": "stream",
     "text": [
      "[CV]  solver=lbfgs, penalty=l2, class_weight={1: 0.8, 0: 0.2}, C=1438.44988828766, total=   0.9s\n",
      "[CV] solver=lbfgs, penalty=l2, class_weight={1: 0.8, 0: 0.2}, C=1438.44988828766 \n"
     ]
    },
    {
     "name": "stderr",
     "output_type": "stream",
     "text": [
      "/Users/personal/opt/anaconda3/lib/python3.8/site-packages/sklearn/linear_model/_logistic.py:762: ConvergenceWarning: lbfgs failed to converge (status=1):\n",
      "STOP: TOTAL NO. of ITERATIONS REACHED LIMIT.\n",
      "\n",
      "Increase the number of iterations (max_iter) or scale the data as shown in:\n",
      "    https://scikit-learn.org/stable/modules/preprocessing.html\n",
      "Please also refer to the documentation for alternative solver options:\n",
      "    https://scikit-learn.org/stable/modules/linear_model.html#logistic-regression\n",
      "  n_iter_i = _check_optimize_result(\n"
     ]
    },
    {
     "name": "stdout",
     "output_type": "stream",
     "text": [
      "[CV]  solver=lbfgs, penalty=l2, class_weight={1: 0.8, 0: 0.2}, C=1438.44988828766, total=   0.9s\n",
      "[CV] solver=lbfgs, penalty=l2, class_weight={1: 0.8, 0: 0.2}, C=1438.44988828766 \n"
     ]
    },
    {
     "name": "stderr",
     "output_type": "stream",
     "text": [
      "/Users/personal/opt/anaconda3/lib/python3.8/site-packages/sklearn/linear_model/_logistic.py:762: ConvergenceWarning: lbfgs failed to converge (status=1):\n",
      "STOP: TOTAL NO. of ITERATIONS REACHED LIMIT.\n",
      "\n",
      "Increase the number of iterations (max_iter) or scale the data as shown in:\n",
      "    https://scikit-learn.org/stable/modules/preprocessing.html\n",
      "Please also refer to the documentation for alternative solver options:\n",
      "    https://scikit-learn.org/stable/modules/linear_model.html#logistic-regression\n",
      "  n_iter_i = _check_optimize_result(\n",
      "/Users/personal/opt/anaconda3/lib/python3.8/site-packages/sklearn/model_selection/_validation.py:548: FitFailedWarning: Estimator fit failed. The score on this train-test partition for these parameters will be set to nan. Details: \n",
      "Traceback (most recent call last):\n",
      "  File \"/Users/personal/opt/anaconda3/lib/python3.8/site-packages/sklearn/model_selection/_validation.py\", line 531, in _fit_and_score\n",
      "    estimator.fit(X_train, y_train, **fit_params)\n",
      "  File \"/Users/personal/opt/anaconda3/lib/python3.8/site-packages/sklearn/linear_model/_logistic.py\", line 1304, in fit\n",
      "    solver = _check_solver(self.solver, self.penalty, self.dual)\n",
      "  File \"/Users/personal/opt/anaconda3/lib/python3.8/site-packages/sklearn/linear_model/_logistic.py\", line 442, in _check_solver\n",
      "    raise ValueError(\"Solver %s supports only 'l2' or 'none' penalties, \"\n",
      "ValueError: Solver lbfgs supports only 'l2' or 'none' penalties, got l1 penalty.\n",
      "\n",
      "  warnings.warn(\"Estimator fit failed. The score on this train-test\"\n",
      "/Users/personal/opt/anaconda3/lib/python3.8/site-packages/sklearn/model_selection/_validation.py:548: FitFailedWarning: Estimator fit failed. The score on this train-test partition for these parameters will be set to nan. Details: \n",
      "Traceback (most recent call last):\n",
      "  File \"/Users/personal/opt/anaconda3/lib/python3.8/site-packages/sklearn/model_selection/_validation.py\", line 531, in _fit_and_score\n",
      "    estimator.fit(X_train, y_train, **fit_params)\n",
      "  File \"/Users/personal/opt/anaconda3/lib/python3.8/site-packages/sklearn/linear_model/_logistic.py\", line 1304, in fit\n",
      "    solver = _check_solver(self.solver, self.penalty, self.dual)\n",
      "  File \"/Users/personal/opt/anaconda3/lib/python3.8/site-packages/sklearn/linear_model/_logistic.py\", line 442, in _check_solver\n",
      "    raise ValueError(\"Solver %s supports only 'l2' or 'none' penalties, \"\n",
      "ValueError: Solver newton-cg supports only 'l2' or 'none' penalties, got l1 penalty.\n",
      "\n",
      "  warnings.warn(\"Estimator fit failed. The score on this train-test\"\n"
     ]
    },
    {
     "name": "stdout",
     "output_type": "stream",
     "text": [
      "[CV]  solver=lbfgs, penalty=l2, class_weight={1: 0.8, 0: 0.2}, C=1438.44988828766, total=   0.9s\n",
      "[CV] solver=lbfgs, penalty=l1, class_weight=balanced, C=0.0001 .......\n",
      "[CV]  solver=lbfgs, penalty=l1, class_weight=balanced, C=0.0001, total=   0.0s\n",
      "[CV] solver=lbfgs, penalty=l1, class_weight=balanced, C=0.0001 .......\n",
      "[CV]  solver=lbfgs, penalty=l1, class_weight=balanced, C=0.0001, total=   0.0s\n",
      "[CV] solver=lbfgs, penalty=l1, class_weight=balanced, C=0.0001 .......\n",
      "[CV]  solver=lbfgs, penalty=l1, class_weight=balanced, C=0.0001, total=   0.0s\n",
      "[CV] solver=lbfgs, penalty=l1, class_weight=balanced, C=0.0001 .......\n",
      "[CV]  solver=lbfgs, penalty=l1, class_weight=balanced, C=0.0001, total=   0.0s\n",
      "[CV] solver=newton-cg, penalty=l1, class_weight={1: 0.75, 0: 0.25}, C=0.0001 \n",
      "[CV]  solver=newton-cg, penalty=l1, class_weight={1: 0.75, 0: 0.25}, C=0.0001, total=   0.0s\n",
      "[CV] solver=newton-cg, penalty=l1, class_weight={1: 0.75, 0: 0.25}, C=0.0001 \n",
      "[CV]  solver=newton-cg, penalty=l1, class_weight={1: 0.75, 0: 0.25}, C=0.0001, total=   0.0s\n",
      "[CV] solver=newton-cg, penalty=l1, class_weight={1: 0.75, 0: 0.25}, C=0.0001 \n",
      "[CV]  solver=newton-cg, penalty=l1, class_weight={1: 0.75, 0: 0.25}, C=0.0001, total=   0.0s\n",
      "[CV] solver=newton-cg, penalty=l1, class_weight={1: 0.75, 0: 0.25}, C=0.0001 \n",
      "[CV]  solver=newton-cg, penalty=l1, class_weight={1: 0.75, 0: 0.25}, C=0.0001, total=   0.0s\n",
      "[CV] solver=saga, penalty=l1, class_weight=None, C=0.08858667904100823 \n"
     ]
    },
    {
     "name": "stderr",
     "output_type": "stream",
     "text": [
      "/Users/personal/opt/anaconda3/lib/python3.8/site-packages/sklearn/linear_model/_sag.py:329: ConvergenceWarning: The max_iter was reached which means the coef_ did not converge\n",
      "  warnings.warn(\"The max_iter was reached which means \"\n"
     ]
    },
    {
     "name": "stdout",
     "output_type": "stream",
     "text": [
      "[CV]  solver=saga, penalty=l1, class_weight=None, C=0.08858667904100823, total=   4.9s\n",
      "[CV] solver=saga, penalty=l1, class_weight=None, C=0.08858667904100823 \n"
     ]
    },
    {
     "name": "stderr",
     "output_type": "stream",
     "text": [
      "/Users/personal/opt/anaconda3/lib/python3.8/site-packages/sklearn/linear_model/_sag.py:329: ConvergenceWarning: The max_iter was reached which means the coef_ did not converge\n",
      "  warnings.warn(\"The max_iter was reached which means \"\n"
     ]
    },
    {
     "name": "stdout",
     "output_type": "stream",
     "text": [
      "[CV]  solver=saga, penalty=l1, class_weight=None, C=0.08858667904100823, total=   5.0s\n",
      "[CV] solver=saga, penalty=l1, class_weight=None, C=0.08858667904100823 \n"
     ]
    },
    {
     "name": "stderr",
     "output_type": "stream",
     "text": [
      "/Users/personal/opt/anaconda3/lib/python3.8/site-packages/sklearn/linear_model/_sag.py:329: ConvergenceWarning: The max_iter was reached which means the coef_ did not converge\n",
      "  warnings.warn(\"The max_iter was reached which means \"\n"
     ]
    },
    {
     "name": "stdout",
     "output_type": "stream",
     "text": [
      "[CV]  solver=saga, penalty=l1, class_weight=None, C=0.08858667904100823, total=   5.3s\n",
      "[CV] solver=saga, penalty=l1, class_weight=None, C=0.08858667904100823 \n"
     ]
    },
    {
     "name": "stderr",
     "output_type": "stream",
     "text": [
      "/Users/personal/opt/anaconda3/lib/python3.8/site-packages/sklearn/linear_model/_sag.py:329: ConvergenceWarning: The max_iter was reached which means the coef_ did not converge\n",
      "  warnings.warn(\"The max_iter was reached which means \"\n",
      "/Users/personal/opt/anaconda3/lib/python3.8/site-packages/sklearn/model_selection/_validation.py:548: FitFailedWarning: Estimator fit failed. The score on this train-test partition for these parameters will be set to nan. Details: \n",
      "Traceback (most recent call last):\n",
      "  File \"/Users/personal/opt/anaconda3/lib/python3.8/site-packages/sklearn/model_selection/_validation.py\", line 531, in _fit_and_score\n",
      "    estimator.fit(X_train, y_train, **fit_params)\n",
      "  File \"/Users/personal/opt/anaconda3/lib/python3.8/site-packages/sklearn/linear_model/_logistic.py\", line 1312, in fit\n",
      "    raise ValueError(\"l1_ratio must be between 0 and 1;\"\n",
      "ValueError: l1_ratio must be between 0 and 1; got (l1_ratio=None)\n",
      "\n",
      "  warnings.warn(\"Estimator fit failed. The score on this train-test\"\n",
      "/Users/personal/opt/anaconda3/lib/python3.8/site-packages/sklearn/model_selection/_validation.py:548: FitFailedWarning: Estimator fit failed. The score on this train-test partition for these parameters will be set to nan. Details: \n",
      "Traceback (most recent call last):\n",
      "  File \"/Users/personal/opt/anaconda3/lib/python3.8/site-packages/sklearn/model_selection/_validation.py\", line 531, in _fit_and_score\n",
      "    estimator.fit(X_train, y_train, **fit_params)\n",
      "  File \"/Users/personal/opt/anaconda3/lib/python3.8/site-packages/sklearn/linear_model/_logistic.py\", line 1304, in fit\n",
      "    solver = _check_solver(self.solver, self.penalty, self.dual)\n",
      "  File \"/Users/personal/opt/anaconda3/lib/python3.8/site-packages/sklearn/linear_model/_logistic.py\", line 442, in _check_solver\n",
      "    raise ValueError(\"Solver %s supports only 'l2' or 'none' penalties, \"\n",
      "ValueError: Solver sag supports only 'l2' or 'none' penalties, got elasticnet penalty.\n",
      "\n",
      "  warnings.warn(\"Estimator fit failed. The score on this train-test\"\n"
     ]
    },
    {
     "name": "stdout",
     "output_type": "stream",
     "text": [
      "[CV]  solver=saga, penalty=l1, class_weight=None, C=0.08858667904100823, total=   5.4s\n",
      "[CV] solver=saga, penalty=elasticnet, class_weight=balanced, C=1438.44988828766 \n",
      "[CV]  solver=saga, penalty=elasticnet, class_weight=balanced, C=1438.44988828766, total=   0.0s\n",
      "[CV] solver=saga, penalty=elasticnet, class_weight=balanced, C=1438.44988828766 \n",
      "[CV]  solver=saga, penalty=elasticnet, class_weight=balanced, C=1438.44988828766, total=   0.0s\n",
      "[CV] solver=saga, penalty=elasticnet, class_weight=balanced, C=1438.44988828766 \n",
      "[CV]  solver=saga, penalty=elasticnet, class_weight=balanced, C=1438.44988828766, total=   0.0s\n",
      "[CV] solver=saga, penalty=elasticnet, class_weight=balanced, C=1438.44988828766 \n",
      "[CV]  solver=saga, penalty=elasticnet, class_weight=balanced, C=1438.44988828766, total=   0.0s\n",
      "[CV] solver=sag, penalty=elasticnet, class_weight=balanced, C=4.281332398719396 \n",
      "[CV]  solver=sag, penalty=elasticnet, class_weight=balanced, C=4.281332398719396, total=   0.0s\n",
      "[CV] solver=sag, penalty=elasticnet, class_weight=balanced, C=4.281332398719396 \n",
      "[CV]  solver=sag, penalty=elasticnet, class_weight=balanced, C=4.281332398719396, total=   0.0s\n",
      "[CV] solver=sag, penalty=elasticnet, class_weight=balanced, C=4.281332398719396 \n",
      "[CV]  solver=sag, penalty=elasticnet, class_weight=balanced, C=4.281332398719396, total=   0.0s\n",
      "[CV] solver=sag, penalty=elasticnet, class_weight=balanced, C=4.281332398719396 \n",
      "[CV]  solver=sag, penalty=elasticnet, class_weight=balanced, C=4.281332398719396, total=   0.0s\n",
      "[CV] solver=sag, penalty=elasticnet, class_weight={1: 0.75, 0: 0.25}, C=1.623776739188721 \n",
      "[CV]  solver=sag, penalty=elasticnet, class_weight={1: 0.75, 0: 0.25}, C=1.623776739188721, total=   0.0s\n",
      "[CV] solver=sag, penalty=elasticnet, class_weight={1: 0.75, 0: 0.25}, C=1.623776739188721 \n",
      "[CV]  solver=sag, penalty=elasticnet, class_weight={1: 0.75, 0: 0.25}, C=1.623776739188721, total=   0.0s\n",
      "[CV] solver=sag, penalty=elasticnet, class_weight={1: 0.75, 0: 0.25}, C=1.623776739188721 \n",
      "[CV]  solver=sag, penalty=elasticnet, class_weight={1: 0.75, 0: 0.25}, C=1.623776739188721, total=   0.0s\n",
      "[CV] solver=sag, penalty=elasticnet, class_weight={1: 0.75, 0: 0.25}, C=1.623776739188721 \n",
      "[CV]  solver=sag, penalty=elasticnet, class_weight={1: 0.75, 0: 0.25}, C=1.623776739188721, total=   0.0s\n",
      "[CV] solver=saga, penalty=l1, class_weight={1: 0.75, 0: 0.25}, C=4.281332398719396 \n"
     ]
    },
    {
     "name": "stderr",
     "output_type": "stream",
     "text": [
      "/Users/personal/opt/anaconda3/lib/python3.8/site-packages/sklearn/linear_model/_sag.py:329: ConvergenceWarning: The max_iter was reached which means the coef_ did not converge\n",
      "  warnings.warn(\"The max_iter was reached which means \"\n"
     ]
    },
    {
     "name": "stdout",
     "output_type": "stream",
     "text": [
      "[CV]  solver=saga, penalty=l1, class_weight={1: 0.75, 0: 0.25}, C=4.281332398719396, total=  10.1s\n",
      "[CV] solver=saga, penalty=l1, class_weight={1: 0.75, 0: 0.25}, C=4.281332398719396 \n"
     ]
    },
    {
     "name": "stderr",
     "output_type": "stream",
     "text": [
      "/Users/personal/opt/anaconda3/lib/python3.8/site-packages/sklearn/linear_model/_sag.py:329: ConvergenceWarning: The max_iter was reached which means the coef_ did not converge\n",
      "  warnings.warn(\"The max_iter was reached which means \"\n"
     ]
    },
    {
     "name": "stdout",
     "output_type": "stream",
     "text": [
      "[CV]  solver=saga, penalty=l1, class_weight={1: 0.75, 0: 0.25}, C=4.281332398719396, total=   8.2s\n",
      "[CV] solver=saga, penalty=l1, class_weight={1: 0.75, 0: 0.25}, C=4.281332398719396 \n"
     ]
    },
    {
     "name": "stderr",
     "output_type": "stream",
     "text": [
      "/Users/personal/opt/anaconda3/lib/python3.8/site-packages/sklearn/linear_model/_sag.py:329: ConvergenceWarning: The max_iter was reached which means the coef_ did not converge\n",
      "  warnings.warn(\"The max_iter was reached which means \"\n"
     ]
    },
    {
     "name": "stdout",
     "output_type": "stream",
     "text": [
      "[CV]  solver=saga, penalty=l1, class_weight={1: 0.75, 0: 0.25}, C=4.281332398719396, total=   8.0s\n",
      "[CV] solver=saga, penalty=l1, class_weight={1: 0.75, 0: 0.25}, C=4.281332398719396 \n"
     ]
    },
    {
     "name": "stderr",
     "output_type": "stream",
     "text": [
      "/Users/personal/opt/anaconda3/lib/python3.8/site-packages/sklearn/linear_model/_sag.py:329: ConvergenceWarning: The max_iter was reached which means the coef_ did not converge\n",
      "  warnings.warn(\"The max_iter was reached which means \"\n",
      "/Users/personal/opt/anaconda3/lib/python3.8/site-packages/sklearn/model_selection/_validation.py:548: FitFailedWarning: Estimator fit failed. The score on this train-test partition for these parameters will be set to nan. Details: \n",
      "Traceback (most recent call last):\n",
      "  File \"/Users/personal/opt/anaconda3/lib/python3.8/site-packages/sklearn/model_selection/_validation.py\", line 531, in _fit_and_score\n",
      "    estimator.fit(X_train, y_train, **fit_params)\n",
      "  File \"/Users/personal/opt/anaconda3/lib/python3.8/site-packages/sklearn/linear_model/_logistic.py\", line 1312, in fit\n",
      "    raise ValueError(\"l1_ratio must be between 0 and 1;\"\n",
      "ValueError: l1_ratio must be between 0 and 1; got (l1_ratio=None)\n",
      "\n",
      "  warnings.warn(\"Estimator fit failed. The score on this train-test\"\n",
      "/Users/personal/opt/anaconda3/lib/python3.8/site-packages/sklearn/model_selection/_validation.py:548: FitFailedWarning: Estimator fit failed. The score on this train-test partition for these parameters will be set to nan. Details: \n",
      "Traceback (most recent call last):\n",
      "  File \"/Users/personal/opt/anaconda3/lib/python3.8/site-packages/sklearn/model_selection/_validation.py\", line 531, in _fit_and_score\n",
      "    estimator.fit(X_train, y_train, **fit_params)\n",
      "  File \"/Users/personal/opt/anaconda3/lib/python3.8/site-packages/sklearn/linear_model/_logistic.py\", line 1304, in fit\n",
      "    solver = _check_solver(self.solver, self.penalty, self.dual)\n",
      "  File \"/Users/personal/opt/anaconda3/lib/python3.8/site-packages/sklearn/linear_model/_logistic.py\", line 442, in _check_solver\n",
      "    raise ValueError(\"Solver %s supports only 'l2' or 'none' penalties, \"\n",
      "ValueError: Solver lbfgs supports only 'l2' or 'none' penalties, got elasticnet penalty.\n",
      "\n",
      "  warnings.warn(\"Estimator fit failed. The score on this train-test\"\n",
      "/Users/personal/opt/anaconda3/lib/python3.8/site-packages/sklearn/model_selection/_validation.py:548: FitFailedWarning: Estimator fit failed. The score on this train-test partition for these parameters will be set to nan. Details: \n",
      "Traceback (most recent call last):\n",
      "  File \"/Users/personal/opt/anaconda3/lib/python3.8/site-packages/sklearn/model_selection/_validation.py\", line 531, in _fit_and_score\n",
      "    estimator.fit(X_train, y_train, **fit_params)\n",
      "  File \"/Users/personal/opt/anaconda3/lib/python3.8/site-packages/sklearn/linear_model/_logistic.py\", line 1304, in fit\n",
      "    solver = _check_solver(self.solver, self.penalty, self.dual)\n",
      "  File \"/Users/personal/opt/anaconda3/lib/python3.8/site-packages/sklearn/linear_model/_logistic.py\", line 442, in _check_solver\n",
      "    raise ValueError(\"Solver %s supports only 'l2' or 'none' penalties, \"\n",
      "ValueError: Solver sag supports only 'l2' or 'none' penalties, got elasticnet penalty.\n",
      "\n",
      "  warnings.warn(\"Estimator fit failed. The score on this train-test\"\n"
     ]
    },
    {
     "name": "stdout",
     "output_type": "stream",
     "text": [
      "[CV]  solver=saga, penalty=l1, class_weight={1: 0.75, 0: 0.25}, C=4.281332398719396, total=   8.2s\n",
      "[CV] solver=saga, penalty=elasticnet, class_weight=None, C=0.0006951927961775605 \n",
      "[CV]  solver=saga, penalty=elasticnet, class_weight=None, C=0.0006951927961775605, total=   0.0s\n",
      "[CV] solver=saga, penalty=elasticnet, class_weight=None, C=0.0006951927961775605 \n",
      "[CV]  solver=saga, penalty=elasticnet, class_weight=None, C=0.0006951927961775605, total=   0.0s\n",
      "[CV] solver=saga, penalty=elasticnet, class_weight=None, C=0.0006951927961775605 \n",
      "[CV]  solver=saga, penalty=elasticnet, class_weight=None, C=0.0006951927961775605, total=   0.0s\n",
      "[CV] solver=saga, penalty=elasticnet, class_weight=None, C=0.0006951927961775605 \n",
      "[CV]  solver=saga, penalty=elasticnet, class_weight=None, C=0.0006951927961775605, total=   0.0s\n",
      "[CV] solver=lbfgs, penalty=elasticnet, class_weight=balanced, C=0.08858667904100823 \n",
      "[CV]  solver=lbfgs, penalty=elasticnet, class_weight=balanced, C=0.08858667904100823, total=   0.0s\n",
      "[CV] solver=lbfgs, penalty=elasticnet, class_weight=balanced, C=0.08858667904100823 \n",
      "[CV]  solver=lbfgs, penalty=elasticnet, class_weight=balanced, C=0.08858667904100823, total=   0.0s\n",
      "[CV] solver=lbfgs, penalty=elasticnet, class_weight=balanced, C=0.08858667904100823 \n",
      "[CV]  solver=lbfgs, penalty=elasticnet, class_weight=balanced, C=0.08858667904100823, total=   0.0s\n",
      "[CV] solver=lbfgs, penalty=elasticnet, class_weight=balanced, C=0.08858667904100823 \n",
      "[CV]  solver=lbfgs, penalty=elasticnet, class_weight=balanced, C=0.08858667904100823, total=   0.0s\n",
      "[CV] solver=sag, penalty=elasticnet, class_weight=balanced, C=0.08858667904100823 \n",
      "[CV]  solver=sag, penalty=elasticnet, class_weight=balanced, C=0.08858667904100823, total=   0.0s\n",
      "[CV] solver=sag, penalty=elasticnet, class_weight=balanced, C=0.08858667904100823 \n",
      "[CV]  solver=sag, penalty=elasticnet, class_weight=balanced, C=0.08858667904100823, total=   0.0s\n",
      "[CV] solver=sag, penalty=elasticnet, class_weight=balanced, C=0.08858667904100823 \n",
      "[CV]  solver=sag, penalty=elasticnet, class_weight=balanced, C=0.08858667904100823, total=   0.0s\n",
      "[CV] solver=sag, penalty=elasticnet, class_weight=balanced, C=0.08858667904100823 \n",
      "[CV]  solver=sag, penalty=elasticnet, class_weight=balanced, C=0.08858667904100823, total=   0.0s\n",
      "[CV] solver=lbfgs, penalty=l2, class_weight=None, C=0.23357214690901212 \n"
     ]
    },
    {
     "name": "stderr",
     "output_type": "stream",
     "text": [
      "/Users/personal/opt/anaconda3/lib/python3.8/site-packages/sklearn/linear_model/_logistic.py:762: ConvergenceWarning: lbfgs failed to converge (status=1):\n",
      "STOP: TOTAL NO. of ITERATIONS REACHED LIMIT.\n",
      "\n",
      "Increase the number of iterations (max_iter) or scale the data as shown in:\n",
      "    https://scikit-learn.org/stable/modules/preprocessing.html\n",
      "Please also refer to the documentation for alternative solver options:\n",
      "    https://scikit-learn.org/stable/modules/linear_model.html#logistic-regression\n",
      "  n_iter_i = _check_optimize_result(\n"
     ]
    },
    {
     "name": "stdout",
     "output_type": "stream",
     "text": [
      "[CV]  solver=lbfgs, penalty=l2, class_weight=None, C=0.23357214690901212, total=   0.7s\n",
      "[CV] solver=lbfgs, penalty=l2, class_weight=None, C=0.23357214690901212 \n"
     ]
    },
    {
     "name": "stderr",
     "output_type": "stream",
     "text": [
      "/Users/personal/opt/anaconda3/lib/python3.8/site-packages/sklearn/linear_model/_logistic.py:762: ConvergenceWarning: lbfgs failed to converge (status=1):\n",
      "STOP: TOTAL NO. of ITERATIONS REACHED LIMIT.\n",
      "\n",
      "Increase the number of iterations (max_iter) or scale the data as shown in:\n",
      "    https://scikit-learn.org/stable/modules/preprocessing.html\n",
      "Please also refer to the documentation for alternative solver options:\n",
      "    https://scikit-learn.org/stable/modules/linear_model.html#logistic-regression\n",
      "  n_iter_i = _check_optimize_result(\n"
     ]
    },
    {
     "name": "stdout",
     "output_type": "stream",
     "text": [
      "[CV]  solver=lbfgs, penalty=l2, class_weight=None, C=0.23357214690901212, total=   0.7s\n",
      "[CV] solver=lbfgs, penalty=l2, class_weight=None, C=0.23357214690901212 \n"
     ]
    },
    {
     "name": "stderr",
     "output_type": "stream",
     "text": [
      "/Users/personal/opt/anaconda3/lib/python3.8/site-packages/sklearn/linear_model/_logistic.py:762: ConvergenceWarning: lbfgs failed to converge (status=1):\n",
      "STOP: TOTAL NO. of ITERATIONS REACHED LIMIT.\n",
      "\n",
      "Increase the number of iterations (max_iter) or scale the data as shown in:\n",
      "    https://scikit-learn.org/stable/modules/preprocessing.html\n",
      "Please also refer to the documentation for alternative solver options:\n",
      "    https://scikit-learn.org/stable/modules/linear_model.html#logistic-regression\n",
      "  n_iter_i = _check_optimize_result(\n"
     ]
    },
    {
     "name": "stdout",
     "output_type": "stream",
     "text": [
      "[CV]  solver=lbfgs, penalty=l2, class_weight=None, C=0.23357214690901212, total=   0.8s\n",
      "[CV] solver=lbfgs, penalty=l2, class_weight=None, C=0.23357214690901212 \n"
     ]
    },
    {
     "name": "stderr",
     "output_type": "stream",
     "text": [
      "/Users/personal/opt/anaconda3/lib/python3.8/site-packages/sklearn/linear_model/_logistic.py:762: ConvergenceWarning: lbfgs failed to converge (status=1):\n",
      "STOP: TOTAL NO. of ITERATIONS REACHED LIMIT.\n",
      "\n",
      "Increase the number of iterations (max_iter) or scale the data as shown in:\n",
      "    https://scikit-learn.org/stable/modules/preprocessing.html\n",
      "Please also refer to the documentation for alternative solver options:\n",
      "    https://scikit-learn.org/stable/modules/linear_model.html#logistic-regression\n",
      "  n_iter_i = _check_optimize_result(\n",
      "/Users/personal/opt/anaconda3/lib/python3.8/site-packages/sklearn/model_selection/_validation.py:548: FitFailedWarning: Estimator fit failed. The score on this train-test partition for these parameters will be set to nan. Details: \n",
      "Traceback (most recent call last):\n",
      "  File \"/Users/personal/opt/anaconda3/lib/python3.8/site-packages/sklearn/model_selection/_validation.py\", line 531, in _fit_and_score\n",
      "    estimator.fit(X_train, y_train, **fit_params)\n",
      "  File \"/Users/personal/opt/anaconda3/lib/python3.8/site-packages/sklearn/linear_model/_logistic.py\", line 1304, in fit\n",
      "    solver = _check_solver(self.solver, self.penalty, self.dual)\n",
      "  File \"/Users/personal/opt/anaconda3/lib/python3.8/site-packages/sklearn/linear_model/_logistic.py\", line 442, in _check_solver\n",
      "    raise ValueError(\"Solver %s supports only 'l2' or 'none' penalties, \"\n",
      "ValueError: Solver lbfgs supports only 'l2' or 'none' penalties, got elasticnet penalty.\n",
      "\n",
      "  warnings.warn(\"Estimator fit failed. The score on this train-test\"\n",
      "/Users/personal/opt/anaconda3/lib/python3.8/site-packages/sklearn/model_selection/_validation.py:548: FitFailedWarning: Estimator fit failed. The score on this train-test partition for these parameters will be set to nan. Details: \n",
      "Traceback (most recent call last):\n",
      "  File \"/Users/personal/opt/anaconda3/lib/python3.8/site-packages/sklearn/model_selection/_validation.py\", line 531, in _fit_and_score\n",
      "    estimator.fit(X_train, y_train, **fit_params)\n",
      "  File \"/Users/personal/opt/anaconda3/lib/python3.8/site-packages/sklearn/linear_model/_logistic.py\", line 1312, in fit\n",
      "    raise ValueError(\"l1_ratio must be between 0 and 1;\"\n",
      "ValueError: l1_ratio must be between 0 and 1; got (l1_ratio=None)\n",
      "\n",
      "  warnings.warn(\"Estimator fit failed. The score on this train-test\"\n",
      "/Users/personal/opt/anaconda3/lib/python3.8/site-packages/sklearn/model_selection/_validation.py:548: FitFailedWarning: Estimator fit failed. The score on this train-test partition for these parameters will be set to nan. Details: \n",
      "Traceback (most recent call last):\n",
      "  File \"/Users/personal/opt/anaconda3/lib/python3.8/site-packages/sklearn/model_selection/_validation.py\", line 531, in _fit_and_score\n",
      "    estimator.fit(X_train, y_train, **fit_params)\n",
      "  File \"/Users/personal/opt/anaconda3/lib/python3.8/site-packages/sklearn/linear_model/_logistic.py\", line 1304, in fit\n",
      "    solver = _check_solver(self.solver, self.penalty, self.dual)\n",
      "  File \"/Users/personal/opt/anaconda3/lib/python3.8/site-packages/sklearn/linear_model/_logistic.py\", line 442, in _check_solver\n",
      "    raise ValueError(\"Solver %s supports only 'l2' or 'none' penalties, \"\n",
      "ValueError: Solver sag supports only 'l2' or 'none' penalties, got l1 penalty.\n",
      "\n",
      "  warnings.warn(\"Estimator fit failed. The score on this train-test\"\n"
     ]
    },
    {
     "name": "stdout",
     "output_type": "stream",
     "text": [
      "[CV]  solver=lbfgs, penalty=l2, class_weight=None, C=0.23357214690901212, total=   0.7s\n",
      "[CV] solver=lbfgs, penalty=elasticnet, class_weight={1: 0.67, 0: 0.33}, C=0.23357214690901212 \n",
      "[CV]  solver=lbfgs, penalty=elasticnet, class_weight={1: 0.67, 0: 0.33}, C=0.23357214690901212, total=   0.0s\n",
      "[CV] solver=lbfgs, penalty=elasticnet, class_weight={1: 0.67, 0: 0.33}, C=0.23357214690901212 \n",
      "[CV]  solver=lbfgs, penalty=elasticnet, class_weight={1: 0.67, 0: 0.33}, C=0.23357214690901212, total=   0.0s\n",
      "[CV] solver=lbfgs, penalty=elasticnet, class_weight={1: 0.67, 0: 0.33}, C=0.23357214690901212 \n",
      "[CV]  solver=lbfgs, penalty=elasticnet, class_weight={1: 0.67, 0: 0.33}, C=0.23357214690901212, total=   0.0s\n",
      "[CV] solver=lbfgs, penalty=elasticnet, class_weight={1: 0.67, 0: 0.33}, C=0.23357214690901212 \n",
      "[CV]  solver=lbfgs, penalty=elasticnet, class_weight={1: 0.67, 0: 0.33}, C=0.23357214690901212, total=   0.0s\n",
      "[CV] solver=lbfgs, penalty=elasticnet, class_weight={1: 0.75, 0: 0.25}, C=0.004832930238571752 \n",
      "[CV]  solver=lbfgs, penalty=elasticnet, class_weight={1: 0.75, 0: 0.25}, C=0.004832930238571752, total=   0.0s\n",
      "[CV] solver=lbfgs, penalty=elasticnet, class_weight={1: 0.75, 0: 0.25}, C=0.004832930238571752 \n",
      "[CV]  solver=lbfgs, penalty=elasticnet, class_weight={1: 0.75, 0: 0.25}, C=0.004832930238571752, total=   0.0s\n",
      "[CV] solver=lbfgs, penalty=elasticnet, class_weight={1: 0.75, 0: 0.25}, C=0.004832930238571752 \n",
      "[CV]  solver=lbfgs, penalty=elasticnet, class_weight={1: 0.75, 0: 0.25}, C=0.004832930238571752, total=   0.0s\n",
      "[CV] solver=lbfgs, penalty=elasticnet, class_weight={1: 0.75, 0: 0.25}, C=0.004832930238571752 \n",
      "[CV]  solver=lbfgs, penalty=elasticnet, class_weight={1: 0.75, 0: 0.25}, C=0.004832930238571752, total=   0.0s\n",
      "[CV] solver=lbfgs, penalty=elasticnet, class_weight={1: 0.75, 0: 0.25}, C=3792.690190732246 \n",
      "[CV]  solver=lbfgs, penalty=elasticnet, class_weight={1: 0.75, 0: 0.25}, C=3792.690190732246, total=   0.0s\n",
      "[CV] solver=lbfgs, penalty=elasticnet, class_weight={1: 0.75, 0: 0.25}, C=3792.690190732246 \n",
      "[CV]  solver=lbfgs, penalty=elasticnet, class_weight={1: 0.75, 0: 0.25}, C=3792.690190732246, total=   0.0s\n",
      "[CV] solver=lbfgs, penalty=elasticnet, class_weight={1: 0.75, 0: 0.25}, C=3792.690190732246 \n",
      "[CV]  solver=lbfgs, penalty=elasticnet, class_weight={1: 0.75, 0: 0.25}, C=3792.690190732246, total=   0.0s\n",
      "[CV] solver=lbfgs, penalty=elasticnet, class_weight={1: 0.75, 0: 0.25}, C=3792.690190732246 \n",
      "[CV]  solver=lbfgs, penalty=elasticnet, class_weight={1: 0.75, 0: 0.25}, C=3792.690190732246, total=   0.0s\n",
      "[CV] solver=saga, penalty=elasticnet, class_weight={1: 0.75, 0: 0.25}, C=1.623776739188721 \n",
      "[CV]  solver=saga, penalty=elasticnet, class_weight={1: 0.75, 0: 0.25}, C=1.623776739188721, total=   0.0s\n",
      "[CV] solver=saga, penalty=elasticnet, class_weight={1: 0.75, 0: 0.25}, C=1.623776739188721 \n",
      "[CV]  solver=saga, penalty=elasticnet, class_weight={1: 0.75, 0: 0.25}, C=1.623776739188721, total=   0.0s\n",
      "[CV] solver=saga, penalty=elasticnet, class_weight={1: 0.75, 0: 0.25}, C=1.623776739188721 \n",
      "[CV]  solver=saga, penalty=elasticnet, class_weight={1: 0.75, 0: 0.25}, C=1.623776739188721, total=   0.0s\n",
      "[CV] solver=saga, penalty=elasticnet, class_weight={1: 0.75, 0: 0.25}, C=1.623776739188721 \n",
      "[CV]  solver=saga, penalty=elasticnet, class_weight={1: 0.75, 0: 0.25}, C=1.623776739188721, total=   0.0s\n",
      "[CV] solver=sag, penalty=l1, class_weight={1: 0.67, 0: 0.33}, C=78.47599703514607 \n",
      "[CV]  solver=sag, penalty=l1, class_weight={1: 0.67, 0: 0.33}, C=78.47599703514607, total=   0.0s\n",
      "[CV] solver=sag, penalty=l1, class_weight={1: 0.67, 0: 0.33}, C=78.47599703514607 \n",
      "[CV]  solver=sag, penalty=l1, class_weight={1: 0.67, 0: 0.33}, C=78.47599703514607, total=   0.0s\n",
      "[CV] solver=sag, penalty=l1, class_weight={1: 0.67, 0: 0.33}, C=78.47599703514607 \n",
      "[CV]  solver=sag, penalty=l1, class_weight={1: 0.67, 0: 0.33}, C=78.47599703514607, total=   0.0s\n",
      "[CV] solver=sag, penalty=l1, class_weight={1: 0.67, 0: 0.33}, C=78.47599703514607 \n",
      "[CV]  solver=sag, penalty=l1, class_weight={1: 0.67, 0: 0.33}, C=78.47599703514607, total=   0.0s\n",
      "[CV] solver=lbfgs, penalty=elasticnet, class_weight={1: 0.8, 0: 0.2}, C=0.004832930238571752 \n",
      "[CV]  solver=lbfgs, penalty=elasticnet, class_weight={1: 0.8, 0: 0.2}, C=0.004832930238571752, total=   0.0s\n",
      "[CV] solver=lbfgs, penalty=elasticnet, class_weight={1: 0.8, 0: 0.2}, C=0.004832930238571752 \n",
      "[CV]  solver=lbfgs, penalty=elasticnet, class_weight={1: 0.8, 0: 0.2}, C=0.004832930238571752, total=   0.0s\n",
      "[CV] solver=lbfgs, penalty=elasticnet, class_weight={1: 0.8, 0: 0.2}, C=0.004832930238571752 \n",
      "[CV]  solver=lbfgs, penalty=elasticnet, class_weight={1: 0.8, 0: 0.2}, C=0.004832930238571752, total=   0.0s\n",
      "[CV] solver=lbfgs, penalty=elasticnet, class_weight={1: 0.8, 0: 0.2}, C=0.004832930238571752 \n",
      "[CV]  solver=lbfgs, penalty=elasticnet, class_weight={1: 0.8, 0: 0.2}, C=0.004832930238571752, total=   0.0s\n",
      "[CV] solver=newton-cg, penalty=l2, class_weight=None, C=0.0001 .......\n",
      "[CV]  solver=newton-cg, penalty=l2, class_weight=None, C=0.0001, total=   0.5s\n",
      "[CV] solver=newton-cg, penalty=l2, class_weight=None, C=0.0001 .......\n",
      "[CV]  solver=newton-cg, penalty=l2, class_weight=None, C=0.0001, total=   0.5s\n",
      "[CV] solver=newton-cg, penalty=l2, class_weight=None, C=0.0001 .......\n",
      "[CV]  solver=newton-cg, penalty=l2, class_weight=None, C=0.0001, total=   0.5s\n",
      "[CV] solver=newton-cg, penalty=l2, class_weight=None, C=0.0001 .......\n",
      "[CV]  solver=newton-cg, penalty=l2, class_weight=None, C=0.0001, total=   0.5s\n",
      "[CV] solver=saga, penalty=l2, class_weight={1: 0.75, 0: 0.25}, C=0.0018329807108324356 \n"
     ]
    },
    {
     "name": "stderr",
     "output_type": "stream",
     "text": [
      "/Users/personal/opt/anaconda3/lib/python3.8/site-packages/sklearn/linear_model/_sag.py:329: ConvergenceWarning: The max_iter was reached which means the coef_ did not converge\n",
      "  warnings.warn(\"The max_iter was reached which means \"\n"
     ]
    },
    {
     "name": "stdout",
     "output_type": "stream",
     "text": [
      "[CV]  solver=saga, penalty=l2, class_weight={1: 0.75, 0: 0.25}, C=0.0018329807108324356, total=   4.0s\n",
      "[CV] solver=saga, penalty=l2, class_weight={1: 0.75, 0: 0.25}, C=0.0018329807108324356 \n"
     ]
    },
    {
     "name": "stderr",
     "output_type": "stream",
     "text": [
      "/Users/personal/opt/anaconda3/lib/python3.8/site-packages/sklearn/linear_model/_sag.py:329: ConvergenceWarning: The max_iter was reached which means the coef_ did not converge\n",
      "  warnings.warn(\"The max_iter was reached which means \"\n"
     ]
    },
    {
     "name": "stdout",
     "output_type": "stream",
     "text": [
      "[CV]  solver=saga, penalty=l2, class_weight={1: 0.75, 0: 0.25}, C=0.0018329807108324356, total=   4.0s\n",
      "[CV] solver=saga, penalty=l2, class_weight={1: 0.75, 0: 0.25}, C=0.0018329807108324356 \n"
     ]
    },
    {
     "name": "stderr",
     "output_type": "stream",
     "text": [
      "/Users/personal/opt/anaconda3/lib/python3.8/site-packages/sklearn/linear_model/_sag.py:329: ConvergenceWarning: The max_iter was reached which means the coef_ did not converge\n",
      "  warnings.warn(\"The max_iter was reached which means \"\n"
     ]
    },
    {
     "name": "stdout",
     "output_type": "stream",
     "text": [
      "[CV]  solver=saga, penalty=l2, class_weight={1: 0.75, 0: 0.25}, C=0.0018329807108324356, total=   4.0s\n",
      "[CV] solver=saga, penalty=l2, class_weight={1: 0.75, 0: 0.25}, C=0.0018329807108324356 \n"
     ]
    },
    {
     "name": "stderr",
     "output_type": "stream",
     "text": [
      "/Users/personal/opt/anaconda3/lib/python3.8/site-packages/sklearn/linear_model/_sag.py:329: ConvergenceWarning: The max_iter was reached which means the coef_ did not converge\n",
      "  warnings.warn(\"The max_iter was reached which means \"\n"
     ]
    },
    {
     "name": "stdout",
     "output_type": "stream",
     "text": [
      "[CV]  solver=saga, penalty=l2, class_weight={1: 0.75, 0: 0.25}, C=0.0018329807108324356, total=   4.0s\n",
      "[CV] solver=lbfgs, penalty=l2, class_weight={1: 0.75, 0: 0.25}, C=0.012742749857031334 \n",
      "[CV]  solver=lbfgs, penalty=l2, class_weight={1: 0.75, 0: 0.25}, C=0.012742749857031334, total=   0.2s\n",
      "[CV] solver=lbfgs, penalty=l2, class_weight={1: 0.75, 0: 0.25}, C=0.012742749857031334 \n",
      "[CV]  solver=lbfgs, penalty=l2, class_weight={1: 0.75, 0: 0.25}, C=0.012742749857031334, total=   0.2s\n",
      "[CV] solver=lbfgs, penalty=l2, class_weight={1: 0.75, 0: 0.25}, C=0.012742749857031334 \n",
      "[CV]  solver=lbfgs, penalty=l2, class_weight={1: 0.75, 0: 0.25}, C=0.012742749857031334, total=   0.2s\n",
      "[CV] solver=lbfgs, penalty=l2, class_weight={1: 0.75, 0: 0.25}, C=0.012742749857031334 \n",
      "[CV]  solver=lbfgs, penalty=l2, class_weight={1: 0.75, 0: 0.25}, C=0.012742749857031334, total=   0.3s\n",
      "[CV] solver=lbfgs, penalty=elasticnet, class_weight={1: 0.67, 0: 0.33}, C=0.03359818286283781 \n",
      "[CV]  solver=lbfgs, penalty=elasticnet, class_weight={1: 0.67, 0: 0.33}, C=0.03359818286283781, total=   0.0s\n",
      "[CV] solver=lbfgs, penalty=elasticnet, class_weight={1: 0.67, 0: 0.33}, C=0.03359818286283781 \n",
      "[CV]  solver=lbfgs, penalty=elasticnet, class_weight={1: 0.67, 0: 0.33}, C=0.03359818286283781, total=   0.0s\n",
      "[CV] solver=lbfgs, penalty=elasticnet, class_weight={1: 0.67, 0: 0.33}, C=0.03359818286283781 \n",
      "[CV]  solver=lbfgs, penalty=elasticnet, class_weight={1: 0.67, 0: 0.33}, C=0.03359818286283781, total=   0.0s\n",
      "[CV] solver=lbfgs, penalty=elasticnet, class_weight={1: 0.67, 0: 0.33}, C=0.03359818286283781 \n",
      "[CV]  solver=lbfgs, penalty=elasticnet, class_weight={1: 0.67, 0: 0.33}, C=0.03359818286283781, total=   0.0s\n",
      "[CV] solver=sag, penalty=l2, class_weight=None, C=0.03359818286283781 \n"
     ]
    },
    {
     "name": "stderr",
     "output_type": "stream",
     "text": [
      "/Users/personal/opt/anaconda3/lib/python3.8/site-packages/sklearn/model_selection/_validation.py:548: FitFailedWarning: Estimator fit failed. The score on this train-test partition for these parameters will be set to nan. Details: \n",
      "Traceback (most recent call last):\n",
      "  File \"/Users/personal/opt/anaconda3/lib/python3.8/site-packages/sklearn/model_selection/_validation.py\", line 531, in _fit_and_score\n",
      "    estimator.fit(X_train, y_train, **fit_params)\n",
      "  File \"/Users/personal/opt/anaconda3/lib/python3.8/site-packages/sklearn/linear_model/_logistic.py\", line 1304, in fit\n",
      "    solver = _check_solver(self.solver, self.penalty, self.dual)\n",
      "  File \"/Users/personal/opt/anaconda3/lib/python3.8/site-packages/sklearn/linear_model/_logistic.py\", line 442, in _check_solver\n",
      "    raise ValueError(\"Solver %s supports only 'l2' or 'none' penalties, \"\n",
      "ValueError: Solver lbfgs supports only 'l2' or 'none' penalties, got elasticnet penalty.\n",
      "\n",
      "  warnings.warn(\"Estimator fit failed. The score on this train-test\"\n"
     ]
    },
    {
     "name": "stdout",
     "output_type": "stream",
     "text": [
      "[CV]  solver=sag, penalty=l2, class_weight=None, C=0.03359818286283781, total=   1.2s\n",
      "[CV] solver=sag, penalty=l2, class_weight=None, C=0.03359818286283781 \n",
      "[CV]  solver=sag, penalty=l2, class_weight=None, C=0.03359818286283781, total=   1.1s\n",
      "[CV] solver=sag, penalty=l2, class_weight=None, C=0.03359818286283781 \n",
      "[CV]  solver=sag, penalty=l2, class_weight=None, C=0.03359818286283781, total=   1.2s\n",
      "[CV] solver=sag, penalty=l2, class_weight=None, C=0.03359818286283781 \n",
      "[CV]  solver=sag, penalty=l2, class_weight=None, C=0.03359818286283781, total=   1.2s\n",
      "[CV] solver=saga, penalty=elasticnet, class_weight=balanced, C=0.615848211066026 \n",
      "[CV]  solver=saga, penalty=elasticnet, class_weight=balanced, C=0.615848211066026, total=   0.0s\n",
      "[CV] solver=saga, penalty=elasticnet, class_weight=balanced, C=0.615848211066026 \n",
      "[CV]  solver=saga, penalty=elasticnet, class_weight=balanced, C=0.615848211066026, total=   0.0s\n",
      "[CV] solver=saga, penalty=elasticnet, class_weight=balanced, C=0.615848211066026 \n",
      "[CV]  solver=saga, penalty=elasticnet, class_weight=balanced, C=0.615848211066026, total=   0.0s\n",
      "[CV] solver=saga, penalty=elasticnet, class_weight=balanced, C=0.615848211066026 \n",
      "[CV]  solver=saga, penalty=elasticnet, class_weight=balanced, C=0.615848211066026, total=   0.0s\n",
      "[CV] solver=sag, penalty=elasticnet, class_weight=balanced, C=0.00026366508987303583 \n",
      "[CV]  solver=sag, penalty=elasticnet, class_weight=balanced, C=0.00026366508987303583, total=   0.0s\n",
      "[CV] solver=sag, penalty=elasticnet, class_weight=balanced, C=0.00026366508987303583 \n",
      "[CV]  solver=sag, penalty=elasticnet, class_weight=balanced, C=0.00026366508987303583, total=   0.0s\n",
      "[CV] solver=sag, penalty=elasticnet, class_weight=balanced, C=0.00026366508987303583 \n",
      "[CV]  solver=sag, penalty=elasticnet, class_weight=balanced, C=0.00026366508987303583, total=   0.0s\n",
      "[CV] solver=sag, penalty=elasticnet, class_weight=balanced, C=0.00026366508987303583 \n",
      "[CV]  solver=sag, penalty=elasticnet, class_weight=balanced, C=0.00026366508987303583, total=   0.0s\n",
      "[CV] solver=newton-cg, penalty=l2, class_weight={1: 0.8, 0: 0.2}, C=1438.44988828766 \n"
     ]
    },
    {
     "name": "stderr",
     "output_type": "stream",
     "text": [
      "/Users/personal/opt/anaconda3/lib/python3.8/site-packages/sklearn/model_selection/_validation.py:548: FitFailedWarning: Estimator fit failed. The score on this train-test partition for these parameters will be set to nan. Details: \n",
      "Traceback (most recent call last):\n",
      "  File \"/Users/personal/opt/anaconda3/lib/python3.8/site-packages/sklearn/model_selection/_validation.py\", line 531, in _fit_and_score\n",
      "    estimator.fit(X_train, y_train, **fit_params)\n",
      "  File \"/Users/personal/opt/anaconda3/lib/python3.8/site-packages/sklearn/linear_model/_logistic.py\", line 1312, in fit\n",
      "    raise ValueError(\"l1_ratio must be between 0 and 1;\"\n",
      "ValueError: l1_ratio must be between 0 and 1; got (l1_ratio=None)\n",
      "\n",
      "  warnings.warn(\"Estimator fit failed. The score on this train-test\"\n",
      "/Users/personal/opt/anaconda3/lib/python3.8/site-packages/sklearn/model_selection/_validation.py:548: FitFailedWarning: Estimator fit failed. The score on this train-test partition for these parameters will be set to nan. Details: \n",
      "Traceback (most recent call last):\n",
      "  File \"/Users/personal/opt/anaconda3/lib/python3.8/site-packages/sklearn/model_selection/_validation.py\", line 531, in _fit_and_score\n",
      "    estimator.fit(X_train, y_train, **fit_params)\n",
      "  File \"/Users/personal/opt/anaconda3/lib/python3.8/site-packages/sklearn/linear_model/_logistic.py\", line 1304, in fit\n",
      "    solver = _check_solver(self.solver, self.penalty, self.dual)\n",
      "  File \"/Users/personal/opt/anaconda3/lib/python3.8/site-packages/sklearn/linear_model/_logistic.py\", line 442, in _check_solver\n",
      "    raise ValueError(\"Solver %s supports only 'l2' or 'none' penalties, \"\n",
      "ValueError: Solver sag supports only 'l2' or 'none' penalties, got elasticnet penalty.\n",
      "\n",
      "  warnings.warn(\"Estimator fit failed. The score on this train-test\"\n"
     ]
    },
    {
     "name": "stdout",
     "output_type": "stream",
     "text": [
      "[CV]  solver=newton-cg, penalty=l2, class_weight={1: 0.8, 0: 0.2}, C=1438.44988828766, total=   4.0s\n",
      "[CV] solver=newton-cg, penalty=l2, class_weight={1: 0.8, 0: 0.2}, C=1438.44988828766 \n",
      "[CV]  solver=newton-cg, penalty=l2, class_weight={1: 0.8, 0: 0.2}, C=1438.44988828766, total=   3.9s\n",
      "[CV] solver=newton-cg, penalty=l2, class_weight={1: 0.8, 0: 0.2}, C=1438.44988828766 \n",
      "[CV]  solver=newton-cg, penalty=l2, class_weight={1: 0.8, 0: 0.2}, C=1438.44988828766, total=   3.8s\n",
      "[CV] solver=newton-cg, penalty=l2, class_weight={1: 0.8, 0: 0.2}, C=1438.44988828766 \n",
      "[CV]  solver=newton-cg, penalty=l2, class_weight={1: 0.8, 0: 0.2}, C=1438.44988828766, total=   3.9s\n",
      "[CV] solver=newton-cg, penalty=elasticnet, class_weight={1: 0.67, 0: 0.33}, C=0.00026366508987303583 \n",
      "[CV]  solver=newton-cg, penalty=elasticnet, class_weight={1: 0.67, 0: 0.33}, C=0.00026366508987303583, total=   0.0s\n",
      "[CV] solver=newton-cg, penalty=elasticnet, class_weight={1: 0.67, 0: 0.33}, C=0.00026366508987303583 \n",
      "[CV]  solver=newton-cg, penalty=elasticnet, class_weight={1: 0.67, 0: 0.33}, C=0.00026366508987303583, total=   0.0s\n",
      "[CV] solver=newton-cg, penalty=elasticnet, class_weight={1: 0.67, 0: 0.33}, C=0.00026366508987303583 \n",
      "[CV]  solver=newton-cg, penalty=elasticnet, class_weight={1: 0.67, 0: 0.33}, C=0.00026366508987303583, total=   0.0s\n",
      "[CV] solver=newton-cg, penalty=elasticnet, class_weight={1: 0.67, 0: 0.33}, C=0.00026366508987303583 \n",
      "[CV]  solver=newton-cg, penalty=elasticnet, class_weight={1: 0.67, 0: 0.33}, C=0.00026366508987303583, total=   0.0s\n",
      "[CV] solver=lbfgs, penalty=l1, class_weight=balanced, C=3792.690190732246 \n",
      "[CV]  solver=lbfgs, penalty=l1, class_weight=balanced, C=3792.690190732246, total=   0.0s\n",
      "[CV] solver=lbfgs, penalty=l1, class_weight=balanced, C=3792.690190732246 \n",
      "[CV]  solver=lbfgs, penalty=l1, class_weight=balanced, C=3792.690190732246, total=   0.0s\n",
      "[CV] solver=lbfgs, penalty=l1, class_weight=balanced, C=3792.690190732246 \n",
      "[CV]  solver=lbfgs, penalty=l1, class_weight=balanced, C=3792.690190732246, total=   0.0s\n",
      "[CV] solver=lbfgs, penalty=l1, class_weight=balanced, C=3792.690190732246 \n",
      "[CV]  solver=lbfgs, penalty=l1, class_weight=balanced, C=3792.690190732246, total=   0.0s\n",
      "[CV] solver=sag, penalty=l1, class_weight={1: 0.67, 0: 0.33}, C=545.5594781168514 \n",
      "[CV]  solver=sag, penalty=l1, class_weight={1: 0.67, 0: 0.33}, C=545.5594781168514, total=   0.0s\n",
      "[CV] solver=sag, penalty=l1, class_weight={1: 0.67, 0: 0.33}, C=545.5594781168514 \n",
      "[CV]  solver=sag, penalty=l1, class_weight={1: 0.67, 0: 0.33}, C=545.5594781168514, total=   0.0s\n",
      "[CV] solver=sag, penalty=l1, class_weight={1: 0.67, 0: 0.33}, C=545.5594781168514 \n",
      "[CV]  solver=sag, penalty=l1, class_weight={1: 0.67, 0: 0.33}, C=545.5594781168514, total=   0.0s\n",
      "[CV] solver=sag, penalty=l1, class_weight={1: 0.67, 0: 0.33}, C=545.5594781168514 \n",
      "[CV]  solver=sag, penalty=l1, class_weight={1: 0.67, 0: 0.33}, C=545.5594781168514, total=   0.0s\n",
      "[CV] solver=lbfgs, penalty=l2, class_weight=balanced, C=1438.44988828766 \n"
     ]
    },
    {
     "name": "stderr",
     "output_type": "stream",
     "text": [
      "/Users/personal/opt/anaconda3/lib/python3.8/site-packages/sklearn/model_selection/_validation.py:548: FitFailedWarning: Estimator fit failed. The score on this train-test partition for these parameters will be set to nan. Details: \n",
      "Traceback (most recent call last):\n",
      "  File \"/Users/personal/opt/anaconda3/lib/python3.8/site-packages/sklearn/model_selection/_validation.py\", line 531, in _fit_and_score\n",
      "    estimator.fit(X_train, y_train, **fit_params)\n",
      "  File \"/Users/personal/opt/anaconda3/lib/python3.8/site-packages/sklearn/linear_model/_logistic.py\", line 1304, in fit\n",
      "    solver = _check_solver(self.solver, self.penalty, self.dual)\n",
      "  File \"/Users/personal/opt/anaconda3/lib/python3.8/site-packages/sklearn/linear_model/_logistic.py\", line 442, in _check_solver\n",
      "    raise ValueError(\"Solver %s supports only 'l2' or 'none' penalties, \"\n",
      "ValueError: Solver newton-cg supports only 'l2' or 'none' penalties, got elasticnet penalty.\n",
      "\n",
      "  warnings.warn(\"Estimator fit failed. The score on this train-test\"\n",
      "/Users/personal/opt/anaconda3/lib/python3.8/site-packages/sklearn/model_selection/_validation.py:548: FitFailedWarning: Estimator fit failed. The score on this train-test partition for these parameters will be set to nan. Details: \n",
      "Traceback (most recent call last):\n",
      "  File \"/Users/personal/opt/anaconda3/lib/python3.8/site-packages/sklearn/model_selection/_validation.py\", line 531, in _fit_and_score\n",
      "    estimator.fit(X_train, y_train, **fit_params)\n",
      "  File \"/Users/personal/opt/anaconda3/lib/python3.8/site-packages/sklearn/linear_model/_logistic.py\", line 1304, in fit\n",
      "    solver = _check_solver(self.solver, self.penalty, self.dual)\n",
      "  File \"/Users/personal/opt/anaconda3/lib/python3.8/site-packages/sklearn/linear_model/_logistic.py\", line 442, in _check_solver\n",
      "    raise ValueError(\"Solver %s supports only 'l2' or 'none' penalties, \"\n",
      "ValueError: Solver lbfgs supports only 'l2' or 'none' penalties, got l1 penalty.\n",
      "\n",
      "  warnings.warn(\"Estimator fit failed. The score on this train-test\"\n",
      "/Users/personal/opt/anaconda3/lib/python3.8/site-packages/sklearn/model_selection/_validation.py:548: FitFailedWarning: Estimator fit failed. The score on this train-test partition for these parameters will be set to nan. Details: \n",
      "Traceback (most recent call last):\n",
      "  File \"/Users/personal/opt/anaconda3/lib/python3.8/site-packages/sklearn/model_selection/_validation.py\", line 531, in _fit_and_score\n",
      "    estimator.fit(X_train, y_train, **fit_params)\n",
      "  File \"/Users/personal/opt/anaconda3/lib/python3.8/site-packages/sklearn/linear_model/_logistic.py\", line 1304, in fit\n",
      "    solver = _check_solver(self.solver, self.penalty, self.dual)\n",
      "  File \"/Users/personal/opt/anaconda3/lib/python3.8/site-packages/sklearn/linear_model/_logistic.py\", line 442, in _check_solver\n",
      "    raise ValueError(\"Solver %s supports only 'l2' or 'none' penalties, \"\n",
      "ValueError: Solver sag supports only 'l2' or 'none' penalties, got l1 penalty.\n",
      "\n",
      "  warnings.warn(\"Estimator fit failed. The score on this train-test\"\n",
      "/Users/personal/opt/anaconda3/lib/python3.8/site-packages/sklearn/linear_model/_logistic.py:762: ConvergenceWarning: lbfgs failed to converge (status=1):\n",
      "STOP: TOTAL NO. of ITERATIONS REACHED LIMIT.\n",
      "\n",
      "Increase the number of iterations (max_iter) or scale the data as shown in:\n",
      "    https://scikit-learn.org/stable/modules/preprocessing.html\n",
      "Please also refer to the documentation for alternative solver options:\n",
      "    https://scikit-learn.org/stable/modules/linear_model.html#logistic-regression\n",
      "  n_iter_i = _check_optimize_result(\n"
     ]
    },
    {
     "name": "stdout",
     "output_type": "stream",
     "text": [
      "[CV]  solver=lbfgs, penalty=l2, class_weight=balanced, C=1438.44988828766, total=   0.8s\n",
      "[CV] solver=lbfgs, penalty=l2, class_weight=balanced, C=1438.44988828766 \n"
     ]
    },
    {
     "name": "stderr",
     "output_type": "stream",
     "text": [
      "/Users/personal/opt/anaconda3/lib/python3.8/site-packages/sklearn/linear_model/_logistic.py:762: ConvergenceWarning: lbfgs failed to converge (status=1):\n",
      "STOP: TOTAL NO. of ITERATIONS REACHED LIMIT.\n",
      "\n",
      "Increase the number of iterations (max_iter) or scale the data as shown in:\n",
      "    https://scikit-learn.org/stable/modules/preprocessing.html\n",
      "Please also refer to the documentation for alternative solver options:\n",
      "    https://scikit-learn.org/stable/modules/linear_model.html#logistic-regression\n",
      "  n_iter_i = _check_optimize_result(\n"
     ]
    },
    {
     "name": "stdout",
     "output_type": "stream",
     "text": [
      "[CV]  solver=lbfgs, penalty=l2, class_weight=balanced, C=1438.44988828766, total=   0.8s\n",
      "[CV] solver=lbfgs, penalty=l2, class_weight=balanced, C=1438.44988828766 \n"
     ]
    },
    {
     "name": "stderr",
     "output_type": "stream",
     "text": [
      "/Users/personal/opt/anaconda3/lib/python3.8/site-packages/sklearn/linear_model/_logistic.py:762: ConvergenceWarning: lbfgs failed to converge (status=1):\n",
      "STOP: TOTAL NO. of ITERATIONS REACHED LIMIT.\n",
      "\n",
      "Increase the number of iterations (max_iter) or scale the data as shown in:\n",
      "    https://scikit-learn.org/stable/modules/preprocessing.html\n",
      "Please also refer to the documentation for alternative solver options:\n",
      "    https://scikit-learn.org/stable/modules/linear_model.html#logistic-regression\n",
      "  n_iter_i = _check_optimize_result(\n"
     ]
    },
    {
     "name": "stdout",
     "output_type": "stream",
     "text": [
      "[CV]  solver=lbfgs, penalty=l2, class_weight=balanced, C=1438.44988828766, total=   0.8s\n",
      "[CV] solver=lbfgs, penalty=l2, class_weight=balanced, C=1438.44988828766 \n"
     ]
    },
    {
     "name": "stderr",
     "output_type": "stream",
     "text": [
      "/Users/personal/opt/anaconda3/lib/python3.8/site-packages/sklearn/linear_model/_logistic.py:762: ConvergenceWarning: lbfgs failed to converge (status=1):\n",
      "STOP: TOTAL NO. of ITERATIONS REACHED LIMIT.\n",
      "\n",
      "Increase the number of iterations (max_iter) or scale the data as shown in:\n",
      "    https://scikit-learn.org/stable/modules/preprocessing.html\n",
      "Please also refer to the documentation for alternative solver options:\n",
      "    https://scikit-learn.org/stable/modules/linear_model.html#logistic-regression\n",
      "  n_iter_i = _check_optimize_result(\n",
      "/Users/personal/opt/anaconda3/lib/python3.8/site-packages/sklearn/model_selection/_validation.py:548: FitFailedWarning: Estimator fit failed. The score on this train-test partition for these parameters will be set to nan. Details: \n",
      "Traceback (most recent call last):\n",
      "  File \"/Users/personal/opt/anaconda3/lib/python3.8/site-packages/sklearn/model_selection/_validation.py\", line 531, in _fit_and_score\n",
      "    estimator.fit(X_train, y_train, **fit_params)\n",
      "  File \"/Users/personal/opt/anaconda3/lib/python3.8/site-packages/sklearn/linear_model/_logistic.py\", line 1304, in fit\n",
      "    solver = _check_solver(self.solver, self.penalty, self.dual)\n",
      "  File \"/Users/personal/opt/anaconda3/lib/python3.8/site-packages/sklearn/linear_model/_logistic.py\", line 442, in _check_solver\n",
      "    raise ValueError(\"Solver %s supports only 'l2' or 'none' penalties, \"\n",
      "ValueError: Solver lbfgs supports only 'l2' or 'none' penalties, got elasticnet penalty.\n",
      "\n",
      "  warnings.warn(\"Estimator fit failed. The score on this train-test\"\n",
      "/Users/personal/opt/anaconda3/lib/python3.8/site-packages/sklearn/model_selection/_validation.py:548: FitFailedWarning: Estimator fit failed. The score on this train-test partition for these parameters will be set to nan. Details: \n",
      "Traceback (most recent call last):\n",
      "  File \"/Users/personal/opt/anaconda3/lib/python3.8/site-packages/sklearn/model_selection/_validation.py\", line 531, in _fit_and_score\n",
      "    estimator.fit(X_train, y_train, **fit_params)\n",
      "  File \"/Users/personal/opt/anaconda3/lib/python3.8/site-packages/sklearn/linear_model/_logistic.py\", line 1304, in fit\n",
      "    solver = _check_solver(self.solver, self.penalty, self.dual)\n",
      "  File \"/Users/personal/opt/anaconda3/lib/python3.8/site-packages/sklearn/linear_model/_logistic.py\", line 442, in _check_solver\n",
      "    raise ValueError(\"Solver %s supports only 'l2' or 'none' penalties, \"\n",
      "ValueError: Solver newton-cg supports only 'l2' or 'none' penalties, got elasticnet penalty.\n",
      "\n",
      "  warnings.warn(\"Estimator fit failed. The score on this train-test\"\n",
      "/Users/personal/opt/anaconda3/lib/python3.8/site-packages/sklearn/model_selection/_validation.py:548: FitFailedWarning: Estimator fit failed. The score on this train-test partition for these parameters will be set to nan. Details: \n",
      "Traceback (most recent call last):\n",
      "  File \"/Users/personal/opt/anaconda3/lib/python3.8/site-packages/sklearn/model_selection/_validation.py\", line 531, in _fit_and_score\n",
      "    estimator.fit(X_train, y_train, **fit_params)\n",
      "  File \"/Users/personal/opt/anaconda3/lib/python3.8/site-packages/sklearn/linear_model/_logistic.py\", line 1304, in fit\n",
      "    solver = _check_solver(self.solver, self.penalty, self.dual)\n",
      "  File \"/Users/personal/opt/anaconda3/lib/python3.8/site-packages/sklearn/linear_model/_logistic.py\", line 442, in _check_solver\n",
      "    raise ValueError(\"Solver %s supports only 'l2' or 'none' penalties, \"\n",
      "ValueError: Solver newton-cg supports only 'l2' or 'none' penalties, got l1 penalty.\n",
      "\n",
      "  warnings.warn(\"Estimator fit failed. The score on this train-test\"\n"
     ]
    },
    {
     "name": "stdout",
     "output_type": "stream",
     "text": [
      "[CV]  solver=lbfgs, penalty=l2, class_weight=balanced, C=1438.44988828766, total=   0.7s\n",
      "[CV] solver=lbfgs, penalty=elasticnet, class_weight=None, C=0.03359818286283781 \n",
      "[CV]  solver=lbfgs, penalty=elasticnet, class_weight=None, C=0.03359818286283781, total=   0.0s\n",
      "[CV] solver=lbfgs, penalty=elasticnet, class_weight=None, C=0.03359818286283781 \n",
      "[CV]  solver=lbfgs, penalty=elasticnet, class_weight=None, C=0.03359818286283781, total=   0.0s\n",
      "[CV] solver=lbfgs, penalty=elasticnet, class_weight=None, C=0.03359818286283781 \n",
      "[CV]  solver=lbfgs, penalty=elasticnet, class_weight=None, C=0.03359818286283781, total=   0.0s\n",
      "[CV] solver=lbfgs, penalty=elasticnet, class_weight=None, C=0.03359818286283781 \n",
      "[CV]  solver=lbfgs, penalty=elasticnet, class_weight=None, C=0.03359818286283781, total=   0.0s\n",
      "[CV] solver=newton-cg, penalty=elasticnet, class_weight={1: 0.8, 0: 0.2}, C=0.08858667904100823 \n",
      "[CV]  solver=newton-cg, penalty=elasticnet, class_weight={1: 0.8, 0: 0.2}, C=0.08858667904100823, total=   0.0s\n",
      "[CV] solver=newton-cg, penalty=elasticnet, class_weight={1: 0.8, 0: 0.2}, C=0.08858667904100823 \n",
      "[CV]  solver=newton-cg, penalty=elasticnet, class_weight={1: 0.8, 0: 0.2}, C=0.08858667904100823, total=   0.0s\n",
      "[CV] solver=newton-cg, penalty=elasticnet, class_weight={1: 0.8, 0: 0.2}, C=0.08858667904100823 \n",
      "[CV]  solver=newton-cg, penalty=elasticnet, class_weight={1: 0.8, 0: 0.2}, C=0.08858667904100823, total=   0.0s\n",
      "[CV] solver=newton-cg, penalty=elasticnet, class_weight={1: 0.8, 0: 0.2}, C=0.08858667904100823 \n",
      "[CV]  solver=newton-cg, penalty=elasticnet, class_weight={1: 0.8, 0: 0.2}, C=0.08858667904100823, total=   0.0s\n",
      "[CV] solver=newton-cg, penalty=l1, class_weight=None, C=0.0006951927961775605 \n",
      "[CV]  solver=newton-cg, penalty=l1, class_weight=None, C=0.0006951927961775605, total=   0.0s\n",
      "[CV] solver=newton-cg, penalty=l1, class_weight=None, C=0.0006951927961775605 \n",
      "[CV]  solver=newton-cg, penalty=l1, class_weight=None, C=0.0006951927961775605, total=   0.0s\n",
      "[CV] solver=newton-cg, penalty=l1, class_weight=None, C=0.0006951927961775605 \n",
      "[CV]  solver=newton-cg, penalty=l1, class_weight=None, C=0.0006951927961775605, total=   0.0s\n",
      "[CV] solver=newton-cg, penalty=l1, class_weight=None, C=0.0006951927961775605 \n",
      "[CV]  solver=newton-cg, penalty=l1, class_weight=None, C=0.0006951927961775605, total=   0.0s\n",
      "[CV] solver=lbfgs, penalty=l2, class_weight=balanced, C=0.00026366508987303583 \n",
      "[CV]  solver=lbfgs, penalty=l2, class_weight=balanced, C=0.00026366508987303583, total=   0.1s\n",
      "[CV] solver=lbfgs, penalty=l2, class_weight=balanced, C=0.00026366508987303583 \n",
      "[CV]  solver=lbfgs, penalty=l2, class_weight=balanced, C=0.00026366508987303583, total=   0.1s\n",
      "[CV] solver=lbfgs, penalty=l2, class_weight=balanced, C=0.00026366508987303583 \n",
      "[CV]  solver=lbfgs, penalty=l2, class_weight=balanced, C=0.00026366508987303583, total=   0.1s\n",
      "[CV] solver=lbfgs, penalty=l2, class_weight=balanced, C=0.00026366508987303583 \n",
      "[CV]  solver=lbfgs, penalty=l2, class_weight=balanced, C=0.00026366508987303583, total=   0.1s\n",
      "[CV] solver=saga, penalty=l2, class_weight={1: 0.8, 0: 0.2}, C=1438.44988828766 \n"
     ]
    },
    {
     "name": "stderr",
     "output_type": "stream",
     "text": [
      "/Users/personal/opt/anaconda3/lib/python3.8/site-packages/sklearn/linear_model/_sag.py:329: ConvergenceWarning: The max_iter was reached which means the coef_ did not converge\n",
      "  warnings.warn(\"The max_iter was reached which means \"\n"
     ]
    },
    {
     "name": "stdout",
     "output_type": "stream",
     "text": [
      "[CV]  solver=saga, penalty=l2, class_weight={1: 0.8, 0: 0.2}, C=1438.44988828766, total=   4.0s\n",
      "[CV] solver=saga, penalty=l2, class_weight={1: 0.8, 0: 0.2}, C=1438.44988828766 \n"
     ]
    },
    {
     "name": "stderr",
     "output_type": "stream",
     "text": [
      "/Users/personal/opt/anaconda3/lib/python3.8/site-packages/sklearn/linear_model/_sag.py:329: ConvergenceWarning: The max_iter was reached which means the coef_ did not converge\n",
      "  warnings.warn(\"The max_iter was reached which means \"\n"
     ]
    },
    {
     "name": "stdout",
     "output_type": "stream",
     "text": [
      "[CV]  solver=saga, penalty=l2, class_weight={1: 0.8, 0: 0.2}, C=1438.44988828766, total=   4.1s\n",
      "[CV] solver=saga, penalty=l2, class_weight={1: 0.8, 0: 0.2}, C=1438.44988828766 \n"
     ]
    },
    {
     "name": "stderr",
     "output_type": "stream",
     "text": [
      "/Users/personal/opt/anaconda3/lib/python3.8/site-packages/sklearn/linear_model/_sag.py:329: ConvergenceWarning: The max_iter was reached which means the coef_ did not converge\n",
      "  warnings.warn(\"The max_iter was reached which means \"\n"
     ]
    },
    {
     "name": "stdout",
     "output_type": "stream",
     "text": [
      "[CV]  solver=saga, penalty=l2, class_weight={1: 0.8, 0: 0.2}, C=1438.44988828766, total=   4.0s\n",
      "[CV] solver=saga, penalty=l2, class_weight={1: 0.8, 0: 0.2}, C=1438.44988828766 \n"
     ]
    },
    {
     "name": "stderr",
     "output_type": "stream",
     "text": [
      "/Users/personal/opt/anaconda3/lib/python3.8/site-packages/sklearn/linear_model/_sag.py:329: ConvergenceWarning: The max_iter was reached which means the coef_ did not converge\n",
      "  warnings.warn(\"The max_iter was reached which means \"\n",
      "/Users/personal/opt/anaconda3/lib/python3.8/site-packages/sklearn/model_selection/_validation.py:548: FitFailedWarning: Estimator fit failed. The score on this train-test partition for these parameters will be set to nan. Details: \n",
      "Traceback (most recent call last):\n",
      "  File \"/Users/personal/opt/anaconda3/lib/python3.8/site-packages/sklearn/model_selection/_validation.py\", line 531, in _fit_and_score\n",
      "    estimator.fit(X_train, y_train, **fit_params)\n",
      "  File \"/Users/personal/opt/anaconda3/lib/python3.8/site-packages/sklearn/linear_model/_logistic.py\", line 1304, in fit\n",
      "    solver = _check_solver(self.solver, self.penalty, self.dual)\n",
      "  File \"/Users/personal/opt/anaconda3/lib/python3.8/site-packages/sklearn/linear_model/_logistic.py\", line 442, in _check_solver\n",
      "    raise ValueError(\"Solver %s supports only 'l2' or 'none' penalties, \"\n",
      "ValueError: Solver lbfgs supports only 'l2' or 'none' penalties, got l1 penalty.\n",
      "\n",
      "  warnings.warn(\"Estimator fit failed. The score on this train-test\"\n",
      "/Users/personal/opt/anaconda3/lib/python3.8/site-packages/sklearn/model_selection/_validation.py:548: FitFailedWarning: Estimator fit failed. The score on this train-test partition for these parameters will be set to nan. Details: \n",
      "Traceback (most recent call last):\n",
      "  File \"/Users/personal/opt/anaconda3/lib/python3.8/site-packages/sklearn/model_selection/_validation.py\", line 531, in _fit_and_score\n",
      "    estimator.fit(X_train, y_train, **fit_params)\n",
      "  File \"/Users/personal/opt/anaconda3/lib/python3.8/site-packages/sklearn/linear_model/_logistic.py\", line 1304, in fit\n",
      "    solver = _check_solver(self.solver, self.penalty, self.dual)\n",
      "  File \"/Users/personal/opt/anaconda3/lib/python3.8/site-packages/sklearn/linear_model/_logistic.py\", line 442, in _check_solver\n",
      "    raise ValueError(\"Solver %s supports only 'l2' or 'none' penalties, \"\n",
      "ValueError: Solver sag supports only 'l2' or 'none' penalties, got l1 penalty.\n",
      "\n",
      "  warnings.warn(\"Estimator fit failed. The score on this train-test\"\n",
      "/Users/personal/opt/anaconda3/lib/python3.8/site-packages/sklearn/model_selection/_validation.py:548: FitFailedWarning: Estimator fit failed. The score on this train-test partition for these parameters will be set to nan. Details: \n",
      "Traceback (most recent call last):\n",
      "  File \"/Users/personal/opt/anaconda3/lib/python3.8/site-packages/sklearn/model_selection/_validation.py\", line 531, in _fit_and_score\n",
      "    estimator.fit(X_train, y_train, **fit_params)\n",
      "  File \"/Users/personal/opt/anaconda3/lib/python3.8/site-packages/sklearn/linear_model/_logistic.py\", line 1304, in fit\n",
      "    solver = _check_solver(self.solver, self.penalty, self.dual)\n",
      "  File \"/Users/personal/opt/anaconda3/lib/python3.8/site-packages/sklearn/linear_model/_logistic.py\", line 442, in _check_solver\n",
      "    raise ValueError(\"Solver %s supports only 'l2' or 'none' penalties, \"\n",
      "ValueError: Solver lbfgs supports only 'l2' or 'none' penalties, got elasticnet penalty.\n",
      "\n",
      "  warnings.warn(\"Estimator fit failed. The score on this train-test\"\n"
     ]
    },
    {
     "name": "stdout",
     "output_type": "stream",
     "text": [
      "[CV]  solver=saga, penalty=l2, class_weight={1: 0.8, 0: 0.2}, C=1438.44988828766, total=   4.1s\n",
      "[CV] solver=lbfgs, penalty=l1, class_weight={1: 0.8, 0: 0.2}, C=4.281332398719396 \n",
      "[CV]  solver=lbfgs, penalty=l1, class_weight={1: 0.8, 0: 0.2}, C=4.281332398719396, total=   0.0s\n",
      "[CV] solver=lbfgs, penalty=l1, class_weight={1: 0.8, 0: 0.2}, C=4.281332398719396 \n",
      "[CV]  solver=lbfgs, penalty=l1, class_weight={1: 0.8, 0: 0.2}, C=4.281332398719396, total=   0.0s\n",
      "[CV] solver=lbfgs, penalty=l1, class_weight={1: 0.8, 0: 0.2}, C=4.281332398719396 \n",
      "[CV]  solver=lbfgs, penalty=l1, class_weight={1: 0.8, 0: 0.2}, C=4.281332398719396, total=   0.0s\n",
      "[CV] solver=lbfgs, penalty=l1, class_weight={1: 0.8, 0: 0.2}, C=4.281332398719396 \n",
      "[CV]  solver=lbfgs, penalty=l1, class_weight={1: 0.8, 0: 0.2}, C=4.281332398719396, total=   0.0s\n",
      "[CV] solver=sag, penalty=l1, class_weight=None, C=0.0001 .............\n",
      "[CV]  solver=sag, penalty=l1, class_weight=None, C=0.0001, total=   0.0s\n",
      "[CV] solver=sag, penalty=l1, class_weight=None, C=0.0001 .............\n",
      "[CV]  solver=sag, penalty=l1, class_weight=None, C=0.0001, total=   0.0s\n",
      "[CV] solver=sag, penalty=l1, class_weight=None, C=0.0001 .............\n",
      "[CV]  solver=sag, penalty=l1, class_weight=None, C=0.0001, total=   0.0s\n",
      "[CV] solver=sag, penalty=l1, class_weight=None, C=0.0001 .............\n",
      "[CV]  solver=sag, penalty=l1, class_weight=None, C=0.0001, total=   0.0s\n",
      "[CV] solver=lbfgs, penalty=elasticnet, class_weight=None, C=0.00026366508987303583 \n",
      "[CV]  solver=lbfgs, penalty=elasticnet, class_weight=None, C=0.00026366508987303583, total=   0.0s\n",
      "[CV] solver=lbfgs, penalty=elasticnet, class_weight=None, C=0.00026366508987303583 \n",
      "[CV]  solver=lbfgs, penalty=elasticnet, class_weight=None, C=0.00026366508987303583, total=   0.0s\n",
      "[CV] solver=lbfgs, penalty=elasticnet, class_weight=None, C=0.00026366508987303583 \n",
      "[CV]  solver=lbfgs, penalty=elasticnet, class_weight=None, C=0.00026366508987303583, total=   0.0s\n",
      "[CV] solver=lbfgs, penalty=elasticnet, class_weight=None, C=0.00026366508987303583 \n",
      "[CV]  solver=lbfgs, penalty=elasticnet, class_weight=None, C=0.00026366508987303583, total=   0.0s\n",
      "[CV] solver=newton-cg, penalty=l2, class_weight=balanced, C=78.47599703514607 \n",
      "[CV]  solver=newton-cg, penalty=l2, class_weight=balanced, C=78.47599703514607, total=   2.9s\n",
      "[CV] solver=newton-cg, penalty=l2, class_weight=balanced, C=78.47599703514607 \n",
      "[CV]  solver=newton-cg, penalty=l2, class_weight=balanced, C=78.47599703514607, total=   3.4s\n",
      "[CV] solver=newton-cg, penalty=l2, class_weight=balanced, C=78.47599703514607 \n",
      "[CV]  solver=newton-cg, penalty=l2, class_weight=balanced, C=78.47599703514607, total=   3.6s\n",
      "[CV] solver=newton-cg, penalty=l2, class_weight=balanced, C=78.47599703514607 \n",
      "[CV]  solver=newton-cg, penalty=l2, class_weight=balanced, C=78.47599703514607, total=   3.3s\n",
      "[CV] solver=newton-cg, penalty=l1, class_weight=balanced, C=0.004832930238571752 \n",
      "[CV]  solver=newton-cg, penalty=l1, class_weight=balanced, C=0.004832930238571752, total=   0.0s\n",
      "[CV] solver=newton-cg, penalty=l1, class_weight=balanced, C=0.004832930238571752 \n",
      "[CV]  solver=newton-cg, penalty=l1, class_weight=balanced, C=0.004832930238571752, total=   0.0s\n",
      "[CV] solver=newton-cg, penalty=l1, class_weight=balanced, C=0.004832930238571752 \n",
      "[CV]  solver=newton-cg, penalty=l1, class_weight=balanced, C=0.004832930238571752, total=   0.0s\n",
      "[CV] solver=newton-cg, penalty=l1, class_weight=balanced, C=0.004832930238571752 \n",
      "[CV]  solver=newton-cg, penalty=l1, class_weight=balanced, C=0.004832930238571752, total=   0.0s\n",
      "[CV] solver=newton-cg, penalty=l1, class_weight={1: 0.75, 0: 0.25}, C=206.913808111479 \n",
      "[CV]  solver=newton-cg, penalty=l1, class_weight={1: 0.75, 0: 0.25}, C=206.913808111479, total=   0.0s\n",
      "[CV] solver=newton-cg, penalty=l1, class_weight={1: 0.75, 0: 0.25}, C=206.913808111479 \n",
      "[CV]  solver=newton-cg, penalty=l1, class_weight={1: 0.75, 0: 0.25}, C=206.913808111479, total=   0.0s\n",
      "[CV] solver=newton-cg, penalty=l1, class_weight={1: 0.75, 0: 0.25}, C=206.913808111479 \n",
      "[CV]  solver=newton-cg, penalty=l1, class_weight={1: 0.75, 0: 0.25}, C=206.913808111479, total=   0.0s\n",
      "[CV] solver=newton-cg, penalty=l1, class_weight={1: 0.75, 0: 0.25}, C=206.913808111479 \n",
      "[CV]  solver=newton-cg, penalty=l1, class_weight={1: 0.75, 0: 0.25}, C=206.913808111479, total=   0.0s\n",
      "[CV] solver=sag, penalty=l2, class_weight={1: 0.8, 0: 0.2}, C=3792.690190732246 \n"
     ]
    },
    {
     "name": "stderr",
     "output_type": "stream",
     "text": [
      "/Users/personal/opt/anaconda3/lib/python3.8/site-packages/sklearn/model_selection/_validation.py:548: FitFailedWarning: Estimator fit failed. The score on this train-test partition for these parameters will be set to nan. Details: \n",
      "Traceback (most recent call last):\n",
      "  File \"/Users/personal/opt/anaconda3/lib/python3.8/site-packages/sklearn/model_selection/_validation.py\", line 531, in _fit_and_score\n",
      "    estimator.fit(X_train, y_train, **fit_params)\n",
      "  File \"/Users/personal/opt/anaconda3/lib/python3.8/site-packages/sklearn/linear_model/_logistic.py\", line 1304, in fit\n",
      "    solver = _check_solver(self.solver, self.penalty, self.dual)\n",
      "  File \"/Users/personal/opt/anaconda3/lib/python3.8/site-packages/sklearn/linear_model/_logistic.py\", line 442, in _check_solver\n",
      "    raise ValueError(\"Solver %s supports only 'l2' or 'none' penalties, \"\n",
      "ValueError: Solver newton-cg supports only 'l2' or 'none' penalties, got l1 penalty.\n",
      "\n",
      "  warnings.warn(\"Estimator fit failed. The score on this train-test\"\n",
      "/Users/personal/opt/anaconda3/lib/python3.8/site-packages/sklearn/linear_model/_sag.py:329: ConvergenceWarning: The max_iter was reached which means the coef_ did not converge\n",
      "  warnings.warn(\"The max_iter was reached which means \"\n"
     ]
    },
    {
     "name": "stdout",
     "output_type": "stream",
     "text": [
      "[CV]  solver=sag, penalty=l2, class_weight={1: 0.8, 0: 0.2}, C=3792.690190732246, total=   3.9s\n",
      "[CV] solver=sag, penalty=l2, class_weight={1: 0.8, 0: 0.2}, C=3792.690190732246 \n"
     ]
    },
    {
     "name": "stderr",
     "output_type": "stream",
     "text": [
      "/Users/personal/opt/anaconda3/lib/python3.8/site-packages/sklearn/linear_model/_sag.py:329: ConvergenceWarning: The max_iter was reached which means the coef_ did not converge\n",
      "  warnings.warn(\"The max_iter was reached which means \"\n"
     ]
    },
    {
     "name": "stdout",
     "output_type": "stream",
     "text": [
      "[CV]  solver=sag, penalty=l2, class_weight={1: 0.8, 0: 0.2}, C=3792.690190732246, total=   3.9s\n",
      "[CV] solver=sag, penalty=l2, class_weight={1: 0.8, 0: 0.2}, C=3792.690190732246 \n"
     ]
    },
    {
     "name": "stderr",
     "output_type": "stream",
     "text": [
      "/Users/personal/opt/anaconda3/lib/python3.8/site-packages/sklearn/linear_model/_sag.py:329: ConvergenceWarning: The max_iter was reached which means the coef_ did not converge\n",
      "  warnings.warn(\"The max_iter was reached which means \"\n"
     ]
    },
    {
     "name": "stdout",
     "output_type": "stream",
     "text": [
      "[CV]  solver=sag, penalty=l2, class_weight={1: 0.8, 0: 0.2}, C=3792.690190732246, total=   3.9s\n",
      "[CV] solver=sag, penalty=l2, class_weight={1: 0.8, 0: 0.2}, C=3792.690190732246 \n"
     ]
    },
    {
     "name": "stderr",
     "output_type": "stream",
     "text": [
      "/Users/personal/opt/anaconda3/lib/python3.8/site-packages/sklearn/linear_model/_sag.py:329: ConvergenceWarning: The max_iter was reached which means the coef_ did not converge\n",
      "  warnings.warn(\"The max_iter was reached which means \"\n",
      "/Users/personal/opt/anaconda3/lib/python3.8/site-packages/sklearn/model_selection/_validation.py:548: FitFailedWarning: Estimator fit failed. The score on this train-test partition for these parameters will be set to nan. Details: \n",
      "Traceback (most recent call last):\n",
      "  File \"/Users/personal/opt/anaconda3/lib/python3.8/site-packages/sklearn/model_selection/_validation.py\", line 531, in _fit_and_score\n",
      "    estimator.fit(X_train, y_train, **fit_params)\n",
      "  File \"/Users/personal/opt/anaconda3/lib/python3.8/site-packages/sklearn/linear_model/_logistic.py\", line 1304, in fit\n",
      "    solver = _check_solver(self.solver, self.penalty, self.dual)\n",
      "  File \"/Users/personal/opt/anaconda3/lib/python3.8/site-packages/sklearn/linear_model/_logistic.py\", line 442, in _check_solver\n",
      "    raise ValueError(\"Solver %s supports only 'l2' or 'none' penalties, \"\n",
      "ValueError: Solver lbfgs supports only 'l2' or 'none' penalties, got elasticnet penalty.\n",
      "\n",
      "  warnings.warn(\"Estimator fit failed. The score on this train-test\"\n"
     ]
    },
    {
     "name": "stdout",
     "output_type": "stream",
     "text": [
      "[CV]  solver=sag, penalty=l2, class_weight={1: 0.8, 0: 0.2}, C=3792.690190732246, total=   3.9s\n",
      "[CV] solver=lbfgs, penalty=elasticnet, class_weight={1: 0.67, 0: 0.33}, C=0.08858667904100823 \n",
      "[CV]  solver=lbfgs, penalty=elasticnet, class_weight={1: 0.67, 0: 0.33}, C=0.08858667904100823, total=   0.0s\n",
      "[CV] solver=lbfgs, penalty=elasticnet, class_weight={1: 0.67, 0: 0.33}, C=0.08858667904100823 \n",
      "[CV]  solver=lbfgs, penalty=elasticnet, class_weight={1: 0.67, 0: 0.33}, C=0.08858667904100823, total=   0.0s\n",
      "[CV] solver=lbfgs, penalty=elasticnet, class_weight={1: 0.67, 0: 0.33}, C=0.08858667904100823 \n",
      "[CV]  solver=lbfgs, penalty=elasticnet, class_weight={1: 0.67, 0: 0.33}, C=0.08858667904100823, total=   0.0s\n",
      "[CV] solver=lbfgs, penalty=elasticnet, class_weight={1: 0.67, 0: 0.33}, C=0.08858667904100823 \n",
      "[CV]  solver=lbfgs, penalty=elasticnet, class_weight={1: 0.67, 0: 0.33}, C=0.08858667904100823, total=   0.0s\n",
      "[CV] solver=newton-cg, penalty=l2, class_weight={1: 0.75, 0: 0.25}, C=0.23357214690901212 \n",
      "[CV]  solver=newton-cg, penalty=l2, class_weight={1: 0.75, 0: 0.25}, C=0.23357214690901212, total=   0.9s\n",
      "[CV] solver=newton-cg, penalty=l2, class_weight={1: 0.75, 0: 0.25}, C=0.23357214690901212 \n",
      "[CV]  solver=newton-cg, penalty=l2, class_weight={1: 0.75, 0: 0.25}, C=0.23357214690901212, total=   1.0s\n",
      "[CV] solver=newton-cg, penalty=l2, class_weight={1: 0.75, 0: 0.25}, C=0.23357214690901212 \n",
      "[CV]  solver=newton-cg, penalty=l2, class_weight={1: 0.75, 0: 0.25}, C=0.23357214690901212, total=   0.8s\n",
      "[CV] solver=newton-cg, penalty=l2, class_weight={1: 0.75, 0: 0.25}, C=0.23357214690901212 \n",
      "[CV]  solver=newton-cg, penalty=l2, class_weight={1: 0.75, 0: 0.25}, C=0.23357214690901212, total=   0.9s\n",
      "[CV] solver=newton-cg, penalty=l2, class_weight={1: 0.8, 0: 0.2}, C=78.47599703514607 \n",
      "[CV]  solver=newton-cg, penalty=l2, class_weight={1: 0.8, 0: 0.2}, C=78.47599703514607, total=   2.8s\n",
      "[CV] solver=newton-cg, penalty=l2, class_weight={1: 0.8, 0: 0.2}, C=78.47599703514607 \n",
      "[CV]  solver=newton-cg, penalty=l2, class_weight={1: 0.8, 0: 0.2}, C=78.47599703514607, total=   2.4s\n",
      "[CV] solver=newton-cg, penalty=l2, class_weight={1: 0.8, 0: 0.2}, C=78.47599703514607 \n",
      "[CV]  solver=newton-cg, penalty=l2, class_weight={1: 0.8, 0: 0.2}, C=78.47599703514607, total=   2.4s\n",
      "[CV] solver=newton-cg, penalty=l2, class_weight={1: 0.8, 0: 0.2}, C=78.47599703514607 \n",
      "[CV]  solver=newton-cg, penalty=l2, class_weight={1: 0.8, 0: 0.2}, C=78.47599703514607, total=   2.1s\n",
      "[CV] solver=newton-cg, penalty=elasticnet, class_weight={1: 0.8, 0: 0.2}, C=0.0001 \n",
      "[CV]  solver=newton-cg, penalty=elasticnet, class_weight={1: 0.8, 0: 0.2}, C=0.0001, total=   0.0s\n",
      "[CV] solver=newton-cg, penalty=elasticnet, class_weight={1: 0.8, 0: 0.2}, C=0.0001 \n",
      "[CV]  solver=newton-cg, penalty=elasticnet, class_weight={1: 0.8, 0: 0.2}, C=0.0001, total=   0.0s\n",
      "[CV] solver=newton-cg, penalty=elasticnet, class_weight={1: 0.8, 0: 0.2}, C=0.0001 \n",
      "[CV]  solver=newton-cg, penalty=elasticnet, class_weight={1: 0.8, 0: 0.2}, C=0.0001, total=   0.0s\n",
      "[CV] solver=newton-cg, penalty=elasticnet, class_weight={1: 0.8, 0: 0.2}, C=0.0001 \n",
      "[CV]  solver=newton-cg, penalty=elasticnet, class_weight={1: 0.8, 0: 0.2}, C=0.0001, total=   0.0s\n",
      "[CV] solver=newton-cg, penalty=l1, class_weight=balanced, C=0.0018329807108324356 \n",
      "[CV]  solver=newton-cg, penalty=l1, class_weight=balanced, C=0.0018329807108324356, total=   0.0s\n",
      "[CV] solver=newton-cg, penalty=l1, class_weight=balanced, C=0.0018329807108324356 \n",
      "[CV]  solver=newton-cg, penalty=l1, class_weight=balanced, C=0.0018329807108324356, total=   0.0s\n",
      "[CV] solver=newton-cg, penalty=l1, class_weight=balanced, C=0.0018329807108324356 \n",
      "[CV]  solver=newton-cg, penalty=l1, class_weight=balanced, C=0.0018329807108324356, total=   0.0s\n",
      "[CV] solver=newton-cg, penalty=l1, class_weight=balanced, C=0.0018329807108324356 \n",
      "[CV]  solver=newton-cg, penalty=l1, class_weight=balanced, C=0.0018329807108324356, total=   0.0s\n",
      "[CV] solver=saga, penalty=l1, class_weight={1: 0.67, 0: 0.33}, C=78.47599703514607 \n"
     ]
    },
    {
     "name": "stderr",
     "output_type": "stream",
     "text": [
      "/Users/personal/opt/anaconda3/lib/python3.8/site-packages/sklearn/model_selection/_validation.py:548: FitFailedWarning: Estimator fit failed. The score on this train-test partition for these parameters will be set to nan. Details: \n",
      "Traceback (most recent call last):\n",
      "  File \"/Users/personal/opt/anaconda3/lib/python3.8/site-packages/sklearn/model_selection/_validation.py\", line 531, in _fit_and_score\n",
      "    estimator.fit(X_train, y_train, **fit_params)\n",
      "  File \"/Users/personal/opt/anaconda3/lib/python3.8/site-packages/sklearn/linear_model/_logistic.py\", line 1304, in fit\n",
      "    solver = _check_solver(self.solver, self.penalty, self.dual)\n",
      "  File \"/Users/personal/opt/anaconda3/lib/python3.8/site-packages/sklearn/linear_model/_logistic.py\", line 442, in _check_solver\n",
      "    raise ValueError(\"Solver %s supports only 'l2' or 'none' penalties, \"\n",
      "ValueError: Solver newton-cg supports only 'l2' or 'none' penalties, got elasticnet penalty.\n",
      "\n",
      "  warnings.warn(\"Estimator fit failed. The score on this train-test\"\n",
      "/Users/personal/opt/anaconda3/lib/python3.8/site-packages/sklearn/model_selection/_validation.py:548: FitFailedWarning: Estimator fit failed. The score on this train-test partition for these parameters will be set to nan. Details: \n",
      "Traceback (most recent call last):\n",
      "  File \"/Users/personal/opt/anaconda3/lib/python3.8/site-packages/sklearn/model_selection/_validation.py\", line 531, in _fit_and_score\n",
      "    estimator.fit(X_train, y_train, **fit_params)\n",
      "  File \"/Users/personal/opt/anaconda3/lib/python3.8/site-packages/sklearn/linear_model/_logistic.py\", line 1304, in fit\n",
      "    solver = _check_solver(self.solver, self.penalty, self.dual)\n",
      "  File \"/Users/personal/opt/anaconda3/lib/python3.8/site-packages/sklearn/linear_model/_logistic.py\", line 442, in _check_solver\n",
      "    raise ValueError(\"Solver %s supports only 'l2' or 'none' penalties, \"\n",
      "ValueError: Solver newton-cg supports only 'l2' or 'none' penalties, got l1 penalty.\n",
      "\n",
      "  warnings.warn(\"Estimator fit failed. The score on this train-test\"\n",
      "/Users/personal/opt/anaconda3/lib/python3.8/site-packages/sklearn/linear_model/_sag.py:329: ConvergenceWarning: The max_iter was reached which means the coef_ did not converge\n",
      "  warnings.warn(\"The max_iter was reached which means \"\n"
     ]
    },
    {
     "name": "stdout",
     "output_type": "stream",
     "text": [
      "[CV]  solver=saga, penalty=l1, class_weight={1: 0.67, 0: 0.33}, C=78.47599703514607, total=  10.6s\n",
      "[CV] solver=saga, penalty=l1, class_weight={1: 0.67, 0: 0.33}, C=78.47599703514607 \n"
     ]
    },
    {
     "name": "stderr",
     "output_type": "stream",
     "text": [
      "/Users/personal/opt/anaconda3/lib/python3.8/site-packages/sklearn/linear_model/_sag.py:329: ConvergenceWarning: The max_iter was reached which means the coef_ did not converge\n",
      "  warnings.warn(\"The max_iter was reached which means \"\n"
     ]
    },
    {
     "name": "stdout",
     "output_type": "stream",
     "text": [
      "[CV]  solver=saga, penalty=l1, class_weight={1: 0.67, 0: 0.33}, C=78.47599703514607, total=  11.8s\n",
      "[CV] solver=saga, penalty=l1, class_weight={1: 0.67, 0: 0.33}, C=78.47599703514607 \n"
     ]
    },
    {
     "name": "stderr",
     "output_type": "stream",
     "text": [
      "/Users/personal/opt/anaconda3/lib/python3.8/site-packages/sklearn/linear_model/_sag.py:329: ConvergenceWarning: The max_iter was reached which means the coef_ did not converge\n",
      "  warnings.warn(\"The max_iter was reached which means \"\n"
     ]
    },
    {
     "name": "stdout",
     "output_type": "stream",
     "text": [
      "[CV]  solver=saga, penalty=l1, class_weight={1: 0.67, 0: 0.33}, C=78.47599703514607, total=  11.5s\n",
      "[CV] solver=saga, penalty=l1, class_weight={1: 0.67, 0: 0.33}, C=78.47599703514607 \n"
     ]
    },
    {
     "name": "stderr",
     "output_type": "stream",
     "text": [
      "/Users/personal/opt/anaconda3/lib/python3.8/site-packages/sklearn/linear_model/_sag.py:329: ConvergenceWarning: The max_iter was reached which means the coef_ did not converge\n",
      "  warnings.warn(\"The max_iter was reached which means \"\n"
     ]
    },
    {
     "name": "stdout",
     "output_type": "stream",
     "text": [
      "[CV]  solver=saga, penalty=l1, class_weight={1: 0.67, 0: 0.33}, C=78.47599703514607, total=  10.9s\n",
      "[CV] solver=newton-cg, penalty=l2, class_weight={1: 0.75, 0: 0.25}, C=10000.0 \n",
      "[CV]  solver=newton-cg, penalty=l2, class_weight={1: 0.75, 0: 0.25}, C=10000.0, total=   4.9s\n",
      "[CV] solver=newton-cg, penalty=l2, class_weight={1: 0.75, 0: 0.25}, C=10000.0 \n",
      "[CV]  solver=newton-cg, penalty=l2, class_weight={1: 0.75, 0: 0.25}, C=10000.0, total=   5.5s\n",
      "[CV] solver=newton-cg, penalty=l2, class_weight={1: 0.75, 0: 0.25}, C=10000.0 \n",
      "[CV]  solver=newton-cg, penalty=l2, class_weight={1: 0.75, 0: 0.25}, C=10000.0, total=   5.0s\n",
      "[CV] solver=newton-cg, penalty=l2, class_weight={1: 0.75, 0: 0.25}, C=10000.0 \n",
      "[CV]  solver=newton-cg, penalty=l2, class_weight={1: 0.75, 0: 0.25}, C=10000.0, total=   4.6s\n",
      "[CV] solver=lbfgs, penalty=elasticnet, class_weight=None, C=11.288378916846883 \n",
      "[CV]  solver=lbfgs, penalty=elasticnet, class_weight=None, C=11.288378916846883, total=   0.0s\n",
      "[CV] solver=lbfgs, penalty=elasticnet, class_weight=None, C=11.288378916846883 \n",
      "[CV]  solver=lbfgs, penalty=elasticnet, class_weight=None, C=11.288378916846883, total=   0.0s\n",
      "[CV] solver=lbfgs, penalty=elasticnet, class_weight=None, C=11.288378916846883 \n",
      "[CV]  solver=lbfgs, penalty=elasticnet, class_weight=None, C=11.288378916846883, total=   0.0s\n",
      "[CV] solver=lbfgs, penalty=elasticnet, class_weight=None, C=11.288378916846883 \n",
      "[CV]  solver=lbfgs, penalty=elasticnet, class_weight=None, C=11.288378916846883, total=   0.0s\n",
      "[CV] solver=saga, penalty=elasticnet, class_weight={1: 0.8, 0: 0.2}, C=4.281332398719396 \n",
      "[CV]  solver=saga, penalty=elasticnet, class_weight={1: 0.8, 0: 0.2}, C=4.281332398719396, total=   0.0s\n",
      "[CV] solver=saga, penalty=elasticnet, class_weight={1: 0.8, 0: 0.2}, C=4.281332398719396 \n",
      "[CV]  solver=saga, penalty=elasticnet, class_weight={1: 0.8, 0: 0.2}, C=4.281332398719396, total=   0.0s\n",
      "[CV] solver=saga, penalty=elasticnet, class_weight={1: 0.8, 0: 0.2}, C=4.281332398719396 \n",
      "[CV]  solver=saga, penalty=elasticnet, class_weight={1: 0.8, 0: 0.2}, C=4.281332398719396, total=   0.0s\n",
      "[CV] solver=saga, penalty=elasticnet, class_weight={1: 0.8, 0: 0.2}, C=4.281332398719396 \n",
      "[CV]  solver=saga, penalty=elasticnet, class_weight={1: 0.8, 0: 0.2}, C=4.281332398719396, total=   0.0s\n",
      "[CV] solver=lbfgs, penalty=l1, class_weight=None, C=0.0018329807108324356 \n",
      "[CV]  solver=lbfgs, penalty=l1, class_weight=None, C=0.0018329807108324356, total=   0.0s\n",
      "[CV] solver=lbfgs, penalty=l1, class_weight=None, C=0.0018329807108324356 \n",
      "[CV]  solver=lbfgs, penalty=l1, class_weight=None, C=0.0018329807108324356, total=   0.0s\n",
      "[CV] solver=lbfgs, penalty=l1, class_weight=None, C=0.0018329807108324356 \n",
      "[CV]  solver=lbfgs, penalty=l1, class_weight=None, C=0.0018329807108324356, total=   0.0s\n",
      "[CV] solver=lbfgs, penalty=l1, class_weight=None, C=0.0018329807108324356 \n",
      "[CV]  solver=lbfgs, penalty=l1, class_weight=None, C=0.0018329807108324356, total=   0.0s\n",
      "[CV] solver=saga, penalty=l1, class_weight=None, C=0.0006951927961775605 \n"
     ]
    },
    {
     "name": "stderr",
     "output_type": "stream",
     "text": [
      "/Users/personal/opt/anaconda3/lib/python3.8/site-packages/sklearn/model_selection/_validation.py:548: FitFailedWarning: Estimator fit failed. The score on this train-test partition for these parameters will be set to nan. Details: \n",
      "Traceback (most recent call last):\n",
      "  File \"/Users/personal/opt/anaconda3/lib/python3.8/site-packages/sklearn/model_selection/_validation.py\", line 531, in _fit_and_score\n",
      "    estimator.fit(X_train, y_train, **fit_params)\n",
      "  File \"/Users/personal/opt/anaconda3/lib/python3.8/site-packages/sklearn/linear_model/_logistic.py\", line 1304, in fit\n",
      "    solver = _check_solver(self.solver, self.penalty, self.dual)\n",
      "  File \"/Users/personal/opt/anaconda3/lib/python3.8/site-packages/sklearn/linear_model/_logistic.py\", line 442, in _check_solver\n",
      "    raise ValueError(\"Solver %s supports only 'l2' or 'none' penalties, \"\n",
      "ValueError: Solver lbfgs supports only 'l2' or 'none' penalties, got elasticnet penalty.\n",
      "\n",
      "  warnings.warn(\"Estimator fit failed. The score on this train-test\"\n",
      "/Users/personal/opt/anaconda3/lib/python3.8/site-packages/sklearn/model_selection/_validation.py:548: FitFailedWarning: Estimator fit failed. The score on this train-test partition for these parameters will be set to nan. Details: \n",
      "Traceback (most recent call last):\n",
      "  File \"/Users/personal/opt/anaconda3/lib/python3.8/site-packages/sklearn/model_selection/_validation.py\", line 531, in _fit_and_score\n",
      "    estimator.fit(X_train, y_train, **fit_params)\n",
      "  File \"/Users/personal/opt/anaconda3/lib/python3.8/site-packages/sklearn/linear_model/_logistic.py\", line 1312, in fit\n",
      "    raise ValueError(\"l1_ratio must be between 0 and 1;\"\n",
      "ValueError: l1_ratio must be between 0 and 1; got (l1_ratio=None)\n",
      "\n",
      "  warnings.warn(\"Estimator fit failed. The score on this train-test\"\n",
      "/Users/personal/opt/anaconda3/lib/python3.8/site-packages/sklearn/model_selection/_validation.py:548: FitFailedWarning: Estimator fit failed. The score on this train-test partition for these parameters will be set to nan. Details: \n",
      "Traceback (most recent call last):\n",
      "  File \"/Users/personal/opt/anaconda3/lib/python3.8/site-packages/sklearn/model_selection/_validation.py\", line 531, in _fit_and_score\n",
      "    estimator.fit(X_train, y_train, **fit_params)\n",
      "  File \"/Users/personal/opt/anaconda3/lib/python3.8/site-packages/sklearn/linear_model/_logistic.py\", line 1304, in fit\n",
      "    solver = _check_solver(self.solver, self.penalty, self.dual)\n",
      "  File \"/Users/personal/opt/anaconda3/lib/python3.8/site-packages/sklearn/linear_model/_logistic.py\", line 442, in _check_solver\n",
      "    raise ValueError(\"Solver %s supports only 'l2' or 'none' penalties, \"\n",
      "ValueError: Solver lbfgs supports only 'l2' or 'none' penalties, got l1 penalty.\n",
      "\n",
      "  warnings.warn(\"Estimator fit failed. The score on this train-test\"\n"
     ]
    },
    {
     "name": "stdout",
     "output_type": "stream",
     "text": [
      "[CV]  solver=saga, penalty=l1, class_weight=None, C=0.0006951927961775605, total=   0.5s\n",
      "[CV] solver=saga, penalty=l1, class_weight=None, C=0.0006951927961775605 \n",
      "[CV]  solver=saga, penalty=l1, class_weight=None, C=0.0006951927961775605, total=   0.6s\n",
      "[CV] solver=saga, penalty=l1, class_weight=None, C=0.0006951927961775605 \n",
      "[CV]  solver=saga, penalty=l1, class_weight=None, C=0.0006951927961775605, total=   0.6s\n",
      "[CV] solver=saga, penalty=l1, class_weight=None, C=0.0006951927961775605 \n",
      "[CV]  solver=saga, penalty=l1, class_weight=None, C=0.0006951927961775605, total=   0.3s\n",
      "[CV] solver=sag, penalty=elasticnet, class_weight={1: 0.67, 0: 0.33}, C=0.004832930238571752 \n",
      "[CV]  solver=sag, penalty=elasticnet, class_weight={1: 0.67, 0: 0.33}, C=0.004832930238571752, total=   0.0s\n",
      "[CV] solver=sag, penalty=elasticnet, class_weight={1: 0.67, 0: 0.33}, C=0.004832930238571752 \n",
      "[CV]  solver=sag, penalty=elasticnet, class_weight={1: 0.67, 0: 0.33}, C=0.004832930238571752, total=   0.0s\n",
      "[CV] solver=sag, penalty=elasticnet, class_weight={1: 0.67, 0: 0.33}, C=0.004832930238571752 \n",
      "[CV]  solver=sag, penalty=elasticnet, class_weight={1: 0.67, 0: 0.33}, C=0.004832930238571752, total=   0.0s\n",
      "[CV] solver=sag, penalty=elasticnet, class_weight={1: 0.67, 0: 0.33}, C=0.004832930238571752 \n",
      "[CV]  solver=sag, penalty=elasticnet, class_weight={1: 0.67, 0: 0.33}, C=0.004832930238571752, total=   0.0s\n",
      "[CV] solver=saga, penalty=elasticnet, class_weight={1: 0.75, 0: 0.25}, C=0.012742749857031334 \n",
      "[CV]  solver=saga, penalty=elasticnet, class_weight={1: 0.75, 0: 0.25}, C=0.012742749857031334, total=   0.0s\n",
      "[CV] solver=saga, penalty=elasticnet, class_weight={1: 0.75, 0: 0.25}, C=0.012742749857031334 \n",
      "[CV]  solver=saga, penalty=elasticnet, class_weight={1: 0.75, 0: 0.25}, C=0.012742749857031334, total=   0.0s\n",
      "[CV] solver=saga, penalty=elasticnet, class_weight={1: 0.75, 0: 0.25}, C=0.012742749857031334 \n",
      "[CV]  solver=saga, penalty=elasticnet, class_weight={1: 0.75, 0: 0.25}, C=0.012742749857031334, total=   0.0s\n",
      "[CV] solver=saga, penalty=elasticnet, class_weight={1: 0.75, 0: 0.25}, C=0.012742749857031334 \n",
      "[CV]  solver=saga, penalty=elasticnet, class_weight={1: 0.75, 0: 0.25}, C=0.012742749857031334, total=   0.0s\n",
      "[CV] solver=saga, penalty=l1, class_weight={1: 0.75, 0: 0.25}, C=0.23357214690901212 \n"
     ]
    },
    {
     "name": "stderr",
     "output_type": "stream",
     "text": [
      "/Users/personal/opt/anaconda3/lib/python3.8/site-packages/sklearn/model_selection/_validation.py:548: FitFailedWarning: Estimator fit failed. The score on this train-test partition for these parameters will be set to nan. Details: \n",
      "Traceback (most recent call last):\n",
      "  File \"/Users/personal/opt/anaconda3/lib/python3.8/site-packages/sklearn/model_selection/_validation.py\", line 531, in _fit_and_score\n",
      "    estimator.fit(X_train, y_train, **fit_params)\n",
      "  File \"/Users/personal/opt/anaconda3/lib/python3.8/site-packages/sklearn/linear_model/_logistic.py\", line 1304, in fit\n",
      "    solver = _check_solver(self.solver, self.penalty, self.dual)\n",
      "  File \"/Users/personal/opt/anaconda3/lib/python3.8/site-packages/sklearn/linear_model/_logistic.py\", line 442, in _check_solver\n",
      "    raise ValueError(\"Solver %s supports only 'l2' or 'none' penalties, \"\n",
      "ValueError: Solver sag supports only 'l2' or 'none' penalties, got elasticnet penalty.\n",
      "\n",
      "  warnings.warn(\"Estimator fit failed. The score on this train-test\"\n",
      "/Users/personal/opt/anaconda3/lib/python3.8/site-packages/sklearn/model_selection/_validation.py:548: FitFailedWarning: Estimator fit failed. The score on this train-test partition for these parameters will be set to nan. Details: \n",
      "Traceback (most recent call last):\n",
      "  File \"/Users/personal/opt/anaconda3/lib/python3.8/site-packages/sklearn/model_selection/_validation.py\", line 531, in _fit_and_score\n",
      "    estimator.fit(X_train, y_train, **fit_params)\n",
      "  File \"/Users/personal/opt/anaconda3/lib/python3.8/site-packages/sklearn/linear_model/_logistic.py\", line 1312, in fit\n",
      "    raise ValueError(\"l1_ratio must be between 0 and 1;\"\n",
      "ValueError: l1_ratio must be between 0 and 1; got (l1_ratio=None)\n",
      "\n",
      "  warnings.warn(\"Estimator fit failed. The score on this train-test\"\n",
      "/Users/personal/opt/anaconda3/lib/python3.8/site-packages/sklearn/linear_model/_sag.py:329: ConvergenceWarning: The max_iter was reached which means the coef_ did not converge\n",
      "  warnings.warn(\"The max_iter was reached which means \"\n"
     ]
    },
    {
     "name": "stdout",
     "output_type": "stream",
     "text": [
      "[CV]  solver=saga, penalty=l1, class_weight={1: 0.75, 0: 0.25}, C=0.23357214690901212, total=   4.9s\n",
      "[CV] solver=saga, penalty=l1, class_weight={1: 0.75, 0: 0.25}, C=0.23357214690901212 \n"
     ]
    },
    {
     "name": "stderr",
     "output_type": "stream",
     "text": [
      "/Users/personal/opt/anaconda3/lib/python3.8/site-packages/sklearn/linear_model/_sag.py:329: ConvergenceWarning: The max_iter was reached which means the coef_ did not converge\n",
      "  warnings.warn(\"The max_iter was reached which means \"\n"
     ]
    },
    {
     "name": "stdout",
     "output_type": "stream",
     "text": [
      "[CV]  solver=saga, penalty=l1, class_weight={1: 0.75, 0: 0.25}, C=0.23357214690901212, total=   5.1s\n",
      "[CV] solver=saga, penalty=l1, class_weight={1: 0.75, 0: 0.25}, C=0.23357214690901212 \n"
     ]
    },
    {
     "name": "stderr",
     "output_type": "stream",
     "text": [
      "/Users/personal/opt/anaconda3/lib/python3.8/site-packages/sklearn/linear_model/_sag.py:329: ConvergenceWarning: The max_iter was reached which means the coef_ did not converge\n",
      "  warnings.warn(\"The max_iter was reached which means \"\n"
     ]
    },
    {
     "name": "stdout",
     "output_type": "stream",
     "text": [
      "[CV]  solver=saga, penalty=l1, class_weight={1: 0.75, 0: 0.25}, C=0.23357214690901212, total=   5.0s\n",
      "[CV] solver=saga, penalty=l1, class_weight={1: 0.75, 0: 0.25}, C=0.23357214690901212 \n"
     ]
    },
    {
     "name": "stderr",
     "output_type": "stream",
     "text": [
      "/Users/personal/opt/anaconda3/lib/python3.8/site-packages/sklearn/linear_model/_sag.py:329: ConvergenceWarning: The max_iter was reached which means the coef_ did not converge\n",
      "  warnings.warn(\"The max_iter was reached which means \"\n",
      "/Users/personal/opt/anaconda3/lib/python3.8/site-packages/sklearn/model_selection/_validation.py:548: FitFailedWarning: Estimator fit failed. The score on this train-test partition for these parameters will be set to nan. Details: \n",
      "Traceback (most recent call last):\n",
      "  File \"/Users/personal/opt/anaconda3/lib/python3.8/site-packages/sklearn/model_selection/_validation.py\", line 531, in _fit_and_score\n",
      "    estimator.fit(X_train, y_train, **fit_params)\n",
      "  File \"/Users/personal/opt/anaconda3/lib/python3.8/site-packages/sklearn/linear_model/_logistic.py\", line 1304, in fit\n",
      "    solver = _check_solver(self.solver, self.penalty, self.dual)\n",
      "  File \"/Users/personal/opt/anaconda3/lib/python3.8/site-packages/sklearn/linear_model/_logistic.py\", line 442, in _check_solver\n",
      "    raise ValueError(\"Solver %s supports only 'l2' or 'none' penalties, \"\n",
      "ValueError: Solver newton-cg supports only 'l2' or 'none' penalties, got elasticnet penalty.\n",
      "\n",
      "  warnings.warn(\"Estimator fit failed. The score on this train-test\"\n"
     ]
    },
    {
     "name": "stdout",
     "output_type": "stream",
     "text": [
      "[CV]  solver=saga, penalty=l1, class_weight={1: 0.75, 0: 0.25}, C=0.23357214690901212, total=   5.1s\n",
      "[CV] solver=newton-cg, penalty=elasticnet, class_weight=None, C=0.0006951927961775605 \n",
      "[CV]  solver=newton-cg, penalty=elasticnet, class_weight=None, C=0.0006951927961775605, total=   0.0s\n",
      "[CV] solver=newton-cg, penalty=elasticnet, class_weight=None, C=0.0006951927961775605 \n",
      "[CV]  solver=newton-cg, penalty=elasticnet, class_weight=None, C=0.0006951927961775605, total=   0.0s\n",
      "[CV] solver=newton-cg, penalty=elasticnet, class_weight=None, C=0.0006951927961775605 \n",
      "[CV]  solver=newton-cg, penalty=elasticnet, class_weight=None, C=0.0006951927961775605, total=   0.0s\n",
      "[CV] solver=newton-cg, penalty=elasticnet, class_weight=None, C=0.0006951927961775605 \n",
      "[CV]  solver=newton-cg, penalty=elasticnet, class_weight=None, C=0.0006951927961775605, total=   0.0s\n",
      "[CV] solver=newton-cg, penalty=l2, class_weight={1: 0.67, 0: 0.33}, C=1438.44988828766 \n",
      "[CV]  solver=newton-cg, penalty=l2, class_weight={1: 0.67, 0: 0.33}, C=1438.44988828766, total=   3.9s\n",
      "[CV] solver=newton-cg, penalty=l2, class_weight={1: 0.67, 0: 0.33}, C=1438.44988828766 \n",
      "[CV]  solver=newton-cg, penalty=l2, class_weight={1: 0.67, 0: 0.33}, C=1438.44988828766, total=   3.7s\n",
      "[CV] solver=newton-cg, penalty=l2, class_weight={1: 0.67, 0: 0.33}, C=1438.44988828766 \n",
      "[CV]  solver=newton-cg, penalty=l2, class_weight={1: 0.67, 0: 0.33}, C=1438.44988828766, total=   4.5s\n",
      "[CV] solver=newton-cg, penalty=l2, class_weight={1: 0.67, 0: 0.33}, C=1438.44988828766 \n",
      "[CV]  solver=newton-cg, penalty=l2, class_weight={1: 0.67, 0: 0.33}, C=1438.44988828766, total=   4.0s\n",
      "[CV] solver=sag, penalty=elasticnet, class_weight=balanced, C=0.004832930238571752 \n",
      "[CV]  solver=sag, penalty=elasticnet, class_weight=balanced, C=0.004832930238571752, total=   0.0s\n",
      "[CV] solver=sag, penalty=elasticnet, class_weight=balanced, C=0.004832930238571752 \n",
      "[CV]  solver=sag, penalty=elasticnet, class_weight=balanced, C=0.004832930238571752, total=   0.0s\n",
      "[CV] solver=sag, penalty=elasticnet, class_weight=balanced, C=0.004832930238571752 \n",
      "[CV]  solver=sag, penalty=elasticnet, class_weight=balanced, C=0.004832930238571752, total=   0.0s\n",
      "[CV] solver=sag, penalty=elasticnet, class_weight=balanced, C=0.004832930238571752 \n",
      "[CV]  solver=sag, penalty=elasticnet, class_weight=balanced, C=0.004832930238571752, total=   0.0s\n",
      "[CV] solver=sag, penalty=l2, class_weight=None, C=11.288378916846883 .\n"
     ]
    },
    {
     "name": "stderr",
     "output_type": "stream",
     "text": [
      "/Users/personal/opt/anaconda3/lib/python3.8/site-packages/sklearn/model_selection/_validation.py:548: FitFailedWarning: Estimator fit failed. The score on this train-test partition for these parameters will be set to nan. Details: \n",
      "Traceback (most recent call last):\n",
      "  File \"/Users/personal/opt/anaconda3/lib/python3.8/site-packages/sklearn/model_selection/_validation.py\", line 531, in _fit_and_score\n",
      "    estimator.fit(X_train, y_train, **fit_params)\n",
      "  File \"/Users/personal/opt/anaconda3/lib/python3.8/site-packages/sklearn/linear_model/_logistic.py\", line 1304, in fit\n",
      "    solver = _check_solver(self.solver, self.penalty, self.dual)\n",
      "  File \"/Users/personal/opt/anaconda3/lib/python3.8/site-packages/sklearn/linear_model/_logistic.py\", line 442, in _check_solver\n",
      "    raise ValueError(\"Solver %s supports only 'l2' or 'none' penalties, \"\n",
      "ValueError: Solver sag supports only 'l2' or 'none' penalties, got elasticnet penalty.\n",
      "\n",
      "  warnings.warn(\"Estimator fit failed. The score on this train-test\"\n",
      "/Users/personal/opt/anaconda3/lib/python3.8/site-packages/sklearn/linear_model/_sag.py:329: ConvergenceWarning: The max_iter was reached which means the coef_ did not converge\n",
      "  warnings.warn(\"The max_iter was reached which means \"\n"
     ]
    },
    {
     "name": "stdout",
     "output_type": "stream",
     "text": [
      "[CV]  solver=sag, penalty=l2, class_weight=None, C=11.288378916846883, total=   4.4s\n",
      "[CV] solver=sag, penalty=l2, class_weight=None, C=11.288378916846883 .\n"
     ]
    },
    {
     "name": "stderr",
     "output_type": "stream",
     "text": [
      "/Users/personal/opt/anaconda3/lib/python3.8/site-packages/sklearn/linear_model/_sag.py:329: ConvergenceWarning: The max_iter was reached which means the coef_ did not converge\n",
      "  warnings.warn(\"The max_iter was reached which means \"\n"
     ]
    },
    {
     "name": "stdout",
     "output_type": "stream",
     "text": [
      "[CV]  solver=sag, penalty=l2, class_weight=None, C=11.288378916846883, total=   4.5s\n",
      "[CV] solver=sag, penalty=l2, class_weight=None, C=11.288378916846883 .\n"
     ]
    },
    {
     "name": "stderr",
     "output_type": "stream",
     "text": [
      "/Users/personal/opt/anaconda3/lib/python3.8/site-packages/sklearn/linear_model/_sag.py:329: ConvergenceWarning: The max_iter was reached which means the coef_ did not converge\n",
      "  warnings.warn(\"The max_iter was reached which means \"\n"
     ]
    },
    {
     "name": "stdout",
     "output_type": "stream",
     "text": [
      "[CV]  solver=sag, penalty=l2, class_weight=None, C=11.288378916846883, total=   4.3s\n",
      "[CV] solver=sag, penalty=l2, class_weight=None, C=11.288378916846883 .\n"
     ]
    },
    {
     "name": "stderr",
     "output_type": "stream",
     "text": [
      "/Users/personal/opt/anaconda3/lib/python3.8/site-packages/sklearn/linear_model/_sag.py:329: ConvergenceWarning: The max_iter was reached which means the coef_ did not converge\n",
      "  warnings.warn(\"The max_iter was reached which means \"\n",
      "[Parallel(n_jobs=1)]: Done 480 out of 480 | elapsed: 10.6min finished\n"
     ]
    },
    {
     "name": "stdout",
     "output_type": "stream",
     "text": [
      "[CV]  solver=sag, penalty=l2, class_weight=None, C=11.288378916846883, total=   4.4s\n"
     ]
    },
    {
     "name": "stderr",
     "output_type": "stream",
     "text": [
      "/Users/personal/opt/anaconda3/lib/python3.8/site-packages/sklearn/linear_model/_sag.py:329: ConvergenceWarning: The max_iter was reached which means the coef_ did not converge\n",
      "  warnings.warn(\"The max_iter was reached which means \"\n"
     ]
    },
    {
     "data": {
      "text/plain": [
       "RandomizedSearchCV(cv=StratifiedKFold(n_splits=4, random_state=0, shuffle=True),\n",
       "                   estimator=LogisticRegression(), n_iter=120,\n",
       "                   param_distributions={'C': array([1.00000000e-04, 2.63665090e-04, 6.95192796e-04, 1.83298071e-03,\n",
       "       4.83293024e-03, 1.27427499e-02, 3.35981829e-02, 8.85866790e-02,\n",
       "       2.33572147e-01, 6.15848211e-01, 1.62377674e+00, 4.28133240e+00,\n",
       "       1.12883789e+01, 2.97635144e+01, 7.84759970e+01, 2.06913808e+02,\n",
       "       5.45559478e+02, 1.43844989e+03, 3.79269019e+03, 1.00000000e+04]),\n",
       "                                        'class_weight': [{0: 0.33, 1: 0.67},\n",
       "                                                         {0: 0.25, 1: 0.75},\n",
       "                                                         {0: 0.2, 1: 0.8},\n",
       "                                                         'None', 'balanced'],\n",
       "                                        'penalty': ['l1', 'l2', 'elasticnet'],\n",
       "                                        'solver': ['newton-cg', 'lbfgs', 'sag',\n",
       "                                                   'saga']},\n",
       "                   scoring='f1', verbose=2)"
      ]
     },
     "execution_count": 139,
     "metadata": {},
     "output_type": "execute_result"
    }
   ],
   "source": [
    "# Random search cross validation\n",
    "from sklearn.model_selection import RandomizedSearchCV\n",
    "from sklearn.model_selection import StratifiedKFold\n",
    "\n",
    "kfold = StratifiedKFold(n_splits=4, shuffle=True, random_state=0) \n",
    "\n",
    "parameters= {\"C\": np.logspace(-4, 4, 20), \\\n",
    "             \"class_weight\": [{1:0.67, 0:0.33}, {1:0.75, 0:0.25}, {1:0.8, 0:0.2}, \"None\", \"balanced\"], \\\n",
    "            \"penalty\": [\"l1\", \"l2\", \"elasticnet\"], \\\n",
    "            \"solver\" : [\"newton-cg\", \"lbfgs\", \"sag\", \"saga\"]}\n",
    "\n",
    "model = LogisticRegression()\n",
    "model_rs = RandomizedSearchCV(model, parameters, cv=kfold, verbose=2, scoring=\"f1\", n_iter=120)\n",
    "model_rs.fit(X_train,y_train)\n"
   ]
  },
  {
   "cell_type": "code",
   "execution_count": null,
   "metadata": {
    "scrolled": false
   },
   "outputs": [],
   "source": [
    "print(\"tuned hpyerparameters :(best parameters) \",model_rs.best_params_)\n",
    "print(\"accuracy :\",model_rs.best_score_)"
   ]
  },
  {
   "cell_type": "code",
   "execution_count": 140,
   "metadata": {
    "scrolled": false
   },
   "outputs": [],
   "source": [
    "lg_clf_rs = model_rs.best_estimator_"
   ]
  },
  {
   "cell_type": "code",
   "execution_count": 141,
   "metadata": {
    "scrolled": true
   },
   "outputs": [
    {
     "name": "stdout",
     "output_type": "stream",
     "text": [
      "scores for default model on test set\n",
      "\n",
      "Accuracy Score : 0.9524753244734593\n",
      "Precision Score : 0.9072715143428952\n",
      "Recall Score : 0.5564648117839607\n",
      "F1 Score : 0.6898300786203397\n",
      "\n",
      "\n",
      "scores for default model on train set\n",
      "\n",
      "Accuracy Score : 0.9513095515660216\n",
      "Precision Score : 0.9092783505154639\n",
      "Recall Score : 0.5413256955810147\n",
      "F1 Score : 0.6786355475763016\n"
     ]
    }
   ],
   "source": [
    "print_scores(lg_clf_rs)\n"
   ]
  },
  {
   "cell_type": "code",
   "execution_count": 142,
   "metadata": {
    "scrolled": true
   },
   "outputs": [
    {
     "data": {
      "image/png": "[encoded data removed]",
      "text/plain": [
       "<Figure size 720x288 with 4 Axes>"
      ]
     },
     "metadata": {
      "needs_background": "light"
     },
     "output_type": "display_data"
    }
   ],
   "source": [
    "show_confusion_matrix(lg_clf_rs)"
   ]
  },
  {
   "cell_type": "markdown",
   "metadata": {},
   "source": [
    "#  Decision Tree"
   ]
  },
  {
   "cell_type": "code",
   "execution_count": 165,
   "metadata": {
    "scrolled": false
   },
   "outputs": [
    {
     "data": {
      "text/plain": [
       "DecisionTreeClassifier()"
      ]
     },
     "execution_count": 165,
     "metadata": {},
     "output_type": "execute_result"
    }
   ],
   "source": [
    "from sklearn.tree import DecisionTreeClassifier\n",
    "dt_clf = DecisionTreeClassifier()\n",
    "dt_clf.fit(X_train, y_train)"
   ]
  },
  {
   "cell_type": "code",
   "execution_count": 166,
   "metadata": {
    "scrolled": true
   },
   "outputs": [
    {
     "name": "stdout",
     "output_type": "stream",
     "text": [
      "scores for default model on test set\n",
      "\n",
      "Accuracy Score : 0.9153260278231133\n",
      "Precision Score : 0.5481993452164423\n",
      "Recall Score : 0.6166121112929623\n",
      "F1 Score : 0.5803966878490274\n",
      "\n",
      "\n",
      "scores for default model on train set\n",
      "\n",
      "Accuracy Score : 1.0\n",
      "Precision Score : 1.0\n",
      "Recall Score : 1.0\n",
      "F1 Score : 1.0\n"
     ]
    }
   ],
   "source": [
    "print_scores(dt_clf)"
   ]
  },
  {
   "cell_type": "markdown",
   "metadata": {},
   "source": [
    "### Massive overfitting here"
   ]
  },
  {
   "cell_type": "code",
   "execution_count": 145,
   "metadata": {
    "scrolled": false
   },
   "outputs": [
    {
     "name": "stdout",
     "output_type": "stream",
     "text": [
      "[0.57866537 0.57101589 0.55142443 0.58870168 0.55652174 0.56110836\n",
      " 0.5697561  0.56801196 0.58541361 0.57980769]\n",
      "\n",
      "0.5710426830315208\n",
      "0.01165572875095475\n"
     ]
    }
   ],
   "source": [
    "cv_score= cross_val_score(dt_clf, X_train, y_train, cv=10, scoring= \"f1\")\n",
    "print(cv_score)\n",
    "print(\"\")\n",
    "print(cv_score.mean())\n",
    "print(cv_score.std())"
   ]
  },
  {
   "cell_type": "code",
   "execution_count": 146,
   "metadata": {
    "scrolled": false
   },
   "outputs": [
    {
     "data": {
      "image/png": "[encoded data removed]",
      "text/plain": [
       "<Figure size 720x288 with 4 Axes>"
      ]
     },
     "metadata": {
      "needs_background": "light"
     },
     "output_type": "display_data"
    }
   ],
   "source": [
    "show_confusion_matrix(dt_clf)"
   ]
  },
  {
   "cell_type": "markdown",
   "metadata": {},
   "source": [
    "#  Randomized Search on Decision Tree"
   ]
  },
  {
   "cell_type": "code",
   "execution_count": 147,
   "metadata": {
    "collapsed": true
   },
   "outputs": [
    {
     "name": "stdout",
     "output_type": "stream",
     "text": [
      "Fitting 4 folds for each of 50 candidates, totalling 200 fits\n",
      "[CV] min_samples_split=30, min_samples_leaf=6, max_depth=49, criterion=gini, class_weight={1: 0.67, 0: 0.33} \n"
     ]
    },
    {
     "name": "stderr",
     "output_type": "stream",
     "text": [
      "[Parallel(n_jobs=1)]: Using backend SequentialBackend with 1 concurrent workers.\n"
     ]
    },
    {
     "name": "stdout",
     "output_type": "stream",
     "text": [
      "[CV]  min_samples_split=30, min_samples_leaf=6, max_depth=49, criterion=gini, class_weight={1: 0.67, 0: 0.33}, total=   3.3s\n",
      "[CV] min_samples_split=30, min_samples_leaf=6, max_depth=49, criterion=gini, class_weight={1: 0.67, 0: 0.33} \n"
     ]
    },
    {
     "name": "stderr",
     "output_type": "stream",
     "text": [
      "[Parallel(n_jobs=1)]: Done   1 out of   1 | elapsed:    3.3s remaining:    0.0s\n"
     ]
    },
    {
     "name": "stdout",
     "output_type": "stream",
     "text": [
      "[CV]  min_samples_split=30, min_samples_leaf=6, max_depth=49, criterion=gini, class_weight={1: 0.67, 0: 0.33}, total=   3.3s\n",
      "[CV] min_samples_split=30, min_samples_leaf=6, max_depth=49, criterion=gini, class_weight={1: 0.67, 0: 0.33} \n",
      "[CV]  min_samples_split=30, min_samples_leaf=6, max_depth=49, criterion=gini, class_weight={1: 0.67, 0: 0.33}, total=   3.3s\n",
      "[CV] min_samples_split=30, min_samples_leaf=6, max_depth=49, criterion=gini, class_weight={1: 0.67, 0: 0.33} \n",
      "[CV]  min_samples_split=30, min_samples_leaf=6, max_depth=49, criterion=gini, class_weight={1: 0.67, 0: 0.33}, total=   3.5s\n",
      "[CV] min_samples_split=20, min_samples_leaf=31, max_depth=21, criterion=gini, class_weight=balanced \n",
      "[CV]  min_samples_split=20, min_samples_leaf=31, max_depth=21, criterion=gini, class_weight=balanced, total=   1.6s\n",
      "[CV] min_samples_split=20, min_samples_leaf=31, max_depth=21, criterion=gini, class_weight=balanced \n",
      "[CV]  min_samples_split=20, min_samples_leaf=31, max_depth=21, criterion=gini, class_weight=balanced, total=   2.0s\n",
      "[CV] min_samples_split=20, min_samples_leaf=31, max_depth=21, criterion=gini, class_weight=balanced \n",
      "[CV]  min_samples_split=20, min_samples_leaf=31, max_depth=21, criterion=gini, class_weight=balanced, total=   1.9s\n",
      "[CV] min_samples_split=20, min_samples_leaf=31, max_depth=21, criterion=gini, class_weight=balanced \n",
      "[CV]  min_samples_split=20, min_samples_leaf=31, max_depth=21, criterion=gini, class_weight=balanced, total=   1.7s\n",
      "[CV] min_samples_split=10, min_samples_leaf=39, max_depth=20, criterion=entropy, class_weight={1: 0.8, 0: 0.2} \n",
      "[CV]  min_samples_split=10, min_samples_leaf=39, max_depth=20, criterion=entropy, class_weight={1: 0.8, 0: 0.2}, total=   1.5s\n",
      "[CV] min_samples_split=10, min_samples_leaf=39, max_depth=20, criterion=entropy, class_weight={1: 0.8, 0: 0.2} \n",
      "[CV]  min_samples_split=10, min_samples_leaf=39, max_depth=20, criterion=entropy, class_weight={1: 0.8, 0: 0.2}, total=   1.4s\n",
      "[CV] min_samples_split=10, min_samples_leaf=39, max_depth=20, criterion=entropy, class_weight={1: 0.8, 0: 0.2} \n",
      "[CV]  min_samples_split=10, min_samples_leaf=39, max_depth=20, criterion=entropy, class_weight={1: 0.8, 0: 0.2}, total=   1.5s\n",
      "[CV] min_samples_split=10, min_samples_leaf=39, max_depth=20, criterion=entropy, class_weight={1: 0.8, 0: 0.2} \n",
      "[CV]  min_samples_split=10, min_samples_leaf=39, max_depth=20, criterion=entropy, class_weight={1: 0.8, 0: 0.2}, total=   1.5s\n",
      "[CV] min_samples_split=50, min_samples_leaf=33, max_depth=6, criterion=entropy, class_weight=balanced \n",
      "[CV]  min_samples_split=50, min_samples_leaf=33, max_depth=6, criterion=entropy, class_weight=balanced, total=   0.4s\n",
      "[CV] min_samples_split=50, min_samples_leaf=33, max_depth=6, criterion=entropy, class_weight=balanced \n",
      "[CV]  min_samples_split=50, min_samples_leaf=33, max_depth=6, criterion=entropy, class_weight=balanced, total=   0.4s\n",
      "[CV] min_samples_split=50, min_samples_leaf=33, max_depth=6, criterion=entropy, class_weight=balanced \n",
      "[CV]  min_samples_split=50, min_samples_leaf=33, max_depth=6, criterion=entropy, class_weight=balanced, total=   0.3s\n",
      "[CV] min_samples_split=50, min_samples_leaf=33, max_depth=6, criterion=entropy, class_weight=balanced \n",
      "[CV]  min_samples_split=50, min_samples_leaf=33, max_depth=6, criterion=entropy, class_weight=balanced, total=   0.4s\n",
      "[CV] min_samples_split=20, min_samples_leaf=45, max_depth=13, criterion=entropy, class_weight=balanced \n",
      "[CV]  min_samples_split=20, min_samples_leaf=45, max_depth=13, criterion=entropy, class_weight=balanced, total=   0.8s\n",
      "[CV] min_samples_split=20, min_samples_leaf=45, max_depth=13, criterion=entropy, class_weight=balanced \n",
      "[CV]  min_samples_split=20, min_samples_leaf=45, max_depth=13, criterion=entropy, class_weight=balanced, total=   0.9s\n",
      "[CV] min_samples_split=20, min_samples_leaf=45, max_depth=13, criterion=entropy, class_weight=balanced \n",
      "[CV]  min_samples_split=20, min_samples_leaf=45, max_depth=13, criterion=entropy, class_weight=balanced, total=   0.9s\n",
      "[CV] min_samples_split=20, min_samples_leaf=45, max_depth=13, criterion=entropy, class_weight=balanced \n",
      "[CV]  min_samples_split=20, min_samples_leaf=45, max_depth=13, criterion=entropy, class_weight=balanced, total=   0.7s\n",
      "[CV] min_samples_split=40, min_samples_leaf=12, max_depth=42, criterion=entropy, class_weight={1: 0.8, 0: 0.2} \n",
      "[CV]  min_samples_split=40, min_samples_leaf=12, max_depth=42, criterion=entropy, class_weight={1: 0.8, 0: 0.2}, total=   3.7s\n",
      "[CV] min_samples_split=40, min_samples_leaf=12, max_depth=42, criterion=entropy, class_weight={1: 0.8, 0: 0.2} \n",
      "[CV]  min_samples_split=40, min_samples_leaf=12, max_depth=42, criterion=entropy, class_weight={1: 0.8, 0: 0.2}, total=   3.6s\n",
      "[CV] min_samples_split=40, min_samples_leaf=12, max_depth=42, criterion=entropy, class_weight={1: 0.8, 0: 0.2} \n",
      "[CV]  min_samples_split=40, min_samples_leaf=12, max_depth=42, criterion=entropy, class_weight={1: 0.8, 0: 0.2}, total=   3.9s\n",
      "[CV] min_samples_split=40, min_samples_leaf=12, max_depth=42, criterion=entropy, class_weight={1: 0.8, 0: 0.2} \n",
      "[CV]  min_samples_split=40, min_samples_leaf=12, max_depth=42, criterion=entropy, class_weight={1: 0.8, 0: 0.2}, total=   3.8s\n",
      "[CV] min_samples_split=30, min_samples_leaf=37, max_depth=13, criterion=gini, class_weight={1: 0.8, 0: 0.2} \n",
      "[CV]  min_samples_split=30, min_samples_leaf=37, max_depth=13, criterion=gini, class_weight={1: 0.8, 0: 0.2}, total=   1.1s\n",
      "[CV] min_samples_split=30, min_samples_leaf=37, max_depth=13, criterion=gini, class_weight={1: 0.8, 0: 0.2} \n",
      "[CV]  min_samples_split=30, min_samples_leaf=37, max_depth=13, criterion=gini, class_weight={1: 0.8, 0: 0.2}, total=   0.9s\n",
      "[CV] min_samples_split=30, min_samples_leaf=37, max_depth=13, criterion=gini, class_weight={1: 0.8, 0: 0.2} \n",
      "[CV]  min_samples_split=30, min_samples_leaf=37, max_depth=13, criterion=gini, class_weight={1: 0.8, 0: 0.2}, total=   0.8s\n",
      "[CV] min_samples_split=30, min_samples_leaf=37, max_depth=13, criterion=gini, class_weight={1: 0.8, 0: 0.2} \n",
      "[CV]  min_samples_split=30, min_samples_leaf=37, max_depth=13, criterion=gini, class_weight={1: 0.8, 0: 0.2}, total=   0.6s\n",
      "[CV] min_samples_split=40, min_samples_leaf=26, max_depth=22, criterion=entropy, class_weight={1: 0.67, 0: 0.33} \n",
      "[CV]  min_samples_split=40, min_samples_leaf=26, max_depth=22, criterion=entropy, class_weight={1: 0.67, 0: 0.33}, total=   1.3s\n",
      "[CV] min_samples_split=40, min_samples_leaf=26, max_depth=22, criterion=entropy, class_weight={1: 0.67, 0: 0.33} \n",
      "[CV]  min_samples_split=40, min_samples_leaf=26, max_depth=22, criterion=entropy, class_weight={1: 0.67, 0: 0.33}, total=   1.6s\n",
      "[CV] min_samples_split=40, min_samples_leaf=26, max_depth=22, criterion=entropy, class_weight={1: 0.67, 0: 0.33} \n",
      "[CV]  min_samples_split=40, min_samples_leaf=26, max_depth=22, criterion=entropy, class_weight={1: 0.67, 0: 0.33}, total=   1.5s\n",
      "[CV] min_samples_split=40, min_samples_leaf=26, max_depth=22, criterion=entropy, class_weight={1: 0.67, 0: 0.33} \n",
      "[CV]  min_samples_split=40, min_samples_leaf=26, max_depth=22, criterion=entropy, class_weight={1: 0.67, 0: 0.33}, total=   1.6s\n",
      "[CV] min_samples_split=20, min_samples_leaf=13, max_depth=43, criterion=gini, class_weight={1: 0.8, 0: 0.2} \n",
      "[CV]  min_samples_split=20, min_samples_leaf=13, max_depth=43, criterion=gini, class_weight={1: 0.8, 0: 0.2}, total=   2.6s\n",
      "[CV] min_samples_split=20, min_samples_leaf=13, max_depth=43, criterion=gini, class_weight={1: 0.8, 0: 0.2} \n",
      "[CV]  min_samples_split=20, min_samples_leaf=13, max_depth=43, criterion=gini, class_weight={1: 0.8, 0: 0.2}, total=   2.5s\n",
      "[CV] min_samples_split=20, min_samples_leaf=13, max_depth=43, criterion=gini, class_weight={1: 0.8, 0: 0.2} \n",
      "[CV]  min_samples_split=20, min_samples_leaf=13, max_depth=43, criterion=gini, class_weight={1: 0.8, 0: 0.2}, total=   2.5s\n",
      "[CV] min_samples_split=20, min_samples_leaf=13, max_depth=43, criterion=gini, class_weight={1: 0.8, 0: 0.2} \n",
      "[CV]  min_samples_split=20, min_samples_leaf=13, max_depth=43, criterion=gini, class_weight={1: 0.8, 0: 0.2}, total=   2.6s\n",
      "[CV] min_samples_split=30, min_samples_leaf=28, max_depth=42, criterion=entropy, class_weight={1: 0.8, 0: 0.2} \n",
      "[CV]  min_samples_split=30, min_samples_leaf=28, max_depth=42, criterion=entropy, class_weight={1: 0.8, 0: 0.2}, total=   2.5s\n",
      "[CV] min_samples_split=30, min_samples_leaf=28, max_depth=42, criterion=entropy, class_weight={1: 0.8, 0: 0.2} \n"
     ]
    },
    {
     "name": "stdout",
     "output_type": "stream",
     "text": [
      "[CV]  min_samples_split=30, min_samples_leaf=28, max_depth=42, criterion=entropy, class_weight={1: 0.8, 0: 0.2}, total=   2.4s\n",
      "[CV] min_samples_split=30, min_samples_leaf=28, max_depth=42, criterion=entropy, class_weight={1: 0.8, 0: 0.2} \n",
      "[CV]  min_samples_split=30, min_samples_leaf=28, max_depth=42, criterion=entropy, class_weight={1: 0.8, 0: 0.2}, total=   2.7s\n",
      "[CV] min_samples_split=30, min_samples_leaf=28, max_depth=42, criterion=entropy, class_weight={1: 0.8, 0: 0.2} \n",
      "[CV]  min_samples_split=30, min_samples_leaf=28, max_depth=42, criterion=entropy, class_weight={1: 0.8, 0: 0.2}, total=   3.7s\n",
      "[CV] min_samples_split=50, min_samples_leaf=26, max_depth=46, criterion=gini, class_weight={1: 0.75, 0: 0.25} \n",
      "[CV]  min_samples_split=50, min_samples_leaf=26, max_depth=46, criterion=gini, class_weight={1: 0.75, 0: 0.25}, total=   2.9s\n",
      "[CV] min_samples_split=50, min_samples_leaf=26, max_depth=46, criterion=gini, class_weight={1: 0.75, 0: 0.25} \n",
      "[CV]  min_samples_split=50, min_samples_leaf=26, max_depth=46, criterion=gini, class_weight={1: 0.75, 0: 0.25}, total=   2.2s\n",
      "[CV] min_samples_split=50, min_samples_leaf=26, max_depth=46, criterion=gini, class_weight={1: 0.75, 0: 0.25} \n",
      "[CV]  min_samples_split=50, min_samples_leaf=26, max_depth=46, criterion=gini, class_weight={1: 0.75, 0: 0.25}, total=   2.2s\n",
      "[CV] min_samples_split=50, min_samples_leaf=26, max_depth=46, criterion=gini, class_weight={1: 0.75, 0: 0.25} \n",
      "[CV]  min_samples_split=50, min_samples_leaf=26, max_depth=46, criterion=gini, class_weight={1: 0.75, 0: 0.25}, total=   2.3s\n",
      "[CV] min_samples_split=20, min_samples_leaf=44, max_depth=18, criterion=entropy, class_weight={1: 0.8, 0: 0.2} \n",
      "[CV]  min_samples_split=20, min_samples_leaf=44, max_depth=18, criterion=entropy, class_weight={1: 0.8, 0: 0.2}, total=   0.9s\n",
      "[CV] min_samples_split=20, min_samples_leaf=44, max_depth=18, criterion=entropy, class_weight={1: 0.8, 0: 0.2} \n",
      "[CV]  min_samples_split=20, min_samples_leaf=44, max_depth=18, criterion=entropy, class_weight={1: 0.8, 0: 0.2}, total=   1.2s\n",
      "[CV] min_samples_split=20, min_samples_leaf=44, max_depth=18, criterion=entropy, class_weight={1: 0.8, 0: 0.2} \n",
      "[CV]  min_samples_split=20, min_samples_leaf=44, max_depth=18, criterion=entropy, class_weight={1: 0.8, 0: 0.2}, total=   1.2s\n",
      "[CV] min_samples_split=20, min_samples_leaf=44, max_depth=18, criterion=entropy, class_weight={1: 0.8, 0: 0.2} \n",
      "[CV]  min_samples_split=20, min_samples_leaf=44, max_depth=18, criterion=entropy, class_weight={1: 0.8, 0: 0.2}, total=   1.0s\n",
      "[CV] min_samples_split=20, min_samples_leaf=13, max_depth=52, criterion=gini, class_weight={1: 0.75, 0: 0.25} \n",
      "[CV]  min_samples_split=20, min_samples_leaf=13, max_depth=52, criterion=gini, class_weight={1: 0.75, 0: 0.25}, total=   2.6s\n",
      "[CV] min_samples_split=20, min_samples_leaf=13, max_depth=52, criterion=gini, class_weight={1: 0.75, 0: 0.25} \n",
      "[CV]  min_samples_split=20, min_samples_leaf=13, max_depth=52, criterion=gini, class_weight={1: 0.75, 0: 0.25}, total=   2.5s\n",
      "[CV] min_samples_split=20, min_samples_leaf=13, max_depth=52, criterion=gini, class_weight={1: 0.75, 0: 0.25} \n",
      "[CV]  min_samples_split=20, min_samples_leaf=13, max_depth=52, criterion=gini, class_weight={1: 0.75, 0: 0.25}, total=   2.4s\n",
      "[CV] min_samples_split=20, min_samples_leaf=13, max_depth=52, criterion=gini, class_weight={1: 0.75, 0: 0.25} \n",
      "[CV]  min_samples_split=20, min_samples_leaf=13, max_depth=52, criterion=gini, class_weight={1: 0.75, 0: 0.25}, total=   2.5s\n",
      "[CV] min_samples_split=20, min_samples_leaf=49, max_depth=52, criterion=gini, class_weight=balanced \n",
      "[CV]  min_samples_split=20, min_samples_leaf=49, max_depth=52, criterion=gini, class_weight=balanced, total=   2.0s\n",
      "[CV] min_samples_split=20, min_samples_leaf=49, max_depth=52, criterion=gini, class_weight=balanced \n",
      "[CV]  min_samples_split=20, min_samples_leaf=49, max_depth=52, criterion=gini, class_weight=balanced, total=   1.9s\n",
      "[CV] min_samples_split=20, min_samples_leaf=49, max_depth=52, criterion=gini, class_weight=balanced \n",
      "[CV]  min_samples_split=20, min_samples_leaf=49, max_depth=52, criterion=gini, class_weight=balanced, total=   1.9s\n",
      "[CV] min_samples_split=20, min_samples_leaf=49, max_depth=52, criterion=gini, class_weight=balanced \n",
      "[CV]  min_samples_split=20, min_samples_leaf=49, max_depth=52, criterion=gini, class_weight=balanced, total=   1.9s\n",
      "[CV] min_samples_split=50, min_samples_leaf=37, max_depth=37, criterion=gini, class_weight={1: 0.67, 0: 0.33} \n",
      "[CV]  min_samples_split=50, min_samples_leaf=37, max_depth=37, criterion=gini, class_weight={1: 0.67, 0: 0.33}, total=   2.2s\n",
      "[CV] min_samples_split=50, min_samples_leaf=37, max_depth=37, criterion=gini, class_weight={1: 0.67, 0: 0.33} \n",
      "[CV]  min_samples_split=50, min_samples_leaf=37, max_depth=37, criterion=gini, class_weight={1: 0.67, 0: 0.33}, total=   2.1s\n",
      "[CV] min_samples_split=50, min_samples_leaf=37, max_depth=37, criterion=gini, class_weight={1: 0.67, 0: 0.33} \n",
      "[CV]  min_samples_split=50, min_samples_leaf=37, max_depth=37, criterion=gini, class_weight={1: 0.67, 0: 0.33}, total=   2.0s\n",
      "[CV] min_samples_split=50, min_samples_leaf=37, max_depth=37, criterion=gini, class_weight={1: 0.67, 0: 0.33} \n",
      "[CV]  min_samples_split=50, min_samples_leaf=37, max_depth=37, criterion=gini, class_weight={1: 0.67, 0: 0.33}, total=   2.3s\n",
      "[CV] min_samples_split=40, min_samples_leaf=15, max_depth=13, criterion=entropy, class_weight=balanced \n",
      "[CV]  min_samples_split=40, min_samples_leaf=15, max_depth=13, criterion=entropy, class_weight=balanced, total=   0.6s\n",
      "[CV] min_samples_split=40, min_samples_leaf=15, max_depth=13, criterion=entropy, class_weight=balanced \n",
      "[CV]  min_samples_split=40, min_samples_leaf=15, max_depth=13, criterion=entropy, class_weight=balanced, total=   0.7s\n",
      "[CV] min_samples_split=40, min_samples_leaf=15, max_depth=13, criterion=entropy, class_weight=balanced \n",
      "[CV]  min_samples_split=40, min_samples_leaf=15, max_depth=13, criterion=entropy, class_weight=balanced, total=   0.7s\n",
      "[CV] min_samples_split=40, min_samples_leaf=15, max_depth=13, criterion=entropy, class_weight=balanced \n",
      "[CV]  min_samples_split=40, min_samples_leaf=15, max_depth=13, criterion=entropy, class_weight=balanced, total=   0.6s\n",
      "[CV] min_samples_split=30, min_samples_leaf=39, max_depth=36, criterion=entropy, class_weight={1: 0.67, 0: 0.33} \n",
      "[CV]  min_samples_split=30, min_samples_leaf=39, max_depth=36, criterion=entropy, class_weight={1: 0.67, 0: 0.33}, total=   2.1s\n",
      "[CV] min_samples_split=30, min_samples_leaf=39, max_depth=36, criterion=entropy, class_weight={1: 0.67, 0: 0.33} \n",
      "[CV]  min_samples_split=30, min_samples_leaf=39, max_depth=36, criterion=entropy, class_weight={1: 0.67, 0: 0.33}, total=   2.3s\n",
      "[CV] min_samples_split=30, min_samples_leaf=39, max_depth=36, criterion=entropy, class_weight={1: 0.67, 0: 0.33} \n",
      "[CV]  min_samples_split=30, min_samples_leaf=39, max_depth=36, criterion=entropy, class_weight={1: 0.67, 0: 0.33}, total=   2.3s\n",
      "[CV] min_samples_split=30, min_samples_leaf=39, max_depth=36, criterion=entropy, class_weight={1: 0.67, 0: 0.33} \n",
      "[CV]  min_samples_split=30, min_samples_leaf=39, max_depth=36, criterion=entropy, class_weight={1: 0.67, 0: 0.33}, total=   2.3s\n",
      "[CV] min_samples_split=30, min_samples_leaf=40, max_depth=19, criterion=entropy, class_weight=balanced \n",
      "[CV]  min_samples_split=30, min_samples_leaf=40, max_depth=19, criterion=entropy, class_weight=balanced, total=   1.1s\n",
      "[CV] min_samples_split=30, min_samples_leaf=40, max_depth=19, criterion=entropy, class_weight=balanced \n",
      "[CV]  min_samples_split=30, min_samples_leaf=40, max_depth=19, criterion=entropy, class_weight=balanced, total=   1.2s\n",
      "[CV] min_samples_split=30, min_samples_leaf=40, max_depth=19, criterion=entropy, class_weight=balanced \n",
      "[CV]  min_samples_split=30, min_samples_leaf=40, max_depth=19, criterion=entropy, class_weight=balanced, total=   1.3s\n",
      "[CV] min_samples_split=30, min_samples_leaf=40, max_depth=19, criterion=entropy, class_weight=balanced \n",
      "[CV]  min_samples_split=30, min_samples_leaf=40, max_depth=19, criterion=entropy, class_weight=balanced, total=   1.2s\n",
      "[CV] min_samples_split=20, min_samples_leaf=43, max_depth=11, criterion=entropy, class_weight=balanced \n",
      "[CV]  min_samples_split=20, min_samples_leaf=43, max_depth=11, criterion=entropy, class_weight=balanced, total=   0.5s\n",
      "[CV] min_samples_split=20, min_samples_leaf=43, max_depth=11, criterion=entropy, class_weight=balanced \n"
     ]
    },
    {
     "name": "stdout",
     "output_type": "stream",
     "text": [
      "[CV]  min_samples_split=20, min_samples_leaf=43, max_depth=11, criterion=entropy, class_weight=balanced, total=   0.6s\n",
      "[CV] min_samples_split=20, min_samples_leaf=43, max_depth=11, criterion=entropy, class_weight=balanced \n",
      "[CV]  min_samples_split=20, min_samples_leaf=43, max_depth=11, criterion=entropy, class_weight=balanced, total=   0.6s\n",
      "[CV] min_samples_split=20, min_samples_leaf=43, max_depth=11, criterion=entropy, class_weight=balanced \n",
      "[CV]  min_samples_split=20, min_samples_leaf=43, max_depth=11, criterion=entropy, class_weight=balanced, total=   0.5s\n",
      "[CV] min_samples_split=20, min_samples_leaf=24, max_depth=40, criterion=entropy, class_weight=balanced \n",
      "[CV]  min_samples_split=20, min_samples_leaf=24, max_depth=40, criterion=entropy, class_weight=balanced, total=   2.4s\n",
      "[CV] min_samples_split=20, min_samples_leaf=24, max_depth=40, criterion=entropy, class_weight=balanced \n",
      "[CV]  min_samples_split=20, min_samples_leaf=24, max_depth=40, criterion=entropy, class_weight=balanced, total=   2.4s\n",
      "[CV] min_samples_split=20, min_samples_leaf=24, max_depth=40, criterion=entropy, class_weight=balanced \n",
      "[CV]  min_samples_split=20, min_samples_leaf=24, max_depth=40, criterion=entropy, class_weight=balanced, total=   2.4s\n",
      "[CV] min_samples_split=20, min_samples_leaf=24, max_depth=40, criterion=entropy, class_weight=balanced \n",
      "[CV]  min_samples_split=20, min_samples_leaf=24, max_depth=40, criterion=entropy, class_weight=balanced, total=   2.5s\n",
      "[CV] min_samples_split=50, min_samples_leaf=7, max_depth=36, criterion=entropy, class_weight=None \n",
      "[CV]  min_samples_split=50, min_samples_leaf=7, max_depth=36, criterion=entropy, class_weight=None, total=   0.0s\n",
      "[CV] min_samples_split=50, min_samples_leaf=7, max_depth=36, criterion=entropy, class_weight=None \n",
      "[CV]  min_samples_split=50, min_samples_leaf=7, max_depth=36, criterion=entropy, class_weight=None, total=   0.0s\n",
      "[CV] min_samples_split=50, min_samples_leaf=7, max_depth=36, criterion=entropy, class_weight=None \n",
      "[CV]  min_samples_split=50, min_samples_leaf=7, max_depth=36, criterion=entropy, class_weight=None, total=   0.0s\n",
      "[CV] min_samples_split=50, min_samples_leaf=7, max_depth=36, criterion=entropy, class_weight=None \n",
      "[CV]  min_samples_split=50, min_samples_leaf=7, max_depth=36, criterion=entropy, class_weight=None, total=   0.0s\n",
      "[CV] min_samples_split=40, min_samples_leaf=8, max_depth=27, criterion=entropy, class_weight={1: 0.67, 0: 0.33} \n"
     ]
    },
    {
     "name": "stderr",
     "output_type": "stream",
     "text": [
      "/Users/personal/opt/anaconda3/lib/python3.8/site-packages/sklearn/model_selection/_validation.py:548: FitFailedWarning: Estimator fit failed. The score on this train-test partition for these parameters will be set to nan. Details: \n",
      "Traceback (most recent call last):\n",
      "  File \"/Users/personal/opt/anaconda3/lib/python3.8/site-packages/sklearn/model_selection/_validation.py\", line 531, in _fit_and_score\n",
      "    estimator.fit(X_train, y_train, **fit_params)\n",
      "  File \"/Users/personal/opt/anaconda3/lib/python3.8/site-packages/sklearn/tree/_classes.py\", line 890, in fit\n",
      "    super().fit(\n",
      "  File \"/Users/personal/opt/anaconda3/lib/python3.8/site-packages/sklearn/tree/_classes.py\", line 199, in fit\n",
      "    expanded_class_weight = compute_sample_weight(\n",
      "  File \"/Users/personal/opt/anaconda3/lib/python3.8/site-packages/sklearn/utils/validation.py\", line 73, in inner_f\n",
      "    return f(**kwargs)\n",
      "  File \"/Users/personal/opt/anaconda3/lib/python3.8/site-packages/sklearn/utils/class_weight.py\", line 122, in compute_sample_weight\n",
      "    raise ValueError('The only valid preset for class_weight is '\n",
      "ValueError: The only valid preset for class_weight is \"balanced\". Given \"None\".\n",
      "\n",
      "  warnings.warn(\"Estimator fit failed. The score on this train-test\"\n",
      "/Users/personal/opt/anaconda3/lib/python3.8/site-packages/sklearn/model_selection/_validation.py:548: FitFailedWarning: Estimator fit failed. The score on this train-test partition for these parameters will be set to nan. Details: \n",
      "Traceback (most recent call last):\n",
      "  File \"/Users/personal/opt/anaconda3/lib/python3.8/site-packages/sklearn/model_selection/_validation.py\", line 531, in _fit_and_score\n",
      "    estimator.fit(X_train, y_train, **fit_params)\n",
      "  File \"/Users/personal/opt/anaconda3/lib/python3.8/site-packages/sklearn/tree/_classes.py\", line 890, in fit\n",
      "    super().fit(\n",
      "  File \"/Users/personal/opt/anaconda3/lib/python3.8/site-packages/sklearn/tree/_classes.py\", line 199, in fit\n",
      "    expanded_class_weight = compute_sample_weight(\n",
      "  File \"/Users/personal/opt/anaconda3/lib/python3.8/site-packages/sklearn/utils/validation.py\", line 73, in inner_f\n",
      "    return f(**kwargs)\n",
      "  File \"/Users/personal/opt/anaconda3/lib/python3.8/site-packages/sklearn/utils/class_weight.py\", line 122, in compute_sample_weight\n",
      "    raise ValueError('The only valid preset for class_weight is '\n",
      "ValueError: The only valid preset for class_weight is \"balanced\". Given \"None\".\n",
      "\n",
      "  warnings.warn(\"Estimator fit failed. The score on this train-test\"\n",
      "/Users/personal/opt/anaconda3/lib/python3.8/site-packages/sklearn/model_selection/_validation.py:548: FitFailedWarning: Estimator fit failed. The score on this train-test partition for these parameters will be set to nan. Details: \n",
      "Traceback (most recent call last):\n",
      "  File \"/Users/personal/opt/anaconda3/lib/python3.8/site-packages/sklearn/model_selection/_validation.py\", line 531, in _fit_and_score\n",
      "    estimator.fit(X_train, y_train, **fit_params)\n",
      "  File \"/Users/personal/opt/anaconda3/lib/python3.8/site-packages/sklearn/tree/_classes.py\", line 890, in fit\n",
      "    super().fit(\n",
      "  File \"/Users/personal/opt/anaconda3/lib/python3.8/site-packages/sklearn/tree/_classes.py\", line 199, in fit\n",
      "    expanded_class_weight = compute_sample_weight(\n",
      "  File \"/Users/personal/opt/anaconda3/lib/python3.8/site-packages/sklearn/utils/validation.py\", line 73, in inner_f\n",
      "    return f(**kwargs)\n",
      "  File \"/Users/personal/opt/anaconda3/lib/python3.8/site-packages/sklearn/utils/class_weight.py\", line 122, in compute_sample_weight\n",
      "    raise ValueError('The only valid preset for class_weight is '\n",
      "ValueError: The only valid preset for class_weight is \"balanced\". Given \"None\".\n",
      "\n",
      "  warnings.warn(\"Estimator fit failed. The score on this train-test\"\n",
      "/Users/personal/opt/anaconda3/lib/python3.8/site-packages/sklearn/model_selection/_validation.py:548: FitFailedWarning: Estimator fit failed. The score on this train-test partition for these parameters will be set to nan. Details: \n",
      "Traceback (most recent call last):\n",
      "  File \"/Users/personal/opt/anaconda3/lib/python3.8/site-packages/sklearn/model_selection/_validation.py\", line 531, in _fit_and_score\n",
      "    estimator.fit(X_train, y_train, **fit_params)\n",
      "  File \"/Users/personal/opt/anaconda3/lib/python3.8/site-packages/sklearn/tree/_classes.py\", line 890, in fit\n",
      "    super().fit(\n",
      "  File \"/Users/personal/opt/anaconda3/lib/python3.8/site-packages/sklearn/tree/_classes.py\", line 199, in fit\n",
      "    expanded_class_weight = compute_sample_weight(\n",
      "  File \"/Users/personal/opt/anaconda3/lib/python3.8/site-packages/sklearn/utils/validation.py\", line 73, in inner_f\n",
      "    return f(**kwargs)\n",
      "  File \"/Users/personal/opt/anaconda3/lib/python3.8/site-packages/sklearn/utils/class_weight.py\", line 122, in compute_sample_weight\n",
      "    raise ValueError('The only valid preset for class_weight is '\n",
      "ValueError: The only valid preset for class_weight is \"balanced\". Given \"None\".\n",
      "\n",
      "  warnings.warn(\"Estimator fit failed. The score on this train-test\"\n"
     ]
    },
    {
     "name": "stdout",
     "output_type": "stream",
     "text": [
      "[CV]  min_samples_split=40, min_samples_leaf=8, max_depth=27, criterion=entropy, class_weight={1: 0.67, 0: 0.33}, total=   1.6s\n",
      "[CV] min_samples_split=40, min_samples_leaf=8, max_depth=27, criterion=entropy, class_weight={1: 0.67, 0: 0.33} \n",
      "[CV]  min_samples_split=40, min_samples_leaf=8, max_depth=27, criterion=entropy, class_weight={1: 0.67, 0: 0.33}, total=   1.9s\n",
      "[CV] min_samples_split=40, min_samples_leaf=8, max_depth=27, criterion=entropy, class_weight={1: 0.67, 0: 0.33} \n",
      "[CV]  min_samples_split=40, min_samples_leaf=8, max_depth=27, criterion=entropy, class_weight={1: 0.67, 0: 0.33}, total=   2.0s\n",
      "[CV] min_samples_split=40, min_samples_leaf=8, max_depth=27, criterion=entropy, class_weight={1: 0.67, 0: 0.33} \n",
      "[CV]  min_samples_split=40, min_samples_leaf=8, max_depth=27, criterion=entropy, class_weight={1: 0.67, 0: 0.33}, total=   2.1s\n",
      "[CV] min_samples_split=20, min_samples_leaf=44, max_depth=27, criterion=entropy, class_weight=None \n",
      "[CV]  min_samples_split=20, min_samples_leaf=44, max_depth=27, criterion=entropy, class_weight=None, total=   0.0s\n",
      "[CV] min_samples_split=20, min_samples_leaf=44, max_depth=27, criterion=entropy, class_weight=None \n",
      "[CV]  min_samples_split=20, min_samples_leaf=44, max_depth=27, criterion=entropy, class_weight=None, total=   0.0s\n",
      "[CV] min_samples_split=20, min_samples_leaf=44, max_depth=27, criterion=entropy, class_weight=None \n",
      "[CV]  min_samples_split=20, min_samples_leaf=44, max_depth=27, criterion=entropy, class_weight=None, total=   0.0s\n",
      "[CV] min_samples_split=20, min_samples_leaf=44, max_depth=27, criterion=entropy, class_weight=None \n",
      "[CV]  min_samples_split=20, min_samples_leaf=44, max_depth=27, criterion=entropy, class_weight=None, total=   0.0s\n",
      "[CV] min_samples_split=20, min_samples_leaf=13, max_depth=57, criterion=entropy, class_weight={1: 0.75, 0: 0.25} \n"
     ]
    },
    {
     "name": "stderr",
     "output_type": "stream",
     "text": [
      "/Users/personal/opt/anaconda3/lib/python3.8/site-packages/sklearn/model_selection/_validation.py:548: FitFailedWarning: Estimator fit failed. The score on this train-test partition for these parameters will be set to nan. Details: \n",
      "Traceback (most recent call last):\n",
      "  File \"/Users/personal/opt/anaconda3/lib/python3.8/site-packages/sklearn/model_selection/_validation.py\", line 531, in _fit_and_score\n",
      "    estimator.fit(X_train, y_train, **fit_params)\n",
      "  File \"/Users/personal/opt/anaconda3/lib/python3.8/site-packages/sklearn/tree/_classes.py\", line 890, in fit\n",
      "    super().fit(\n",
      "  File \"/Users/personal/opt/anaconda3/lib/python3.8/site-packages/sklearn/tree/_classes.py\", line 199, in fit\n",
      "    expanded_class_weight = compute_sample_weight(\n",
      "  File \"/Users/personal/opt/anaconda3/lib/python3.8/site-packages/sklearn/utils/validation.py\", line 73, in inner_f\n",
      "    return f(**kwargs)\n",
      "  File \"/Users/personal/opt/anaconda3/lib/python3.8/site-packages/sklearn/utils/class_weight.py\", line 122, in compute_sample_weight\n",
      "    raise ValueError('The only valid preset for class_weight is '\n",
      "ValueError: The only valid preset for class_weight is \"balanced\". Given \"None\".\n",
      "\n",
      "  warnings.warn(\"Estimator fit failed. The score on this train-test\"\n",
      "/Users/personal/opt/anaconda3/lib/python3.8/site-packages/sklearn/model_selection/_validation.py:548: FitFailedWarning: Estimator fit failed. The score on this train-test partition for these parameters will be set to nan. Details: \n",
      "Traceback (most recent call last):\n",
      "  File \"/Users/personal/opt/anaconda3/lib/python3.8/site-packages/sklearn/model_selection/_validation.py\", line 531, in _fit_and_score\n",
      "    estimator.fit(X_train, y_train, **fit_params)\n",
      "  File \"/Users/personal/opt/anaconda3/lib/python3.8/site-packages/sklearn/tree/_classes.py\", line 890, in fit\n",
      "    super().fit(\n",
      "  File \"/Users/personal/opt/anaconda3/lib/python3.8/site-packages/sklearn/tree/_classes.py\", line 199, in fit\n",
      "    expanded_class_weight = compute_sample_weight(\n",
      "  File \"/Users/personal/opt/anaconda3/lib/python3.8/site-packages/sklearn/utils/validation.py\", line 73, in inner_f\n",
      "    return f(**kwargs)\n",
      "  File \"/Users/personal/opt/anaconda3/lib/python3.8/site-packages/sklearn/utils/class_weight.py\", line 122, in compute_sample_weight\n",
      "    raise ValueError('The only valid preset for class_weight is '\n",
      "ValueError: The only valid preset for class_weight is \"balanced\". Given \"None\".\n",
      "\n",
      "  warnings.warn(\"Estimator fit failed. The score on this train-test\"\n",
      "/Users/personal/opt/anaconda3/lib/python3.8/site-packages/sklearn/model_selection/_validation.py:548: FitFailedWarning: Estimator fit failed. The score on this train-test partition for these parameters will be set to nan. Details: \n",
      "Traceback (most recent call last):\n",
      "  File \"/Users/personal/opt/anaconda3/lib/python3.8/site-packages/sklearn/model_selection/_validation.py\", line 531, in _fit_and_score\n",
      "    estimator.fit(X_train, y_train, **fit_params)\n",
      "  File \"/Users/personal/opt/anaconda3/lib/python3.8/site-packages/sklearn/tree/_classes.py\", line 890, in fit\n",
      "    super().fit(\n",
      "  File \"/Users/personal/opt/anaconda3/lib/python3.8/site-packages/sklearn/tree/_classes.py\", line 199, in fit\n",
      "    expanded_class_weight = compute_sample_weight(\n",
      "  File \"/Users/personal/opt/anaconda3/lib/python3.8/site-packages/sklearn/utils/validation.py\", line 73, in inner_f\n",
      "    return f(**kwargs)\n",
      "  File \"/Users/personal/opt/anaconda3/lib/python3.8/site-packages/sklearn/utils/class_weight.py\", line 122, in compute_sample_weight\n",
      "    raise ValueError('The only valid preset for class_weight is '\n",
      "ValueError: The only valid preset for class_weight is \"balanced\". Given \"None\".\n",
      "\n",
      "  warnings.warn(\"Estimator fit failed. The score on this train-test\"\n",
      "/Users/personal/opt/anaconda3/lib/python3.8/site-packages/sklearn/model_selection/_validation.py:548: FitFailedWarning: Estimator fit failed. The score on this train-test partition for these parameters will be set to nan. Details: \n",
      "Traceback (most recent call last):\n",
      "  File \"/Users/personal/opt/anaconda3/lib/python3.8/site-packages/sklearn/model_selection/_validation.py\", line 531, in _fit_and_score\n",
      "    estimator.fit(X_train, y_train, **fit_params)\n",
      "  File \"/Users/personal/opt/anaconda3/lib/python3.8/site-packages/sklearn/tree/_classes.py\", line 890, in fit\n",
      "    super().fit(\n",
      "  File \"/Users/personal/opt/anaconda3/lib/python3.8/site-packages/sklearn/tree/_classes.py\", line 199, in fit\n",
      "    expanded_class_weight = compute_sample_weight(\n",
      "  File \"/Users/personal/opt/anaconda3/lib/python3.8/site-packages/sklearn/utils/validation.py\", line 73, in inner_f\n",
      "    return f(**kwargs)\n",
      "  File \"/Users/personal/opt/anaconda3/lib/python3.8/site-packages/sklearn/utils/class_weight.py\", line 122, in compute_sample_weight\n",
      "    raise ValueError('The only valid preset for class_weight is '\n",
      "ValueError: The only valid preset for class_weight is \"balanced\". Given \"None\".\n",
      "\n",
      "  warnings.warn(\"Estimator fit failed. The score on this train-test\"\n"
     ]
    },
    {
     "name": "stdout",
     "output_type": "stream",
     "text": [
      "[CV]  min_samples_split=20, min_samples_leaf=13, max_depth=57, criterion=entropy, class_weight={1: 0.75, 0: 0.25}, total=   2.8s\n",
      "[CV] min_samples_split=20, min_samples_leaf=13, max_depth=57, criterion=entropy, class_weight={1: 0.75, 0: 0.25} \n",
      "[CV]  min_samples_split=20, min_samples_leaf=13, max_depth=57, criterion=entropy, class_weight={1: 0.75, 0: 0.25}, total=   2.7s\n",
      "[CV] min_samples_split=20, min_samples_leaf=13, max_depth=57, criterion=entropy, class_weight={1: 0.75, 0: 0.25} \n",
      "[CV]  min_samples_split=20, min_samples_leaf=13, max_depth=57, criterion=entropy, class_weight={1: 0.75, 0: 0.25}, total=   2.7s\n",
      "[CV] min_samples_split=20, min_samples_leaf=13, max_depth=57, criterion=entropy, class_weight={1: 0.75, 0: 0.25} \n",
      "[CV]  min_samples_split=20, min_samples_leaf=13, max_depth=57, criterion=entropy, class_weight={1: 0.75, 0: 0.25}, total=   2.8s\n",
      "[CV] min_samples_split=50, min_samples_leaf=39, max_depth=42, criterion=gini, class_weight={1: 0.75, 0: 0.25} \n",
      "[CV]  min_samples_split=50, min_samples_leaf=39, max_depth=42, criterion=gini, class_weight={1: 0.75, 0: 0.25}, total=   2.2s\n",
      "[CV] min_samples_split=50, min_samples_leaf=39, max_depth=42, criterion=gini, class_weight={1: 0.75, 0: 0.25} \n",
      "[CV]  min_samples_split=50, min_samples_leaf=39, max_depth=42, criterion=gini, class_weight={1: 0.75, 0: 0.25}, total=   2.0s\n",
      "[CV] min_samples_split=50, min_samples_leaf=39, max_depth=42, criterion=gini, class_weight={1: 0.75, 0: 0.25} \n",
      "[CV]  min_samples_split=50, min_samples_leaf=39, max_depth=42, criterion=gini, class_weight={1: 0.75, 0: 0.25}, total=   2.0s\n",
      "[CV] min_samples_split=50, min_samples_leaf=39, max_depth=42, criterion=gini, class_weight={1: 0.75, 0: 0.25} \n",
      "[CV]  min_samples_split=50, min_samples_leaf=39, max_depth=42, criterion=gini, class_weight={1: 0.75, 0: 0.25}, total=   2.1s\n",
      "[CV] min_samples_split=30, min_samples_leaf=32, max_depth=49, criterion=entropy, class_weight=balanced \n",
      "[CV]  min_samples_split=30, min_samples_leaf=32, max_depth=49, criterion=entropy, class_weight=balanced, total=   2.4s\n",
      "[CV] min_samples_split=30, min_samples_leaf=32, max_depth=49, criterion=entropy, class_weight=balanced \n",
      "[CV]  min_samples_split=30, min_samples_leaf=32, max_depth=49, criterion=entropy, class_weight=balanced, total=   2.4s\n",
      "[CV] min_samples_split=30, min_samples_leaf=32, max_depth=49, criterion=entropy, class_weight=balanced \n",
      "[CV]  min_samples_split=30, min_samples_leaf=32, max_depth=49, criterion=entropy, class_weight=balanced, total=   2.3s\n",
      "[CV] min_samples_split=30, min_samples_leaf=32, max_depth=49, criterion=entropy, class_weight=balanced \n",
      "[CV]  min_samples_split=30, min_samples_leaf=32, max_depth=49, criterion=entropy, class_weight=balanced, total=   2.4s\n",
      "[CV] min_samples_split=10, min_samples_leaf=9, max_depth=38, criterion=entropy, class_weight={1: 0.8, 0: 0.2} \n",
      "[CV]  min_samples_split=10, min_samples_leaf=9, max_depth=38, criterion=entropy, class_weight={1: 0.8, 0: 0.2}, total=   2.5s\n",
      "[CV] min_samples_split=10, min_samples_leaf=9, max_depth=38, criterion=entropy, class_weight={1: 0.8, 0: 0.2} \n",
      "[CV]  min_samples_split=10, min_samples_leaf=9, max_depth=38, criterion=entropy, class_weight={1: 0.8, 0: 0.2}, total=   2.7s\n",
      "[CV] min_samples_split=10, min_samples_leaf=9, max_depth=38, criterion=entropy, class_weight={1: 0.8, 0: 0.2} \n",
      "[CV]  min_samples_split=10, min_samples_leaf=9, max_depth=38, criterion=entropy, class_weight={1: 0.8, 0: 0.2}, total=   2.8s\n",
      "[CV] min_samples_split=10, min_samples_leaf=9, max_depth=38, criterion=entropy, class_weight={1: 0.8, 0: 0.2} \n",
      "[CV]  min_samples_split=10, min_samples_leaf=9, max_depth=38, criterion=entropy, class_weight={1: 0.8, 0: 0.2}, total=   2.7s\n",
      "[CV] min_samples_split=30, min_samples_leaf=9, max_depth=33, criterion=gini, class_weight={1: 0.8, 0: 0.2} \n",
      "[CV]  min_samples_split=30, min_samples_leaf=9, max_depth=33, criterion=gini, class_weight={1: 0.8, 0: 0.2}, total=   2.5s\n",
      "[CV] min_samples_split=30, min_samples_leaf=9, max_depth=33, criterion=gini, class_weight={1: 0.8, 0: 0.2} \n",
      "[CV]  min_samples_split=30, min_samples_leaf=9, max_depth=33, criterion=gini, class_weight={1: 0.8, 0: 0.2}, total=   2.4s\n",
      "[CV] min_samples_split=30, min_samples_leaf=9, max_depth=33, criterion=gini, class_weight={1: 0.8, 0: 0.2} \n",
      "[CV]  min_samples_split=30, min_samples_leaf=9, max_depth=33, criterion=gini, class_weight={1: 0.8, 0: 0.2}, total=   2.4s\n",
      "[CV] min_samples_split=30, min_samples_leaf=9, max_depth=33, criterion=gini, class_weight={1: 0.8, 0: 0.2} \n",
      "[CV]  min_samples_split=30, min_samples_leaf=9, max_depth=33, criterion=gini, class_weight={1: 0.8, 0: 0.2}, total=   2.5s\n",
      "[CV] min_samples_split=30, min_samples_leaf=36, max_depth=30, criterion=entropy, class_weight={1: 0.67, 0: 0.33} \n",
      "[CV]  min_samples_split=30, min_samples_leaf=36, max_depth=30, criterion=entropy, class_weight={1: 0.67, 0: 0.33}, total=   1.9s\n",
      "[CV] min_samples_split=30, min_samples_leaf=36, max_depth=30, criterion=entropy, class_weight={1: 0.67, 0: 0.33} \n",
      "[CV]  min_samples_split=30, min_samples_leaf=36, max_depth=30, criterion=entropy, class_weight={1: 0.67, 0: 0.33}, total=   2.1s\n",
      "[CV] min_samples_split=30, min_samples_leaf=36, max_depth=30, criterion=entropy, class_weight={1: 0.67, 0: 0.33} \n",
      "[CV]  min_samples_split=30, min_samples_leaf=36, max_depth=30, criterion=entropy, class_weight={1: 0.67, 0: 0.33}, total=   2.2s\n",
      "[CV] min_samples_split=30, min_samples_leaf=36, max_depth=30, criterion=entropy, class_weight={1: 0.67, 0: 0.33} \n",
      "[CV]  min_samples_split=30, min_samples_leaf=36, max_depth=30, criterion=entropy, class_weight={1: 0.67, 0: 0.33}, total=   2.2s\n",
      "[CV] min_samples_split=40, min_samples_leaf=38, max_depth=25, criterion=entropy, class_weight={1: 0.8, 0: 0.2} \n",
      "[CV]  min_samples_split=40, min_samples_leaf=38, max_depth=25, criterion=entropy, class_weight={1: 0.8, 0: 0.2}, total=   1.6s\n",
      "[CV] min_samples_split=40, min_samples_leaf=38, max_depth=25, criterion=entropy, class_weight={1: 0.8, 0: 0.2} \n",
      "[CV]  min_samples_split=40, min_samples_leaf=38, max_depth=25, criterion=entropy, class_weight={1: 0.8, 0: 0.2}, total=   1.6s\n",
      "[CV] min_samples_split=40, min_samples_leaf=38, max_depth=25, criterion=entropy, class_weight={1: 0.8, 0: 0.2} \n",
      "[CV]  min_samples_split=40, min_samples_leaf=38, max_depth=25, criterion=entropy, class_weight={1: 0.8, 0: 0.2}, total=   1.8s\n",
      "[CV] min_samples_split=40, min_samples_leaf=38, max_depth=25, criterion=entropy, class_weight={1: 0.8, 0: 0.2} \n",
      "[CV]  min_samples_split=40, min_samples_leaf=38, max_depth=25, criterion=entropy, class_weight={1: 0.8, 0: 0.2}, total=   1.8s\n",
      "[CV] min_samples_split=30, min_samples_leaf=26, max_depth=49, criterion=gini, class_weight=None \n",
      "[CV]  min_samples_split=30, min_samples_leaf=26, max_depth=49, criterion=gini, class_weight=None, total=   0.0s\n",
      "[CV] min_samples_split=30, min_samples_leaf=26, max_depth=49, criterion=gini, class_weight=None \n",
      "[CV]  min_samples_split=30, min_samples_leaf=26, max_depth=49, criterion=gini, class_weight=None, total=   0.0s\n",
      "[CV] min_samples_split=30, min_samples_leaf=26, max_depth=49, criterion=gini, class_weight=None \n",
      "[CV]  min_samples_split=30, min_samples_leaf=26, max_depth=49, criterion=gini, class_weight=None, total=   0.0s\n",
      "[CV] min_samples_split=30, min_samples_leaf=26, max_depth=49, criterion=gini, class_weight=None \n",
      "[CV]  min_samples_split=30, min_samples_leaf=26, max_depth=49, criterion=gini, class_weight=None, total=   0.0s\n",
      "[CV] min_samples_split=10, min_samples_leaf=26, max_depth=38, criterion=gini, class_weight=None \n",
      "[CV]  min_samples_split=10, min_samples_leaf=26, max_depth=38, criterion=gini, class_weight=None, total=   0.0s\n",
      "[CV] min_samples_split=10, min_samples_leaf=26, max_depth=38, criterion=gini, class_weight=None \n",
      "[CV]  min_samples_split=10, min_samples_leaf=26, max_depth=38, criterion=gini, class_weight=None, total=   0.0s\n",
      "[CV] min_samples_split=10, min_samples_leaf=26, max_depth=38, criterion=gini, class_weight=None \n",
      "[CV]  min_samples_split=10, min_samples_leaf=26, max_depth=38, criterion=gini, class_weight=None, total=   0.0s\n",
      "[CV] min_samples_split=10, min_samples_leaf=26, max_depth=38, criterion=gini, class_weight=None \n"
     ]
    },
    {
     "name": "stderr",
     "output_type": "stream",
     "text": [
      "/Users/personal/opt/anaconda3/lib/python3.8/site-packages/sklearn/model_selection/_validation.py:548: FitFailedWarning: Estimator fit failed. The score on this train-test partition for these parameters will be set to nan. Details: \n",
      "Traceback (most recent call last):\n",
      "  File \"/Users/personal/opt/anaconda3/lib/python3.8/site-packages/sklearn/model_selection/_validation.py\", line 531, in _fit_and_score\n",
      "    estimator.fit(X_train, y_train, **fit_params)\n",
      "  File \"/Users/personal/opt/anaconda3/lib/python3.8/site-packages/sklearn/tree/_classes.py\", line 890, in fit\n",
      "    super().fit(\n",
      "  File \"/Users/personal/opt/anaconda3/lib/python3.8/site-packages/sklearn/tree/_classes.py\", line 199, in fit\n",
      "    expanded_class_weight = compute_sample_weight(\n",
      "  File \"/Users/personal/opt/anaconda3/lib/python3.8/site-packages/sklearn/utils/validation.py\", line 73, in inner_f\n",
      "    return f(**kwargs)\n",
      "  File \"/Users/personal/opt/anaconda3/lib/python3.8/site-packages/sklearn/utils/class_weight.py\", line 122, in compute_sample_weight\n",
      "    raise ValueError('The only valid preset for class_weight is '\n",
      "ValueError: The only valid preset for class_weight is \"balanced\". Given \"None\".\n",
      "\n",
      "  warnings.warn(\"Estimator fit failed. The score on this train-test\"\n",
      "/Users/personal/opt/anaconda3/lib/python3.8/site-packages/sklearn/model_selection/_validation.py:548: FitFailedWarning: Estimator fit failed. The score on this train-test partition for these parameters will be set to nan. Details: \n",
      "Traceback (most recent call last):\n",
      "  File \"/Users/personal/opt/anaconda3/lib/python3.8/site-packages/sklearn/model_selection/_validation.py\", line 531, in _fit_and_score\n",
      "    estimator.fit(X_train, y_train, **fit_params)\n",
      "  File \"/Users/personal/opt/anaconda3/lib/python3.8/site-packages/sklearn/tree/_classes.py\", line 890, in fit\n",
      "    super().fit(\n",
      "  File \"/Users/personal/opt/anaconda3/lib/python3.8/site-packages/sklearn/tree/_classes.py\", line 199, in fit\n",
      "    expanded_class_weight = compute_sample_weight(\n",
      "  File \"/Users/personal/opt/anaconda3/lib/python3.8/site-packages/sklearn/utils/validation.py\", line 73, in inner_f\n",
      "    return f(**kwargs)\n",
      "  File \"/Users/personal/opt/anaconda3/lib/python3.8/site-packages/sklearn/utils/class_weight.py\", line 122, in compute_sample_weight\n",
      "    raise ValueError('The only valid preset for class_weight is '\n",
      "ValueError: The only valid preset for class_weight is \"balanced\". Given \"None\".\n",
      "\n",
      "  warnings.warn(\"Estimator fit failed. The score on this train-test\"\n",
      "/Users/personal/opt/anaconda3/lib/python3.8/site-packages/sklearn/model_selection/_validation.py:548: FitFailedWarning: Estimator fit failed. The score on this train-test partition for these parameters will be set to nan. Details: \n",
      "Traceback (most recent call last):\n",
      "  File \"/Users/personal/opt/anaconda3/lib/python3.8/site-packages/sklearn/model_selection/_validation.py\", line 531, in _fit_and_score\n",
      "    estimator.fit(X_train, y_train, **fit_params)\n",
      "  File \"/Users/personal/opt/anaconda3/lib/python3.8/site-packages/sklearn/tree/_classes.py\", line 890, in fit\n",
      "    super().fit(\n",
      "  File \"/Users/personal/opt/anaconda3/lib/python3.8/site-packages/sklearn/tree/_classes.py\", line 199, in fit\n",
      "    expanded_class_weight = compute_sample_weight(\n",
      "  File \"/Users/personal/opt/anaconda3/lib/python3.8/site-packages/sklearn/utils/validation.py\", line 73, in inner_f\n",
      "    return f(**kwargs)\n",
      "  File \"/Users/personal/opt/anaconda3/lib/python3.8/site-packages/sklearn/utils/class_weight.py\", line 122, in compute_sample_weight\n",
      "    raise ValueError('The only valid preset for class_weight is '\n",
      "ValueError: The only valid preset for class_weight is \"balanced\". Given \"None\".\n",
      "\n",
      "  warnings.warn(\"Estimator fit failed. The score on this train-test\"\n",
      "/Users/personal/opt/anaconda3/lib/python3.8/site-packages/sklearn/model_selection/_validation.py:548: FitFailedWarning: Estimator fit failed. The score on this train-test partition for these parameters will be set to nan. Details: \n",
      "Traceback (most recent call last):\n",
      "  File \"/Users/personal/opt/anaconda3/lib/python3.8/site-packages/sklearn/model_selection/_validation.py\", line 531, in _fit_and_score\n",
      "    estimator.fit(X_train, y_train, **fit_params)\n",
      "  File \"/Users/personal/opt/anaconda3/lib/python3.8/site-packages/sklearn/tree/_classes.py\", line 890, in fit\n",
      "    super().fit(\n",
      "  File \"/Users/personal/opt/anaconda3/lib/python3.8/site-packages/sklearn/tree/_classes.py\", line 199, in fit\n",
      "    expanded_class_weight = compute_sample_weight(\n",
      "  File \"/Users/personal/opt/anaconda3/lib/python3.8/site-packages/sklearn/utils/validation.py\", line 73, in inner_f\n",
      "    return f(**kwargs)\n",
      "  File \"/Users/personal/opt/anaconda3/lib/python3.8/site-packages/sklearn/utils/class_weight.py\", line 122, in compute_sample_weight\n",
      "    raise ValueError('The only valid preset for class_weight is '\n",
      "ValueError: The only valid preset for class_weight is \"balanced\". Given \"None\".\n",
      "\n",
      "  warnings.warn(\"Estimator fit failed. The score on this train-test\"\n",
      "/Users/personal/opt/anaconda3/lib/python3.8/site-packages/sklearn/model_selection/_validation.py:548: FitFailedWarning: Estimator fit failed. The score on this train-test partition for these parameters will be set to nan. Details: \n",
      "Traceback (most recent call last):\n",
      "  File \"/Users/personal/opt/anaconda3/lib/python3.8/site-packages/sklearn/model_selection/_validation.py\", line 531, in _fit_and_score\n",
      "    estimator.fit(X_train, y_train, **fit_params)\n",
      "  File \"/Users/personal/opt/anaconda3/lib/python3.8/site-packages/sklearn/tree/_classes.py\", line 890, in fit\n",
      "    super().fit(\n",
      "  File \"/Users/personal/opt/anaconda3/lib/python3.8/site-packages/sklearn/tree/_classes.py\", line 199, in fit\n",
      "    expanded_class_weight = compute_sample_weight(\n",
      "  File \"/Users/personal/opt/anaconda3/lib/python3.8/site-packages/sklearn/utils/validation.py\", line 73, in inner_f\n",
      "    return f(**kwargs)\n",
      "  File \"/Users/personal/opt/anaconda3/lib/python3.8/site-packages/sklearn/utils/class_weight.py\", line 122, in compute_sample_weight\n",
      "    raise ValueError('The only valid preset for class_weight is '\n",
      "ValueError: The only valid preset for class_weight is \"balanced\". Given \"None\".\n",
      "\n",
      "  warnings.warn(\"Estimator fit failed. The score on this train-test\"\n",
      "/Users/personal/opt/anaconda3/lib/python3.8/site-packages/sklearn/model_selection/_validation.py:548: FitFailedWarning: Estimator fit failed. The score on this train-test partition for these parameters will be set to nan. Details: \n",
      "Traceback (most recent call last):\n",
      "  File \"/Users/personal/opt/anaconda3/lib/python3.8/site-packages/sklearn/model_selection/_validation.py\", line 531, in _fit_and_score\n",
      "    estimator.fit(X_train, y_train, **fit_params)\n",
      "  File \"/Users/personal/opt/anaconda3/lib/python3.8/site-packages/sklearn/tree/_classes.py\", line 890, in fit\n",
      "    super().fit(\n",
      "  File \"/Users/personal/opt/anaconda3/lib/python3.8/site-packages/sklearn/tree/_classes.py\", line 199, in fit\n",
      "    expanded_class_weight = compute_sample_weight(\n",
      "  File \"/Users/personal/opt/anaconda3/lib/python3.8/site-packages/sklearn/utils/validation.py\", line 73, in inner_f\n",
      "    return f(**kwargs)\n",
      "  File \"/Users/personal/opt/anaconda3/lib/python3.8/site-packages/sklearn/utils/class_weight.py\", line 122, in compute_sample_weight\n",
      "    raise ValueError('The only valid preset for class_weight is '\n",
      "ValueError: The only valid preset for class_weight is \"balanced\". Given \"None\".\n",
      "\n",
      "  warnings.warn(\"Estimator fit failed. The score on this train-test\"\n",
      "/Users/personal/opt/anaconda3/lib/python3.8/site-packages/sklearn/model_selection/_validation.py:548: FitFailedWarning: Estimator fit failed. The score on this train-test partition for these parameters will be set to nan. Details: \n",
      "Traceback (most recent call last):\n",
      "  File \"/Users/personal/opt/anaconda3/lib/python3.8/site-packages/sklearn/model_selection/_validation.py\", line 531, in _fit_and_score\n",
      "    estimator.fit(X_train, y_train, **fit_params)\n",
      "  File \"/Users/personal/opt/anaconda3/lib/python3.8/site-packages/sklearn/tree/_classes.py\", line 890, in fit\n",
      "    super().fit(\n",
      "  File \"/Users/personal/opt/anaconda3/lib/python3.8/site-packages/sklearn/tree/_classes.py\", line 199, in fit\n",
      "    expanded_class_weight = compute_sample_weight(\n",
      "  File \"/Users/personal/opt/anaconda3/lib/python3.8/site-packages/sklearn/utils/validation.py\", line 73, in inner_f\n",
      "    return f(**kwargs)\n",
      "  File \"/Users/personal/opt/anaconda3/lib/python3.8/site-packages/sklearn/utils/class_weight.py\", line 122, in compute_sample_weight\n",
      "    raise ValueError('The only valid preset for class_weight is '\n",
      "ValueError: The only valid preset for class_weight is \"balanced\". Given \"None\".\n",
      "\n",
      "  warnings.warn(\"Estimator fit failed. The score on this train-test\"\n",
      "/Users/personal/opt/anaconda3/lib/python3.8/site-packages/sklearn/model_selection/_validation.py:548: FitFailedWarning: Estimator fit failed. The score on this train-test partition for these parameters will be set to nan. Details: \n",
      "Traceback (most recent call last):\n",
      "  File \"/Users/personal/opt/anaconda3/lib/python3.8/site-packages/sklearn/model_selection/_validation.py\", line 531, in _fit_and_score\n",
      "    estimator.fit(X_train, y_train, **fit_params)\n",
      "  File \"/Users/personal/opt/anaconda3/lib/python3.8/site-packages/sklearn/tree/_classes.py\", line 890, in fit\n",
      "    super().fit(\n",
      "  File \"/Users/personal/opt/anaconda3/lib/python3.8/site-packages/sklearn/tree/_classes.py\", line 199, in fit\n",
      "    expanded_class_weight = compute_sample_weight(\n",
      "  File \"/Users/personal/opt/anaconda3/lib/python3.8/site-packages/sklearn/utils/validation.py\", line 73, in inner_f\n",
      "    return f(**kwargs)\n",
      "  File \"/Users/personal/opt/anaconda3/lib/python3.8/site-packages/sklearn/utils/class_weight.py\", line 122, in compute_sample_weight\n",
      "    raise ValueError('The only valid preset for class_weight is '\n",
      "ValueError: The only valid preset for class_weight is \"balanced\". Given \"None\".\n",
      "\n",
      "  warnings.warn(\"Estimator fit failed. The score on this train-test\"\n"
     ]
    },
    {
     "name": "stdout",
     "output_type": "stream",
     "text": [
      "[CV]  min_samples_split=10, min_samples_leaf=26, max_depth=38, criterion=gini, class_weight=None, total=   0.0s\n",
      "[CV] min_samples_split=10, min_samples_leaf=22, max_depth=36, criterion=entropy, class_weight={1: 0.8, 0: 0.2} \n",
      "[CV]  min_samples_split=10, min_samples_leaf=22, max_depth=36, criterion=entropy, class_weight={1: 0.8, 0: 0.2}, total=   2.3s\n",
      "[CV] min_samples_split=10, min_samples_leaf=22, max_depth=36, criterion=entropy, class_weight={1: 0.8, 0: 0.2} \n",
      "[CV]  min_samples_split=10, min_samples_leaf=22, max_depth=36, criterion=entropy, class_weight={1: 0.8, 0: 0.2}, total=   2.3s\n",
      "[CV] min_samples_split=10, min_samples_leaf=22, max_depth=36, criterion=entropy, class_weight={1: 0.8, 0: 0.2} \n",
      "[CV]  min_samples_split=10, min_samples_leaf=22, max_depth=36, criterion=entropy, class_weight={1: 0.8, 0: 0.2}, total=   2.6s\n",
      "[CV] min_samples_split=10, min_samples_leaf=22, max_depth=36, criterion=entropy, class_weight={1: 0.8, 0: 0.2} \n",
      "[CV]  min_samples_split=10, min_samples_leaf=22, max_depth=36, criterion=entropy, class_weight={1: 0.8, 0: 0.2}, total=   2.5s\n",
      "[CV] min_samples_split=40, min_samples_leaf=43, max_depth=43, criterion=entropy, class_weight=None \n",
      "[CV]  min_samples_split=40, min_samples_leaf=43, max_depth=43, criterion=entropy, class_weight=None, total=   0.0s\n",
      "[CV] min_samples_split=40, min_samples_leaf=43, max_depth=43, criterion=entropy, class_weight=None \n",
      "[CV]  min_samples_split=40, min_samples_leaf=43, max_depth=43, criterion=entropy, class_weight=None, total=   0.0s\n",
      "[CV] min_samples_split=40, min_samples_leaf=43, max_depth=43, criterion=entropy, class_weight=None \n",
      "[CV]  min_samples_split=40, min_samples_leaf=43, max_depth=43, criterion=entropy, class_weight=None, total=   0.0s\n",
      "[CV] min_samples_split=40, min_samples_leaf=43, max_depth=43, criterion=entropy, class_weight=None \n",
      "[CV]  min_samples_split=40, min_samples_leaf=43, max_depth=43, criterion=entropy, class_weight=None, total=   0.0s\n",
      "[CV] min_samples_split=20, min_samples_leaf=27, max_depth=41, criterion=entropy, class_weight={1: 0.75, 0: 0.25} \n"
     ]
    },
    {
     "name": "stderr",
     "output_type": "stream",
     "text": [
      "/Users/personal/opt/anaconda3/lib/python3.8/site-packages/sklearn/model_selection/_validation.py:548: FitFailedWarning: Estimator fit failed. The score on this train-test partition for these parameters will be set to nan. Details: \n",
      "Traceback (most recent call last):\n",
      "  File \"/Users/personal/opt/anaconda3/lib/python3.8/site-packages/sklearn/model_selection/_validation.py\", line 531, in _fit_and_score\n",
      "    estimator.fit(X_train, y_train, **fit_params)\n",
      "  File \"/Users/personal/opt/anaconda3/lib/python3.8/site-packages/sklearn/tree/_classes.py\", line 890, in fit\n",
      "    super().fit(\n",
      "  File \"/Users/personal/opt/anaconda3/lib/python3.8/site-packages/sklearn/tree/_classes.py\", line 199, in fit\n",
      "    expanded_class_weight = compute_sample_weight(\n",
      "  File \"/Users/personal/opt/anaconda3/lib/python3.8/site-packages/sklearn/utils/validation.py\", line 73, in inner_f\n",
      "    return f(**kwargs)\n",
      "  File \"/Users/personal/opt/anaconda3/lib/python3.8/site-packages/sklearn/utils/class_weight.py\", line 122, in compute_sample_weight\n",
      "    raise ValueError('The only valid preset for class_weight is '\n",
      "ValueError: The only valid preset for class_weight is \"balanced\". Given \"None\".\n",
      "\n",
      "  warnings.warn(\"Estimator fit failed. The score on this train-test\"\n",
      "/Users/personal/opt/anaconda3/lib/python3.8/site-packages/sklearn/model_selection/_validation.py:548: FitFailedWarning: Estimator fit failed. The score on this train-test partition for these parameters will be set to nan. Details: \n",
      "Traceback (most recent call last):\n",
      "  File \"/Users/personal/opt/anaconda3/lib/python3.8/site-packages/sklearn/model_selection/_validation.py\", line 531, in _fit_and_score\n",
      "    estimator.fit(X_train, y_train, **fit_params)\n",
      "  File \"/Users/personal/opt/anaconda3/lib/python3.8/site-packages/sklearn/tree/_classes.py\", line 890, in fit\n",
      "    super().fit(\n",
      "  File \"/Users/personal/opt/anaconda3/lib/python3.8/site-packages/sklearn/tree/_classes.py\", line 199, in fit\n",
      "    expanded_class_weight = compute_sample_weight(\n",
      "  File \"/Users/personal/opt/anaconda3/lib/python3.8/site-packages/sklearn/utils/validation.py\", line 73, in inner_f\n",
      "    return f(**kwargs)\n",
      "  File \"/Users/personal/opt/anaconda3/lib/python3.8/site-packages/sklearn/utils/class_weight.py\", line 122, in compute_sample_weight\n",
      "    raise ValueError('The only valid preset for class_weight is '\n",
      "ValueError: The only valid preset for class_weight is \"balanced\". Given \"None\".\n",
      "\n",
      "  warnings.warn(\"Estimator fit failed. The score on this train-test\"\n",
      "/Users/personal/opt/anaconda3/lib/python3.8/site-packages/sklearn/model_selection/_validation.py:548: FitFailedWarning: Estimator fit failed. The score on this train-test partition for these parameters will be set to nan. Details: \n",
      "Traceback (most recent call last):\n",
      "  File \"/Users/personal/opt/anaconda3/lib/python3.8/site-packages/sklearn/model_selection/_validation.py\", line 531, in _fit_and_score\n",
      "    estimator.fit(X_train, y_train, **fit_params)\n",
      "  File \"/Users/personal/opt/anaconda3/lib/python3.8/site-packages/sklearn/tree/_classes.py\", line 890, in fit\n",
      "    super().fit(\n",
      "  File \"/Users/personal/opt/anaconda3/lib/python3.8/site-packages/sklearn/tree/_classes.py\", line 199, in fit\n",
      "    expanded_class_weight = compute_sample_weight(\n",
      "  File \"/Users/personal/opt/anaconda3/lib/python3.8/site-packages/sklearn/utils/validation.py\", line 73, in inner_f\n",
      "    return f(**kwargs)\n",
      "  File \"/Users/personal/opt/anaconda3/lib/python3.8/site-packages/sklearn/utils/class_weight.py\", line 122, in compute_sample_weight\n",
      "    raise ValueError('The only valid preset for class_weight is '\n",
      "ValueError: The only valid preset for class_weight is \"balanced\". Given \"None\".\n",
      "\n",
      "  warnings.warn(\"Estimator fit failed. The score on this train-test\"\n",
      "/Users/personal/opt/anaconda3/lib/python3.8/site-packages/sklearn/model_selection/_validation.py:548: FitFailedWarning: Estimator fit failed. The score on this train-test partition for these parameters will be set to nan. Details: \n",
      "Traceback (most recent call last):\n",
      "  File \"/Users/personal/opt/anaconda3/lib/python3.8/site-packages/sklearn/model_selection/_validation.py\", line 531, in _fit_and_score\n",
      "    estimator.fit(X_train, y_train, **fit_params)\n",
      "  File \"/Users/personal/opt/anaconda3/lib/python3.8/site-packages/sklearn/tree/_classes.py\", line 890, in fit\n",
      "    super().fit(\n",
      "  File \"/Users/personal/opt/anaconda3/lib/python3.8/site-packages/sklearn/tree/_classes.py\", line 199, in fit\n",
      "    expanded_class_weight = compute_sample_weight(\n",
      "  File \"/Users/personal/opt/anaconda3/lib/python3.8/site-packages/sklearn/utils/validation.py\", line 73, in inner_f\n",
      "    return f(**kwargs)\n",
      "  File \"/Users/personal/opt/anaconda3/lib/python3.8/site-packages/sklearn/utils/class_weight.py\", line 122, in compute_sample_weight\n",
      "    raise ValueError('The only valid preset for class_weight is '\n",
      "ValueError: The only valid preset for class_weight is \"balanced\". Given \"None\".\n",
      "\n",
      "  warnings.warn(\"Estimator fit failed. The score on this train-test\"\n"
     ]
    },
    {
     "name": "stdout",
     "output_type": "stream",
     "text": [
      "[CV]  min_samples_split=20, min_samples_leaf=27, max_depth=41, criterion=entropy, class_weight={1: 0.75, 0: 0.25}, total=   2.4s\n",
      "[CV] min_samples_split=20, min_samples_leaf=27, max_depth=41, criterion=entropy, class_weight={1: 0.75, 0: 0.25} \n",
      "[CV]  min_samples_split=20, min_samples_leaf=27, max_depth=41, criterion=entropy, class_weight={1: 0.75, 0: 0.25}, total=   2.3s\n",
      "[CV] min_samples_split=20, min_samples_leaf=27, max_depth=41, criterion=entropy, class_weight={1: 0.75, 0: 0.25} \n",
      "[CV]  min_samples_split=20, min_samples_leaf=27, max_depth=41, criterion=entropy, class_weight={1: 0.75, 0: 0.25}, total=   2.3s\n",
      "[CV] min_samples_split=20, min_samples_leaf=27, max_depth=41, criterion=entropy, class_weight={1: 0.75, 0: 0.25} \n",
      "[CV]  min_samples_split=20, min_samples_leaf=27, max_depth=41, criterion=entropy, class_weight={1: 0.75, 0: 0.25}, total=   2.6s\n",
      "[CV] min_samples_split=40, min_samples_leaf=17, max_depth=38, criterion=entropy, class_weight={1: 0.67, 0: 0.33} \n",
      "[CV]  min_samples_split=40, min_samples_leaf=17, max_depth=38, criterion=entropy, class_weight={1: 0.67, 0: 0.33}, total=   2.4s\n",
      "[CV] min_samples_split=40, min_samples_leaf=17, max_depth=38, criterion=entropy, class_weight={1: 0.67, 0: 0.33} \n",
      "[CV]  min_samples_split=40, min_samples_leaf=17, max_depth=38, criterion=entropy, class_weight={1: 0.67, 0: 0.33}, total=   2.5s\n",
      "[CV] min_samples_split=40, min_samples_leaf=17, max_depth=38, criterion=entropy, class_weight={1: 0.67, 0: 0.33} \n",
      "[CV]  min_samples_split=40, min_samples_leaf=17, max_depth=38, criterion=entropy, class_weight={1: 0.67, 0: 0.33}, total=   2.6s\n",
      "[CV] min_samples_split=40, min_samples_leaf=17, max_depth=38, criterion=entropy, class_weight={1: 0.67, 0: 0.33} \n",
      "[CV]  min_samples_split=40, min_samples_leaf=17, max_depth=38, criterion=entropy, class_weight={1: 0.67, 0: 0.33}, total=   2.6s\n",
      "[CV] min_samples_split=10, min_samples_leaf=25, max_depth=52, criterion=gini, class_weight=balanced \n",
      "[CV]  min_samples_split=10, min_samples_leaf=25, max_depth=52, criterion=gini, class_weight=balanced, total=   2.3s\n",
      "[CV] min_samples_split=10, min_samples_leaf=25, max_depth=52, criterion=gini, class_weight=balanced \n",
      "[CV]  min_samples_split=10, min_samples_leaf=25, max_depth=52, criterion=gini, class_weight=balanced, total=   2.1s\n",
      "[CV] min_samples_split=10, min_samples_leaf=25, max_depth=52, criterion=gini, class_weight=balanced \n",
      "[CV]  min_samples_split=10, min_samples_leaf=25, max_depth=52, criterion=gini, class_weight=balanced, total=   2.2s\n",
      "[CV] min_samples_split=10, min_samples_leaf=25, max_depth=52, criterion=gini, class_weight=balanced \n",
      "[CV]  min_samples_split=10, min_samples_leaf=25, max_depth=52, criterion=gini, class_weight=balanced, total=   2.2s\n",
      "[CV] min_samples_split=50, min_samples_leaf=31, max_depth=17, criterion=entropy, class_weight=balanced \n",
      "[CV]  min_samples_split=50, min_samples_leaf=31, max_depth=17, criterion=entropy, class_weight=balanced, total=   0.9s\n",
      "[CV] min_samples_split=50, min_samples_leaf=31, max_depth=17, criterion=entropy, class_weight=balanced \n",
      "[CV]  min_samples_split=50, min_samples_leaf=31, max_depth=17, criterion=entropy, class_weight=balanced, total=   1.0s\n",
      "[CV] min_samples_split=50, min_samples_leaf=31, max_depth=17, criterion=entropy, class_weight=balanced \n",
      "[CV]  min_samples_split=50, min_samples_leaf=31, max_depth=17, criterion=entropy, class_weight=balanced, total=   1.1s\n",
      "[CV] min_samples_split=50, min_samples_leaf=31, max_depth=17, criterion=entropy, class_weight=balanced \n",
      "[CV]  min_samples_split=50, min_samples_leaf=31, max_depth=17, criterion=entropy, class_weight=balanced, total=   1.0s\n",
      "[CV] min_samples_split=30, min_samples_leaf=48, max_depth=25, criterion=gini, class_weight=None \n",
      "[CV]  min_samples_split=30, min_samples_leaf=48, max_depth=25, criterion=gini, class_weight=None, total=   0.0s\n",
      "[CV] min_samples_split=30, min_samples_leaf=48, max_depth=25, criterion=gini, class_weight=None \n",
      "[CV]  min_samples_split=30, min_samples_leaf=48, max_depth=25, criterion=gini, class_weight=None, total=   0.0s\n",
      "[CV] min_samples_split=30, min_samples_leaf=48, max_depth=25, criterion=gini, class_weight=None \n",
      "[CV]  min_samples_split=30, min_samples_leaf=48, max_depth=25, criterion=gini, class_weight=None, total=   0.0s\n",
      "[CV] min_samples_split=30, min_samples_leaf=48, max_depth=25, criterion=gini, class_weight=None \n",
      "[CV]  min_samples_split=30, min_samples_leaf=48, max_depth=25, criterion=gini, class_weight=None, total=   0.0s\n",
      "[CV] min_samples_split=30, min_samples_leaf=5, max_depth=33, criterion=gini, class_weight={1: 0.8, 0: 0.2} \n"
     ]
    },
    {
     "name": "stderr",
     "output_type": "stream",
     "text": [
      "/Users/personal/opt/anaconda3/lib/python3.8/site-packages/sklearn/model_selection/_validation.py:548: FitFailedWarning: Estimator fit failed. The score on this train-test partition for these parameters will be set to nan. Details: \n",
      "Traceback (most recent call last):\n",
      "  File \"/Users/personal/opt/anaconda3/lib/python3.8/site-packages/sklearn/model_selection/_validation.py\", line 531, in _fit_and_score\n",
      "    estimator.fit(X_train, y_train, **fit_params)\n",
      "  File \"/Users/personal/opt/anaconda3/lib/python3.8/site-packages/sklearn/tree/_classes.py\", line 890, in fit\n",
      "    super().fit(\n",
      "  File \"/Users/personal/opt/anaconda3/lib/python3.8/site-packages/sklearn/tree/_classes.py\", line 199, in fit\n",
      "    expanded_class_weight = compute_sample_weight(\n",
      "  File \"/Users/personal/opt/anaconda3/lib/python3.8/site-packages/sklearn/utils/validation.py\", line 73, in inner_f\n",
      "    return f(**kwargs)\n",
      "  File \"/Users/personal/opt/anaconda3/lib/python3.8/site-packages/sklearn/utils/class_weight.py\", line 122, in compute_sample_weight\n",
      "    raise ValueError('The only valid preset for class_weight is '\n",
      "ValueError: The only valid preset for class_weight is \"balanced\". Given \"None\".\n",
      "\n",
      "  warnings.warn(\"Estimator fit failed. The score on this train-test\"\n",
      "/Users/personal/opt/anaconda3/lib/python3.8/site-packages/sklearn/model_selection/_validation.py:548: FitFailedWarning: Estimator fit failed. The score on this train-test partition for these parameters will be set to nan. Details: \n",
      "Traceback (most recent call last):\n",
      "  File \"/Users/personal/opt/anaconda3/lib/python3.8/site-packages/sklearn/model_selection/_validation.py\", line 531, in _fit_and_score\n",
      "    estimator.fit(X_train, y_train, **fit_params)\n",
      "  File \"/Users/personal/opt/anaconda3/lib/python3.8/site-packages/sklearn/tree/_classes.py\", line 890, in fit\n",
      "    super().fit(\n",
      "  File \"/Users/personal/opt/anaconda3/lib/python3.8/site-packages/sklearn/tree/_classes.py\", line 199, in fit\n",
      "    expanded_class_weight = compute_sample_weight(\n",
      "  File \"/Users/personal/opt/anaconda3/lib/python3.8/site-packages/sklearn/utils/validation.py\", line 73, in inner_f\n",
      "    return f(**kwargs)\n",
      "  File \"/Users/personal/opt/anaconda3/lib/python3.8/site-packages/sklearn/utils/class_weight.py\", line 122, in compute_sample_weight\n",
      "    raise ValueError('The only valid preset for class_weight is '\n",
      "ValueError: The only valid preset for class_weight is \"balanced\". Given \"None\".\n",
      "\n",
      "  warnings.warn(\"Estimator fit failed. The score on this train-test\"\n",
      "/Users/personal/opt/anaconda3/lib/python3.8/site-packages/sklearn/model_selection/_validation.py:548: FitFailedWarning: Estimator fit failed. The score on this train-test partition for these parameters will be set to nan. Details: \n",
      "Traceback (most recent call last):\n",
      "  File \"/Users/personal/opt/anaconda3/lib/python3.8/site-packages/sklearn/model_selection/_validation.py\", line 531, in _fit_and_score\n",
      "    estimator.fit(X_train, y_train, **fit_params)\n",
      "  File \"/Users/personal/opt/anaconda3/lib/python3.8/site-packages/sklearn/tree/_classes.py\", line 890, in fit\n",
      "    super().fit(\n",
      "  File \"/Users/personal/opt/anaconda3/lib/python3.8/site-packages/sklearn/tree/_classes.py\", line 199, in fit\n",
      "    expanded_class_weight = compute_sample_weight(\n",
      "  File \"/Users/personal/opt/anaconda3/lib/python3.8/site-packages/sklearn/utils/validation.py\", line 73, in inner_f\n",
      "    return f(**kwargs)\n",
      "  File \"/Users/personal/opt/anaconda3/lib/python3.8/site-packages/sklearn/utils/class_weight.py\", line 122, in compute_sample_weight\n",
      "    raise ValueError('The only valid preset for class_weight is '\n",
      "ValueError: The only valid preset for class_weight is \"balanced\". Given \"None\".\n",
      "\n",
      "  warnings.warn(\"Estimator fit failed. The score on this train-test\"\n",
      "/Users/personal/opt/anaconda3/lib/python3.8/site-packages/sklearn/model_selection/_validation.py:548: FitFailedWarning: Estimator fit failed. The score on this train-test partition for these parameters will be set to nan. Details: \n",
      "Traceback (most recent call last):\n",
      "  File \"/Users/personal/opt/anaconda3/lib/python3.8/site-packages/sklearn/model_selection/_validation.py\", line 531, in _fit_and_score\n",
      "    estimator.fit(X_train, y_train, **fit_params)\n",
      "  File \"/Users/personal/opt/anaconda3/lib/python3.8/site-packages/sklearn/tree/_classes.py\", line 890, in fit\n",
      "    super().fit(\n",
      "  File \"/Users/personal/opt/anaconda3/lib/python3.8/site-packages/sklearn/tree/_classes.py\", line 199, in fit\n",
      "    expanded_class_weight = compute_sample_weight(\n",
      "  File \"/Users/personal/opt/anaconda3/lib/python3.8/site-packages/sklearn/utils/validation.py\", line 73, in inner_f\n",
      "    return f(**kwargs)\n",
      "  File \"/Users/personal/opt/anaconda3/lib/python3.8/site-packages/sklearn/utils/class_weight.py\", line 122, in compute_sample_weight\n",
      "    raise ValueError('The only valid preset for class_weight is '\n",
      "ValueError: The only valid preset for class_weight is \"balanced\". Given \"None\".\n",
      "\n",
      "  warnings.warn(\"Estimator fit failed. The score on this train-test\"\n"
     ]
    },
    {
     "name": "stdout",
     "output_type": "stream",
     "text": [
      "[CV]  min_samples_split=30, min_samples_leaf=5, max_depth=33, criterion=gini, class_weight={1: 0.8, 0: 0.2}, total=   2.6s\n",
      "[CV] min_samples_split=30, min_samples_leaf=5, max_depth=33, criterion=gini, class_weight={1: 0.8, 0: 0.2} \n",
      "[CV]  min_samples_split=30, min_samples_leaf=5, max_depth=33, criterion=gini, class_weight={1: 0.8, 0: 0.2}, total=   2.4s\n",
      "[CV] min_samples_split=30, min_samples_leaf=5, max_depth=33, criterion=gini, class_weight={1: 0.8, 0: 0.2} \n",
      "[CV]  min_samples_split=30, min_samples_leaf=5, max_depth=33, criterion=gini, class_weight={1: 0.8, 0: 0.2}, total=   2.4s\n",
      "[CV] min_samples_split=30, min_samples_leaf=5, max_depth=33, criterion=gini, class_weight={1: 0.8, 0: 0.2} \n",
      "[CV]  min_samples_split=30, min_samples_leaf=5, max_depth=33, criterion=gini, class_weight={1: 0.8, 0: 0.2}, total=   2.6s\n",
      "[CV] min_samples_split=30, min_samples_leaf=30, max_depth=52, criterion=gini, class_weight=balanced \n",
      "[CV]  min_samples_split=30, min_samples_leaf=30, max_depth=52, criterion=gini, class_weight=balanced, total=   2.3s\n",
      "[CV] min_samples_split=30, min_samples_leaf=30, max_depth=52, criterion=gini, class_weight=balanced \n",
      "[CV]  min_samples_split=30, min_samples_leaf=30, max_depth=52, criterion=gini, class_weight=balanced, total=   2.0s\n",
      "[CV] min_samples_split=30, min_samples_leaf=30, max_depth=52, criterion=gini, class_weight=balanced \n",
      "[CV]  min_samples_split=30, min_samples_leaf=30, max_depth=52, criterion=gini, class_weight=balanced, total=   2.2s\n",
      "[CV] min_samples_split=30, min_samples_leaf=30, max_depth=52, criterion=gini, class_weight=balanced \n",
      "[CV]  min_samples_split=30, min_samples_leaf=30, max_depth=52, criterion=gini, class_weight=balanced, total=   2.4s\n",
      "[CV] min_samples_split=40, min_samples_leaf=47, max_depth=45, criterion=entropy, class_weight={1: 0.75, 0: 0.25} \n",
      "[CV]  min_samples_split=40, min_samples_leaf=47, max_depth=45, criterion=entropy, class_weight={1: 0.75, 0: 0.25}, total=   2.3s\n",
      "[CV] min_samples_split=40, min_samples_leaf=47, max_depth=45, criterion=entropy, class_weight={1: 0.75, 0: 0.25} \n",
      "[CV]  min_samples_split=40, min_samples_leaf=47, max_depth=45, criterion=entropy, class_weight={1: 0.75, 0: 0.25}, total=   2.2s\n",
      "[CV] min_samples_split=40, min_samples_leaf=47, max_depth=45, criterion=entropy, class_weight={1: 0.75, 0: 0.25} \n",
      "[CV]  min_samples_split=40, min_samples_leaf=47, max_depth=45, criterion=entropy, class_weight={1: 0.75, 0: 0.25}, total=   2.1s\n",
      "[CV] min_samples_split=40, min_samples_leaf=47, max_depth=45, criterion=entropy, class_weight={1: 0.75, 0: 0.25} \n",
      "[CV]  min_samples_split=40, min_samples_leaf=47, max_depth=45, criterion=entropy, class_weight={1: 0.75, 0: 0.25}, total=   2.2s\n",
      "[CV] min_samples_split=40, min_samples_leaf=33, max_depth=23, criterion=gini, class_weight=None \n",
      "[CV]  min_samples_split=40, min_samples_leaf=33, max_depth=23, criterion=gini, class_weight=None, total=   0.0s\n",
      "[CV] min_samples_split=40, min_samples_leaf=33, max_depth=23, criterion=gini, class_weight=None \n",
      "[CV]  min_samples_split=40, min_samples_leaf=33, max_depth=23, criterion=gini, class_weight=None, total=   0.0s\n",
      "[CV] min_samples_split=40, min_samples_leaf=33, max_depth=23, criterion=gini, class_weight=None \n",
      "[CV]  min_samples_split=40, min_samples_leaf=33, max_depth=23, criterion=gini, class_weight=None, total=   0.0s\n",
      "[CV] min_samples_split=40, min_samples_leaf=33, max_depth=23, criterion=gini, class_weight=None \n",
      "[CV]  min_samples_split=40, min_samples_leaf=33, max_depth=23, criterion=gini, class_weight=None, total=   0.0s\n",
      "[CV] min_samples_split=30, min_samples_leaf=13, max_depth=20, criterion=gini, class_weight={1: 0.8, 0: 0.2} \n"
     ]
    },
    {
     "name": "stderr",
     "output_type": "stream",
     "text": [
      "/Users/personal/opt/anaconda3/lib/python3.8/site-packages/sklearn/model_selection/_validation.py:548: FitFailedWarning: Estimator fit failed. The score on this train-test partition for these parameters will be set to nan. Details: \n",
      "Traceback (most recent call last):\n",
      "  File \"/Users/personal/opt/anaconda3/lib/python3.8/site-packages/sklearn/model_selection/_validation.py\", line 531, in _fit_and_score\n",
      "    estimator.fit(X_train, y_train, **fit_params)\n",
      "  File \"/Users/personal/opt/anaconda3/lib/python3.8/site-packages/sklearn/tree/_classes.py\", line 890, in fit\n",
      "    super().fit(\n",
      "  File \"/Users/personal/opt/anaconda3/lib/python3.8/site-packages/sklearn/tree/_classes.py\", line 199, in fit\n",
      "    expanded_class_weight = compute_sample_weight(\n",
      "  File \"/Users/personal/opt/anaconda3/lib/python3.8/site-packages/sklearn/utils/validation.py\", line 73, in inner_f\n",
      "    return f(**kwargs)\n",
      "  File \"/Users/personal/opt/anaconda3/lib/python3.8/site-packages/sklearn/utils/class_weight.py\", line 122, in compute_sample_weight\n",
      "    raise ValueError('The only valid preset for class_weight is '\n",
      "ValueError: The only valid preset for class_weight is \"balanced\". Given \"None\".\n",
      "\n",
      "  warnings.warn(\"Estimator fit failed. The score on this train-test\"\n",
      "/Users/personal/opt/anaconda3/lib/python3.8/site-packages/sklearn/model_selection/_validation.py:548: FitFailedWarning: Estimator fit failed. The score on this train-test partition for these parameters will be set to nan. Details: \n",
      "Traceback (most recent call last):\n",
      "  File \"/Users/personal/opt/anaconda3/lib/python3.8/site-packages/sklearn/model_selection/_validation.py\", line 531, in _fit_and_score\n",
      "    estimator.fit(X_train, y_train, **fit_params)\n",
      "  File \"/Users/personal/opt/anaconda3/lib/python3.8/site-packages/sklearn/tree/_classes.py\", line 890, in fit\n",
      "    super().fit(\n",
      "  File \"/Users/personal/opt/anaconda3/lib/python3.8/site-packages/sklearn/tree/_classes.py\", line 199, in fit\n",
      "    expanded_class_weight = compute_sample_weight(\n",
      "  File \"/Users/personal/opt/anaconda3/lib/python3.8/site-packages/sklearn/utils/validation.py\", line 73, in inner_f\n",
      "    return f(**kwargs)\n",
      "  File \"/Users/personal/opt/anaconda3/lib/python3.8/site-packages/sklearn/utils/class_weight.py\", line 122, in compute_sample_weight\n",
      "    raise ValueError('The only valid preset for class_weight is '\n",
      "ValueError: The only valid preset for class_weight is \"balanced\". Given \"None\".\n",
      "\n",
      "  warnings.warn(\"Estimator fit failed. The score on this train-test\"\n",
      "/Users/personal/opt/anaconda3/lib/python3.8/site-packages/sklearn/model_selection/_validation.py:548: FitFailedWarning: Estimator fit failed. The score on this train-test partition for these parameters will be set to nan. Details: \n",
      "Traceback (most recent call last):\n",
      "  File \"/Users/personal/opt/anaconda3/lib/python3.8/site-packages/sklearn/model_selection/_validation.py\", line 531, in _fit_and_score\n",
      "    estimator.fit(X_train, y_train, **fit_params)\n",
      "  File \"/Users/personal/opt/anaconda3/lib/python3.8/site-packages/sklearn/tree/_classes.py\", line 890, in fit\n",
      "    super().fit(\n",
      "  File \"/Users/personal/opt/anaconda3/lib/python3.8/site-packages/sklearn/tree/_classes.py\", line 199, in fit\n",
      "    expanded_class_weight = compute_sample_weight(\n",
      "  File \"/Users/personal/opt/anaconda3/lib/python3.8/site-packages/sklearn/utils/validation.py\", line 73, in inner_f\n",
      "    return f(**kwargs)\n",
      "  File \"/Users/personal/opt/anaconda3/lib/python3.8/site-packages/sklearn/utils/class_weight.py\", line 122, in compute_sample_weight\n",
      "    raise ValueError('The only valid preset for class_weight is '\n",
      "ValueError: The only valid preset for class_weight is \"balanced\". Given \"None\".\n",
      "\n",
      "  warnings.warn(\"Estimator fit failed. The score on this train-test\"\n",
      "/Users/personal/opt/anaconda3/lib/python3.8/site-packages/sklearn/model_selection/_validation.py:548: FitFailedWarning: Estimator fit failed. The score on this train-test partition for these parameters will be set to nan. Details: \n",
      "Traceback (most recent call last):\n",
      "  File \"/Users/personal/opt/anaconda3/lib/python3.8/site-packages/sklearn/model_selection/_validation.py\", line 531, in _fit_and_score\n",
      "    estimator.fit(X_train, y_train, **fit_params)\n",
      "  File \"/Users/personal/opt/anaconda3/lib/python3.8/site-packages/sklearn/tree/_classes.py\", line 890, in fit\n",
      "    super().fit(\n",
      "  File \"/Users/personal/opt/anaconda3/lib/python3.8/site-packages/sklearn/tree/_classes.py\", line 199, in fit\n",
      "    expanded_class_weight = compute_sample_weight(\n",
      "  File \"/Users/personal/opt/anaconda3/lib/python3.8/site-packages/sklearn/utils/validation.py\", line 73, in inner_f\n",
      "    return f(**kwargs)\n",
      "  File \"/Users/personal/opt/anaconda3/lib/python3.8/site-packages/sklearn/utils/class_weight.py\", line 122, in compute_sample_weight\n",
      "    raise ValueError('The only valid preset for class_weight is '\n",
      "ValueError: The only valid preset for class_weight is \"balanced\". Given \"None\".\n",
      "\n",
      "  warnings.warn(\"Estimator fit failed. The score on this train-test\"\n"
     ]
    },
    {
     "name": "stdout",
     "output_type": "stream",
     "text": [
      "[CV]  min_samples_split=30, min_samples_leaf=13, max_depth=20, criterion=gini, class_weight={1: 0.8, 0: 0.2}, total=   1.1s\n",
      "[CV] min_samples_split=30, min_samples_leaf=13, max_depth=20, criterion=gini, class_weight={1: 0.8, 0: 0.2} \n",
      "[CV]  min_samples_split=30, min_samples_leaf=13, max_depth=20, criterion=gini, class_weight={1: 0.8, 0: 0.2}, total=   1.3s\n",
      "[CV] min_samples_split=30, min_samples_leaf=13, max_depth=20, criterion=gini, class_weight={1: 0.8, 0: 0.2} \n",
      "[CV]  min_samples_split=30, min_samples_leaf=13, max_depth=20, criterion=gini, class_weight={1: 0.8, 0: 0.2}, total=   1.3s\n",
      "[CV] min_samples_split=30, min_samples_leaf=13, max_depth=20, criterion=gini, class_weight={1: 0.8, 0: 0.2} \n",
      "[CV]  min_samples_split=30, min_samples_leaf=13, max_depth=20, criterion=gini, class_weight={1: 0.8, 0: 0.2}, total=   1.5s\n",
      "[CV] min_samples_split=40, min_samples_leaf=11, max_depth=40, criterion=entropy, class_weight=None \n",
      "[CV]  min_samples_split=40, min_samples_leaf=11, max_depth=40, criterion=entropy, class_weight=None, total=   0.0s\n",
      "[CV] min_samples_split=40, min_samples_leaf=11, max_depth=40, criterion=entropy, class_weight=None \n",
      "[CV]  min_samples_split=40, min_samples_leaf=11, max_depth=40, criterion=entropy, class_weight=None, total=   0.0s\n",
      "[CV] min_samples_split=40, min_samples_leaf=11, max_depth=40, criterion=entropy, class_weight=None \n",
      "[CV]  min_samples_split=40, min_samples_leaf=11, max_depth=40, criterion=entropy, class_weight=None, total=   0.0s\n",
      "[CV] min_samples_split=40, min_samples_leaf=11, max_depth=40, criterion=entropy, class_weight=None \n",
      "[CV]  min_samples_split=40, min_samples_leaf=11, max_depth=40, criterion=entropy, class_weight=None, total=   0.0s\n",
      "[CV] min_samples_split=10, min_samples_leaf=16, max_depth=59, criterion=gini, class_weight=None \n",
      "[CV]  min_samples_split=10, min_samples_leaf=16, max_depth=59, criterion=gini, class_weight=None, total=   0.0s\n",
      "[CV] min_samples_split=10, min_samples_leaf=16, max_depth=59, criterion=gini, class_weight=None \n",
      "[CV]  min_samples_split=10, min_samples_leaf=16, max_depth=59, criterion=gini, class_weight=None, total=   0.0s\n",
      "[CV] min_samples_split=10, min_samples_leaf=16, max_depth=59, criterion=gini, class_weight=None \n",
      "[CV]  min_samples_split=10, min_samples_leaf=16, max_depth=59, criterion=gini, class_weight=None, total=   0.0s\n",
      "[CV] min_samples_split=10, min_samples_leaf=16, max_depth=59, criterion=gini, class_weight=None \n",
      "[CV]  min_samples_split=10, min_samples_leaf=16, max_depth=59, criterion=gini, class_weight=None, total=   0.0s\n",
      "[CV] min_samples_split=30, min_samples_leaf=25, max_depth=54, criterion=entropy, class_weight={1: 0.8, 0: 0.2} "
     ]
    },
    {
     "name": "stderr",
     "output_type": "stream",
     "text": [
      "/Users/personal/opt/anaconda3/lib/python3.8/site-packages/sklearn/model_selection/_validation.py:548: FitFailedWarning: Estimator fit failed. The score on this train-test partition for these parameters will be set to nan. Details: \n",
      "Traceback (most recent call last):\n",
      "  File \"/Users/personal/opt/anaconda3/lib/python3.8/site-packages/sklearn/model_selection/_validation.py\", line 531, in _fit_and_score\n",
      "    estimator.fit(X_train, y_train, **fit_params)\n",
      "  File \"/Users/personal/opt/anaconda3/lib/python3.8/site-packages/sklearn/tree/_classes.py\", line 890, in fit\n",
      "    super().fit(\n",
      "  File \"/Users/personal/opt/anaconda3/lib/python3.8/site-packages/sklearn/tree/_classes.py\", line 199, in fit\n",
      "    expanded_class_weight = compute_sample_weight(\n",
      "  File \"/Users/personal/opt/anaconda3/lib/python3.8/site-packages/sklearn/utils/validation.py\", line 73, in inner_f\n",
      "    return f(**kwargs)\n",
      "  File \"/Users/personal/opt/anaconda3/lib/python3.8/site-packages/sklearn/utils/class_weight.py\", line 122, in compute_sample_weight\n",
      "    raise ValueError('The only valid preset for class_weight is '\n",
      "ValueError: The only valid preset for class_weight is \"balanced\". Given \"None\".\n",
      "\n",
      "  warnings.warn(\"Estimator fit failed. The score on this train-test\"\n",
      "/Users/personal/opt/anaconda3/lib/python3.8/site-packages/sklearn/model_selection/_validation.py:548: FitFailedWarning: Estimator fit failed. The score on this train-test partition for these parameters will be set to nan. Details: \n",
      "Traceback (most recent call last):\n",
      "  File \"/Users/personal/opt/anaconda3/lib/python3.8/site-packages/sklearn/model_selection/_validation.py\", line 531, in _fit_and_score\n",
      "    estimator.fit(X_train, y_train, **fit_params)\n",
      "  File \"/Users/personal/opt/anaconda3/lib/python3.8/site-packages/sklearn/tree/_classes.py\", line 890, in fit\n",
      "    super().fit(\n",
      "  File \"/Users/personal/opt/anaconda3/lib/python3.8/site-packages/sklearn/tree/_classes.py\", line 199, in fit\n",
      "    expanded_class_weight = compute_sample_weight(\n",
      "  File \"/Users/personal/opt/anaconda3/lib/python3.8/site-packages/sklearn/utils/validation.py\", line 73, in inner_f\n",
      "    return f(**kwargs)\n",
      "  File \"/Users/personal/opt/anaconda3/lib/python3.8/site-packages/sklearn/utils/class_weight.py\", line 122, in compute_sample_weight\n",
      "    raise ValueError('The only valid preset for class_weight is '\n",
      "ValueError: The only valid preset for class_weight is \"balanced\". Given \"None\".\n",
      "\n",
      "  warnings.warn(\"Estimator fit failed. The score on this train-test\"\n",
      "/Users/personal/opt/anaconda3/lib/python3.8/site-packages/sklearn/model_selection/_validation.py:548: FitFailedWarning: Estimator fit failed. The score on this train-test partition for these parameters will be set to nan. Details: \n",
      "Traceback (most recent call last):\n",
      "  File \"/Users/personal/opt/anaconda3/lib/python3.8/site-packages/sklearn/model_selection/_validation.py\", line 531, in _fit_and_score\n",
      "    estimator.fit(X_train, y_train, **fit_params)\n",
      "  File \"/Users/personal/opt/anaconda3/lib/python3.8/site-packages/sklearn/tree/_classes.py\", line 890, in fit\n",
      "    super().fit(\n",
      "  File \"/Users/personal/opt/anaconda3/lib/python3.8/site-packages/sklearn/tree/_classes.py\", line 199, in fit\n",
      "    expanded_class_weight = compute_sample_weight(\n",
      "  File \"/Users/personal/opt/anaconda3/lib/python3.8/site-packages/sklearn/utils/validation.py\", line 73, in inner_f\n",
      "    return f(**kwargs)\n",
      "  File \"/Users/personal/opt/anaconda3/lib/python3.8/site-packages/sklearn/utils/class_weight.py\", line 122, in compute_sample_weight\n",
      "    raise ValueError('The only valid preset for class_weight is '\n",
      "ValueError: The only valid preset for class_weight is \"balanced\". Given \"None\".\n",
      "\n",
      "  warnings.warn(\"Estimator fit failed. The score on this train-test\"\n",
      "/Users/personal/opt/anaconda3/lib/python3.8/site-packages/sklearn/model_selection/_validation.py:548: FitFailedWarning: Estimator fit failed. The score on this train-test partition for these parameters will be set to nan. Details: \n",
      "Traceback (most recent call last):\n",
      "  File \"/Users/personal/opt/anaconda3/lib/python3.8/site-packages/sklearn/model_selection/_validation.py\", line 531, in _fit_and_score\n",
      "    estimator.fit(X_train, y_train, **fit_params)\n",
      "  File \"/Users/personal/opt/anaconda3/lib/python3.8/site-packages/sklearn/tree/_classes.py\", line 890, in fit\n",
      "    super().fit(\n",
      "  File \"/Users/personal/opt/anaconda3/lib/python3.8/site-packages/sklearn/tree/_classes.py\", line 199, in fit\n",
      "    expanded_class_weight = compute_sample_weight(\n",
      "  File \"/Users/personal/opt/anaconda3/lib/python3.8/site-packages/sklearn/utils/validation.py\", line 73, in inner_f\n",
      "    return f(**kwargs)\n",
      "  File \"/Users/personal/opt/anaconda3/lib/python3.8/site-packages/sklearn/utils/class_weight.py\", line 122, in compute_sample_weight\n",
      "    raise ValueError('The only valid preset for class_weight is '\n",
      "ValueError: The only valid preset for class_weight is \"balanced\". Given \"None\".\n",
      "\n",
      "  warnings.warn(\"Estimator fit failed. The score on this train-test\"\n",
      "/Users/personal/opt/anaconda3/lib/python3.8/site-packages/sklearn/model_selection/_validation.py:548: FitFailedWarning: Estimator fit failed. The score on this train-test partition for these parameters will be set to nan. Details: \n",
      "Traceback (most recent call last):\n",
      "  File \"/Users/personal/opt/anaconda3/lib/python3.8/site-packages/sklearn/model_selection/_validation.py\", line 531, in _fit_and_score\n",
      "    estimator.fit(X_train, y_train, **fit_params)\n",
      "  File \"/Users/personal/opt/anaconda3/lib/python3.8/site-packages/sklearn/tree/_classes.py\", line 890, in fit\n",
      "    super().fit(\n",
      "  File \"/Users/personal/opt/anaconda3/lib/python3.8/site-packages/sklearn/tree/_classes.py\", line 199, in fit\n",
      "    expanded_class_weight = compute_sample_weight(\n",
      "  File \"/Users/personal/opt/anaconda3/lib/python3.8/site-packages/sklearn/utils/validation.py\", line 73, in inner_f\n",
      "    return f(**kwargs)\n",
      "  File \"/Users/personal/opt/anaconda3/lib/python3.8/site-packages/sklearn/utils/class_weight.py\", line 122, in compute_sample_weight\n",
      "    raise ValueError('The only valid preset for class_weight is '\n",
      "ValueError: The only valid preset for class_weight is \"balanced\". Given \"None\".\n",
      "\n",
      "  warnings.warn(\"Estimator fit failed. The score on this train-test\"\n",
      "/Users/personal/opt/anaconda3/lib/python3.8/site-packages/sklearn/model_selection/_validation.py:548: FitFailedWarning: Estimator fit failed. The score on this train-test partition for these parameters will be set to nan. Details: \n",
      "Traceback (most recent call last):\n",
      "  File \"/Users/personal/opt/anaconda3/lib/python3.8/site-packages/sklearn/model_selection/_validation.py\", line 531, in _fit_and_score\n",
      "    estimator.fit(X_train, y_train, **fit_params)\n",
      "  File \"/Users/personal/opt/anaconda3/lib/python3.8/site-packages/sklearn/tree/_classes.py\", line 890, in fit\n",
      "    super().fit(\n",
      "  File \"/Users/personal/opt/anaconda3/lib/python3.8/site-packages/sklearn/tree/_classes.py\", line 199, in fit\n",
      "    expanded_class_weight = compute_sample_weight(\n",
      "  File \"/Users/personal/opt/anaconda3/lib/python3.8/site-packages/sklearn/utils/validation.py\", line 73, in inner_f\n",
      "    return f(**kwargs)\n",
      "  File \"/Users/personal/opt/anaconda3/lib/python3.8/site-packages/sklearn/utils/class_weight.py\", line 122, in compute_sample_weight\n",
      "    raise ValueError('The only valid preset for class_weight is '\n",
      "ValueError: The only valid preset for class_weight is \"balanced\". Given \"None\".\n",
      "\n",
      "  warnings.warn(\"Estimator fit failed. The score on this train-test\"\n",
      "/Users/personal/opt/anaconda3/lib/python3.8/site-packages/sklearn/model_selection/_validation.py:548: FitFailedWarning: Estimator fit failed. The score on this train-test partition for these parameters will be set to nan. Details: \n",
      "Traceback (most recent call last):\n",
      "  File \"/Users/personal/opt/anaconda3/lib/python3.8/site-packages/sklearn/model_selection/_validation.py\", line 531, in _fit_and_score\n",
      "    estimator.fit(X_train, y_train, **fit_params)\n",
      "  File \"/Users/personal/opt/anaconda3/lib/python3.8/site-packages/sklearn/tree/_classes.py\", line 890, in fit\n",
      "    super().fit(\n",
      "  File \"/Users/personal/opt/anaconda3/lib/python3.8/site-packages/sklearn/tree/_classes.py\", line 199, in fit\n",
      "    expanded_class_weight = compute_sample_weight(\n",
      "  File \"/Users/personal/opt/anaconda3/lib/python3.8/site-packages/sklearn/utils/validation.py\", line 73, in inner_f\n",
      "    return f(**kwargs)\n",
      "  File \"/Users/personal/opt/anaconda3/lib/python3.8/site-packages/sklearn/utils/class_weight.py\", line 122, in compute_sample_weight\n",
      "    raise ValueError('The only valid preset for class_weight is '\n",
      "ValueError: The only valid preset for class_weight is \"balanced\". Given \"None\".\n",
      "\n",
      "  warnings.warn(\"Estimator fit failed. The score on this train-test\"\n",
      "/Users/personal/opt/anaconda3/lib/python3.8/site-packages/sklearn/model_selection/_validation.py:548: FitFailedWarning: Estimator fit failed. The score on this train-test partition for these parameters will be set to nan. Details: \n",
      "Traceback (most recent call last):\n",
      "  File \"/Users/personal/opt/anaconda3/lib/python3.8/site-packages/sklearn/model_selection/_validation.py\", line 531, in _fit_and_score\n",
      "    estimator.fit(X_train, y_train, **fit_params)\n",
      "  File \"/Users/personal/opt/anaconda3/lib/python3.8/site-packages/sklearn/tree/_classes.py\", line 890, in fit\n",
      "    super().fit(\n",
      "  File \"/Users/personal/opt/anaconda3/lib/python3.8/site-packages/sklearn/tree/_classes.py\", line 199, in fit\n",
      "    expanded_class_weight = compute_sample_weight(\n",
      "  File \"/Users/personal/opt/anaconda3/lib/python3.8/site-packages/sklearn/utils/validation.py\", line 73, in inner_f\n",
      "    return f(**kwargs)\n",
      "  File \"/Users/personal/opt/anaconda3/lib/python3.8/site-packages/sklearn/utils/class_weight.py\", line 122, in compute_sample_weight\n",
      "    raise ValueError('The only valid preset for class_weight is '\n",
      "ValueError: The only valid preset for class_weight is \"balanced\". Given \"None\".\n",
      "\n",
      "  warnings.warn(\"Estimator fit failed. The score on this train-test\"\n"
     ]
    },
    {
     "name": "stdout",
     "output_type": "stream",
     "text": [
      "\n",
      "[CV]  min_samples_split=30, min_samples_leaf=25, max_depth=54, criterion=entropy, class_weight={1: 0.8, 0: 0.2}, total=   2.6s\n",
      "[CV] min_samples_split=30, min_samples_leaf=25, max_depth=54, criterion=entropy, class_weight={1: 0.8, 0: 0.2} \n",
      "[CV]  min_samples_split=30, min_samples_leaf=25, max_depth=54, criterion=entropy, class_weight={1: 0.8, 0: 0.2}, total=   2.5s\n",
      "[CV] min_samples_split=30, min_samples_leaf=25, max_depth=54, criterion=entropy, class_weight={1: 0.8, 0: 0.2} \n",
      "[CV]  min_samples_split=30, min_samples_leaf=25, max_depth=54, criterion=entropy, class_weight={1: 0.8, 0: 0.2}, total=   2.5s\n",
      "[CV] min_samples_split=30, min_samples_leaf=25, max_depth=54, criterion=entropy, class_weight={1: 0.8, 0: 0.2} \n",
      "[CV]  min_samples_split=30, min_samples_leaf=25, max_depth=54, criterion=entropy, class_weight={1: 0.8, 0: 0.2}, total=   2.5s\n",
      "[CV] min_samples_split=40, min_samples_leaf=45, max_depth=42, criterion=gini, class_weight=balanced \n",
      "[CV]  min_samples_split=40, min_samples_leaf=45, max_depth=42, criterion=gini, class_weight=balanced, total=   2.0s\n",
      "[CV] min_samples_split=40, min_samples_leaf=45, max_depth=42, criterion=gini, class_weight=balanced \n",
      "[CV]  min_samples_split=40, min_samples_leaf=45, max_depth=42, criterion=gini, class_weight=balanced, total=   1.9s\n",
      "[CV] min_samples_split=40, min_samples_leaf=45, max_depth=42, criterion=gini, class_weight=balanced \n",
      "[CV]  min_samples_split=40, min_samples_leaf=45, max_depth=42, criterion=gini, class_weight=balanced, total=   1.9s\n",
      "[CV] min_samples_split=40, min_samples_leaf=45, max_depth=42, criterion=gini, class_weight=balanced \n",
      "[CV]  min_samples_split=40, min_samples_leaf=45, max_depth=42, criterion=gini, class_weight=balanced, total=   2.0s\n",
      "[CV] min_samples_split=20, min_samples_leaf=25, max_depth=52, criterion=gini, class_weight=balanced \n",
      "[CV]  min_samples_split=20, min_samples_leaf=25, max_depth=52, criterion=gini, class_weight=balanced, total=   2.3s\n",
      "[CV] min_samples_split=20, min_samples_leaf=25, max_depth=52, criterion=gini, class_weight=balanced \n",
      "[CV]  min_samples_split=20, min_samples_leaf=25, max_depth=52, criterion=gini, class_weight=balanced, total=   2.1s\n",
      "[CV] min_samples_split=20, min_samples_leaf=25, max_depth=52, criterion=gini, class_weight=balanced \n",
      "[CV]  min_samples_split=20, min_samples_leaf=25, max_depth=52, criterion=gini, class_weight=balanced, total=   2.1s\n",
      "[CV] min_samples_split=20, min_samples_leaf=25, max_depth=52, criterion=gini, class_weight=balanced \n",
      "[CV]  min_samples_split=20, min_samples_leaf=25, max_depth=52, criterion=gini, class_weight=balanced, total=   2.2s\n",
      "[CV] min_samples_split=30, min_samples_leaf=42, max_depth=33, criterion=gini, class_weight={1: 0.75, 0: 0.25} \n",
      "[CV]  min_samples_split=30, min_samples_leaf=42, max_depth=33, criterion=gini, class_weight={1: 0.75, 0: 0.25}, total=   2.0s\n",
      "[CV] min_samples_split=30, min_samples_leaf=42, max_depth=33, criterion=gini, class_weight={1: 0.75, 0: 0.25} \n",
      "[CV]  min_samples_split=30, min_samples_leaf=42, max_depth=33, criterion=gini, class_weight={1: 0.75, 0: 0.25}, total=   1.9s\n",
      "[CV] min_samples_split=30, min_samples_leaf=42, max_depth=33, criterion=gini, class_weight={1: 0.75, 0: 0.25} \n",
      "[CV]  min_samples_split=30, min_samples_leaf=42, max_depth=33, criterion=gini, class_weight={1: 0.75, 0: 0.25}, total=   1.9s\n",
      "[CV] min_samples_split=30, min_samples_leaf=42, max_depth=33, criterion=gini, class_weight={1: 0.75, 0: 0.25} \n",
      "[CV]  min_samples_split=30, min_samples_leaf=42, max_depth=33, criterion=gini, class_weight={1: 0.75, 0: 0.25}, total=   2.1s\n"
     ]
    },
    {
     "name": "stderr",
     "output_type": "stream",
     "text": [
      "[Parallel(n_jobs=1)]: Done 200 out of 200 | elapsed:  5.5min finished\n"
     ]
    },
    {
     "data": {
      "text/plain": [
       "RandomizedSearchCV(cv=StratifiedKFold(n_splits=4, random_state=0, shuffle=True),\n",
       "                   estimator=DecisionTreeClassifier(), n_iter=50,\n",
       "                   param_distributions={'class_weight': [{0: 0.33, 1: 0.67},\n",
       "                                                         {0: 0.25, 1: 0.75},\n",
       "                                                         {0: 0.2, 1: 0.8},\n",
       "                                                         'None', 'balanced'],\n",
       "                                        'criterion': ['gini', 'entropy'],\n",
       "                                        'max_depth': range(5, 60),\n",
       "                                        'min_samples_leaf': range(5, 50),\n",
       "                                        'min_samples_split': [10, 20, 30, 40,\n",
       "                                                              50]},\n",
       "                   scoring='f1', verbose=2)"
      ]
     },
     "execution_count": 147,
     "metadata": {},
     "output_type": "execute_result"
    }
   ],
   "source": [
    "fold = StratifiedKFold(n_splits=4, shuffle=True, random_state=0) \n",
    "\n",
    "parameters= {\"criterion\": [\"gini\", \"entropy\"], \\\n",
    "             \"class_weight\": [{1:0.67, 0:0.33}, {1:0.75, 0:0.25}, {1:0.8, 0:0.2}, \"None\", \"balanced\"], \\\n",
    "            \"max_depth\": range(5,60) , \\\n",
    "            \"min_samples_leaf\" : range(5,50), \\\n",
    "            \"min_samples_split\" : [10, 20, 30, 40, 50]}\n",
    "\n",
    "model = DecisionTreeClassifier()\n",
    "model_rs =RandomizedSearchCV(model, parameters, cv= fold, verbose=2, scoring=\"f1\", n_iter=50)\n",
    "model_rs.fit(X_train,y_train)\n",
    "\n"
   ]
  },
  {
   "cell_type": "code",
   "execution_count": 148,
   "metadata": {
    "scrolled": false
   },
   "outputs": [
    {
     "name": "stdout",
     "output_type": "stream",
     "text": [
      "tuned hpyerparameters :(best parameters)  {'min_samples_split': 50, 'min_samples_leaf': 37, 'max_depth': 37, 'criterion': 'gini', 'class_weight': {1: 0.67, 0: 0.33}}\n",
      "accuracy : 0.6875005149417299\n"
     ]
    }
   ],
   "source": [
    "print(\"tuned hpyerparameters :(best parameters) \",model_rs.best_params_)\n",
    "print(\"accuracy :\",model_rs.best_score_)"
   ]
  },
  {
   "cell_type": "code",
   "execution_count": 150,
   "metadata": {
    "scrolled": false
   },
   "outputs": [],
   "source": [
    "dt_clf_rs = model_rs.best_estimator_"
   ]
  },
  {
   "cell_type": "code",
   "execution_count": 151,
   "metadata": {
    "scrolled": false
   },
   "outputs": [
    {
     "name": "stdout",
     "output_type": "stream",
     "text": [
      "scores for default model on test set\n",
      "\n",
      "Accuracy Score : 0.9484728374912567\n",
      "Precision Score : 0.8011853448275862\n",
      "Recall Score : 0.6084288052373159\n",
      "F1 Score : 0.6916279069767441\n",
      "\n",
      "\n",
      "scores for default model on train set\n",
      "\n",
      "Accuracy Score : 0.9531845029921505\n",
      "Precision Score : 0.8426655606249136\n",
      "Recall Score : 0.6234656301145662\n",
      "F1 Score : 0.7166794050208712\n"
     ]
    }
   ],
   "source": [
    "print_scores(dt_clf_rs)\n"
   ]
  },
  {
   "cell_type": "code",
   "execution_count": 152,
   "metadata": {
    "scrolled": false
   },
   "outputs": [
    {
     "data": {
      "image/png": "[encoded data removed]",
      "text/plain": [
       "<Figure size 720x288 with 4 Axes>"
      ]
     },
     "metadata": {
      "needs_background": "light"
     },
     "output_type": "display_data"
    }
   ],
   "source": [
    "show_confusion_matrix(dt_clf_rs)"
   ]
  },
  {
   "cell_type": "markdown",
   "metadata": {},
   "source": [
    "# Random Forest"
   ]
  },
  {
   "cell_type": "code",
   "execution_count": 153,
   "metadata": {
    "scrolled": false
   },
   "outputs": [],
   "source": [
    "from sklearn.ensemble import RandomForestClassifier"
   ]
  },
  {
   "cell_type": "code",
   "execution_count": 154,
   "metadata": {
    "collapsed": true
   },
   "outputs": [
    {
     "name": "stdout",
     "output_type": "stream",
     "text": [
      "Fitting 4 folds for each of 10 candidates, totalling 40 fits\n",
      "[CV] n_estimators=50, min_samples_split=20, min_samples_leaf=7, max_depth=48, criterion=entropy, class_weight=balanced \n"
     ]
    },
    {
     "name": "stderr",
     "output_type": "stream",
     "text": [
      "[Parallel(n_jobs=1)]: Using backend SequentialBackend with 1 concurrent workers.\n"
     ]
    },
    {
     "name": "stdout",
     "output_type": "stream",
     "text": [
      "[CV]  n_estimators=50, min_samples_split=20, min_samples_leaf=7, max_depth=48, criterion=entropy, class_weight=balanced, total=  15.7s\n",
      "[CV] n_estimators=50, min_samples_split=20, min_samples_leaf=7, max_depth=48, criterion=entropy, class_weight=balanced \n"
     ]
    },
    {
     "name": "stderr",
     "output_type": "stream",
     "text": [
      "[Parallel(n_jobs=1)]: Done   1 out of   1 | elapsed:   15.7s remaining:    0.0s\n"
     ]
    },
    {
     "name": "stdout",
     "output_type": "stream",
     "text": [
      "[CV]  n_estimators=50, min_samples_split=20, min_samples_leaf=7, max_depth=48, criterion=entropy, class_weight=balanced, total=  15.1s\n",
      "[CV] n_estimators=50, min_samples_split=20, min_samples_leaf=7, max_depth=48, criterion=entropy, class_weight=balanced \n",
      "[CV]  n_estimators=50, min_samples_split=20, min_samples_leaf=7, max_depth=48, criterion=entropy, class_weight=balanced, total=  16.6s\n",
      "[CV] n_estimators=50, min_samples_split=20, min_samples_leaf=7, max_depth=48, criterion=entropy, class_weight=balanced \n",
      "[CV]  n_estimators=50, min_samples_split=20, min_samples_leaf=7, max_depth=48, criterion=entropy, class_weight=balanced, total=  17.3s\n",
      "[CV] n_estimators=50, min_samples_split=20, min_samples_leaf=28, max_depth=27, criterion=gini, class_weight={1: 0.75, 0: 0.25} \n",
      "[CV]  n_estimators=50, min_samples_split=20, min_samples_leaf=28, max_depth=27, criterion=gini, class_weight={1: 0.75, 0: 0.25}, total=   8.3s\n",
      "[CV] n_estimators=50, min_samples_split=20, min_samples_leaf=28, max_depth=27, criterion=gini, class_weight={1: 0.75, 0: 0.25} \n",
      "[CV]  n_estimators=50, min_samples_split=20, min_samples_leaf=28, max_depth=27, criterion=gini, class_weight={1: 0.75, 0: 0.25}, total=   7.2s\n",
      "[CV] n_estimators=50, min_samples_split=20, min_samples_leaf=28, max_depth=27, criterion=gini, class_weight={1: 0.75, 0: 0.25} \n",
      "[CV]  n_estimators=50, min_samples_split=20, min_samples_leaf=28, max_depth=27, criterion=gini, class_weight={1: 0.75, 0: 0.25}, total=   9.2s\n",
      "[CV] n_estimators=50, min_samples_split=20, min_samples_leaf=28, max_depth=27, criterion=gini, class_weight={1: 0.75, 0: 0.25} \n",
      "[CV]  n_estimators=50, min_samples_split=20, min_samples_leaf=28, max_depth=27, criterion=gini, class_weight={1: 0.75, 0: 0.25}, total=   8.7s\n",
      "[CV] n_estimators=200, min_samples_split=20, min_samples_leaf=37, max_depth=25, criterion=entropy, class_weight=None \n",
      "[CV]  n_estimators=200, min_samples_split=20, min_samples_leaf=37, max_depth=25, criterion=entropy, class_weight=None, total=   0.0s\n",
      "[CV] n_estimators=200, min_samples_split=20, min_samples_leaf=37, max_depth=25, criterion=entropy, class_weight=None \n",
      "[CV]  n_estimators=200, min_samples_split=20, min_samples_leaf=37, max_depth=25, criterion=entropy, class_weight=None, total=   0.0s\n",
      "[CV] n_estimators=200, min_samples_split=20, min_samples_leaf=37, max_depth=25, criterion=entropy, class_weight=None \n",
      "[CV]  n_estimators=200, min_samples_split=20, min_samples_leaf=37, max_depth=25, criterion=entropy, class_weight=None, total=   0.0s\n",
      "[CV] n_estimators=200, min_samples_split=20, min_samples_leaf=37, max_depth=25, criterion=entropy, class_weight=None \n",
      "[CV]  n_estimators=200, min_samples_split=20, min_samples_leaf=37, max_depth=25, criterion=entropy, class_weight=None, total=   0.0s\n",
      "[CV] n_estimators=400, min_samples_split=50, min_samples_leaf=49, max_depth=22, criterion=gini, class_weight=None \n",
      "[CV]  n_estimators=400, min_samples_split=50, min_samples_leaf=49, max_depth=22, criterion=gini, class_weight=None, total=   0.0s\n",
      "[CV] n_estimators=400, min_samples_split=50, min_samples_leaf=49, max_depth=22, criterion=gini, class_weight=None \n",
      "[CV]  n_estimators=400, min_samples_split=50, min_samples_leaf=49, max_depth=22, criterion=gini, class_weight=None, total=   0.0s\n",
      "[CV] n_estimators=400, min_samples_split=50, min_samples_leaf=49, max_depth=22, criterion=gini, class_weight=None \n"
     ]
    },
    {
     "name": "stderr",
     "output_type": "stream",
     "text": [
      "/Users/personal/opt/anaconda3/lib/python3.8/site-packages/sklearn/model_selection/_validation.py:548: FitFailedWarning: Estimator fit failed. The score on this train-test partition for these parameters will be set to nan. Details: \n",
      "Traceback (most recent call last):\n",
      "  File \"/Users/personal/opt/anaconda3/lib/python3.8/site-packages/sklearn/model_selection/_validation.py\", line 531, in _fit_and_score\n",
      "    estimator.fit(X_train, y_train, **fit_params)\n",
      "  File \"/Users/personal/opt/anaconda3/lib/python3.8/site-packages/sklearn/ensemble/_forest.py\", line 330, in fit\n",
      "    y, expanded_class_weight = self._validate_y_class_weight(y)\n",
      "  File \"/Users/personal/opt/anaconda3/lib/python3.8/site-packages/sklearn/ensemble/_forest.py\", line 581, in _validate_y_class_weight\n",
      "    raise ValueError('Valid presets for class_weight include '\n",
      "ValueError: Valid presets for class_weight include \"balanced\" and \"balanced_subsample\".Given \"None\".\n",
      "\n",
      "  warnings.warn(\"Estimator fit failed. The score on this train-test\"\n",
      "/Users/personal/opt/anaconda3/lib/python3.8/site-packages/sklearn/model_selection/_validation.py:548: FitFailedWarning: Estimator fit failed. The score on this train-test partition for these parameters will be set to nan. Details: \n",
      "Traceback (most recent call last):\n",
      "  File \"/Users/personal/opt/anaconda3/lib/python3.8/site-packages/sklearn/model_selection/_validation.py\", line 531, in _fit_and_score\n",
      "    estimator.fit(X_train, y_train, **fit_params)\n",
      "  File \"/Users/personal/opt/anaconda3/lib/python3.8/site-packages/sklearn/ensemble/_forest.py\", line 330, in fit\n",
      "    y, expanded_class_weight = self._validate_y_class_weight(y)\n",
      "  File \"/Users/personal/opt/anaconda3/lib/python3.8/site-packages/sklearn/ensemble/_forest.py\", line 581, in _validate_y_class_weight\n",
      "    raise ValueError('Valid presets for class_weight include '\n",
      "ValueError: Valid presets for class_weight include \"balanced\" and \"balanced_subsample\".Given \"None\".\n",
      "\n",
      "  warnings.warn(\"Estimator fit failed. The score on this train-test\"\n",
      "/Users/personal/opt/anaconda3/lib/python3.8/site-packages/sklearn/model_selection/_validation.py:548: FitFailedWarning: Estimator fit failed. The score on this train-test partition for these parameters will be set to nan. Details: \n",
      "Traceback (most recent call last):\n",
      "  File \"/Users/personal/opt/anaconda3/lib/python3.8/site-packages/sklearn/model_selection/_validation.py\", line 531, in _fit_and_score\n",
      "    estimator.fit(X_train, y_train, **fit_params)\n",
      "  File \"/Users/personal/opt/anaconda3/lib/python3.8/site-packages/sklearn/ensemble/_forest.py\", line 330, in fit\n",
      "    y, expanded_class_weight = self._validate_y_class_weight(y)\n",
      "  File \"/Users/personal/opt/anaconda3/lib/python3.8/site-packages/sklearn/ensemble/_forest.py\", line 581, in _validate_y_class_weight\n",
      "    raise ValueError('Valid presets for class_weight include '\n",
      "ValueError: Valid presets for class_weight include \"balanced\" and \"balanced_subsample\".Given \"None\".\n",
      "\n",
      "  warnings.warn(\"Estimator fit failed. The score on this train-test\"\n",
      "/Users/personal/opt/anaconda3/lib/python3.8/site-packages/sklearn/model_selection/_validation.py:548: FitFailedWarning: Estimator fit failed. The score on this train-test partition for these parameters will be set to nan. Details: \n",
      "Traceback (most recent call last):\n",
      "  File \"/Users/personal/opt/anaconda3/lib/python3.8/site-packages/sklearn/model_selection/_validation.py\", line 531, in _fit_and_score\n",
      "    estimator.fit(X_train, y_train, **fit_params)\n",
      "  File \"/Users/personal/opt/anaconda3/lib/python3.8/site-packages/sklearn/ensemble/_forest.py\", line 330, in fit\n",
      "    y, expanded_class_weight = self._validate_y_class_weight(y)\n",
      "  File \"/Users/personal/opt/anaconda3/lib/python3.8/site-packages/sklearn/ensemble/_forest.py\", line 581, in _validate_y_class_weight\n",
      "    raise ValueError('Valid presets for class_weight include '\n",
      "ValueError: Valid presets for class_weight include \"balanced\" and \"balanced_subsample\".Given \"None\".\n",
      "\n",
      "  warnings.warn(\"Estimator fit failed. The score on this train-test\"\n",
      "/Users/personal/opt/anaconda3/lib/python3.8/site-packages/sklearn/model_selection/_validation.py:548: FitFailedWarning: Estimator fit failed. The score on this train-test partition for these parameters will be set to nan. Details: \n",
      "Traceback (most recent call last):\n",
      "  File \"/Users/personal/opt/anaconda3/lib/python3.8/site-packages/sklearn/model_selection/_validation.py\", line 531, in _fit_and_score\n",
      "    estimator.fit(X_train, y_train, **fit_params)\n",
      "  File \"/Users/personal/opt/anaconda3/lib/python3.8/site-packages/sklearn/ensemble/_forest.py\", line 330, in fit\n",
      "    y, expanded_class_weight = self._validate_y_class_weight(y)\n",
      "  File \"/Users/personal/opt/anaconda3/lib/python3.8/site-packages/sklearn/ensemble/_forest.py\", line 581, in _validate_y_class_weight\n",
      "    raise ValueError('Valid presets for class_weight include '\n",
      "ValueError: Valid presets for class_weight include \"balanced\" and \"balanced_subsample\".Given \"None\".\n",
      "\n",
      "  warnings.warn(\"Estimator fit failed. The score on this train-test\"\n",
      "/Users/personal/opt/anaconda3/lib/python3.8/site-packages/sklearn/model_selection/_validation.py:548: FitFailedWarning: Estimator fit failed. The score on this train-test partition for these parameters will be set to nan. Details: \n",
      "Traceback (most recent call last):\n",
      "  File \"/Users/personal/opt/anaconda3/lib/python3.8/site-packages/sklearn/model_selection/_validation.py\", line 531, in _fit_and_score\n",
      "    estimator.fit(X_train, y_train, **fit_params)\n",
      "  File \"/Users/personal/opt/anaconda3/lib/python3.8/site-packages/sklearn/ensemble/_forest.py\", line 330, in fit\n",
      "    y, expanded_class_weight = self._validate_y_class_weight(y)\n",
      "  File \"/Users/personal/opt/anaconda3/lib/python3.8/site-packages/sklearn/ensemble/_forest.py\", line 581, in _validate_y_class_weight\n",
      "    raise ValueError('Valid presets for class_weight include '\n",
      "ValueError: Valid presets for class_weight include \"balanced\" and \"balanced_subsample\".Given \"None\".\n",
      "\n",
      "  warnings.warn(\"Estimator fit failed. The score on this train-test\"\n",
      "/Users/personal/opt/anaconda3/lib/python3.8/site-packages/sklearn/model_selection/_validation.py:548: FitFailedWarning: Estimator fit failed. The score on this train-test partition for these parameters will be set to nan. Details: \n",
      "Traceback (most recent call last):\n",
      "  File \"/Users/personal/opt/anaconda3/lib/python3.8/site-packages/sklearn/model_selection/_validation.py\", line 531, in _fit_and_score\n",
      "    estimator.fit(X_train, y_train, **fit_params)\n",
      "  File \"/Users/personal/opt/anaconda3/lib/python3.8/site-packages/sklearn/ensemble/_forest.py\", line 330, in fit\n",
      "    y, expanded_class_weight = self._validate_y_class_weight(y)\n",
      "  File \"/Users/personal/opt/anaconda3/lib/python3.8/site-packages/sklearn/ensemble/_forest.py\", line 581, in _validate_y_class_weight\n",
      "    raise ValueError('Valid presets for class_weight include '\n",
      "ValueError: Valid presets for class_weight include \"balanced\" and \"balanced_subsample\".Given \"None\".\n",
      "\n",
      "  warnings.warn(\"Estimator fit failed. The score on this train-test\"\n"
     ]
    },
    {
     "name": "stdout",
     "output_type": "stream",
     "text": [
      "[CV]  n_estimators=400, min_samples_split=50, min_samples_leaf=49, max_depth=22, criterion=gini, class_weight=None, total=   0.0s\n",
      "[CV] n_estimators=400, min_samples_split=50, min_samples_leaf=49, max_depth=22, criterion=gini, class_weight=None \n",
      "[CV]  n_estimators=400, min_samples_split=50, min_samples_leaf=49, max_depth=22, criterion=gini, class_weight=None, total=   0.0s\n",
      "[CV] n_estimators=200, min_samples_split=30, min_samples_leaf=37, max_depth=14, criterion=gini, class_weight={1: 0.8, 0: 0.2} \n"
     ]
    },
    {
     "name": "stderr",
     "output_type": "stream",
     "text": [
      "/Users/personal/opt/anaconda3/lib/python3.8/site-packages/sklearn/model_selection/_validation.py:548: FitFailedWarning: Estimator fit failed. The score on this train-test partition for these parameters will be set to nan. Details: \n",
      "Traceback (most recent call last):\n",
      "  File \"/Users/personal/opt/anaconda3/lib/python3.8/site-packages/sklearn/model_selection/_validation.py\", line 531, in _fit_and_score\n",
      "    estimator.fit(X_train, y_train, **fit_params)\n",
      "  File \"/Users/personal/opt/anaconda3/lib/python3.8/site-packages/sklearn/ensemble/_forest.py\", line 330, in fit\n",
      "    y, expanded_class_weight = self._validate_y_class_weight(y)\n",
      "  File \"/Users/personal/opt/anaconda3/lib/python3.8/site-packages/sklearn/ensemble/_forest.py\", line 581, in _validate_y_class_weight\n",
      "    raise ValueError('Valid presets for class_weight include '\n",
      "ValueError: Valid presets for class_weight include \"balanced\" and \"balanced_subsample\".Given \"None\".\n",
      "\n",
      "  warnings.warn(\"Estimator fit failed. The score on this train-test\"\n"
     ]
    },
    {
     "name": "stdout",
     "output_type": "stream",
     "text": [
      "[CV]  n_estimators=200, min_samples_split=30, min_samples_leaf=37, max_depth=14, criterion=gini, class_weight={1: 0.8, 0: 0.2}, total=  17.9s\n",
      "[CV] n_estimators=200, min_samples_split=30, min_samples_leaf=37, max_depth=14, criterion=gini, class_weight={1: 0.8, 0: 0.2} \n",
      "[CV]  n_estimators=200, min_samples_split=30, min_samples_leaf=37, max_depth=14, criterion=gini, class_weight={1: 0.8, 0: 0.2}, total=  19.0s\n",
      "[CV] n_estimators=200, min_samples_split=30, min_samples_leaf=37, max_depth=14, criterion=gini, class_weight={1: 0.8, 0: 0.2} \n",
      "[CV]  n_estimators=200, min_samples_split=30, min_samples_leaf=37, max_depth=14, criterion=gini, class_weight={1: 0.8, 0: 0.2}, total=  15.3s\n",
      "[CV] n_estimators=200, min_samples_split=30, min_samples_leaf=37, max_depth=14, criterion=gini, class_weight={1: 0.8, 0: 0.2} \n",
      "[CV]  n_estimators=200, min_samples_split=30, min_samples_leaf=37, max_depth=14, criterion=gini, class_weight={1: 0.8, 0: 0.2}, total=  14.1s\n",
      "[CV] n_estimators=400, min_samples_split=40, min_samples_leaf=23, max_depth=21, criterion=gini, class_weight=balanced \n",
      "[CV]  n_estimators=400, min_samples_split=40, min_samples_leaf=23, max_depth=21, criterion=gini, class_weight=balanced, total=  47.9s\n",
      "[CV] n_estimators=400, min_samples_split=40, min_samples_leaf=23, max_depth=21, criterion=gini, class_weight=balanced \n",
      "[CV]  n_estimators=400, min_samples_split=40, min_samples_leaf=23, max_depth=21, criterion=gini, class_weight=balanced, total=  47.7s\n",
      "[CV] n_estimators=400, min_samples_split=40, min_samples_leaf=23, max_depth=21, criterion=gini, class_weight=balanced \n",
      "[CV]  n_estimators=400, min_samples_split=40, min_samples_leaf=23, max_depth=21, criterion=gini, class_weight=balanced, total=  49.4s\n",
      "[CV] n_estimators=400, min_samples_split=40, min_samples_leaf=23, max_depth=21, criterion=gini, class_weight=balanced \n",
      "[CV]  n_estimators=400, min_samples_split=40, min_samples_leaf=23, max_depth=21, criterion=gini, class_weight=balanced, total=  46.4s\n",
      "[CV] n_estimators=300, min_samples_split=40, min_samples_leaf=25, max_depth=25, criterion=gini, class_weight={1: 0.67, 0: 0.33} \n",
      "[CV]  n_estimators=300, min_samples_split=40, min_samples_leaf=25, max_depth=25, criterion=gini, class_weight={1: 0.67, 0: 0.33}, total=  44.9s\n",
      "[CV] n_estimators=300, min_samples_split=40, min_samples_leaf=25, max_depth=25, criterion=gini, class_weight={1: 0.67, 0: 0.33} \n",
      "[CV]  n_estimators=300, min_samples_split=40, min_samples_leaf=25, max_depth=25, criterion=gini, class_weight={1: 0.67, 0: 0.33}, total=  45.1s\n",
      "[CV] n_estimators=300, min_samples_split=40, min_samples_leaf=25, max_depth=25, criterion=gini, class_weight={1: 0.67, 0: 0.33} \n",
      "[CV]  n_estimators=300, min_samples_split=40, min_samples_leaf=25, max_depth=25, criterion=gini, class_weight={1: 0.67, 0: 0.33}, total=  53.1s\n",
      "[CV] n_estimators=300, min_samples_split=40, min_samples_leaf=25, max_depth=25, criterion=gini, class_weight={1: 0.67, 0: 0.33} \n",
      "[CV]  n_estimators=300, min_samples_split=40, min_samples_leaf=25, max_depth=25, criterion=gini, class_weight={1: 0.67, 0: 0.33}, total=  53.5s\n",
      "[CV] n_estimators=50, min_samples_split=30, min_samples_leaf=39, max_depth=57, criterion=entropy, class_weight=None \n",
      "[CV]  n_estimators=50, min_samples_split=30, min_samples_leaf=39, max_depth=57, criterion=entropy, class_weight=None, total=   0.0s\n",
      "[CV] n_estimators=50, min_samples_split=30, min_samples_leaf=39, max_depth=57, criterion=entropy, class_weight=None \n",
      "[CV]  n_estimators=50, min_samples_split=30, min_samples_leaf=39, max_depth=57, criterion=entropy, class_weight=None, total=   0.0s\n",
      "[CV] n_estimators=50, min_samples_split=30, min_samples_leaf=39, max_depth=57, criterion=entropy, class_weight=None \n",
      "[CV]  n_estimators=50, min_samples_split=30, min_samples_leaf=39, max_depth=57, criterion=entropy, class_weight=None, total=   0.0s\n",
      "[CV] n_estimators=50, min_samples_split=30, min_samples_leaf=39, max_depth=57, criterion=entropy, class_weight=None \n",
      "[CV]  n_estimators=50, min_samples_split=30, min_samples_leaf=39, max_depth=57, criterion=entropy, class_weight=None, total=   0.0s\n",
      "[CV] n_estimators=100, min_samples_split=50, min_samples_leaf=27, max_depth=48, criterion=gini, class_weight={1: 0.75, 0: 0.25} \n"
     ]
    },
    {
     "name": "stderr",
     "output_type": "stream",
     "text": [
      "/Users/personal/opt/anaconda3/lib/python3.8/site-packages/sklearn/model_selection/_validation.py:548: FitFailedWarning: Estimator fit failed. The score on this train-test partition for these parameters will be set to nan. Details: \n",
      "Traceback (most recent call last):\n",
      "  File \"/Users/personal/opt/anaconda3/lib/python3.8/site-packages/sklearn/model_selection/_validation.py\", line 531, in _fit_and_score\n",
      "    estimator.fit(X_train, y_train, **fit_params)\n",
      "  File \"/Users/personal/opt/anaconda3/lib/python3.8/site-packages/sklearn/ensemble/_forest.py\", line 330, in fit\n",
      "    y, expanded_class_weight = self._validate_y_class_weight(y)\n",
      "  File \"/Users/personal/opt/anaconda3/lib/python3.8/site-packages/sklearn/ensemble/_forest.py\", line 581, in _validate_y_class_weight\n",
      "    raise ValueError('Valid presets for class_weight include '\n",
      "ValueError: Valid presets for class_weight include \"balanced\" and \"balanced_subsample\".Given \"None\".\n",
      "\n",
      "  warnings.warn(\"Estimator fit failed. The score on this train-test\"\n",
      "/Users/personal/opt/anaconda3/lib/python3.8/site-packages/sklearn/model_selection/_validation.py:548: FitFailedWarning: Estimator fit failed. The score on this train-test partition for these parameters will be set to nan. Details: \n",
      "Traceback (most recent call last):\n",
      "  File \"/Users/personal/opt/anaconda3/lib/python3.8/site-packages/sklearn/model_selection/_validation.py\", line 531, in _fit_and_score\n",
      "    estimator.fit(X_train, y_train, **fit_params)\n",
      "  File \"/Users/personal/opt/anaconda3/lib/python3.8/site-packages/sklearn/ensemble/_forest.py\", line 330, in fit\n",
      "    y, expanded_class_weight = self._validate_y_class_weight(y)\n",
      "  File \"/Users/personal/opt/anaconda3/lib/python3.8/site-packages/sklearn/ensemble/_forest.py\", line 581, in _validate_y_class_weight\n",
      "    raise ValueError('Valid presets for class_weight include '\n",
      "ValueError: Valid presets for class_weight include \"balanced\" and \"balanced_subsample\".Given \"None\".\n",
      "\n",
      "  warnings.warn(\"Estimator fit failed. The score on this train-test\"\n",
      "/Users/personal/opt/anaconda3/lib/python3.8/site-packages/sklearn/model_selection/_validation.py:548: FitFailedWarning: Estimator fit failed. The score on this train-test partition for these parameters will be set to nan. Details: \n",
      "Traceback (most recent call last):\n",
      "  File \"/Users/personal/opt/anaconda3/lib/python3.8/site-packages/sklearn/model_selection/_validation.py\", line 531, in _fit_and_score\n",
      "    estimator.fit(X_train, y_train, **fit_params)\n",
      "  File \"/Users/personal/opt/anaconda3/lib/python3.8/site-packages/sklearn/ensemble/_forest.py\", line 330, in fit\n",
      "    y, expanded_class_weight = self._validate_y_class_weight(y)\n",
      "  File \"/Users/personal/opt/anaconda3/lib/python3.8/site-packages/sklearn/ensemble/_forest.py\", line 581, in _validate_y_class_weight\n",
      "    raise ValueError('Valid presets for class_weight include '\n",
      "ValueError: Valid presets for class_weight include \"balanced\" and \"balanced_subsample\".Given \"None\".\n",
      "\n",
      "  warnings.warn(\"Estimator fit failed. The score on this train-test\"\n",
      "/Users/personal/opt/anaconda3/lib/python3.8/site-packages/sklearn/model_selection/_validation.py:548: FitFailedWarning: Estimator fit failed. The score on this train-test partition for these parameters will be set to nan. Details: \n",
      "Traceback (most recent call last):\n",
      "  File \"/Users/personal/opt/anaconda3/lib/python3.8/site-packages/sklearn/model_selection/_validation.py\", line 531, in _fit_and_score\n",
      "    estimator.fit(X_train, y_train, **fit_params)\n",
      "  File \"/Users/personal/opt/anaconda3/lib/python3.8/site-packages/sklearn/ensemble/_forest.py\", line 330, in fit\n",
      "    y, expanded_class_weight = self._validate_y_class_weight(y)\n",
      "  File \"/Users/personal/opt/anaconda3/lib/python3.8/site-packages/sklearn/ensemble/_forest.py\", line 581, in _validate_y_class_weight\n",
      "    raise ValueError('Valid presets for class_weight include '\n",
      "ValueError: Valid presets for class_weight include \"balanced\" and \"balanced_subsample\".Given \"None\".\n",
      "\n",
      "  warnings.warn(\"Estimator fit failed. The score on this train-test\"\n"
     ]
    },
    {
     "name": "stdout",
     "output_type": "stream",
     "text": [
      "[CV]  n_estimators=100, min_samples_split=50, min_samples_leaf=27, max_depth=48, criterion=gini, class_weight={1: 0.75, 0: 0.25}, total=  21.2s\n",
      "[CV] n_estimators=100, min_samples_split=50, min_samples_leaf=27, max_depth=48, criterion=gini, class_weight={1: 0.75, 0: 0.25} \n",
      "[CV]  n_estimators=100, min_samples_split=50, min_samples_leaf=27, max_depth=48, criterion=gini, class_weight={1: 0.75, 0: 0.25}, total=  19.3s\n",
      "[CV] n_estimators=100, min_samples_split=50, min_samples_leaf=27, max_depth=48, criterion=gini, class_weight={1: 0.75, 0: 0.25} \n",
      "[CV]  n_estimators=100, min_samples_split=50, min_samples_leaf=27, max_depth=48, criterion=gini, class_weight={1: 0.75, 0: 0.25}, total=  17.0s\n",
      "[CV] n_estimators=100, min_samples_split=50, min_samples_leaf=27, max_depth=48, criterion=gini, class_weight={1: 0.75, 0: 0.25} \n",
      "[CV]  n_estimators=100, min_samples_split=50, min_samples_leaf=27, max_depth=48, criterion=gini, class_weight={1: 0.75, 0: 0.25}, total=  17.3s\n",
      "[CV] n_estimators=400, min_samples_split=30, min_samples_leaf=27, max_depth=29, criterion=entropy, class_weight=balanced \n",
      "[CV]  n_estimators=400, min_samples_split=30, min_samples_leaf=27, max_depth=29, criterion=entropy, class_weight=balanced, total=  58.0s\n",
      "[CV] n_estimators=400, min_samples_split=30, min_samples_leaf=27, max_depth=29, criterion=entropy, class_weight=balanced \n",
      "[CV]  n_estimators=400, min_samples_split=30, min_samples_leaf=27, max_depth=29, criterion=entropy, class_weight=balanced, total=  58.1s\n",
      "[CV] n_estimators=400, min_samples_split=30, min_samples_leaf=27, max_depth=29, criterion=entropy, class_weight=balanced \n",
      "[CV]  n_estimators=400, min_samples_split=30, min_samples_leaf=27, max_depth=29, criterion=entropy, class_weight=balanced, total=  59.8s\n",
      "[CV] n_estimators=400, min_samples_split=30, min_samples_leaf=27, max_depth=29, criterion=entropy, class_weight=balanced \n",
      "[CV]  n_estimators=400, min_samples_split=30, min_samples_leaf=27, max_depth=29, criterion=entropy, class_weight=balanced, total=  58.5s\n"
     ]
    },
    {
     "name": "stderr",
     "output_type": "stream",
     "text": [
      "[Parallel(n_jobs=1)]: Done  40 out of  40 | elapsed: 14.4min finished\n"
     ]
    },
    {
     "data": {
      "text/plain": [
       "RandomizedSearchCV(cv=StratifiedKFold(n_splits=4, random_state=0, shuffle=True),\n",
       "                   estimator=RandomForestClassifier(),\n",
       "                   param_distributions={'class_weight': [{0: 0.33, 1: 0.67},\n",
       "                                                         {0: 0.25, 1: 0.75},\n",
       "                                                         {0: 0.2, 1: 0.8},\n",
       "                                                         'None', 'balanced'],\n",
       "                                        'criterion': ['gini', 'entropy'],\n",
       "                                        'max_depth': range(5, 60),\n",
       "                                        'min_samples_leaf': range(5, 50),\n",
       "                                        'min_samples_split': [10, 20, 30, 40,\n",
       "                                                              50],\n",
       "                                        'n_estimators': [50, 100, 200, 300,\n",
       "                                                         400]},\n",
       "                   scoring='f1', verbose=2)"
      ]
     },
     "execution_count": 154,
     "metadata": {},
     "output_type": "execute_result"
    }
   ],
   "source": [
    "fold = StratifiedKFold(n_splits=3, shuffle=True, random_state=0) \n",
    "\n",
    "parameters= {\"criterion\": [\"gini\", \"entropy\"], \\\n",
    "             \"class_weight\": [{1:0.67, 0:0.33}, {1:0.75, 0:0.25}, {1:0.8, 0:0.2}, \"None\", \"balanced\"], \\\n",
    "            \"max_depth\": range(5,60) , \\\n",
    "            \"min_samples_leaf\" : range(5,50), \\\n",
    "            \"min_samples_split\" : [10, 20, 30, 40, 50], \\\n",
    "             \"n_estimators\" : [50, 100, 200, 300, 400]}\n",
    "\n",
    "model = RandomForestClassifier()\n",
    "model_rs =RandomizedSearchCV(model, parameters, cv=kfold, verbose=2, scoring=\"f1\", n_iter=10)\n",
    "model_rs.fit(X_train,y_train)\n",
    "\n"
   ]
  },
  {
   "cell_type": "code",
   "execution_count": 155,
   "metadata": {
    "scrolled": false
   },
   "outputs": [
    {
     "name": "stdout",
     "output_type": "stream",
     "text": [
      "tuned hpyerparameters :(best parameters)  {'n_estimators': 300, 'min_samples_split': 40, 'min_samples_leaf': 25, 'max_depth': 25, 'criterion': 'gini', 'class_weight': {1: 0.67, 0: 0.33}}\n",
      "accuracy : 0.6995452809763139\n"
     ]
    }
   ],
   "source": [
    "print(\"tuned hpyerparameters :(best parameters) \",model_rs.best_params_)\n",
    "print(\"accuracy :\",model_rs.best_score_)"
   ]
  },
  {
   "cell_type": "code",
   "execution_count": 156,
   "metadata": {
    "scrolled": false
   },
   "outputs": [],
   "source": [
    "rf_clf_rs = model_rs.best_estimator_"
   ]
  },
  {
   "cell_type": "code",
   "execution_count": 157,
   "metadata": {
    "scrolled": false
   },
   "outputs": [
    {
     "name": "stdout",
     "output_type": "stream",
     "text": [
      "scores for default model on test set\n",
      "\n",
      "Accuracy Score : 0.9576047252661848\n",
      "Precision Score : 0.9985261606484893\n",
      "Recall Score : 0.5544189852700491\n",
      "F1 Score : 0.7129702709813206\n",
      "\n",
      "\n",
      "scores for default model on train set\n",
      "\n",
      "Accuracy Score : 0.9561475091318877\n",
      "Precision Score : 0.9994305239179955\n",
      "Recall Score : 0.538563829787234\n",
      "F1 Score : 0.6999468226535496\n"
     ]
    }
   ],
   "source": [
    "print_scores(rf_clf_rs)\n"
   ]
  },
  {
   "cell_type": "code",
   "execution_count": 158,
   "metadata": {
    "scrolled": false
   },
   "outputs": [
    {
     "data": {
      "image/png": "[encoded data removed]",
      "text/plain": [
       "<Figure size 720x288 with 4 Axes>"
      ]
     },
     "metadata": {
      "needs_background": "light"
     },
     "output_type": "display_data"
    }
   ],
   "source": [
    "show_confusion_matrix(rf_clf_rs)"
   ]
  },
  {
   "cell_type": "markdown",
   "metadata": {},
   "source": [
    "### Seems like this model is good at predicting lack of fraud  but not fraud"
   ]
  },
  {
   "cell_type": "markdown",
   "metadata": {},
   "source": [
    "#  SVM"
   ]
  },
  {
   "cell_type": "code",
   "execution_count": 159,
   "metadata": {
    "scrolled": false
   },
   "outputs": [],
   "source": [
    "from sklearn.svm import SVC"
   ]
  },
  {
   "cell_type": "code",
   "execution_count": 160,
   "metadata": {
    "scrolled": false
   },
   "outputs": [],
   "source": [
    "svc_clf = SVC()"
   ]
  },
  {
   "cell_type": "code",
   "execution_count": 162,
   "metadata": {
    "scrolled": false
   },
   "outputs": [
    {
     "data": {
      "text/plain": [
       "SVC()"
      ]
     },
     "execution_count": 162,
     "metadata": {},
     "output_type": "execute_result"
    }
   ],
   "source": [
    "svc_clf.fit(X_train, y_train)"
   ]
  },
  {
   "cell_type": "code",
   "execution_count": 163,
   "metadata": {
    "scrolled": false
   },
   "outputs": [
    {
     "name": "stdout",
     "output_type": "stream",
     "text": [
      "scores for default model on test set\n",
      "\n",
      "Accuracy Score : 0.9568664024248077\n",
      "Precision Score : 0.9868613138686131\n",
      "Recall Score : 0.5531914893617021\n",
      "F1 Score : 0.7089669638175143\n",
      "\n",
      "\n",
      "scores for default model on train set\n",
      "\n",
      "Accuracy Score : 0.9555549079039403\n",
      "Precision Score : 0.9889076894153036\n",
      "Recall Score : 0.5380523731587561\n",
      "F1 Score : 0.6969195097714476\n"
     ]
    }
   ],
   "source": [
    "print_scores(svc_clf)"
   ]
  },
  {
   "cell_type": "code",
   "execution_count": 164,
   "metadata": {
    "scrolled": false
   },
   "outputs": [
    {
     "data": {
      "image/png": "[encoded data removed]",
      "text/plain": [
       "<Figure size 720x288 with 4 Axes>"
      ]
     },
     "metadata": {
      "needs_background": "light"
     },
     "output_type": "display_data"
    }
   ],
   "source": [
    "show_confusion_matrix(svc_clf)"
   ]
  },
  {
   "cell_type": "markdown",
   "metadata": {},
   "source": [
    "# AdaBoost\n",
    "    - Seems like the best model is our decision tree from the gridsearch \n",
    "    - Let's try to Boost it through AdaBoost\n",
    "    - For time purposes we will use the default parameters"
   ]
  },
  {
   "cell_type": "code",
   "execution_count": 167,
   "metadata": {},
   "outputs": [],
   "source": [
    "from sklearn.ensemble import AdaBoostClassifier"
   ]
  },
  {
   "cell_type": "code",
   "execution_count": 181,
   "metadata": {},
   "outputs": [],
   "source": [
    "adab_clf = AdaBoostClassifier(base_estimator = rf_clf_rs)"
   ]
  },
  {
   "cell_type": "code",
   "execution_count": 182,
   "metadata": {},
   "outputs": [
    {
     "data": {
      "text/plain": [
       "AdaBoostClassifier(base_estimator=RandomForestClassifier(class_weight={0: 0.33,\n",
       "                                                                       1: 0.67},\n",
       "                                                         max_depth=25,\n",
       "                                                         min_samples_leaf=25,\n",
       "                                                         min_samples_split=40,\n",
       "                                                         n_estimators=300))"
      ]
     },
     "execution_count": 182,
     "metadata": {},
     "output_type": "execute_result"
    }
   ],
   "source": [
    "adab_clf.fit(X_train,y_train)"
   ]
  },
  {
   "cell_type": "code",
   "execution_count": 183,
   "metadata": {},
   "outputs": [
    {
     "name": "stdout",
     "output_type": "stream",
     "text": [
      "scores for default model on test set\n",
      "\n",
      "Accuracy Score : 0.9552343203543949\n",
      "Precision Score : 0.9233289646133683\n",
      "Recall Score : 0.5765139116202946\n",
      "F1 Score : 0.709823677581864\n",
      "\n",
      "\n",
      "scores for default model on train set\n",
      "\n",
      "Accuracy Score : 0.9960849459858553\n",
      "Precision Score : 0.9973469171176907\n",
      "Recall Score : 0.9613338788870703\n",
      "F1 Score : 0.9790093234022605\n"
     ]
    }
   ],
   "source": [
    "print_scores(adab_clf)"
   ]
  },
  {
   "cell_type": "code",
   "execution_count": 184,
   "metadata": {},
   "outputs": [
    {
     "data": {
      "image/png": "[encoded data removed]",
      "text/plain": [
       "<Figure size 720x288 with 4 Axes>"
      ]
     },
     "metadata": {
      "needs_background": "light"
     },
     "output_type": "display_data"
    }
   ],
   "source": [
    "show_confusion_matrix(adab_clf)"
   ]
  },
  {
   "cell_type": "markdown",
   "metadata": {},
   "source": [
    "### Conclusion \n",
    "- The Adaboost model shows a lot of overfitting \n",
    "- Due to processing time constraints, we could not run a gridsearch cross validation on adaboost to optimize hyper parameters and avoid overfitting\n",
    "- All in all, it seems that the decision tree was the most efficient model, in terms of accuracy and processing time"
   ]
  },
  {
   "cell_type": "code",
   "execution_count": null,
   "metadata": {},
   "outputs": [],
   "source": []
  }
 ],
 "metadata": {
  "kernelspec": {
   "display_name": "Python 3",
   "language": "python",
   "name": "python3"
  },
  "language_info": {
   "codemirror_mode": {
    "name": "ipython",
    "version": 3
   },
   "file_extension": ".py",
   "mimetype": "text/x-python",
   "name": "python",
   "nbconvert_exporter": "python",
   "pygments_lexer": "ipython3",
   "version": "3.8.3"
  }
 },
 "nbformat": 4,
 "nbformat_minor": 4
}
